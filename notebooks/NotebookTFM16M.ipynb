{
 "cells": [
  {
   "cell_type": "markdown",
   "id": "1663e304",
   "metadata": {},
   "source": [
    "## Import Library"
   ]
  },
  {
   "cell_type": "code",
   "execution_count": 1,
   "id": "2acbb61b",
   "metadata": {},
   "outputs": [],
   "source": [
    "import logging\n",
    "from typing import Dict, Tuple\n",
    "import pandas as pd\n",
    "import numpy as np\n",
    "from sklearn.ensemble import RandomForestClassifier\n",
    "from sklearn.metrics import r2_score\n",
    "from sklearn.model_selection import train_test_split\n",
    "from lightgbm import LGBMRegressor\n",
    "import random\n",
    "from sklearn.metrics import f1_score, accuracy_score, roc_auc_score, roc_curve, precision_score\n",
    "from sklearn.model_selection import train_test_split\n",
    "from kedro.extras.datasets.pickle import PickleDataSet\n",
    "from sklearn.model_selection import GridSearchCV\n",
    "import xmltodict\n",
    "import pandas as pd\n",
    "import numpy as np\n",
    "from sklearn.metrics import mean_squared_error\n",
    "from sklearn.model_selection import train_test_split\n",
    "from sklearn.neighbors import NearestNeighbors\n",
    "import matplotlib.pyplot as plt\n",
    "import sklearn\n"
   ]
  },
  {
   "cell_type": "markdown",
   "id": "6df642bf",
   "metadata": {},
   "source": [
    "## Load/Save Data (XML/CSV)"
   ]
  },
  {
   "cell_type": "code",
   "execution_count": 2,
   "id": "ca0abbc8",
   "metadata": {},
   "outputs": [],
   "source": [
    "def _clean_name (cadena):\n",
    "    \n",
    "    cadena_str= str(cadena)\n",
    "    cadena_str=cadena_str[26:]\n",
    "    cadena_str = cadena_str.replace('}', '',1)\n",
    "    cadena_str = cadena_str.replace('\\'','')\n",
    "    \n",
    "    return cadena_str"
   ]
  },
  {
   "cell_type": "code",
   "execution_count": 3,
   "id": "eddc5ff4",
   "metadata": {},
   "outputs": [],
   "source": [
    "def _cambiar_columnas(df):\n",
    "    \n",
    "    columnas=len(df.columns)\n",
    "    i=0\n",
    "    while (i<columnas):\n",
    "        df = df.rename(columns={df.columns[i]:i})\n",
    "        i=i+1\n",
    "        \n",
    "        \n",
    "    return df"
   ]
  },
  {
   "cell_type": "code",
   "execution_count": 4,
   "id": "2a963b35",
   "metadata": {},
   "outputs": [],
   "source": [
    "def load_from_xml (path):\n",
    "    xml=open(path, encoding='ISO-8859-1')\n",
    "    xmldict = xmltodict.parse(xml.read())\n",
    "    df_enfermedades = pd.DataFrame()\n",
    "    lista_enfer_sinto_prob=[]\n",
    "    first_tree=xmldict[\"JDBOR\"][\"HPODisorderSetStatusList\"][\"HPODisorderSetStatus\"]\n",
    "    id=0\n",
    "    for nodo in xmldict[\"JDBOR\"][\"HPODisorderSetStatusList\"][\"HPODisorderSetStatus\"]:\n",
    "     \n",
    "        enfermedad=_clean_name(nodo[\"Disorder\"][\"Name\"])\n",
    "        sec_tree= nodo[\"Disorder\"][\"HPODisorderAssociationList\"]\n",
    "        if (len(sec_tree)==2):\n",
    "            tam_sintomas=len(sec_tree[\"HPODisorderAssociation\"])\n",
    "            i=0\n",
    "            registro_enfer_sinto_prob=[]\n",
    "            while (i<tam_sintomas):\n",
    "                registro_enfer_sinto_prob.append(enfermedad)\n",
    "                registro_enfer_sinto_prob.append(id)\n",
    "                registro_enfer_sinto_prob.append(sec_tree[\"HPODisorderAssociation\"][i][\"HPO\"][\"HPOTerm\"])\n",
    "                frecuencia=_clean_name(sec_tree[\"HPODisorderAssociation\"][i][\"HPOFrequency\"][\"Name\"])\n",
    "                registro_enfer_sinto_prob.append(frecuencia)\n",
    "                lista_enfer_sinto_prob.append (registro_enfer_sinto_prob)\n",
    "                registro_enfer_sinto_prob=[]\n",
    "                i=i+1\n",
    "        id=id+1\n",
    "    df_enfermedades = pd.DataFrame(lista_enfer_sinto_prob)\n",
    "    df_enfermedades = df_enfermedades.rename(columns={0:'Enfermedad',1:'Id_Enfermedad', 2:'Sintoma', 3:\"Frecuencia\"})\n",
    "    \n",
    "    return df_enfermedades        "
   ]
  },
  {
   "cell_type": "code",
   "execution_count": 5,
   "id": "ad4b8f4d",
   "metadata": {},
   "outputs": [],
   "source": [
    "def save_to_csv (data, path):\n",
    "    data.to_csv(path, index=False)"
   ]
  },
  {
   "cell_type": "code",
   "execution_count": 6,
   "id": "773c6f6b",
   "metadata": {},
   "outputs": [],
   "source": [
    "def load_from_csv (path):\n",
    "    data=pd.read_csv(path)\n",
    "    return data   "
   ]
  },
  {
   "cell_type": "markdown",
   "id": "ffeffcef",
   "metadata": {},
   "source": [
    "## Exploratory Data Analysis (EDA)"
   ]
  },
  {
   "cell_type": "code",
   "execution_count": 189,
   "id": "136d05d1",
   "metadata": {},
   "outputs": [],
   "source": [
    "def clean_data(data): \n",
    "    \n",
    "    data=data.drop_duplicates()\n",
    "    data=data.dropna()\n",
    "    vc = data[\"Sintoma\"].value_counts()\n",
    "    vector=vc[vc < 50].index\n",
    "    for a in vector:\n",
    "        indexNames = data [ data[\"Sintoma\"] == a ].index\n",
    "        for b in indexNames:\n",
    "            data.drop(b , inplace=True, axis=0)\n",
    "  \n",
    "    return data "
   ]
  },
  {
   "cell_type": "markdown",
   "id": "245db642",
   "metadata": {},
   "source": [
    "## Feature Engineering "
   ]
  },
  {
   "cell_type": "code",
   "execution_count": 34,
   "id": "3211473f",
   "metadata": {},
   "outputs": [],
   "source": [
    "def selection_and_preparation_data(data):\n",
    "    \n",
    "    #data=data[(data['Frecuencia']==\"Muy frecuente (99-80%)\")]\n",
    "    data=data[(data['Frecuencia']==\"Muy frecuente (99-80%)\") | (data['Frecuencia']==\"Frecuente (79-30%)\")]\n",
    "    #data=data[(data['Frecuencia']==\"Frecuente (79-30%)\")]\n",
    "\n",
    "        \n",
    "    return data\n"
   ]
  },
  {
   "cell_type": "code",
   "execution_count": 194,
   "id": "0f7ec4ba",
   "metadata": {},
   "outputs": [],
   "source": [
    "def generate_data_train (data, repeticiones):\n",
    "    \n",
    "    sintomas=data.iloc[:,1]\n",
    "    sintomas_sin_repe=sintomas.drop_duplicates()\n",
    "    sintomas_sin_repe=sintomas_sin_repe.sort_values(ascending\n",
    "                              = True)\n",
    "    df_train=pd.DataFrame(columns=sintomas_sin_repe)\n",
    "   # df_train.insert(0, 'Enfermedad', 0)\n",
    "    #df_train.insert(0, 'id_Enfermedad', 0)\n",
    " \n",
    "    \n",
    "    data_agrupado = (data.groupby(\"Enfermedad\")\n",
    "         .agg({\"Sintoma\": np.array, \"Frecuencia\": np.array})\n",
    "         .reset_index()\n",
    "         )\n",
    "    \n",
    "    z=0\n",
    "    j=0\n",
    "    while (z<repeticiones):\n",
    "    \n",
    "  #  print (\"entra\")\n",
    "        i=0\n",
    "        for a in data_agrupado[\"Enfermedad\"]:\n",
    "           # print (\"Enfermedad: \", a)\n",
    "        #vector_enfermedad.append(a)\n",
    "        #lista=[]\n",
    "            lst = [0] * ((len(sintomas_sin_repe)))\n",
    "           \n",
    "            df_train.loc[len(df_train)] = lst\n",
    "           # df_train[\"Enfermedad\"][j]=a\n",
    "            #df_train[\"id_Enfermedad\"][j]=(i)\n",
    "           \n",
    "            pos=0\n",
    "            for b in data_agrupado[\"Sintoma\"][i]:\n",
    "                valor_aleatorio = random.random()\n",
    "                frecuencia=data_agrupado[\"Frecuencia\"][i][pos]\n",
    "            #    print (\"frecuencia:\", frecuencia)\n",
    "                if (frecuencia==\"Muy frecuente (99-80%)\"):\n",
    "             #       print (b)\n",
    "              #      print (\"es muy frecuente\")\n",
    "                    if (valor_aleatorio>0.4):\n",
    "                        valor_entero=1\n",
    "                    else:\n",
    "                        valor_entero=0\n",
    "                elif (frecuencia==\"Frecuente (79-30%)\"):\n",
    "               #     print (b)\n",
    "                #    print (\"es frecuente\")\n",
    "                    if (valor_aleatorio>0.6):\n",
    "                        valor_entero=1\n",
    "                    else:\n",
    "                        valor_entero=0\n",
    "                df_train[b][j]=valor_entero\n",
    "               \n",
    "                pos=pos+1\n",
    "            j=j+1\n",
    "            i=i+1\n",
    "        z=z+1\n",
    "        print (\"VUELTA: \", z)\n",
    "        print (\"Tamaño: \",j)\n",
    "    return df_train      "
   ]
  },
  {
   "cell_type": "code",
   "execution_count": null,
   "id": "709542ab",
   "metadata": {},
   "outputs": [],
   "source": []
  },
  {
   "cell_type": "markdown",
   "id": "eba84902",
   "metadata": {},
   "source": [
    "## Train Data and Predict"
   ]
  },
  {
   "cell_type": "code",
   "execution_count": 10,
   "id": "d6f545d9",
   "metadata": {},
   "outputs": [],
   "source": [
    "def train_data (df_train):\n",
    "    \n",
    "    target=df_train[\"id_Enfermedad\"]\n",
    "   # data=data.drop (['Enfermedad'], axis=1)\n",
    "    \n",
    "    X_train, X_test, y_train, y_test = train_test_split(df_train,target)\n",
    "    rf= RandomForestClassifier()\n",
    "    rf.fit (X_train,y_train)\n",
    "    #prediccion=rf.predict(X_test)\n",
    "    \n",
    "    return df_train,rf,target,X_test,y_test, X_train, y_train\n"
   ]
  },
  {
   "cell_type": "code",
   "execution_count": 11,
   "id": "f7913fce",
   "metadata": {},
   "outputs": [],
   "source": [
    "#def rank (df_train,rf,X_test):\n",
    "  #  predicciones = rf.predict_proba(X_test)\n",
    "   # predicciones[:5, :]\n",
    "   # df_rank = pd.DataFrame(data=predicciones, columns=['0', '1','2','3','4', '5', '6', '7', '8'])\n",
    "   # df_rank['clasificacion_default_0.5'] = np.where(df_predicciones['0'] > df_predicciones['1'], 0, 1)\n",
    "   # return df_rank"
   ]
  },
  {
   "cell_type": "markdown",
   "id": "69c6283b",
   "metadata": {},
   "source": [
    "## Evaluate"
   ]
  },
  {
   "cell_type": "code",
   "execution_count": 12,
   "id": "3614f414",
   "metadata": {},
   "outputs": [],
   "source": [
    "def evaluate (classifier, X_test, y_test):\n",
    "\n",
    "    y_pred=classifier.predict(X_test)\n",
    "    probs=classifier.predict_proba(X_test) [:, 1]\n",
    "    \n",
    "    acc = accuracy_score(y_test, y_pred)\n",
    "    pres= precision_score (y_test, y_pred, average='micro')\n",
    "    f1 = f1_score(y_test, y_pred, average='micro')\n",
    "    \n",
    "   # roc_auc = roc_auc_score(y_test,probs, multi_class='ovr')\n",
    "    #auc = roc_auc_score(y_test, probs)\n",
    "    print (\"Accurancy: \", acc)\n",
    "    print (\"Precision: \", pres)\n",
    "    print (\"f1: \", f1)\n",
    "    #print (\"auc: \", auc)\n",
    "    \n",
    "   # fpr, tpr, threshols = roc_curve(y_test, probs)\n",
    "   # plt.plot(fpr,tpr)\n",
    "   # plt.xlabel('False positives rate')\n",
    "   # plt.ylabel('True positives rate')\n",
    "   # plt.gcf().set_size_inches(8,6)\n",
    "   "
   ]
  },
  {
   "cell_type": "markdown",
   "id": "d027c06e",
   "metadata": {},
   "source": [
    "## Notebook Main"
   ]
  },
  {
   "cell_type": "code",
   "execution_count": 190,
   "id": "66433999",
   "metadata": {},
   "outputs": [],
   "source": [
    "df_EnfeySinto=load_from_xml(\"../data/01_raw/enfermedades.xml\")"
   ]
  },
  {
   "cell_type": "code",
   "execution_count": 191,
   "id": "ba766eed",
   "metadata": {},
   "outputs": [
    {
     "data": {
      "text/html": [
       "<div>\n",
       "<style scoped>\n",
       "    .dataframe tbody tr th:only-of-type {\n",
       "        vertical-align: middle;\n",
       "    }\n",
       "\n",
       "    .dataframe tbody tr th {\n",
       "        vertical-align: top;\n",
       "    }\n",
       "\n",
       "    .dataframe thead th {\n",
       "        text-align: right;\n",
       "    }\n",
       "</style>\n",
       "<table border=\"1\" class=\"dataframe\">\n",
       "  <thead>\n",
       "    <tr style=\"text-align: right;\">\n",
       "      <th></th>\n",
       "      <th>Enfermedad</th>\n",
       "      <th>Id_Enfermedad</th>\n",
       "      <th>Sintoma</th>\n",
       "      <th>Frecuencia</th>\n",
       "    </tr>\n",
       "  </thead>\n",
       "  <tbody>\n",
       "    <tr>\n",
       "      <th>0</th>\n",
       "      <td>Enfermedad de Alexander</td>\n",
       "      <td>0</td>\n",
       "      <td>Macrocephaly</td>\n",
       "      <td>Muy frecuente (99-80%)</td>\n",
       "    </tr>\n",
       "    <tr>\n",
       "      <th>1</th>\n",
       "      <td>Enfermedad de Alexander</td>\n",
       "      <td>0</td>\n",
       "      <td>Intellectual disability</td>\n",
       "      <td>Muy frecuente (99-80%)</td>\n",
       "    </tr>\n",
       "    <tr>\n",
       "      <th>2</th>\n",
       "      <td>Enfermedad de Alexander</td>\n",
       "      <td>0</td>\n",
       "      <td>Seizure</td>\n",
       "      <td>Muy frecuente (99-80%)</td>\n",
       "    </tr>\n",
       "    <tr>\n",
       "      <th>3</th>\n",
       "      <td>Enfermedad de Alexander</td>\n",
       "      <td>0</td>\n",
       "      <td>Spasticity</td>\n",
       "      <td>Muy frecuente (99-80%)</td>\n",
       "    </tr>\n",
       "    <tr>\n",
       "      <th>4</th>\n",
       "      <td>Enfermedad de Alexander</td>\n",
       "      <td>0</td>\n",
       "      <td>Agenesis of corpus callosum</td>\n",
       "      <td>Muy frecuente (99-80%)</td>\n",
       "    </tr>\n",
       "    <tr>\n",
       "      <th>...</th>\n",
       "      <td>...</td>\n",
       "      <td>...</td>\n",
       "      <td>...</td>\n",
       "      <td>...</td>\n",
       "    </tr>\n",
       "    <tr>\n",
       "      <th>112684</th>\n",
       "      <td>Nevo de cabello lanoso</td>\n",
       "      <td>4263</td>\n",
       "      <td>Brachydactyly</td>\n",
       "      <td>Ocasional (29-5%)</td>\n",
       "    </tr>\n",
       "    <tr>\n",
       "      <th>112685</th>\n",
       "      <td>Nevo de cabello lanoso</td>\n",
       "      <td>4263</td>\n",
       "      <td>Widely-spaced incisors</td>\n",
       "      <td>Ocasional (29-5%)</td>\n",
       "    </tr>\n",
       "    <tr>\n",
       "      <th>112686</th>\n",
       "      <td>Nevo de cabello lanoso</td>\n",
       "      <td>4263</td>\n",
       "      <td>Persistent pupillary membrane</td>\n",
       "      <td>Ocasional (29-5%)</td>\n",
       "    </tr>\n",
       "    <tr>\n",
       "      <th>112687</th>\n",
       "      <td>Nevo de cabello lanoso</td>\n",
       "      <td>4263</td>\n",
       "      <td>Enlarged vestibular aqueduct</td>\n",
       "      <td>Ocasional (29-5%)</td>\n",
       "    </tr>\n",
       "    <tr>\n",
       "      <th>112688</th>\n",
       "      <td>Nevo de cabello lanoso</td>\n",
       "      <td>4263</td>\n",
       "      <td>Precocious puberty</td>\n",
       "      <td>Muy poco frecuente (4-1%)</td>\n",
       "    </tr>\n",
       "  </tbody>\n",
       "</table>\n",
       "<p>112689 rows × 4 columns</p>\n",
       "</div>"
      ],
      "text/plain": [
       "                     Enfermedad  Id_Enfermedad                        Sintoma  \\\n",
       "0       Enfermedad de Alexander              0                   Macrocephaly   \n",
       "1       Enfermedad de Alexander              0        Intellectual disability   \n",
       "2       Enfermedad de Alexander              0                        Seizure   \n",
       "3       Enfermedad de Alexander              0                     Spasticity   \n",
       "4       Enfermedad de Alexander              0    Agenesis of corpus callosum   \n",
       "...                         ...            ...                            ...   \n",
       "112684   Nevo de cabello lanoso           4263                  Brachydactyly   \n",
       "112685   Nevo de cabello lanoso           4263         Widely-spaced incisors   \n",
       "112686   Nevo de cabello lanoso           4263  Persistent pupillary membrane   \n",
       "112687   Nevo de cabello lanoso           4263   Enlarged vestibular aqueduct   \n",
       "112688   Nevo de cabello lanoso           4263             Precocious puberty   \n",
       "\n",
       "                       Frecuencia  \n",
       "0          Muy frecuente (99-80%)  \n",
       "1          Muy frecuente (99-80%)  \n",
       "2          Muy frecuente (99-80%)  \n",
       "3          Muy frecuente (99-80%)  \n",
       "4          Muy frecuente (99-80%)  \n",
       "...                           ...  \n",
       "112684          Ocasional (29-5%)  \n",
       "112685          Ocasional (29-5%)  \n",
       "112686          Ocasional (29-5%)  \n",
       "112687          Ocasional (29-5%)  \n",
       "112688  Muy poco frecuente (4-1%)  \n",
       "\n",
       "[112689 rows x 4 columns]"
      ]
     },
     "execution_count": 191,
     "metadata": {},
     "output_type": "execute_result"
    }
   ],
   "source": [
    "df_EnfeySinto"
   ]
  },
  {
   "cell_type": "code",
   "execution_count": 335,
   "id": "1c91875a",
   "metadata": {},
   "outputs": [
    {
     "name": "stdout",
     "output_type": "stream",
     "text": [
      "Después de filtrado por sintomas filas\n",
      "Enfermedades:  4262\n",
      "Sintomas:  8303\n",
      "Frecuencias:  6\n"
     ]
    }
   ],
   "source": [
    "print (\"Después de filtrado por sintomas filas\")\n",
    "print (\"Enfermedades: \", df_EnfeySinto[\"Enfermedad\"].nunique())\n",
    "print (\"Sintomas: \", df_EnfeySinto[\"Sintoma\"].nunique())\n",
    "print (\"Frecuencias: \", df_EnfeySinto[\"Frecuencia\"].nunique())  "
   ]
  },
  {
   "cell_type": "code",
   "execution_count": 257,
   "id": "8b6a9cd4",
   "metadata": {},
   "outputs": [],
   "source": [
    "df_EnfeySinto_cleaned=clean_data(df_EnfeySinto)"
   ]
  },
  {
   "cell_type": "code",
   "execution_count": 258,
   "id": "56689965",
   "metadata": {},
   "outputs": [
    {
     "name": "stdout",
     "output_type": "stream",
     "text": [
      "Después de filtrado por sintomas filas\n",
      "Enfermedades:  4014\n",
      "Sintomas:  196\n",
      "Frecuencias:  6\n"
     ]
    }
   ],
   "source": [
    "print (\"Después de filtrado por sintomas filas\")\n",
    "print (\"Enfermedades: \", df_EnfeySinto_cleaned[\"Enfermedad\"].nunique())\n",
    "print (\"Sintomas: \", df_EnfeySinto_cleaned[\"Sintoma\"].nunique())\n",
    "print (\"Frecuencias: \", df_EnfeySinto_cleaned[\"Frecuencia\"].nunique())  "
   ]
  },
  {
   "cell_type": "code",
   "execution_count": 259,
   "id": "3973a5a4",
   "metadata": {},
   "outputs": [
    {
     "data": {
      "text/html": [
       "<div>\n",
       "<style scoped>\n",
       "    .dataframe tbody tr th:only-of-type {\n",
       "        vertical-align: middle;\n",
       "    }\n",
       "\n",
       "    .dataframe tbody tr th {\n",
       "        vertical-align: top;\n",
       "    }\n",
       "\n",
       "    .dataframe thead th {\n",
       "        text-align: right;\n",
       "    }\n",
       "</style>\n",
       "<table border=\"1\" class=\"dataframe\">\n",
       "  <thead>\n",
       "    <tr style=\"text-align: right;\">\n",
       "      <th></th>\n",
       "      <th>Enfermedad</th>\n",
       "      <th>Id_Enfermedad</th>\n",
       "      <th>Sintoma</th>\n",
       "      <th>Frecuencia</th>\n",
       "    </tr>\n",
       "  </thead>\n",
       "  <tbody>\n",
       "    <tr>\n",
       "      <th>0</th>\n",
       "      <td>Enfermedad de Alexander</td>\n",
       "      <td>0</td>\n",
       "      <td>Macrocephaly</td>\n",
       "      <td>Muy frecuente (99-80%)</td>\n",
       "    </tr>\n",
       "    <tr>\n",
       "      <th>1</th>\n",
       "      <td>Enfermedad de Alexander</td>\n",
       "      <td>0</td>\n",
       "      <td>Intellectual disability</td>\n",
       "      <td>Muy frecuente (99-80%)</td>\n",
       "    </tr>\n",
       "    <tr>\n",
       "      <th>2</th>\n",
       "      <td>Enfermedad de Alexander</td>\n",
       "      <td>0</td>\n",
       "      <td>Seizure</td>\n",
       "      <td>Muy frecuente (99-80%)</td>\n",
       "    </tr>\n",
       "    <tr>\n",
       "      <th>3</th>\n",
       "      <td>Enfermedad de Alexander</td>\n",
       "      <td>0</td>\n",
       "      <td>Spasticity</td>\n",
       "      <td>Muy frecuente (99-80%)</td>\n",
       "    </tr>\n",
       "    <tr>\n",
       "      <th>4</th>\n",
       "      <td>Enfermedad de Alexander</td>\n",
       "      <td>0</td>\n",
       "      <td>Agenesis of corpus callosum</td>\n",
       "      <td>Muy frecuente (99-80%)</td>\n",
       "    </tr>\n",
       "    <tr>\n",
       "      <th>...</th>\n",
       "      <td>...</td>\n",
       "      <td>...</td>\n",
       "      <td>...</td>\n",
       "      <td>...</td>\n",
       "    </tr>\n",
       "    <tr>\n",
       "      <th>112572</th>\n",
       "      <td>Síndrome de trastornos de conducta-discapacida...</td>\n",
       "      <td>4259</td>\n",
       "      <td>Macrotia</td>\n",
       "      <td>Muy frecuente (99-80%)</td>\n",
       "    </tr>\n",
       "    <tr>\n",
       "      <th>112573</th>\n",
       "      <td>Síndrome de trastornos de conducta-discapacida...</td>\n",
       "      <td>4259</td>\n",
       "      <td>Intellectual disability</td>\n",
       "      <td>Muy frecuente (99-80%)</td>\n",
       "    </tr>\n",
       "    <tr>\n",
       "      <th>112648</th>\n",
       "      <td>Artrogriposis múltiple congénita miogénica aut...</td>\n",
       "      <td>4262</td>\n",
       "      <td>Hyporeflexia</td>\n",
       "      <td>Muy frecuente (99-80%)</td>\n",
       "    </tr>\n",
       "    <tr>\n",
       "      <th>112649</th>\n",
       "      <td>Artrogriposis múltiple congénita miogénica aut...</td>\n",
       "      <td>4262</td>\n",
       "      <td>Motor delay</td>\n",
       "      <td>Muy frecuente (99-80%)</td>\n",
       "    </tr>\n",
       "    <tr>\n",
       "      <th>112652</th>\n",
       "      <td>Artrogriposis múltiple congénita miogénica aut...</td>\n",
       "      <td>4262</td>\n",
       "      <td>Inability to walk</td>\n",
       "      <td>Muy frecuente (99-80%)</td>\n",
       "    </tr>\n",
       "  </tbody>\n",
       "</table>\n",
       "<p>9724 rows × 4 columns</p>\n",
       "</div>"
      ],
      "text/plain": [
       "                                               Enfermedad  Id_Enfermedad  \\\n",
       "0                                 Enfermedad de Alexander              0   \n",
       "1                                 Enfermedad de Alexander              0   \n",
       "2                                 Enfermedad de Alexander              0   \n",
       "3                                 Enfermedad de Alexander              0   \n",
       "4                                 Enfermedad de Alexander              0   \n",
       "...                                                   ...            ...   \n",
       "112572  Síndrome de trastornos de conducta-discapacida...           4259   \n",
       "112573  Síndrome de trastornos de conducta-discapacida...           4259   \n",
       "112648  Artrogriposis múltiple congénita miogénica aut...           4262   \n",
       "112649  Artrogriposis múltiple congénita miogénica aut...           4262   \n",
       "112652  Artrogriposis múltiple congénita miogénica aut...           4262   \n",
       "\n",
       "                            Sintoma              Frecuencia  \n",
       "0                      Macrocephaly  Muy frecuente (99-80%)  \n",
       "1           Intellectual disability  Muy frecuente (99-80%)  \n",
       "2                           Seizure  Muy frecuente (99-80%)  \n",
       "3                        Spasticity  Muy frecuente (99-80%)  \n",
       "4       Agenesis of corpus callosum  Muy frecuente (99-80%)  \n",
       "...                             ...                     ...  \n",
       "112572                     Macrotia  Muy frecuente (99-80%)  \n",
       "112573      Intellectual disability  Muy frecuente (99-80%)  \n",
       "112648                 Hyporeflexia  Muy frecuente (99-80%)  \n",
       "112649                  Motor delay  Muy frecuente (99-80%)  \n",
       "112652            Inability to walk  Muy frecuente (99-80%)  \n",
       "\n",
       "[9724 rows x 4 columns]"
      ]
     },
     "execution_count": 259,
     "metadata": {},
     "output_type": "execute_result"
    }
   ],
   "source": [
    "df_EnfeySinto_select=selection_and_preparation_data(df_EnfeySinto_cleaned)\n",
    "df_EnfeySinto_select"
   ]
  },
  {
   "cell_type": "code",
   "execution_count": 260,
   "id": "2bd473c6",
   "metadata": {},
   "outputs": [
    {
     "name": "stdout",
     "output_type": "stream",
     "text": [
      "Después de borrado filas, duplicates y NAN\n",
      "Enfermedades:  2544\n",
      "Sintomas:  196\n",
      "Frecuencias:  1\n"
     ]
    }
   ],
   "source": [
    "  print (\"Después de borrado filas, duplicates y NAN\")\n",
    "  print (\"Enfermedades: \", df_EnfeySinto_select[\"Enfermedad\"].nunique())\n",
    "  print (\"Sintomas: \", df_EnfeySinto_select[\"Sintoma\"].nunique())\n",
    "  print (\"Frecuencias: \", df_EnfeySinto_select[\"Frecuencia\"].nunique())  \n"
   ]
  },
  {
   "cell_type": "code",
   "execution_count": 261,
   "id": "9c82d856",
   "metadata": {},
   "outputs": [
    {
     "data": {
      "text/html": [
       "<div>\n",
       "<style scoped>\n",
       "    .dataframe tbody tr th:only-of-type {\n",
       "        vertical-align: middle;\n",
       "    }\n",
       "\n",
       "    .dataframe tbody tr th {\n",
       "        vertical-align: top;\n",
       "    }\n",
       "\n",
       "    .dataframe thead th {\n",
       "        text-align: right;\n",
       "    }\n",
       "</style>\n",
       "<table border=\"1\" class=\"dataframe\">\n",
       "  <thead>\n",
       "    <tr style=\"text-align: right;\">\n",
       "      <th></th>\n",
       "      <th>Enfermedad</th>\n",
       "      <th>Sintoma</th>\n",
       "      <th>Frecuencia</th>\n",
       "    </tr>\n",
       "  </thead>\n",
       "  <tbody>\n",
       "    <tr>\n",
       "      <th>0</th>\n",
       "      <td>Enfermedad de Alexander</td>\n",
       "      <td>Macrocephaly</td>\n",
       "      <td>Muy frecuente (99-80%)</td>\n",
       "    </tr>\n",
       "    <tr>\n",
       "      <th>1</th>\n",
       "      <td>Enfermedad de Alexander</td>\n",
       "      <td>Intellectual disability</td>\n",
       "      <td>Muy frecuente (99-80%)</td>\n",
       "    </tr>\n",
       "    <tr>\n",
       "      <th>2</th>\n",
       "      <td>Enfermedad de Alexander</td>\n",
       "      <td>Seizure</td>\n",
       "      <td>Muy frecuente (99-80%)</td>\n",
       "    </tr>\n",
       "    <tr>\n",
       "      <th>3</th>\n",
       "      <td>Enfermedad de Alexander</td>\n",
       "      <td>Spasticity</td>\n",
       "      <td>Muy frecuente (99-80%)</td>\n",
       "    </tr>\n",
       "    <tr>\n",
       "      <th>4</th>\n",
       "      <td>Enfermedad de Alexander</td>\n",
       "      <td>Agenesis of corpus callosum</td>\n",
       "      <td>Muy frecuente (99-80%)</td>\n",
       "    </tr>\n",
       "    <tr>\n",
       "      <th>...</th>\n",
       "      <td>...</td>\n",
       "      <td>...</td>\n",
       "      <td>...</td>\n",
       "    </tr>\n",
       "    <tr>\n",
       "      <th>112572</th>\n",
       "      <td>Síndrome de trastornos de conducta-discapacida...</td>\n",
       "      <td>Macrotia</td>\n",
       "      <td>Muy frecuente (99-80%)</td>\n",
       "    </tr>\n",
       "    <tr>\n",
       "      <th>112573</th>\n",
       "      <td>Síndrome de trastornos de conducta-discapacida...</td>\n",
       "      <td>Intellectual disability</td>\n",
       "      <td>Muy frecuente (99-80%)</td>\n",
       "    </tr>\n",
       "    <tr>\n",
       "      <th>112648</th>\n",
       "      <td>Artrogriposis múltiple congénita miogénica aut...</td>\n",
       "      <td>Hyporeflexia</td>\n",
       "      <td>Muy frecuente (99-80%)</td>\n",
       "    </tr>\n",
       "    <tr>\n",
       "      <th>112649</th>\n",
       "      <td>Artrogriposis múltiple congénita miogénica aut...</td>\n",
       "      <td>Motor delay</td>\n",
       "      <td>Muy frecuente (99-80%)</td>\n",
       "    </tr>\n",
       "    <tr>\n",
       "      <th>112652</th>\n",
       "      <td>Artrogriposis múltiple congénita miogénica aut...</td>\n",
       "      <td>Inability to walk</td>\n",
       "      <td>Muy frecuente (99-80%)</td>\n",
       "    </tr>\n",
       "  </tbody>\n",
       "</table>\n",
       "<p>9724 rows × 3 columns</p>\n",
       "</div>"
      ],
      "text/plain": [
       "                                               Enfermedad  \\\n",
       "0                                 Enfermedad de Alexander   \n",
       "1                                 Enfermedad de Alexander   \n",
       "2                                 Enfermedad de Alexander   \n",
       "3                                 Enfermedad de Alexander   \n",
       "4                                 Enfermedad de Alexander   \n",
       "...                                                   ...   \n",
       "112572  Síndrome de trastornos de conducta-discapacida...   \n",
       "112573  Síndrome de trastornos de conducta-discapacida...   \n",
       "112648  Artrogriposis múltiple congénita miogénica aut...   \n",
       "112649  Artrogriposis múltiple congénita miogénica aut...   \n",
       "112652  Artrogriposis múltiple congénita miogénica aut...   \n",
       "\n",
       "                            Sintoma              Frecuencia  \n",
       "0                      Macrocephaly  Muy frecuente (99-80%)  \n",
       "1           Intellectual disability  Muy frecuente (99-80%)  \n",
       "2                           Seizure  Muy frecuente (99-80%)  \n",
       "3                        Spasticity  Muy frecuente (99-80%)  \n",
       "4       Agenesis of corpus callosum  Muy frecuente (99-80%)  \n",
       "...                             ...                     ...  \n",
       "112572                     Macrotia  Muy frecuente (99-80%)  \n",
       "112573      Intellectual disability  Muy frecuente (99-80%)  \n",
       "112648                 Hyporeflexia  Muy frecuente (99-80%)  \n",
       "112649                  Motor delay  Muy frecuente (99-80%)  \n",
       "112652            Inability to walk  Muy frecuente (99-80%)  \n",
       "\n",
       "[9724 rows x 3 columns]"
      ]
     },
     "execution_count": 261,
     "metadata": {},
     "output_type": "execute_result"
    }
   ],
   "source": [
    "df_EnfeySinto_select=df_EnfeySinto_select.drop(\"Id_Enfermedad\", axis=1)\n",
    "df_EnfeySinto_select"
   ]
  },
  {
   "cell_type": "code",
   "execution_count": 262,
   "id": "76167759",
   "metadata": {},
   "outputs": [
    {
     "name": "stdout",
     "output_type": "stream",
     "text": [
      "VUELTA:  1\n",
      "Tamaño:  2544\n",
      "CPU times: user 1.78 s, sys: 7.23 ms, total: 1.79 s\n",
      "Wall time: 1.79 s\n"
     ]
    }
   ],
   "source": [
    "%%time\n",
    "df_train_generated=generate_data_train (df_EnfeySinto_select, 1)"
   ]
  },
  {
   "cell_type": "code",
   "execution_count": 263,
   "id": "af683167",
   "metadata": {},
   "outputs": [
    {
     "data": {
      "text/plain": [
       "(2544, 196)"
      ]
     },
     "execution_count": 263,
     "metadata": {},
     "output_type": "execute_result"
    }
   ],
   "source": [
    "df_train_generated.shape"
   ]
  },
  {
   "cell_type": "code",
   "execution_count": 264,
   "id": "9f2c3933",
   "metadata": {},
   "outputs": [],
   "source": [
    "df_Sintomas=df_EnfeySinto_select.groupby ([\"Sintoma\"]).count().reset_index()\n"
   ]
  },
  {
   "cell_type": "code",
   "execution_count": 265,
   "id": "99e84f68",
   "metadata": {},
   "outputs": [],
   "source": [
    "df_Sintomas=df_Sintomas.drop([\"Enfermedad\",\"Frecuencia\"], axis=1)"
   ]
  },
  {
   "cell_type": "code",
   "execution_count": 266,
   "id": "2b52b1c2",
   "metadata": {},
   "outputs": [
    {
     "data": {
      "text/html": [
       "<div>\n",
       "<style scoped>\n",
       "    .dataframe tbody tr th:only-of-type {\n",
       "        vertical-align: middle;\n",
       "    }\n",
       "\n",
       "    .dataframe tbody tr th {\n",
       "        vertical-align: top;\n",
       "    }\n",
       "\n",
       "    .dataframe thead th {\n",
       "        text-align: right;\n",
       "    }\n",
       "</style>\n",
       "<table border=\"1\" class=\"dataframe\">\n",
       "  <thead>\n",
       "    <tr style=\"text-align: right;\">\n",
       "      <th></th>\n",
       "      <th>Sintoma</th>\n",
       "    </tr>\n",
       "  </thead>\n",
       "  <tbody>\n",
       "    <tr>\n",
       "      <th>0</th>\n",
       "      <td>Abdominal pain</td>\n",
       "    </tr>\n",
       "    <tr>\n",
       "      <th>1</th>\n",
       "      <td>Abnormal blistering of the skin</td>\n",
       "    </tr>\n",
       "    <tr>\n",
       "      <th>2</th>\n",
       "      <td>Abnormal facial shape</td>\n",
       "    </tr>\n",
       "    <tr>\n",
       "      <th>3</th>\n",
       "      <td>Abnormal heart morphology</td>\n",
       "    </tr>\n",
       "    <tr>\n",
       "      <th>4</th>\n",
       "      <td>Abnormal pyramidal sign</td>\n",
       "    </tr>\n",
       "    <tr>\n",
       "      <th>5</th>\n",
       "      <td>Abnormality of the dentition</td>\n",
       "    </tr>\n",
       "    <tr>\n",
       "      <th>6</th>\n",
       "      <td>Abnormality of the eye</td>\n",
       "    </tr>\n",
       "    <tr>\n",
       "      <th>7</th>\n",
       "      <td>Abnormality of the nervous system</td>\n",
       "    </tr>\n",
       "    <tr>\n",
       "      <th>8</th>\n",
       "      <td>Absent speech</td>\n",
       "    </tr>\n",
       "    <tr>\n",
       "      <th>9</th>\n",
       "      <td>Agenesis of corpus callosum</td>\n",
       "    </tr>\n",
       "    <tr>\n",
       "      <th>10</th>\n",
       "      <td>Aggressive behavior</td>\n",
       "    </tr>\n",
       "    <tr>\n",
       "      <th>11</th>\n",
       "      <td>Alopecia</td>\n",
       "    </tr>\n",
       "    <tr>\n",
       "      <th>12</th>\n",
       "      <td>Anemia</td>\n",
       "    </tr>\n",
       "    <tr>\n",
       "      <th>13</th>\n",
       "      <td>Anorexia</td>\n",
       "    </tr>\n",
       "    <tr>\n",
       "      <th>14</th>\n",
       "      <td>Anteverted nares</td>\n",
       "    </tr>\n",
       "    <tr>\n",
       "      <th>15</th>\n",
       "      <td>Anxiety</td>\n",
       "    </tr>\n",
       "    <tr>\n",
       "      <th>16</th>\n",
       "      <td>Areflexia</td>\n",
       "    </tr>\n",
       "    <tr>\n",
       "      <th>17</th>\n",
       "      <td>Arrhythmia</td>\n",
       "    </tr>\n",
       "    <tr>\n",
       "      <th>18</th>\n",
       "      <td>Arthralgia</td>\n",
       "    </tr>\n",
       "    <tr>\n",
       "      <th>19</th>\n",
       "      <td>Arthritis</td>\n",
       "    </tr>\n",
       "    <tr>\n",
       "      <th>20</th>\n",
       "      <td>Ataxia</td>\n",
       "    </tr>\n",
       "    <tr>\n",
       "      <th>21</th>\n",
       "      <td>Atrial septal defect</td>\n",
       "    </tr>\n",
       "    <tr>\n",
       "      <th>22</th>\n",
       "      <td>Attention deficit hyperactivity disorder</td>\n",
       "    </tr>\n",
       "    <tr>\n",
       "      <th>23</th>\n",
       "      <td>Autistic behavior</td>\n",
       "    </tr>\n",
       "    <tr>\n",
       "      <th>24</th>\n",
       "      <td>Autoimmunity</td>\n",
       "    </tr>\n",
       "    <tr>\n",
       "      <th>25</th>\n",
       "      <td>Babinski sign</td>\n",
       "    </tr>\n",
       "    <tr>\n",
       "      <th>26</th>\n",
       "      <td>Behavioral abnormality</td>\n",
       "    </tr>\n",
       "    <tr>\n",
       "      <th>27</th>\n",
       "      <td>Bilateral tonic-clonic seizure</td>\n",
       "    </tr>\n",
       "    <tr>\n",
       "      <th>28</th>\n",
       "      <td>Brachycephaly</td>\n",
       "    </tr>\n",
       "    <tr>\n",
       "      <th>29</th>\n",
       "      <td>Brachydactyly</td>\n",
       "    </tr>\n",
       "    <tr>\n",
       "      <th>30</th>\n",
       "      <td>Camptodactyly of finger</td>\n",
       "    </tr>\n",
       "    <tr>\n",
       "      <th>31</th>\n",
       "      <td>Cataract</td>\n",
       "    </tr>\n",
       "    <tr>\n",
       "      <th>32</th>\n",
       "      <td>Cerebellar atrophy</td>\n",
       "    </tr>\n",
       "    <tr>\n",
       "      <th>33</th>\n",
       "      <td>Cerebellar hypoplasia</td>\n",
       "    </tr>\n",
       "    <tr>\n",
       "      <th>34</th>\n",
       "      <td>Cerebral cortical atrophy</td>\n",
       "    </tr>\n",
       "    <tr>\n",
       "      <th>35</th>\n",
       "      <td>Chest pain</td>\n",
       "    </tr>\n",
       "    <tr>\n",
       "      <th>36</th>\n",
       "      <td>Cleft palate</td>\n",
       "    </tr>\n",
       "    <tr>\n",
       "      <th>37</th>\n",
       "      <td>Clinodactyly of the 5th finger</td>\n",
       "    </tr>\n",
       "    <tr>\n",
       "      <th>38</th>\n",
       "      <td>Coarse facial features</td>\n",
       "    </tr>\n",
       "    <tr>\n",
       "      <th>39</th>\n",
       "      <td>Cognitive impairment</td>\n",
       "    </tr>\n",
       "    <tr>\n",
       "      <th>40</th>\n",
       "      <td>Conductive hearing impairment</td>\n",
       "    </tr>\n",
       "    <tr>\n",
       "      <th>41</th>\n",
       "      <td>Congestive heart failure</td>\n",
       "    </tr>\n",
       "    <tr>\n",
       "      <th>42</th>\n",
       "      <td>Constipation</td>\n",
       "    </tr>\n",
       "    <tr>\n",
       "      <th>43</th>\n",
       "      <td>Corneal opacity</td>\n",
       "    </tr>\n",
       "    <tr>\n",
       "      <th>44</th>\n",
       "      <td>Cough</td>\n",
       "    </tr>\n",
       "    <tr>\n",
       "      <th>45</th>\n",
       "      <td>Cryptorchidism</td>\n",
       "    </tr>\n",
       "    <tr>\n",
       "      <th>46</th>\n",
       "      <td>Deeply set eye</td>\n",
       "    </tr>\n",
       "    <tr>\n",
       "      <th>47</th>\n",
       "      <td>Delayed puberty</td>\n",
       "    </tr>\n",
       "    <tr>\n",
       "      <th>48</th>\n",
       "      <td>Delayed skeletal maturation</td>\n",
       "    </tr>\n",
       "    <tr>\n",
       "      <th>49</th>\n",
       "      <td>Delayed speech and language development</td>\n",
       "    </tr>\n",
       "  </tbody>\n",
       "</table>\n",
       "</div>"
      ],
      "text/plain": [
       "                                     Sintoma\n",
       "0                             Abdominal pain\n",
       "1            Abnormal blistering of the skin\n",
       "2                      Abnormal facial shape\n",
       "3                  Abnormal heart morphology\n",
       "4                    Abnormal pyramidal sign\n",
       "5               Abnormality of the dentition\n",
       "6                     Abnormality of the eye\n",
       "7          Abnormality of the nervous system\n",
       "8                              Absent speech\n",
       "9                Agenesis of corpus callosum\n",
       "10                       Aggressive behavior\n",
       "11                                  Alopecia\n",
       "12                                    Anemia\n",
       "13                                  Anorexia\n",
       "14                          Anteverted nares\n",
       "15                                   Anxiety\n",
       "16                                 Areflexia\n",
       "17                                Arrhythmia\n",
       "18                                Arthralgia\n",
       "19                                 Arthritis\n",
       "20                                    Ataxia\n",
       "21                      Atrial septal defect\n",
       "22  Attention deficit hyperactivity disorder\n",
       "23                         Autistic behavior\n",
       "24                              Autoimmunity\n",
       "25                             Babinski sign\n",
       "26                    Behavioral abnormality\n",
       "27            Bilateral tonic-clonic seizure\n",
       "28                             Brachycephaly\n",
       "29                             Brachydactyly\n",
       "30                   Camptodactyly of finger\n",
       "31                                  Cataract\n",
       "32                        Cerebellar atrophy\n",
       "33                     Cerebellar hypoplasia\n",
       "34                 Cerebral cortical atrophy\n",
       "35                                Chest pain\n",
       "36                              Cleft palate\n",
       "37            Clinodactyly of the 5th finger\n",
       "38                    Coarse facial features\n",
       "39                      Cognitive impairment\n",
       "40             Conductive hearing impairment\n",
       "41                  Congestive heart failure\n",
       "42                              Constipation\n",
       "43                           Corneal opacity\n",
       "44                                     Cough\n",
       "45                            Cryptorchidism\n",
       "46                            Deeply set eye\n",
       "47                           Delayed puberty\n",
       "48               Delayed skeletal maturation\n",
       "49   Delayed speech and language development"
      ]
     },
     "execution_count": 266,
     "metadata": {},
     "output_type": "execute_result"
    }
   ],
   "source": [
    "df_Sintomas.head(50)"
   ]
  },
  {
   "cell_type": "code",
   "execution_count": 267,
   "id": "f815e0a2",
   "metadata": {},
   "outputs": [
    {
     "data": {
      "text/html": [
       "<div>\n",
       "<style scoped>\n",
       "    .dataframe tbody tr th:only-of-type {\n",
       "        vertical-align: middle;\n",
       "    }\n",
       "\n",
       "    .dataframe tbody tr th {\n",
       "        vertical-align: top;\n",
       "    }\n",
       "\n",
       "    .dataframe thead th {\n",
       "        text-align: right;\n",
       "    }\n",
       "</style>\n",
       "<table border=\"1\" class=\"dataframe\">\n",
       "  <thead>\n",
       "    <tr style=\"text-align: right;\">\n",
       "      <th></th>\n",
       "      <th>Sintoma</th>\n",
       "    </tr>\n",
       "  </thead>\n",
       "  <tbody>\n",
       "    <tr>\n",
       "      <th>100</th>\n",
       "      <td>Hypotonia</td>\n",
       "    </tr>\n",
       "  </tbody>\n",
       "</table>\n",
       "</div>"
      ],
      "text/plain": [
       "       Sintoma\n",
       "100  Hypotonia"
      ]
     },
     "execution_count": 267,
     "metadata": {},
     "output_type": "execute_result"
    }
   ],
   "source": [
    "df_Sintomas[df_Sintomas[\"Sintoma\"]==\"Hypotonia\"]"
   ]
  },
  {
   "cell_type": "code",
   "execution_count": 268,
   "id": "ef803ecb",
   "metadata": {},
   "outputs": [],
   "source": [
    "df_Enfermedades=df_EnfeySinto_select.groupby ([\"Enfermedad\"]).count().reset_index()\n",
    "df_Enfermedades=df_Enfermedades.drop([\"Sintoma\",\"Frecuencia\"], axis=1)"
   ]
  },
  {
   "cell_type": "code",
   "execution_count": 269,
   "id": "39716347",
   "metadata": {},
   "outputs": [],
   "source": [
    "df_Enfermedades=df_Enfermedades.reset_index()"
   ]
  },
  {
   "cell_type": "code",
   "execution_count": 270,
   "id": "c3249e3d",
   "metadata": {},
   "outputs": [
    {
     "data": {
      "text/html": [
       "<div>\n",
       "<style scoped>\n",
       "    .dataframe tbody tr th:only-of-type {\n",
       "        vertical-align: middle;\n",
       "    }\n",
       "\n",
       "    .dataframe tbody tr th {\n",
       "        vertical-align: top;\n",
       "    }\n",
       "\n",
       "    .dataframe thead th {\n",
       "        text-align: right;\n",
       "    }\n",
       "</style>\n",
       "<table border=\"1\" class=\"dataframe\">\n",
       "  <thead>\n",
       "    <tr style=\"text-align: right;\">\n",
       "      <th></th>\n",
       "      <th>index</th>\n",
       "      <th>Enfermedad</th>\n",
       "    </tr>\n",
       "  </thead>\n",
       "  <tbody>\n",
       "    <tr>\n",
       "      <th>0</th>\n",
       "      <td>0</td>\n",
       "      <td>AICA ribosiduria</td>\n",
       "    </tr>\n",
       "    <tr>\n",
       "      <th>1</th>\n",
       "      <td>1</td>\n",
       "      <td>ALG1-CDG</td>\n",
       "    </tr>\n",
       "    <tr>\n",
       "      <th>2</th>\n",
       "      <td>2</td>\n",
       "      <td>ALG11-CDG</td>\n",
       "    </tr>\n",
       "    <tr>\n",
       "      <th>3</th>\n",
       "      <td>3</td>\n",
       "      <td>ALG3-CDG</td>\n",
       "    </tr>\n",
       "    <tr>\n",
       "      <th>4</th>\n",
       "      <td>4</td>\n",
       "      <td>ALG8-CDG</td>\n",
       "    </tr>\n",
       "    <tr>\n",
       "      <th>5</th>\n",
       "      <td>5</td>\n",
       "      <td>ALG9-CDG</td>\n",
       "    </tr>\n",
       "    <tr>\n",
       "      <th>6</th>\n",
       "      <td>6</td>\n",
       "      <td>Abetalipoproteinemia</td>\n",
       "    </tr>\n",
       "    <tr>\n",
       "      <th>7</th>\n",
       "      <td>7</td>\n",
       "      <td>Acalasia idiopática</td>\n",
       "    </tr>\n",
       "    <tr>\n",
       "      <th>8</th>\n",
       "      <td>8</td>\n",
       "      <td>Aceruloplasminemia</td>\n",
       "    </tr>\n",
       "    <tr>\n",
       "      <th>9</th>\n",
       "      <td>9</td>\n",
       "      <td>Acidemia isovalérica</td>\n",
       "    </tr>\n",
       "    <tr>\n",
       "      <th>10</th>\n",
       "      <td>10</td>\n",
       "      <td>Acidemia metilmalónica con homocistinuria</td>\n",
       "    </tr>\n",
       "    <tr>\n",
       "      <th>11</th>\n",
       "      <td>11</td>\n",
       "      <td>Acidemia metilmalónica con homocistinuria tipo...</td>\n",
       "    </tr>\n",
       "    <tr>\n",
       "      <th>12</th>\n",
       "      <td>12</td>\n",
       "      <td>Acidemia metilmalónica con homocistinuria tipo...</td>\n",
       "    </tr>\n",
       "    <tr>\n",
       "      <th>13</th>\n",
       "      <td>13</td>\n",
       "      <td>Acidemia metilmalónica resistente a la vitamin...</td>\n",
       "    </tr>\n",
       "    <tr>\n",
       "      <th>14</th>\n",
       "      <td>14</td>\n",
       "      <td>Acidemia metilmalónica resistente a la vitamin...</td>\n",
       "    </tr>\n",
       "    <tr>\n",
       "      <th>15</th>\n",
       "      <td>15</td>\n",
       "      <td>Acidemia metilmalónica resistente a la vitamin...</td>\n",
       "    </tr>\n",
       "    <tr>\n",
       "      <th>16</th>\n",
       "      <td>16</td>\n",
       "      <td>Acidemia metilmalónica sensible a la vitamina B12</td>\n",
       "    </tr>\n",
       "    <tr>\n",
       "      <th>17</th>\n",
       "      <td>17</td>\n",
       "      <td>Acidemia propiónica</td>\n",
       "    </tr>\n",
       "    <tr>\n",
       "      <th>18</th>\n",
       "      <td>18</td>\n",
       "      <td>Acidosis láctica congénita tipo Saguenay-Lac-S...</td>\n",
       "    </tr>\n",
       "    <tr>\n",
       "      <th>19</th>\n",
       "      <td>19</td>\n",
       "      <td>Acidosis láctica letal del lactante con acidur...</td>\n",
       "    </tr>\n",
       "    <tr>\n",
       "      <th>20</th>\n",
       "      <td>20</td>\n",
       "      <td>Aciduria 3-metilglutacónica tipo 1</td>\n",
       "    </tr>\n",
       "    <tr>\n",
       "      <th>21</th>\n",
       "      <td>21</td>\n",
       "      <td>Aciduria 3-metilglutacónica tipo 3</td>\n",
       "    </tr>\n",
       "    <tr>\n",
       "      <th>22</th>\n",
       "      <td>22</td>\n",
       "      <td>Aciduria 3-metilglutacónica tipo 4</td>\n",
       "    </tr>\n",
       "    <tr>\n",
       "      <th>23</th>\n",
       "      <td>23</td>\n",
       "      <td>Aciduria 3-metilglutacónica tipo 7</td>\n",
       "    </tr>\n",
       "    <tr>\n",
       "      <th>24</th>\n",
       "      <td>24</td>\n",
       "      <td>Aciduria 3-metilglutacónica tipo 9</td>\n",
       "    </tr>\n",
       "    <tr>\n",
       "      <th>25</th>\n",
       "      <td>25</td>\n",
       "      <td>Aciduria L-2-hidroxiglutárica</td>\n",
       "    </tr>\n",
       "    <tr>\n",
       "      <th>26</th>\n",
       "      <td>26</td>\n",
       "      <td>Aciduria mevalónica</td>\n",
       "    </tr>\n",
       "    <tr>\n",
       "      <th>27</th>\n",
       "      <td>27</td>\n",
       "      <td>Aciduria orótica hereditaria</td>\n",
       "    </tr>\n",
       "    <tr>\n",
       "      <th>28</th>\n",
       "      <td>28</td>\n",
       "      <td>Aciduria oxoglutárica</td>\n",
       "    </tr>\n",
       "    <tr>\n",
       "      <th>29</th>\n",
       "      <td>29</td>\n",
       "      <td>Aciduria urocánica</td>\n",
       "    </tr>\n",
       "    <tr>\n",
       "      <th>30</th>\n",
       "      <td>30</td>\n",
       "      <td>Acondrogénesis</td>\n",
       "    </tr>\n",
       "    <tr>\n",
       "      <th>31</th>\n",
       "      <td>31</td>\n",
       "      <td>Acondrogénesis tipo 1A</td>\n",
       "    </tr>\n",
       "    <tr>\n",
       "      <th>32</th>\n",
       "      <td>32</td>\n",
       "      <td>Acondrogénesis tipo 1B</td>\n",
       "    </tr>\n",
       "    <tr>\n",
       "      <th>33</th>\n",
       "      <td>33</td>\n",
       "      <td>Acondroplasia</td>\n",
       "    </tr>\n",
       "    <tr>\n",
       "      <th>34</th>\n",
       "      <td>34</td>\n",
       "      <td>Acrocefalopolidactilia</td>\n",
       "    </tr>\n",
       "    <tr>\n",
       "      <th>35</th>\n",
       "      <td>35</td>\n",
       "      <td>Acrodermatitis enteropática</td>\n",
       "    </tr>\n",
       "    <tr>\n",
       "      <th>36</th>\n",
       "      <td>36</td>\n",
       "      <td>Acrodisostosis</td>\n",
       "    </tr>\n",
       "    <tr>\n",
       "      <th>37</th>\n",
       "      <td>37</td>\n",
       "      <td>Acrodisostosis con resistencia múltiple a horm...</td>\n",
       "    </tr>\n",
       "    <tr>\n",
       "      <th>38</th>\n",
       "      <td>38</td>\n",
       "      <td>Acrodisplasia-escoliosis</td>\n",
       "    </tr>\n",
       "    <tr>\n",
       "      <th>39</th>\n",
       "      <td>39</td>\n",
       "      <td>Acroesquifodisplasia metafisaria</td>\n",
       "    </tr>\n",
       "    <tr>\n",
       "      <th>40</th>\n",
       "      <td>40</td>\n",
       "      <td>Acrogeria</td>\n",
       "    </tr>\n",
       "    <tr>\n",
       "      <th>41</th>\n",
       "      <td>41</td>\n",
       "      <td>Acromatopsia</td>\n",
       "    </tr>\n",
       "    <tr>\n",
       "      <th>42</th>\n",
       "      <td>42</td>\n",
       "      <td>Acromegalia</td>\n",
       "    </tr>\n",
       "    <tr>\n",
       "      <th>43</th>\n",
       "      <td>43</td>\n",
       "      <td>Actividad continua de la fibra muscular heredi...</td>\n",
       "    </tr>\n",
       "    <tr>\n",
       "      <th>44</th>\n",
       "      <td>44</td>\n",
       "      <td>Adenocarcinoma de esófago</td>\n",
       "    </tr>\n",
       "    <tr>\n",
       "      <th>45</th>\n",
       "      <td>45</td>\n",
       "      <td>Adenocarcinoma del canal anal</td>\n",
       "    </tr>\n",
       "    <tr>\n",
       "      <th>46</th>\n",
       "      <td>46</td>\n",
       "      <td>Adiposis dolorosa</td>\n",
       "    </tr>\n",
       "    <tr>\n",
       "      <th>47</th>\n",
       "      <td>47</td>\n",
       "      <td>Adrenoleucodistrofia cerebral ligada al cromos...</td>\n",
       "    </tr>\n",
       "    <tr>\n",
       "      <th>48</th>\n",
       "      <td>48</td>\n",
       "      <td>Adrenoleucodistrofia ligada al cromosoma X</td>\n",
       "    </tr>\n",
       "    <tr>\n",
       "      <th>49</th>\n",
       "      <td>49</td>\n",
       "      <td>Adrenoleucodistrofia neonatal</td>\n",
       "    </tr>\n",
       "  </tbody>\n",
       "</table>\n",
       "</div>"
      ],
      "text/plain": [
       "    index                                         Enfermedad\n",
       "0       0                                   AICA ribosiduria\n",
       "1       1                                           ALG1-CDG\n",
       "2       2                                          ALG11-CDG\n",
       "3       3                                           ALG3-CDG\n",
       "4       4                                           ALG8-CDG\n",
       "5       5                                           ALG9-CDG\n",
       "6       6                               Abetalipoproteinemia\n",
       "7       7                                Acalasia idiopática\n",
       "8       8                                 Aceruloplasminemia\n",
       "9       9                               Acidemia isovalérica\n",
       "10     10          Acidemia metilmalónica con homocistinuria\n",
       "11     11  Acidemia metilmalónica con homocistinuria tipo...\n",
       "12     12  Acidemia metilmalónica con homocistinuria tipo...\n",
       "13     13  Acidemia metilmalónica resistente a la vitamin...\n",
       "14     14  Acidemia metilmalónica resistente a la vitamin...\n",
       "15     15  Acidemia metilmalónica resistente a la vitamin...\n",
       "16     16  Acidemia metilmalónica sensible a la vitamina B12\n",
       "17     17                                Acidemia propiónica\n",
       "18     18  Acidosis láctica congénita tipo Saguenay-Lac-S...\n",
       "19     19  Acidosis láctica letal del lactante con acidur...\n",
       "20     20                 Aciduria 3-metilglutacónica tipo 1\n",
       "21     21                 Aciduria 3-metilglutacónica tipo 3\n",
       "22     22                 Aciduria 3-metilglutacónica tipo 4\n",
       "23     23                 Aciduria 3-metilglutacónica tipo 7\n",
       "24     24                 Aciduria 3-metilglutacónica tipo 9\n",
       "25     25                      Aciduria L-2-hidroxiglutárica\n",
       "26     26                                Aciduria mevalónica\n",
       "27     27                       Aciduria orótica hereditaria\n",
       "28     28                              Aciduria oxoglutárica\n",
       "29     29                                 Aciduria urocánica\n",
       "30     30                                     Acondrogénesis\n",
       "31     31                             Acondrogénesis tipo 1A\n",
       "32     32                             Acondrogénesis tipo 1B\n",
       "33     33                                      Acondroplasia\n",
       "34     34                             Acrocefalopolidactilia\n",
       "35     35                        Acrodermatitis enteropática\n",
       "36     36                                     Acrodisostosis\n",
       "37     37  Acrodisostosis con resistencia múltiple a horm...\n",
       "38     38                           Acrodisplasia-escoliosis\n",
       "39     39                   Acroesquifodisplasia metafisaria\n",
       "40     40                                          Acrogeria\n",
       "41     41                                       Acromatopsia\n",
       "42     42                                        Acromegalia\n",
       "43     43  Actividad continua de la fibra muscular heredi...\n",
       "44     44                          Adenocarcinoma de esófago\n",
       "45     45                      Adenocarcinoma del canal anal\n",
       "46     46                                  Adiposis dolorosa\n",
       "47     47  Adrenoleucodistrofia cerebral ligada al cromos...\n",
       "48     48         Adrenoleucodistrofia ligada al cromosoma X\n",
       "49     49                      Adrenoleucodistrofia neonatal"
      ]
     },
     "execution_count": 270,
     "metadata": {},
     "output_type": "execute_result"
    }
   ],
   "source": [
    "df_Enfermedades.head(50)"
   ]
  },
  {
   "cell_type": "code",
   "execution_count": 271,
   "id": "44e9eae0",
   "metadata": {},
   "outputs": [
    {
     "data": {
      "text/html": [
       "<div>\n",
       "<style scoped>\n",
       "    .dataframe tbody tr th:only-of-type {\n",
       "        vertical-align: middle;\n",
       "    }\n",
       "\n",
       "    .dataframe tbody tr th {\n",
       "        vertical-align: top;\n",
       "    }\n",
       "\n",
       "    .dataframe thead th {\n",
       "        text-align: right;\n",
       "    }\n",
       "</style>\n",
       "<table border=\"1\" class=\"dataframe\">\n",
       "  <thead>\n",
       "    <tr style=\"text-align: right;\">\n",
       "      <th></th>\n",
       "      <th>Enfermedad</th>\n",
       "      <th>Sintoma</th>\n",
       "      <th>Frecuencia</th>\n",
       "    </tr>\n",
       "  </thead>\n",
       "  <tbody>\n",
       "    <tr>\n",
       "      <th>29830</th>\n",
       "      <td>ALG8-CDG</td>\n",
       "      <td>Abnormality of the nervous system</td>\n",
       "      <td>Muy frecuente (99-80%)</td>\n",
       "    </tr>\n",
       "    <tr>\n",
       "      <th>29831</th>\n",
       "      <td>ALG8-CDG</td>\n",
       "      <td>Hypotonia</td>\n",
       "      <td>Muy frecuente (99-80%)</td>\n",
       "    </tr>\n",
       "    <tr>\n",
       "      <th>29832</th>\n",
       "      <td>ALG8-CDG</td>\n",
       "      <td>Abnormal facial shape</td>\n",
       "      <td>Muy frecuente (99-80%)</td>\n",
       "    </tr>\n",
       "  </tbody>\n",
       "</table>\n",
       "</div>"
      ],
      "text/plain": [
       "      Enfermedad                            Sintoma              Frecuencia\n",
       "29830   ALG8-CDG  Abnormality of the nervous system  Muy frecuente (99-80%)\n",
       "29831   ALG8-CDG                          Hypotonia  Muy frecuente (99-80%)\n",
       "29832   ALG8-CDG              Abnormal facial shape  Muy frecuente (99-80%)"
      ]
     },
     "execution_count": 271,
     "metadata": {},
     "output_type": "execute_result"
    }
   ],
   "source": [
    "df_EnfeySinto_select[df_EnfeySinto_select[\"Enfermedad\"]==\"ALG8-CDG\"] \n"
   ]
  },
  {
   "cell_type": "code",
   "execution_count": null,
   "id": "7e5d5439",
   "metadata": {},
   "outputs": [],
   "source": []
  },
  {
   "cell_type": "code",
   "execution_count": 272,
   "id": "6833a24f",
   "metadata": {},
   "outputs": [],
   "source": [
    "df_train_generated=_cambiar_columnas(df_train_generated)\n"
   ]
  },
  {
   "cell_type": "code",
   "execution_count": 273,
   "id": "0b5d878b",
   "metadata": {},
   "outputs": [
    {
     "data": {
      "text/html": [
       "<div>\n",
       "<style scoped>\n",
       "    .dataframe tbody tr th:only-of-type {\n",
       "        vertical-align: middle;\n",
       "    }\n",
       "\n",
       "    .dataframe tbody tr th {\n",
       "        vertical-align: top;\n",
       "    }\n",
       "\n",
       "    .dataframe thead th {\n",
       "        text-align: right;\n",
       "    }\n",
       "</style>\n",
       "<table border=\"1\" class=\"dataframe\">\n",
       "  <thead>\n",
       "    <tr style=\"text-align: right;\">\n",
       "      <th>Sintoma</th>\n",
       "      <th>0</th>\n",
       "      <th>1</th>\n",
       "      <th>2</th>\n",
       "      <th>3</th>\n",
       "      <th>4</th>\n",
       "      <th>5</th>\n",
       "      <th>6</th>\n",
       "      <th>7</th>\n",
       "      <th>8</th>\n",
       "      <th>9</th>\n",
       "      <th>...</th>\n",
       "      <th>186</th>\n",
       "      <th>187</th>\n",
       "      <th>188</th>\n",
       "      <th>189</th>\n",
       "      <th>190</th>\n",
       "      <th>191</th>\n",
       "      <th>192</th>\n",
       "      <th>193</th>\n",
       "      <th>194</th>\n",
       "      <th>195</th>\n",
       "    </tr>\n",
       "  </thead>\n",
       "  <tbody>\n",
       "    <tr>\n",
       "      <th>0</th>\n",
       "      <td>0</td>\n",
       "      <td>0</td>\n",
       "      <td>0</td>\n",
       "      <td>0</td>\n",
       "      <td>0</td>\n",
       "      <td>0</td>\n",
       "      <td>0</td>\n",
       "      <td>0</td>\n",
       "      <td>0</td>\n",
       "      <td>0</td>\n",
       "      <td>...</td>\n",
       "      <td>0</td>\n",
       "      <td>0</td>\n",
       "      <td>0</td>\n",
       "      <td>0</td>\n",
       "      <td>0</td>\n",
       "      <td>0</td>\n",
       "      <td>0</td>\n",
       "      <td>0</td>\n",
       "      <td>0</td>\n",
       "      <td>0</td>\n",
       "    </tr>\n",
       "    <tr>\n",
       "      <th>1</th>\n",
       "      <td>0</td>\n",
       "      <td>0</td>\n",
       "      <td>0</td>\n",
       "      <td>0</td>\n",
       "      <td>0</td>\n",
       "      <td>0</td>\n",
       "      <td>0</td>\n",
       "      <td>0</td>\n",
       "      <td>0</td>\n",
       "      <td>0</td>\n",
       "      <td>...</td>\n",
       "      <td>0</td>\n",
       "      <td>0</td>\n",
       "      <td>0</td>\n",
       "      <td>0</td>\n",
       "      <td>0</td>\n",
       "      <td>0</td>\n",
       "      <td>0</td>\n",
       "      <td>0</td>\n",
       "      <td>0</td>\n",
       "      <td>0</td>\n",
       "    </tr>\n",
       "    <tr>\n",
       "      <th>2</th>\n",
       "      <td>0</td>\n",
       "      <td>0</td>\n",
       "      <td>0</td>\n",
       "      <td>0</td>\n",
       "      <td>0</td>\n",
       "      <td>0</td>\n",
       "      <td>0</td>\n",
       "      <td>0</td>\n",
       "      <td>0</td>\n",
       "      <td>0</td>\n",
       "      <td>...</td>\n",
       "      <td>0</td>\n",
       "      <td>0</td>\n",
       "      <td>0</td>\n",
       "      <td>0</td>\n",
       "      <td>0</td>\n",
       "      <td>0</td>\n",
       "      <td>0</td>\n",
       "      <td>0</td>\n",
       "      <td>0</td>\n",
       "      <td>0</td>\n",
       "    </tr>\n",
       "    <tr>\n",
       "      <th>3</th>\n",
       "      <td>0</td>\n",
       "      <td>0</td>\n",
       "      <td>0</td>\n",
       "      <td>0</td>\n",
       "      <td>0</td>\n",
       "      <td>0</td>\n",
       "      <td>0</td>\n",
       "      <td>0</td>\n",
       "      <td>0</td>\n",
       "      <td>0</td>\n",
       "      <td>...</td>\n",
       "      <td>0</td>\n",
       "      <td>0</td>\n",
       "      <td>0</td>\n",
       "      <td>0</td>\n",
       "      <td>0</td>\n",
       "      <td>0</td>\n",
       "      <td>0</td>\n",
       "      <td>0</td>\n",
       "      <td>0</td>\n",
       "      <td>0</td>\n",
       "    </tr>\n",
       "    <tr>\n",
       "      <th>4</th>\n",
       "      <td>0</td>\n",
       "      <td>0</td>\n",
       "      <td>1</td>\n",
       "      <td>0</td>\n",
       "      <td>0</td>\n",
       "      <td>0</td>\n",
       "      <td>0</td>\n",
       "      <td>1</td>\n",
       "      <td>0</td>\n",
       "      <td>0</td>\n",
       "      <td>...</td>\n",
       "      <td>0</td>\n",
       "      <td>0</td>\n",
       "      <td>0</td>\n",
       "      <td>0</td>\n",
       "      <td>0</td>\n",
       "      <td>0</td>\n",
       "      <td>0</td>\n",
       "      <td>0</td>\n",
       "      <td>0</td>\n",
       "      <td>0</td>\n",
       "    </tr>\n",
       "    <tr>\n",
       "      <th>...</th>\n",
       "      <td>...</td>\n",
       "      <td>...</td>\n",
       "      <td>...</td>\n",
       "      <td>...</td>\n",
       "      <td>...</td>\n",
       "      <td>...</td>\n",
       "      <td>...</td>\n",
       "      <td>...</td>\n",
       "      <td>...</td>\n",
       "      <td>...</td>\n",
       "      <td>...</td>\n",
       "      <td>...</td>\n",
       "      <td>...</td>\n",
       "      <td>...</td>\n",
       "      <td>...</td>\n",
       "      <td>...</td>\n",
       "      <td>...</td>\n",
       "      <td>...</td>\n",
       "      <td>...</td>\n",
       "      <td>...</td>\n",
       "      <td>...</td>\n",
       "    </tr>\n",
       "    <tr>\n",
       "      <th>2539</th>\n",
       "      <td>0</td>\n",
       "      <td>0</td>\n",
       "      <td>0</td>\n",
       "      <td>0</td>\n",
       "      <td>0</td>\n",
       "      <td>0</td>\n",
       "      <td>0</td>\n",
       "      <td>0</td>\n",
       "      <td>0</td>\n",
       "      <td>0</td>\n",
       "      <td>...</td>\n",
       "      <td>0</td>\n",
       "      <td>0</td>\n",
       "      <td>0</td>\n",
       "      <td>0</td>\n",
       "      <td>0</td>\n",
       "      <td>0</td>\n",
       "      <td>0</td>\n",
       "      <td>0</td>\n",
       "      <td>0</td>\n",
       "      <td>0</td>\n",
       "    </tr>\n",
       "    <tr>\n",
       "      <th>2540</th>\n",
       "      <td>0</td>\n",
       "      <td>0</td>\n",
       "      <td>0</td>\n",
       "      <td>0</td>\n",
       "      <td>0</td>\n",
       "      <td>0</td>\n",
       "      <td>0</td>\n",
       "      <td>0</td>\n",
       "      <td>0</td>\n",
       "      <td>0</td>\n",
       "      <td>...</td>\n",
       "      <td>0</td>\n",
       "      <td>0</td>\n",
       "      <td>0</td>\n",
       "      <td>0</td>\n",
       "      <td>0</td>\n",
       "      <td>0</td>\n",
       "      <td>0</td>\n",
       "      <td>0</td>\n",
       "      <td>0</td>\n",
       "      <td>0</td>\n",
       "    </tr>\n",
       "    <tr>\n",
       "      <th>2541</th>\n",
       "      <td>0</td>\n",
       "      <td>0</td>\n",
       "      <td>0</td>\n",
       "      <td>0</td>\n",
       "      <td>0</td>\n",
       "      <td>0</td>\n",
       "      <td>0</td>\n",
       "      <td>0</td>\n",
       "      <td>0</td>\n",
       "      <td>0</td>\n",
       "      <td>...</td>\n",
       "      <td>0</td>\n",
       "      <td>0</td>\n",
       "      <td>0</td>\n",
       "      <td>0</td>\n",
       "      <td>0</td>\n",
       "      <td>0</td>\n",
       "      <td>0</td>\n",
       "      <td>0</td>\n",
       "      <td>0</td>\n",
       "      <td>0</td>\n",
       "    </tr>\n",
       "    <tr>\n",
       "      <th>2542</th>\n",
       "      <td>0</td>\n",
       "      <td>0</td>\n",
       "      <td>0</td>\n",
       "      <td>0</td>\n",
       "      <td>0</td>\n",
       "      <td>0</td>\n",
       "      <td>0</td>\n",
       "      <td>0</td>\n",
       "      <td>0</td>\n",
       "      <td>0</td>\n",
       "      <td>...</td>\n",
       "      <td>0</td>\n",
       "      <td>0</td>\n",
       "      <td>0</td>\n",
       "      <td>0</td>\n",
       "      <td>0</td>\n",
       "      <td>1</td>\n",
       "      <td>0</td>\n",
       "      <td>0</td>\n",
       "      <td>0</td>\n",
       "      <td>0</td>\n",
       "    </tr>\n",
       "    <tr>\n",
       "      <th>2543</th>\n",
       "      <td>0</td>\n",
       "      <td>0</td>\n",
       "      <td>0</td>\n",
       "      <td>0</td>\n",
       "      <td>0</td>\n",
       "      <td>1</td>\n",
       "      <td>0</td>\n",
       "      <td>0</td>\n",
       "      <td>0</td>\n",
       "      <td>0</td>\n",
       "      <td>...</td>\n",
       "      <td>0</td>\n",
       "      <td>0</td>\n",
       "      <td>0</td>\n",
       "      <td>0</td>\n",
       "      <td>0</td>\n",
       "      <td>0</td>\n",
       "      <td>0</td>\n",
       "      <td>0</td>\n",
       "      <td>0</td>\n",
       "      <td>0</td>\n",
       "    </tr>\n",
       "  </tbody>\n",
       "</table>\n",
       "<p>2544 rows × 196 columns</p>\n",
       "</div>"
      ],
      "text/plain": [
       "Sintoma  0    1    2    3    4    5    6    7    8    9    ...  186  187  188  \\\n",
       "0          0    0    0    0    0    0    0    0    0    0  ...    0    0    0   \n",
       "1          0    0    0    0    0    0    0    0    0    0  ...    0    0    0   \n",
       "2          0    0    0    0    0    0    0    0    0    0  ...    0    0    0   \n",
       "3          0    0    0    0    0    0    0    0    0    0  ...    0    0    0   \n",
       "4          0    0    1    0    0    0    0    1    0    0  ...    0    0    0   \n",
       "...      ...  ...  ...  ...  ...  ...  ...  ...  ...  ...  ...  ...  ...  ...   \n",
       "2539       0    0    0    0    0    0    0    0    0    0  ...    0    0    0   \n",
       "2540       0    0    0    0    0    0    0    0    0    0  ...    0    0    0   \n",
       "2541       0    0    0    0    0    0    0    0    0    0  ...    0    0    0   \n",
       "2542       0    0    0    0    0    0    0    0    0    0  ...    0    0    0   \n",
       "2543       0    0    0    0    0    1    0    0    0    0  ...    0    0    0   \n",
       "\n",
       "Sintoma  189  190  191  192  193  194  195  \n",
       "0          0    0    0    0    0    0    0  \n",
       "1          0    0    0    0    0    0    0  \n",
       "2          0    0    0    0    0    0    0  \n",
       "3          0    0    0    0    0    0    0  \n",
       "4          0    0    0    0    0    0    0  \n",
       "...      ...  ...  ...  ...  ...  ...  ...  \n",
       "2539       0    0    0    0    0    0    0  \n",
       "2540       0    0    0    0    0    0    0  \n",
       "2541       0    0    0    0    0    0    0  \n",
       "2542       0    0    1    0    0    0    0  \n",
       "2543       0    0    0    0    0    0    0  \n",
       "\n",
       "[2544 rows x 196 columns]"
      ]
     },
     "execution_count": 273,
     "metadata": {},
     "output_type": "execute_result"
    }
   ],
   "source": [
    "df_train_generated\n"
   ]
  },
  {
   "cell_type": "code",
   "execution_count": 274,
   "id": "05b6c310",
   "metadata": {},
   "outputs": [],
   "source": [
    "df_matrix=df_train_generated.transpose()"
   ]
  },
  {
   "cell_type": "code",
   "execution_count": 275,
   "id": "3c1c20b9",
   "metadata": {},
   "outputs": [
    {
     "data": {
      "text/html": [
       "<div>\n",
       "<style scoped>\n",
       "    .dataframe tbody tr th:only-of-type {\n",
       "        vertical-align: middle;\n",
       "    }\n",
       "\n",
       "    .dataframe tbody tr th {\n",
       "        vertical-align: top;\n",
       "    }\n",
       "\n",
       "    .dataframe thead th {\n",
       "        text-align: right;\n",
       "    }\n",
       "</style>\n",
       "<table border=\"1\" class=\"dataframe\">\n",
       "  <thead>\n",
       "    <tr style=\"text-align: right;\">\n",
       "      <th></th>\n",
       "      <th>0</th>\n",
       "      <th>1</th>\n",
       "      <th>2</th>\n",
       "      <th>3</th>\n",
       "      <th>4</th>\n",
       "      <th>5</th>\n",
       "      <th>6</th>\n",
       "      <th>7</th>\n",
       "      <th>8</th>\n",
       "      <th>9</th>\n",
       "      <th>...</th>\n",
       "      <th>2534</th>\n",
       "      <th>2535</th>\n",
       "      <th>2536</th>\n",
       "      <th>2537</th>\n",
       "      <th>2538</th>\n",
       "      <th>2539</th>\n",
       "      <th>2540</th>\n",
       "      <th>2541</th>\n",
       "      <th>2542</th>\n",
       "      <th>2543</th>\n",
       "    </tr>\n",
       "    <tr>\n",
       "      <th>Sintoma</th>\n",
       "      <th></th>\n",
       "      <th></th>\n",
       "      <th></th>\n",
       "      <th></th>\n",
       "      <th></th>\n",
       "      <th></th>\n",
       "      <th></th>\n",
       "      <th></th>\n",
       "      <th></th>\n",
       "      <th></th>\n",
       "      <th></th>\n",
       "      <th></th>\n",
       "      <th></th>\n",
       "      <th></th>\n",
       "      <th></th>\n",
       "      <th></th>\n",
       "      <th></th>\n",
       "      <th></th>\n",
       "      <th></th>\n",
       "      <th></th>\n",
       "      <th></th>\n",
       "    </tr>\n",
       "  </thead>\n",
       "  <tbody>\n",
       "    <tr>\n",
       "      <th>0</th>\n",
       "      <td>0</td>\n",
       "      <td>0</td>\n",
       "      <td>0</td>\n",
       "      <td>0</td>\n",
       "      <td>0</td>\n",
       "      <td>0</td>\n",
       "      <td>0</td>\n",
       "      <td>0</td>\n",
       "      <td>0</td>\n",
       "      <td>0</td>\n",
       "      <td>...</td>\n",
       "      <td>0</td>\n",
       "      <td>0</td>\n",
       "      <td>0</td>\n",
       "      <td>0</td>\n",
       "      <td>0</td>\n",
       "      <td>0</td>\n",
       "      <td>0</td>\n",
       "      <td>0</td>\n",
       "      <td>0</td>\n",
       "      <td>0</td>\n",
       "    </tr>\n",
       "    <tr>\n",
       "      <th>1</th>\n",
       "      <td>0</td>\n",
       "      <td>0</td>\n",
       "      <td>0</td>\n",
       "      <td>0</td>\n",
       "      <td>0</td>\n",
       "      <td>0</td>\n",
       "      <td>0</td>\n",
       "      <td>0</td>\n",
       "      <td>0</td>\n",
       "      <td>0</td>\n",
       "      <td>...</td>\n",
       "      <td>0</td>\n",
       "      <td>0</td>\n",
       "      <td>0</td>\n",
       "      <td>0</td>\n",
       "      <td>0</td>\n",
       "      <td>0</td>\n",
       "      <td>0</td>\n",
       "      <td>0</td>\n",
       "      <td>0</td>\n",
       "      <td>0</td>\n",
       "    </tr>\n",
       "    <tr>\n",
       "      <th>2</th>\n",
       "      <td>0</td>\n",
       "      <td>0</td>\n",
       "      <td>0</td>\n",
       "      <td>0</td>\n",
       "      <td>1</td>\n",
       "      <td>0</td>\n",
       "      <td>0</td>\n",
       "      <td>0</td>\n",
       "      <td>0</td>\n",
       "      <td>0</td>\n",
       "      <td>...</td>\n",
       "      <td>0</td>\n",
       "      <td>0</td>\n",
       "      <td>0</td>\n",
       "      <td>0</td>\n",
       "      <td>0</td>\n",
       "      <td>0</td>\n",
       "      <td>0</td>\n",
       "      <td>0</td>\n",
       "      <td>0</td>\n",
       "      <td>0</td>\n",
       "    </tr>\n",
       "    <tr>\n",
       "      <th>3</th>\n",
       "      <td>0</td>\n",
       "      <td>0</td>\n",
       "      <td>0</td>\n",
       "      <td>0</td>\n",
       "      <td>0</td>\n",
       "      <td>0</td>\n",
       "      <td>0</td>\n",
       "      <td>0</td>\n",
       "      <td>0</td>\n",
       "      <td>0</td>\n",
       "      <td>...</td>\n",
       "      <td>0</td>\n",
       "      <td>0</td>\n",
       "      <td>0</td>\n",
       "      <td>0</td>\n",
       "      <td>0</td>\n",
       "      <td>0</td>\n",
       "      <td>0</td>\n",
       "      <td>0</td>\n",
       "      <td>0</td>\n",
       "      <td>0</td>\n",
       "    </tr>\n",
       "    <tr>\n",
       "      <th>4</th>\n",
       "      <td>0</td>\n",
       "      <td>0</td>\n",
       "      <td>0</td>\n",
       "      <td>0</td>\n",
       "      <td>0</td>\n",
       "      <td>0</td>\n",
       "      <td>0</td>\n",
       "      <td>0</td>\n",
       "      <td>0</td>\n",
       "      <td>0</td>\n",
       "      <td>...</td>\n",
       "      <td>0</td>\n",
       "      <td>0</td>\n",
       "      <td>0</td>\n",
       "      <td>0</td>\n",
       "      <td>0</td>\n",
       "      <td>0</td>\n",
       "      <td>0</td>\n",
       "      <td>0</td>\n",
       "      <td>0</td>\n",
       "      <td>0</td>\n",
       "    </tr>\n",
       "    <tr>\n",
       "      <th>...</th>\n",
       "      <td>...</td>\n",
       "      <td>...</td>\n",
       "      <td>...</td>\n",
       "      <td>...</td>\n",
       "      <td>...</td>\n",
       "      <td>...</td>\n",
       "      <td>...</td>\n",
       "      <td>...</td>\n",
       "      <td>...</td>\n",
       "      <td>...</td>\n",
       "      <td>...</td>\n",
       "      <td>...</td>\n",
       "      <td>...</td>\n",
       "      <td>...</td>\n",
       "      <td>...</td>\n",
       "      <td>...</td>\n",
       "      <td>...</td>\n",
       "      <td>...</td>\n",
       "      <td>...</td>\n",
       "      <td>...</td>\n",
       "      <td>...</td>\n",
       "    </tr>\n",
       "    <tr>\n",
       "      <th>191</th>\n",
       "      <td>0</td>\n",
       "      <td>0</td>\n",
       "      <td>0</td>\n",
       "      <td>0</td>\n",
       "      <td>0</td>\n",
       "      <td>0</td>\n",
       "      <td>0</td>\n",
       "      <td>0</td>\n",
       "      <td>0</td>\n",
       "      <td>0</td>\n",
       "      <td>...</td>\n",
       "      <td>0</td>\n",
       "      <td>0</td>\n",
       "      <td>0</td>\n",
       "      <td>0</td>\n",
       "      <td>0</td>\n",
       "      <td>0</td>\n",
       "      <td>0</td>\n",
       "      <td>0</td>\n",
       "      <td>1</td>\n",
       "      <td>0</td>\n",
       "    </tr>\n",
       "    <tr>\n",
       "      <th>192</th>\n",
       "      <td>0</td>\n",
       "      <td>0</td>\n",
       "      <td>0</td>\n",
       "      <td>0</td>\n",
       "      <td>0</td>\n",
       "      <td>0</td>\n",
       "      <td>0</td>\n",
       "      <td>0</td>\n",
       "      <td>0</td>\n",
       "      <td>0</td>\n",
       "      <td>...</td>\n",
       "      <td>0</td>\n",
       "      <td>0</td>\n",
       "      <td>0</td>\n",
       "      <td>0</td>\n",
       "      <td>0</td>\n",
       "      <td>0</td>\n",
       "      <td>0</td>\n",
       "      <td>0</td>\n",
       "      <td>0</td>\n",
       "      <td>0</td>\n",
       "    </tr>\n",
       "    <tr>\n",
       "      <th>193</th>\n",
       "      <td>0</td>\n",
       "      <td>0</td>\n",
       "      <td>0</td>\n",
       "      <td>0</td>\n",
       "      <td>0</td>\n",
       "      <td>0</td>\n",
       "      <td>0</td>\n",
       "      <td>0</td>\n",
       "      <td>0</td>\n",
       "      <td>0</td>\n",
       "      <td>...</td>\n",
       "      <td>0</td>\n",
       "      <td>0</td>\n",
       "      <td>0</td>\n",
       "      <td>0</td>\n",
       "      <td>0</td>\n",
       "      <td>0</td>\n",
       "      <td>0</td>\n",
       "      <td>0</td>\n",
       "      <td>0</td>\n",
       "      <td>0</td>\n",
       "    </tr>\n",
       "    <tr>\n",
       "      <th>194</th>\n",
       "      <td>0</td>\n",
       "      <td>0</td>\n",
       "      <td>0</td>\n",
       "      <td>0</td>\n",
       "      <td>0</td>\n",
       "      <td>0</td>\n",
       "      <td>0</td>\n",
       "      <td>0</td>\n",
       "      <td>0</td>\n",
       "      <td>0</td>\n",
       "      <td>...</td>\n",
       "      <td>0</td>\n",
       "      <td>0</td>\n",
       "      <td>0</td>\n",
       "      <td>0</td>\n",
       "      <td>0</td>\n",
       "      <td>0</td>\n",
       "      <td>0</td>\n",
       "      <td>0</td>\n",
       "      <td>0</td>\n",
       "      <td>0</td>\n",
       "    </tr>\n",
       "    <tr>\n",
       "      <th>195</th>\n",
       "      <td>0</td>\n",
       "      <td>0</td>\n",
       "      <td>0</td>\n",
       "      <td>0</td>\n",
       "      <td>0</td>\n",
       "      <td>0</td>\n",
       "      <td>0</td>\n",
       "      <td>0</td>\n",
       "      <td>0</td>\n",
       "      <td>0</td>\n",
       "      <td>...</td>\n",
       "      <td>0</td>\n",
       "      <td>0</td>\n",
       "      <td>0</td>\n",
       "      <td>0</td>\n",
       "      <td>0</td>\n",
       "      <td>0</td>\n",
       "      <td>0</td>\n",
       "      <td>0</td>\n",
       "      <td>0</td>\n",
       "      <td>0</td>\n",
       "    </tr>\n",
       "  </tbody>\n",
       "</table>\n",
       "<p>196 rows × 2544 columns</p>\n",
       "</div>"
      ],
      "text/plain": [
       "         0     1     2     3     4     5     6     7     8     9     ...  \\\n",
       "Sintoma                                                              ...   \n",
       "0           0     0     0     0     0     0     0     0     0     0  ...   \n",
       "1           0     0     0     0     0     0     0     0     0     0  ...   \n",
       "2           0     0     0     0     1     0     0     0     0     0  ...   \n",
       "3           0     0     0     0     0     0     0     0     0     0  ...   \n",
       "4           0     0     0     0     0     0     0     0     0     0  ...   \n",
       "...       ...   ...   ...   ...   ...   ...   ...   ...   ...   ...  ...   \n",
       "191         0     0     0     0     0     0     0     0     0     0  ...   \n",
       "192         0     0     0     0     0     0     0     0     0     0  ...   \n",
       "193         0     0     0     0     0     0     0     0     0     0  ...   \n",
       "194         0     0     0     0     0     0     0     0     0     0  ...   \n",
       "195         0     0     0     0     0     0     0     0     0     0  ...   \n",
       "\n",
       "         2534  2535  2536  2537  2538  2539  2540  2541  2542  2543  \n",
       "Sintoma                                                              \n",
       "0           0     0     0     0     0     0     0     0     0     0  \n",
       "1           0     0     0     0     0     0     0     0     0     0  \n",
       "2           0     0     0     0     0     0     0     0     0     0  \n",
       "3           0     0     0     0     0     0     0     0     0     0  \n",
       "4           0     0     0     0     0     0     0     0     0     0  \n",
       "...       ...   ...   ...   ...   ...   ...   ...   ...   ...   ...  \n",
       "191         0     0     0     0     0     0     0     0     1     0  \n",
       "192         0     0     0     0     0     0     0     0     0     0  \n",
       "193         0     0     0     0     0     0     0     0     0     0  \n",
       "194         0     0     0     0     0     0     0     0     0     0  \n",
       "195         0     0     0     0     0     0     0     0     0     0  \n",
       "\n",
       "[196 rows x 2544 columns]"
      ]
     },
     "execution_count": 275,
     "metadata": {},
     "output_type": "execute_result"
    }
   ],
   "source": [
    "df_matrix"
   ]
  },
  {
   "cell_type": "code",
   "execution_count": 276,
   "id": "5ebb4410",
   "metadata": {},
   "outputs": [
    {
     "name": "stdout",
     "output_type": "stream",
     "text": [
      "Sparsity: 1.16%\n"
     ]
    }
   ],
   "source": [
    "ratings = df_matrix.values\n",
    "sparsity = float(len(ratings.nonzero()[0]))\n",
    "sparsity /= (ratings.shape[0] * ratings.shape[1])\n",
    "sparsity *= 100\n",
    "print('Sparsity: {:4.2f}%'.format(sparsity))"
   ]
  },
  {
   "cell_type": "code",
   "execution_count": null,
   "id": "184b4552",
   "metadata": {},
   "outputs": [],
   "source": []
  },
  {
   "cell_type": "code",
   "execution_count": 277,
   "id": "e05ffce8",
   "metadata": {},
   "outputs": [],
   "source": [
    "ratings_train, ratings_test = train_test_split(ratings, test_size = 0.2, shuffle=False, random_state=42)\n"
   ]
  },
  {
   "cell_type": "code",
   "execution_count": 278,
   "id": "776bc971",
   "metadata": {},
   "outputs": [
    {
     "data": {
      "text/plain": [
       "((156, 2544), (40, 2544))"
      ]
     },
     "execution_count": 278,
     "metadata": {},
     "output_type": "execute_result"
    }
   ],
   "source": [
    "ratings_train.shape, ratings_test.shape\n"
   ]
  },
  {
   "cell_type": "code",
   "execution_count": 279,
   "id": "c1077675",
   "metadata": {},
   "outputs": [
    {
     "data": {
      "text/plain": [
       "NearestNeighbors(metric='cosine', n_neighbors=20)"
      ]
     },
     "execution_count": 279,
     "metadata": {},
     "output_type": "execute_result"
    }
   ],
   "source": [
    "\n",
    "n_enfermedades = ratings_train.shape[1]\n",
    "n_enfermedades\n",
    "neighbors = NearestNeighbors(n_neighbors=20,\n",
    "                         metric='cosine')\n",
    "neighbors.fit(ratings_train)"
   ]
  },
  {
   "cell_type": "code",
   "execution_count": 280,
   "id": "30bf9e31",
   "metadata": {},
   "outputs": [
    {
     "data": {
      "text/plain": [
       "(156, 20)"
      ]
     },
     "execution_count": 280,
     "metadata": {},
     "output_type": "execute_result"
    }
   ],
   "source": [
    "top_k_distances, top_k_users = neighbors.kneighbors(ratings_train, return_distance=True)\n",
    "top_k_distances.shape"
   ]
  },
  {
   "cell_type": "code",
   "execution_count": 336,
   "id": "4921bddc",
   "metadata": {},
   "outputs": [
    {
     "data": {
      "text/html": [
       "<div>\n",
       "<style scoped>\n",
       "    .dataframe tbody tr th:only-of-type {\n",
       "        vertical-align: middle;\n",
       "    }\n",
       "\n",
       "    .dataframe tbody tr th {\n",
       "        vertical-align: top;\n",
       "    }\n",
       "\n",
       "    .dataframe thead th {\n",
       "        text-align: right;\n",
       "    }\n",
       "</style>\n",
       "<table border=\"1\" class=\"dataframe\">\n",
       "  <thead>\n",
       "    <tr style=\"text-align: right;\">\n",
       "      <th></th>\n",
       "      <th>Sintoma</th>\n",
       "    </tr>\n",
       "  </thead>\n",
       "  <tbody>\n",
       "    <tr>\n",
       "      <th>34</th>\n",
       "      <td>Cerebral cortical atrophy</td>\n",
       "    </tr>\n",
       "  </tbody>\n",
       "</table>\n",
       "</div>"
      ],
      "text/plain": [
       "                      Sintoma\n",
       "34  Cerebral cortical atrophy"
      ]
     },
     "execution_count": 336,
     "metadata": {},
     "output_type": "execute_result"
    }
   ],
   "source": [
    "#USUARIO_EJEMPLO = 'jbagnato' # debe existir en nuestro dataset de train!\n",
    "#data = df_users[df_users['username'] == USUARIO_EJEMPLO]\n",
    "SINTOMA_EJEMPLO = 'Cerebral cortical atrophy' # debe existir en nuestro dataset de train!\n",
    "data = df_Sintomas[df_Sintomas['Sintoma'] == SINTOMA_EJEMPLO]\n",
    "data"
   ]
  },
  {
   "cell_type": "code",
   "execution_count": 337,
   "id": "96990142",
   "metadata": {},
   "outputs": [
    {
     "data": {
      "text/plain": [
       "34"
      ]
     },
     "execution_count": 337,
     "metadata": {},
     "output_type": "execute_result"
    }
   ],
   "source": [
    "#sintoma_ver = (data.iloc[0]['Sintoma']) -1 # resta 1 para obtener el index de pandas\n",
    "sintoma_ver= data.index\n",
    "sintoma_ver=sintoma_ver.values[0]\n",
    "sintoma_ver"
   ]
  },
  {
   "cell_type": "code",
   "execution_count": null,
   "id": "6b93b618",
   "metadata": {},
   "outputs": [],
   "source": []
  },
  {
   "cell_type": "code",
   "execution_count": 313,
   "id": "def1ba60",
   "metadata": {},
   "outputs": [
    {
     "data": {
      "text/plain": [
       "array([0.        , 0.75381702, 0.88603942, 0.9163758 , 0.9163758 ,\n",
       "       0.93571757, 0.94669982, 0.95454545, 1.        , 1.        ,\n",
       "       1.        , 1.        , 1.        , 1.        , 1.        ,\n",
       "       1.        , 1.        , 1.        , 1.        , 1.        ])"
      ]
     },
     "execution_count": 313,
     "metadata": {},
     "output_type": "execute_result"
    }
   ],
   "source": [
    "top_k_distances[sintoma_ver]"
   ]
  },
  {
   "cell_type": "code",
   "execution_count": 314,
   "id": "b6b4abd8",
   "metadata": {},
   "outputs": [
    {
     "data": {
      "text/plain": [
       "(156, 20)"
      ]
     },
     "execution_count": 314,
     "metadata": {},
     "output_type": "execute_result"
    }
   ],
   "source": [
    "top_k_users.shape"
   ]
  },
  {
   "cell_type": "code",
   "execution_count": 315,
   "id": "40ecd50a",
   "metadata": {},
   "outputs": [
    {
     "data": {
      "text/plain": [
       "array([ 44,  35, 114,  16,  61, 132,  12,  72, 107, 115, 111, 113, 101,\n",
       "       106, 112, 104, 103, 102, 105, 110])"
      ]
     },
     "execution_count": 315,
     "metadata": {},
     "output_type": "execute_result"
    }
   ],
   "source": [
    "res = top_k_users[sintoma_ver]\n",
    "res"
   ]
  },
  {
   "cell_type": "code",
   "execution_count": 316,
   "id": "4a144bdc",
   "metadata": {},
   "outputs": [
    {
     "name": "stdout",
     "output_type": "stream",
     "text": [
      "    index                 Enfermedad\n",
      "44     44  Adenocarcinoma de esófago\n",
      "    index                   Enfermedad\n",
      "35     35  Acrodermatitis enteropática\n",
      "     index                                         Enfermedad\n",
      "114    114  Aplasia de los músculos extensores de los dedo...\n",
      "    index                                         Enfermedad\n",
      "16     16  Acidemia metilmalónica sensible a la vitamina B12\n",
      "    index                                       Enfermedad\n",
      "61     61  Albinismo ocular recesivo ligado al cromosoma X\n",
      "     index    Enfermedad\n",
      "132    132  Aspergilosis\n",
      "    index                                         Enfermedad\n",
      "12     12  Acidemia metilmalónica con homocistinuria tipo...\n",
      "    index                               Enfermedad\n",
      "72     72  Alfa-talasemia-síndrome mielodisplásico\n",
      "     index                                         Enfermedad\n",
      "107    107  Anomalía de los tendones extensores de los ded...\n",
      "     index                              Enfermedad\n",
      "115    115  Aplasia mulleriana e hiperandrogenismo\n",
      "     index                                         Enfermedad\n",
      "111    111  Anomalía del desarrollo sexual 46,XY por defic...\n",
      "     index                                  Enfermedad\n",
      "113    113  Anomalía en la síntesis de ácidos biliares\n",
      "     index               Enfermedad\n",
      "101    101  Anendocrinosis entérica\n",
      "     index            Enfermedad\n",
      "106    106  Anomalía de Sprengel\n",
      "     index                                         Enfermedad\n",
      "112    112  Anomalía del desarrollo sexual 46,XY-insuficie...\n",
      "     index        Enfermedad\n",
      "104    104  Aniridia aislada\n",
      "     index         Enfermedad\n",
      "103    103  Angiostrongilosis\n",
      "     index                     Enfermedad\n",
      "102    102  Angioedema hereditario tipo 1\n",
      "     index                                         Enfermedad\n",
      "105    105  Anomalía congénita del retorno venoso pulmonar...\n",
      "     index                                         Enfermedad\n",
      "110    110  Anomalía del desarrollo sexual 46,XY por defic...\n"
     ]
    }
   ],
   "source": [
    "for a_index in res:\n",
    "    print(df_Enfermedades[df_Enfermedades['index'] == (a_index)])"
   ]
  },
  {
   "cell_type": "code",
   "execution_count": 306,
   "id": "b55060d7",
   "metadata": {},
   "outputs": [
    {
     "data": {
      "text/html": [
       "<div>\n",
       "<style scoped>\n",
       "    .dataframe tbody tr th:only-of-type {\n",
       "        vertical-align: middle;\n",
       "    }\n",
       "\n",
       "    .dataframe tbody tr th {\n",
       "        vertical-align: top;\n",
       "    }\n",
       "\n",
       "    .dataframe thead th {\n",
       "        text-align: right;\n",
       "    }\n",
       "</style>\n",
       "<table border=\"1\" class=\"dataframe\">\n",
       "  <thead>\n",
       "    <tr style=\"text-align: right;\">\n",
       "      <th></th>\n",
       "      <th>Enfermedad</th>\n",
       "      <th>Sintoma</th>\n",
       "      <th>Frecuencia</th>\n",
       "    </tr>\n",
       "  </thead>\n",
       "  <tbody>\n",
       "    <tr>\n",
       "      <th>25199</th>\n",
       "      <td>Síndrome de Smith-Lemli-Opitz</td>\n",
       "      <td>Microcephaly</td>\n",
       "      <td>Muy frecuente (99-80%)</td>\n",
       "    </tr>\n",
       "    <tr>\n",
       "      <th>25203</th>\n",
       "      <td>Síndrome de Smith-Lemli-Opitz</td>\n",
       "      <td>Micrognathia</td>\n",
       "      <td>Muy frecuente (99-80%)</td>\n",
       "    </tr>\n",
       "    <tr>\n",
       "      <th>25206</th>\n",
       "      <td>Síndrome de Smith-Lemli-Opitz</td>\n",
       "      <td>Wide nasal bridge</td>\n",
       "      <td>Muy frecuente (99-80%)</td>\n",
       "    </tr>\n",
       "    <tr>\n",
       "      <th>25208</th>\n",
       "      <td>Síndrome de Smith-Lemli-Opitz</td>\n",
       "      <td>Anteverted nares</td>\n",
       "      <td>Muy frecuente (99-80%)</td>\n",
       "    </tr>\n",
       "    <tr>\n",
       "      <th>25233</th>\n",
       "      <td>Síndrome de Smith-Lemli-Opitz</td>\n",
       "      <td>Intellectual disability</td>\n",
       "      <td>Muy frecuente (99-80%)</td>\n",
       "    </tr>\n",
       "    <tr>\n",
       "      <th>25235</th>\n",
       "      <td>Síndrome de Smith-Lemli-Opitz</td>\n",
       "      <td>Hypotonia</td>\n",
       "      <td>Muy frecuente (99-80%)</td>\n",
       "    </tr>\n",
       "    <tr>\n",
       "      <th>25237</th>\n",
       "      <td>Síndrome de Smith-Lemli-Opitz</td>\n",
       "      <td>Global developmental delay</td>\n",
       "      <td>Muy frecuente (99-80%)</td>\n",
       "    </tr>\n",
       "    <tr>\n",
       "      <th>25240</th>\n",
       "      <td>Síndrome de Smith-Lemli-Opitz</td>\n",
       "      <td>Growth delay</td>\n",
       "      <td>Muy frecuente (99-80%)</td>\n",
       "    </tr>\n",
       "    <tr>\n",
       "      <th>25250</th>\n",
       "      <td>Síndrome de Smith-Lemli-Opitz</td>\n",
       "      <td>Gastroesophageal reflux</td>\n",
       "      <td>Muy frecuente (99-80%)</td>\n",
       "    </tr>\n",
       "    <tr>\n",
       "      <th>25265</th>\n",
       "      <td>Síndrome de Smith-Lemli-Opitz</td>\n",
       "      <td>Short stature</td>\n",
       "      <td>Muy frecuente (99-80%)</td>\n",
       "    </tr>\n",
       "    <tr>\n",
       "      <th>25283</th>\n",
       "      <td>Síndrome de Smith-Lemli-Opitz</td>\n",
       "      <td>Feeding difficulties in infancy</td>\n",
       "      <td>Muy frecuente (99-80%)</td>\n",
       "    </tr>\n",
       "  </tbody>\n",
       "</table>\n",
       "</div>"
      ],
      "text/plain": [
       "                          Enfermedad                          Sintoma  \\\n",
       "25199  Síndrome de Smith-Lemli-Opitz                     Microcephaly   \n",
       "25203  Síndrome de Smith-Lemli-Opitz                     Micrognathia   \n",
       "25206  Síndrome de Smith-Lemli-Opitz                Wide nasal bridge   \n",
       "25208  Síndrome de Smith-Lemli-Opitz                 Anteverted nares   \n",
       "25233  Síndrome de Smith-Lemli-Opitz          Intellectual disability   \n",
       "25235  Síndrome de Smith-Lemli-Opitz                        Hypotonia   \n",
       "25237  Síndrome de Smith-Lemli-Opitz       Global developmental delay   \n",
       "25240  Síndrome de Smith-Lemli-Opitz                     Growth delay   \n",
       "25250  Síndrome de Smith-Lemli-Opitz          Gastroesophageal reflux   \n",
       "25265  Síndrome de Smith-Lemli-Opitz                    Short stature   \n",
       "25283  Síndrome de Smith-Lemli-Opitz  Feeding difficulties in infancy   \n",
       "\n",
       "                   Frecuencia  \n",
       "25199  Muy frecuente (99-80%)  \n",
       "25203  Muy frecuente (99-80%)  \n",
       "25206  Muy frecuente (99-80%)  \n",
       "25208  Muy frecuente (99-80%)  \n",
       "25233  Muy frecuente (99-80%)  \n",
       "25235  Muy frecuente (99-80%)  \n",
       "25237  Muy frecuente (99-80%)  \n",
       "25240  Muy frecuente (99-80%)  \n",
       "25250  Muy frecuente (99-80%)  \n",
       "25265  Muy frecuente (99-80%)  \n",
       "25283  Muy frecuente (99-80%)  "
      ]
     },
     "execution_count": 306,
     "metadata": {},
     "output_type": "execute_result"
    }
   ],
   "source": [
    "df_EnfeySinto_select[df_EnfeySinto_select[\"Enfermedad\"]==\"Síndrome de Smith-Lemli-Opitz\"] "
   ]
  },
  {
   "cell_type": "code",
   "execution_count": 288,
   "id": "e1d3a57e",
   "metadata": {},
   "outputs": [],
   "source": [
    "users_predicts_k = np.zeros(ratings_train.shape)\n",
    "for i in range(ratings_train.shape[0]):# para cada usuario del conjunto de entrenamiento\n",
    "    users_predicts_k[i,:] = top_k_distances[i].T.dot(ratings_train[top_k_users][i]) \n",
    "    / np.array([np.abs(top_k_distances[i].T).sum(axis=0)]).T"
   ]
  },
  {
   "cell_type": "code",
   "execution_count": 289,
   "id": "647b8601",
   "metadata": {},
   "outputs": [
    {
     "data": {
      "text/plain": [
       "(156, 2544)"
      ]
     },
     "execution_count": 289,
     "metadata": {},
     "output_type": "execute_result"
    }
   ],
   "source": [
    "users_predicts_k.shape"
   ]
  },
  {
   "cell_type": "code",
   "execution_count": 290,
   "id": "3d419926",
   "metadata": {},
   "outputs": [
    {
     "name": "stdout",
     "output_type": "stream",
     "text": [
      "690    Enfermedad de músculo-ojo-cerebro\n",
      "Name: Enfermedad, dtype: object puntaje: 4.671593208209703\n",
      "1681    Síndrome de Smith-Lemli-Opitz\n",
      "Name: Enfermedad, dtype: object puntaje: 4.677999332705303\n",
      "1628    Síndrome de Pitt Hopkins\n",
      "Name: Enfermedad, dtype: object puntaje: 4.695818633509006\n",
      "2024    Síndrome de glabela prominente-microcefalia-hi...\n",
      "Name: Enfermedad, dtype: object puntaje: 4.697410425050461\n"
     ]
    }
   ],
   "source": [
    "\n",
    "user0=users_predicts_k.argsort()[sintoma_ver][-4:]\n",
    "# los tres con mayor puntaje en la predic para este usuario\n",
    "# agrego 4 puesto que uno es mi propio repositorio\n",
    "for aRepo in user0:\n",
    "    selRepo = df_Enfermedades[df_Enfermedades['index'] == (aRepo)]\n",
    "    print(selRepo['Enfermedad'], 'puntaje:', users_predicts_k[sintoma_ver][aRepo])"
   ]
  },
  {
   "cell_type": "code",
   "execution_count": 322,
   "id": "f90c49c4",
   "metadata": {},
   "outputs": [
    {
     "data": {
      "text/html": [
       "<div>\n",
       "<style scoped>\n",
       "    .dataframe tbody tr th:only-of-type {\n",
       "        vertical-align: middle;\n",
       "    }\n",
       "\n",
       "    .dataframe tbody tr th {\n",
       "        vertical-align: top;\n",
       "    }\n",
       "\n",
       "    .dataframe thead th {\n",
       "        text-align: right;\n",
       "    }\n",
       "</style>\n",
       "<table border=\"1\" class=\"dataframe\">\n",
       "  <thead>\n",
       "    <tr style=\"text-align: right;\">\n",
       "      <th></th>\n",
       "      <th>Enfermedad</th>\n",
       "      <th>Sintoma</th>\n",
       "      <th>Frecuencia</th>\n",
       "    </tr>\n",
       "  </thead>\n",
       "  <tbody>\n",
       "    <tr>\n",
       "      <th>8282</th>\n",
       "      <td>Enfermedad por anticuerpos anti-membrana basal...</td>\n",
       "      <td>Proteinuria</td>\n",
       "      <td>Muy frecuente (99-80%)</td>\n",
       "    </tr>\n",
       "    <tr>\n",
       "      <th>8287</th>\n",
       "      <td>Enfermedad por anticuerpos anti-membrana basal...</td>\n",
       "      <td>Anemia</td>\n",
       "      <td>Muy frecuente (99-80%)</td>\n",
       "    </tr>\n",
       "    <tr>\n",
       "      <th>8289</th>\n",
       "      <td>Enfermedad por anticuerpos anti-membrana basal...</td>\n",
       "      <td>Respiratory insufficiency</td>\n",
       "      <td>Muy frecuente (99-80%)</td>\n",
       "    </tr>\n",
       "    <tr>\n",
       "      <th>8294</th>\n",
       "      <td>Enfermedad por anticuerpos anti-membrana basal...</td>\n",
       "      <td>Autoimmunity</td>\n",
       "      <td>Muy frecuente (99-80%)</td>\n",
       "    </tr>\n",
       "    <tr>\n",
       "      <th>8297</th>\n",
       "      <td>Enfermedad por anticuerpos anti-membrana basal...</td>\n",
       "      <td>Cough</td>\n",
       "      <td>Muy frecuente (99-80%)</td>\n",
       "    </tr>\n",
       "    <tr>\n",
       "      <th>8298</th>\n",
       "      <td>Enfermedad por anticuerpos anti-membrana basal...</td>\n",
       "      <td>Chest pain</td>\n",
       "      <td>Muy frecuente (99-80%)</td>\n",
       "    </tr>\n",
       "  </tbody>\n",
       "</table>\n",
       "</div>"
      ],
      "text/plain": [
       "                                             Enfermedad  \\\n",
       "8282  Enfermedad por anticuerpos anti-membrana basal...   \n",
       "8287  Enfermedad por anticuerpos anti-membrana basal...   \n",
       "8289  Enfermedad por anticuerpos anti-membrana basal...   \n",
       "8294  Enfermedad por anticuerpos anti-membrana basal...   \n",
       "8297  Enfermedad por anticuerpos anti-membrana basal...   \n",
       "8298  Enfermedad por anticuerpos anti-membrana basal...   \n",
       "\n",
       "                        Sintoma              Frecuencia  \n",
       "8282                Proteinuria  Muy frecuente (99-80%)  \n",
       "8287                     Anemia  Muy frecuente (99-80%)  \n",
       "8289  Respiratory insufficiency  Muy frecuente (99-80%)  \n",
       "8294               Autoimmunity  Muy frecuente (99-80%)  \n",
       "8297                      Cough  Muy frecuente (99-80%)  \n",
       "8298                 Chest pain  Muy frecuente (99-80%)  "
      ]
     },
     "execution_count": 322,
     "metadata": {},
     "output_type": "execute_result"
    }
   ],
   "source": [
    "df_EnfeySinto_select[df_EnfeySinto_select[\"Enfermedad\"]==\"Enfermedad por anticuerpos anti-membrana basal glomerular\"] "
   ]
  },
  {
   "cell_type": "code",
   "execution_count": 292,
   "id": "899c968c",
   "metadata": {},
   "outputs": [
    {
     "data": {
      "text/plain": [
       "2.102976008577129"
      ]
     },
     "execution_count": 292,
     "metadata": {},
     "output_type": "execute_result"
    }
   ],
   "source": [
    "get_mse(users_predicts_k, ratings_train)\n"
   ]
  },
  {
   "cell_type": "code",
   "execution_count": 293,
   "id": "730fbf6b",
   "metadata": {},
   "outputs": [
    {
     "data": {
      "text/plain": [
       "0.9126472455184712"
      ]
     },
     "execution_count": 293,
     "metadata": {},
     "output_type": "execute_result"
    }
   ],
   "source": [
    "get_mse(users_predicts_k, ratings_test)\n"
   ]
  },
  {
   "cell_type": "code",
   "execution_count": 294,
   "id": "219e8e6f",
   "metadata": {},
   "outputs": [],
   "source": [
    "#probamos con el otro\n"
   ]
  },
  {
   "cell_type": "code",
   "execution_count": 347,
   "id": "6859d347",
   "metadata": {},
   "outputs": [
    {
     "data": {
      "text/html": [
       "<div>\n",
       "<style scoped>\n",
       "    .dataframe tbody tr th:only-of-type {\n",
       "        vertical-align: middle;\n",
       "    }\n",
       "\n",
       "    .dataframe tbody tr th {\n",
       "        vertical-align: top;\n",
       "    }\n",
       "\n",
       "    .dataframe thead th {\n",
       "        text-align: right;\n",
       "    }\n",
       "</style>\n",
       "<table border=\"1\" class=\"dataframe\">\n",
       "  <thead>\n",
       "    <tr style=\"text-align: right;\">\n",
       "      <th></th>\n",
       "      <th>Sintoma</th>\n",
       "    </tr>\n",
       "  </thead>\n",
       "  <tbody>\n",
       "    <tr>\n",
       "      <th>34</th>\n",
       "      <td>Cerebral cortical atrophy</td>\n",
       "    </tr>\n",
       "  </tbody>\n",
       "</table>\n",
       "</div>"
      ],
      "text/plain": [
       "                      Sintoma\n",
       "34  Cerebral cortical atrophy"
      ]
     },
     "execution_count": 347,
     "metadata": {},
     "output_type": "execute_result"
    }
   ],
   "source": [
    "#USUARIO_EJEMPLO = 'jbagnato' # debe existir en nuestro dataset de train!\n",
    "#data = df_users[df_users['username'] == USUARIO_EJEMPLO]\n",
    "SINTOMA_EJEMPLO = 'Cerebral cortical atrophy' # debe existir en nuestro dataset de train!\n",
    "data = df_Sintomas[df_Sintomas['Sintoma'] == SINTOMA_EJEMPLO]\n",
    "data"
   ]
  },
  {
   "cell_type": "code",
   "execution_count": 348,
   "id": "570ebd15",
   "metadata": {},
   "outputs": [
    {
     "data": {
      "text/plain": [
       "34"
      ]
     },
     "execution_count": 348,
     "metadata": {},
     "output_type": "execute_result"
    }
   ],
   "source": [
    "#sintoma_ver = (data.iloc[0]['Sintoma']) -1 # resta 1 para obtener el index de pandas\n",
    "sintoma_ver= data.index\n",
    "sintoma_ver=sintoma_ver.values[0]\n",
    "sintoma_ver"
   ]
  },
  {
   "cell_type": "code",
   "execution_count": 349,
   "id": "e4eac4ee",
   "metadata": {},
   "outputs": [],
   "source": [
    "\n",
    "sim_matrix = 1 - sklearn.metrics.pairwise.cosine_distances(ratings)"
   ]
  },
  {
   "cell_type": "code",
   "execution_count": 350,
   "id": "367fa73c",
   "metadata": {},
   "outputs": [
    {
     "name": "stdout",
     "output_type": "stream",
     "text": [
      "(156, 156)\n",
      "(40, 40)\n"
     ]
    }
   ],
   "source": [
    "#separar las filas y columnas de train y test\n",
    "sim_matrix_train = sim_matrix[0:156,0:156]\n",
    "sim_matrix_test = sim_matrix[156:196,156:196]\n",
    "print(sim_matrix_train.shape)\n",
    "print(sim_matrix_test.shape)"
   ]
  },
  {
   "cell_type": "code",
   "execution_count": 351,
   "id": "35da9a2e",
   "metadata": {},
   "outputs": [],
   "source": [
    "users_predictions = sim_matrix_train.dot(ratings_train) / np.array([np.abs(sim_matrix_train).sum(axis=1)]).T"
   ]
  },
  {
   "cell_type": "code",
   "execution_count": 356,
   "id": "d1690d2d",
   "metadata": {},
   "outputs": [
    {
     "data": {
      "text/plain": [
       "array([1809, 2058, 1252,  419,   26, 2479, 1382, 1883, 2321, 2359])"
      ]
     },
     "execution_count": 356,
     "metadata": {},
     "output_type": "execute_result"
    }
   ],
   "source": [
    "user0=users_predictions.argsort()[sintoma_ver][-10:]\n",
    "user0"
   ]
  },
  {
   "cell_type": "code",
   "execution_count": 359,
   "id": "d3c7caad",
   "metadata": {},
   "outputs": [
    {
     "name": "stdout",
     "output_type": "stream",
     "text": [
      "1809\n",
      "1809 34\n",
      "Enfermedad: 1809    Síndrome de atrofia cerebral difusa progresiva...\n",
      "Name: Enfermedad, dtype: object scoring: 0.34546206122645734\n",
      "2058\n",
      "2058 34\n",
      "Enfermedad: 2058    Síndrome de hipoplasia de la sustancia blanca-...\n",
      "Name: Enfermedad, dtype: object scoring: 0.3458441298083368\n",
      "1252\n",
      "1252 34\n",
      "Enfermedad: 1252    Secuencia disruptiva del cerebro fetal esporádica\n",
      "Name: Enfermedad, dtype: object scoring: 0.35506609095917097\n",
      "419\n",
      "419 34\n",
      "Enfermedad: 419    Disostosis acro-fronto-facio-nasal\n",
      "Name: Enfermedad, dtype: object scoring: 0.36936764139283806\n",
      "26\n",
      "26 34\n",
      "Enfermedad: 26    Aciduria mevalónica\n",
      "Name: Enfermedad, dtype: object scoring: 0.37508634767430865\n",
      "2479\n",
      "2479 34\n",
      "Enfermedad: 2479    Transposición penoescrotal\n",
      "Name: Enfermedad, dtype: object scoring: 0.38906081766107053\n",
      "1382\n",
      "1382 34\n",
      "Enfermedad: 1382    Síndrome de Angelman\n",
      "Name: Enfermedad, dtype: object scoring: 0.4048073926266029\n",
      "1883\n",
      "1883 34\n",
      "Enfermedad: 1883    Síndrome de deleción 1p36\n",
      "Name: Enfermedad, dtype: object scoring: 0.4123278679555339\n",
      "2321\n",
      "2321 34\n",
      "Enfermedad: 2321    Síndrome de sordera-anomalías genitales-sinost...\n",
      "Name: Enfermedad, dtype: object scoring: 0.46205967126158953\n",
      "2359\n",
      "2359 34\n",
      "Enfermedad: 2359    Síndrome del cromosoma 7 en anillo\n",
      "Name: Enfermedad, dtype: object scoring: 0.5230742153266567\n"
     ]
    }
   ],
   "source": [
    "#usuario_ver = data.iloc[0]['userId'] -1 # resta 1 para obtener el index de pandas\n",
    "\n",
    "for i, aRepo in enumerate(user0[-10:]):\n",
    "    print(aRepo)\n",
    "    selRepo = df_Enfermedades[df_Enfermedades[\"index\"]==aRepo]\n",
    "    print (aRepo, sintoma_ver)\n",
    "    print('Enfermedad:', selRepo[\"Enfermedad\"] , 'scoring:', users_predictions[sintoma_ver][aRepo])\n",
    "    \n",
    "# Veamos los tres recomendados con mayor puntaje en la predic para este usuario\n"
   ]
  },
  {
   "cell_type": "code",
   "execution_count": 345,
   "id": "867932ec",
   "metadata": {},
   "outputs": [
    {
     "data": {
      "text/plain": [
       "(2544, 2)"
      ]
     },
     "execution_count": 345,
     "metadata": {},
     "output_type": "execute_result"
    }
   ],
   "source": [
    "df_Enfermedades.shape"
   ]
  },
  {
   "cell_type": "code",
   "execution_count": 358,
   "id": "7b01fe7b",
   "metadata": {},
   "outputs": [
    {
     "data": {
      "text/html": [
       "<div>\n",
       "<style scoped>\n",
       "    .dataframe tbody tr th:only-of-type {\n",
       "        vertical-align: middle;\n",
       "    }\n",
       "\n",
       "    .dataframe tbody tr th {\n",
       "        vertical-align: top;\n",
       "    }\n",
       "\n",
       "    .dataframe thead th {\n",
       "        text-align: right;\n",
       "    }\n",
       "</style>\n",
       "<table border=\"1\" class=\"dataframe\">\n",
       "  <thead>\n",
       "    <tr style=\"text-align: right;\">\n",
       "      <th></th>\n",
       "      <th>Enfermedad</th>\n",
       "      <th>Sintoma</th>\n",
       "      <th>Frecuencia</th>\n",
       "    </tr>\n",
       "  </thead>\n",
       "  <tbody>\n",
       "    <tr>\n",
       "      <th>16293</th>\n",
       "      <td>Disostosis acro-fronto-facio-nasal</td>\n",
       "      <td>Cleft palate</td>\n",
       "      <td>Muy frecuente (99-80%)</td>\n",
       "    </tr>\n",
       "    <tr>\n",
       "      <th>16294</th>\n",
       "      <td>Disostosis acro-fronto-facio-nasal</td>\n",
       "      <td>High palate</td>\n",
       "      <td>Muy frecuente (99-80%)</td>\n",
       "    </tr>\n",
       "    <tr>\n",
       "      <th>16296</th>\n",
       "      <td>Disostosis acro-fronto-facio-nasal</td>\n",
       "      <td>Brachycephaly</td>\n",
       "      <td>Muy frecuente (99-80%)</td>\n",
       "    </tr>\n",
       "    <tr>\n",
       "      <th>16297</th>\n",
       "      <td>Disostosis acro-fronto-facio-nasal</td>\n",
       "      <td>Hypertelorism</td>\n",
       "      <td>Muy frecuente (99-80%)</td>\n",
       "    </tr>\n",
       "    <tr>\n",
       "      <th>16300</th>\n",
       "      <td>Disostosis acro-fronto-facio-nasal</td>\n",
       "      <td>Downslanted palpebral fissures</td>\n",
       "      <td>Muy frecuente (99-80%)</td>\n",
       "    </tr>\n",
       "    <tr>\n",
       "      <th>16301</th>\n",
       "      <td>Disostosis acro-fronto-facio-nasal</td>\n",
       "      <td>Ptosis</td>\n",
       "      <td>Muy frecuente (99-80%)</td>\n",
       "    </tr>\n",
       "    <tr>\n",
       "      <th>16305</th>\n",
       "      <td>Disostosis acro-fronto-facio-nasal</td>\n",
       "      <td>Brachydactyly</td>\n",
       "      <td>Muy frecuente (99-80%)</td>\n",
       "    </tr>\n",
       "    <tr>\n",
       "      <th>16307</th>\n",
       "      <td>Disostosis acro-fronto-facio-nasal</td>\n",
       "      <td>Cerebral cortical atrophy</td>\n",
       "      <td>Muy frecuente (99-80%)</td>\n",
       "    </tr>\n",
       "    <tr>\n",
       "      <th>16310</th>\n",
       "      <td>Disostosis acro-fronto-facio-nasal</td>\n",
       "      <td>Short stature</td>\n",
       "      <td>Muy frecuente (99-80%)</td>\n",
       "    </tr>\n",
       "    <tr>\n",
       "      <th>16313</th>\n",
       "      <td>Disostosis acro-fronto-facio-nasal</td>\n",
       "      <td>Intellectual disability, severe</td>\n",
       "      <td>Muy frecuente (99-80%)</td>\n",
       "    </tr>\n",
       "    <tr>\n",
       "      <th>16315</th>\n",
       "      <td>Disostosis acro-fronto-facio-nasal</td>\n",
       "      <td>Midface retrusion</td>\n",
       "      <td>Muy frecuente (99-80%)</td>\n",
       "    </tr>\n",
       "    <tr>\n",
       "      <th>16317</th>\n",
       "      <td>Disostosis acro-fronto-facio-nasal</td>\n",
       "      <td>Camptodactyly of finger</td>\n",
       "      <td>Muy frecuente (99-80%)</td>\n",
       "    </tr>\n",
       "  </tbody>\n",
       "</table>\n",
       "</div>"
      ],
      "text/plain": [
       "                               Enfermedad                          Sintoma  \\\n",
       "16293  Disostosis acro-fronto-facio-nasal                     Cleft palate   \n",
       "16294  Disostosis acro-fronto-facio-nasal                      High palate   \n",
       "16296  Disostosis acro-fronto-facio-nasal                    Brachycephaly   \n",
       "16297  Disostosis acro-fronto-facio-nasal                    Hypertelorism   \n",
       "16300  Disostosis acro-fronto-facio-nasal   Downslanted palpebral fissures   \n",
       "16301  Disostosis acro-fronto-facio-nasal                           Ptosis   \n",
       "16305  Disostosis acro-fronto-facio-nasal                    Brachydactyly   \n",
       "16307  Disostosis acro-fronto-facio-nasal        Cerebral cortical atrophy   \n",
       "16310  Disostosis acro-fronto-facio-nasal                    Short stature   \n",
       "16313  Disostosis acro-fronto-facio-nasal  Intellectual disability, severe   \n",
       "16315  Disostosis acro-fronto-facio-nasal                Midface retrusion   \n",
       "16317  Disostosis acro-fronto-facio-nasal          Camptodactyly of finger   \n",
       "\n",
       "                   Frecuencia  \n",
       "16293  Muy frecuente (99-80%)  \n",
       "16294  Muy frecuente (99-80%)  \n",
       "16296  Muy frecuente (99-80%)  \n",
       "16297  Muy frecuente (99-80%)  \n",
       "16300  Muy frecuente (99-80%)  \n",
       "16301  Muy frecuente (99-80%)  \n",
       "16305  Muy frecuente (99-80%)  \n",
       "16307  Muy frecuente (99-80%)  \n",
       "16310  Muy frecuente (99-80%)  \n",
       "16313  Muy frecuente (99-80%)  \n",
       "16315  Muy frecuente (99-80%)  \n",
       "16317  Muy frecuente (99-80%)  "
      ]
     },
     "execution_count": 358,
     "metadata": {},
     "output_type": "execute_result"
    }
   ],
   "source": [
    "df_EnfeySinto_select[df_EnfeySinto_select[\"Enfermedad\"]==\"Disostosis acro-fronto-facio-nasal\"]"
   ]
  },
  {
   "cell_type": "code",
   "execution_count": 366,
   "id": "4b4c8ee1",
   "metadata": {},
   "outputs": [
    {
     "data": {
      "text/plain": [
       "(array([ 80.,   0.,   0.,   0., 385.,   0.,   0.,   0., 166.,   0.,   0.,\n",
       "          0.,  63.,   0.,   0.,   0.,  21.,   0.,   0.,   0.,  60.,   0.,\n",
       "          0.,   0., 117.,   0.,   0.,   0.,  80.,   0.,   0.,   0.,  44.,\n",
       "          0.,   0.,   0.,  57.,   0.,   0.,   0.,   0.,  51.,   0.,   0.,\n",
       "          0.,  25.,   0.,   0.,   0.,  74.,   0.,   0.,   0.,  25.,   0.,\n",
       "          0.,   0.,  62.,   0.,   0.,   0.,  64.,   0.,   0.,   0.,  59.,\n",
       "          0.,   0.,   0., 359.,   0.,   0.,   0.,  46.,   0.,   0.,   0.,\n",
       "         73.,   0.,   0.,   0.,   0.,  82.,   0.,   0.,   0., 100.,   0.,\n",
       "          0.,   0.,  34.,   0.,   0.,   0.,  33.,   0.,   0.,   0., 183.,\n",
       "          0.,   0.,   0.,  93.,   0.,   0.,   0., 118.,   0.,   0.,   0.,\n",
       "         24.,   0.,   0.,   0., 113.,   0.,   0.,   0.,  84.,   0.,   0.,\n",
       "          0.,   0.,  52.,   0.,   0.,   0.,  31.,   0.,   0.,   0.,  45.,\n",
       "          0.,   0.,   0.,  45.,   0.,   0.,   0.,  41.,   0.,   0.,   0.,\n",
       "         66.,   0.,   0.,   0.,  28.,   0.,   0.,   0.,  30.,   0.,   0.,\n",
       "          0.,  15.,   0.,   0.,   0.,   0.,  32.,   0.,   0.,   0.,  72.,\n",
       "          0.,   0.,   0.,  15.,   0.,   0.,   0.,  36.,   0.,   0.,   0.,\n",
       "        341.,   0.,   0.,   0.,  86.,   0.,   0.,   0.,  51.,   0.,   0.,\n",
       "          0.,  27.,   0.,   0.,   0.,  89.,   0.,   0.,   0.,  27.,   0.,\n",
       "          0.,   0.,   0.,  60.,   0.,   0.,   0.,  52.,   0.,   0.,   0.,\n",
       "         65.,   0.,   0.,   0.,  98.,   0.,   0.,   0.,  66.,   0.,   0.,\n",
       "          0., 108.,   0.,   0.,   0.,  76.,   0.,   0.,   0.,  18.,   0.,\n",
       "          0.,   0.,  62.,   0.,   0.,   0.,  58.,   0.,   0.,   0.,   0.,\n",
       "         22.,   0.,   0.,   0.,  14.,   0.,   0.,   0.,  83.,   0.,   0.,\n",
       "          0.,  32.,   0.,   0.,   0.,  37.,   0.,   0.,   0.,  89.,   0.,\n",
       "          0.,   0., 114.,   0.,   0.,   0.,  35.,   0.,   0.,   0.,  43.,\n",
       "          0.,   0.,   0.,  42.,   0.,   0.,   0.,   0.,  32.,   0.,   0.,\n",
       "          0.,  17.,   0.,   0.,   0.,  23.,   0.,   0.,   0.,  13.,   0.,\n",
       "          0.,   0.,  52.,   0.,   0.,   0.,  65.,   0.,   0.,   0.,  38.,\n",
       "          0.,   0.,   0.,  20.,   0.,   0.,   0.,  14.,   0.,   0.,   0.,\n",
       "          0.,  27.,   0.,   0.,   0.,  73.,   0.,   0.,   0.,  36.,   0.,\n",
       "          0.,   0., 101.,   0.,   0.,   0., 196.,   0.,   0.,   0.,  88.,\n",
       "          0.,   0.,   0.,  13.,   0.,   0.,   0.,  12.,   0.,   0.,   0.,\n",
       "         20.,   0.,   0.,   0.,  36.,   0.,   0.,   0.,   0.,  81.,   0.,\n",
       "          0.,   0.,  34.,   0.,   0.,   0.,  11.,   0.,   0.,   0.,  53.,\n",
       "          0.,   0.,   0.,  27.,   0.,   0.,   0.,  48.,   0.,   0.,   0.,\n",
       "         25.,   0.,   0.,   0.,  28.,   0.,   0.,   0.,  31.,   0.,   0.,\n",
       "          0.,  71.,   0.,   0.,   0.,   0., 164.,   0.,   0.,   0.,  53.,\n",
       "          0.,   0.,   0.,  63.,   0.,   0.,   0.,  41.,   0.,   0.,   0.,\n",
       "         35.,   0.,   0.,   0.,  25.,   0.,   0.,   0., 195.,   0.,   0.,\n",
       "          0.,  27.,   0.,   0.,   0.,  76.,   0.,   0.,   0.,  30.,   0.,\n",
       "          0.,   0.,   0.,  26.,   0.,   0.,   0.,  19.,   0.,   0.,   0.,\n",
       "         34.,   0.,   0.,   0.,  84.,   0.,   0.,   0.,  37.,   0.,   0.,\n",
       "          0.,  52.,   0.,   0.,   0.,  33.,   0.,   0.,   0.,  51.,   0.,\n",
       "          0.,   0.,  18.,   0.,   0.,   0.,   0.,  53.,   0.,   0.,   0.,\n",
       "         43.,   0.,   0.,   0.,  26.,   0.,   0.,   0.,  17.,   0.,   0.,\n",
       "          0.,  22.,   0.,   0.,   0.,  42.,   0.,   0.,   0.,  37.,   0.,\n",
       "          0.,   0.,  37.,   0.,   0.,   0.,  43.,   0.,   0.,   0.,  35.,\n",
       "          0.,   0.,   0.,   0.,   9.,   0.,   0.,   0.,  48.,   0.,   0.,\n",
       "          0.,  72.,   0.,   0.,   0.,  33.,   0.,   0.,   0.,  45.,   0.,\n",
       "          0.,   0.,  24.,   0.,   0.,   0.,  43.,   0.,   0.,   0.,  78.,\n",
       "          0.,   0.,   0.,  19.,   0.,   0.,   0.,  54.,   0.,   0.,   0.,\n",
       "          0.,  42.,   0.,   0.,   0.,  49.,   0.,   0.,   0.,  31.,   0.,\n",
       "          0.,   0.,  19.,   0.,   0.,   0.,  23.,   0.,   0.,   0.,  35.,\n",
       "          0.,   0.,   0.,  36.,   0.,   0.,   0.,  12.,   0.,   0.,   0.,\n",
       "         50.,   0.,   0.,   0.,  16.,   0.,   0.,   0.,   0.,  22.,   0.,\n",
       "          0.,   0.,  47.,   0.,   0.,   0.,  26.,   0.,   0.,   0.,  31.,\n",
       "          0.,   0.,   0.,  24.,   0.,   0.,   0.,  41.,   0.,   0.,   0.,\n",
       "         17.,   0.,   0.,   0.,  30.,   0.,   0.,   0.,  20.,   0.,   0.,\n",
       "          0.,   0.,  33.,   0.,   0.,   0.,  28.,   0.,   0.,   0.,  32.,\n",
       "          0.,   0.,   0.,  14.,   0.,   0.,   0.,  38.,   0.,   0.,   0.,\n",
       "         20.,   0.,   0.,   0.,  20.,   0.,   0.,   0.,  53.,   0.,   0.,\n",
       "          0.,  32.,   0.,   0.,   0.,  34.,   0.,   0.,   0.,   0.,  42.,\n",
       "          0.,   0.,   0.,  41.,   0.,   0.,   0.,  19.,   0.,   0.,   0.,\n",
       "         10.,   0.,   0.,   0.,  33.,   0.,   0.,   0.,  34.,   0.,   0.,\n",
       "          0.,  17.,   0.,   0.,   0.,  13.,   0.,   0.,   0.,  20.,   0.,\n",
       "          0.,   0.,  17.,   0.,   0.,   0.,   0.,  12.,   0.,   0.,   0.,\n",
       "         15.,   0.,   0.,   0.,  13.,   0.,   0.,   0.,  22.,   0.,   0.,\n",
       "          0.,  10.,   0.,   0.,   0.,  12.,   0.,   0.,   0.,  23.,   0.,\n",
       "          0.,   0.,  24.,   0.,   0.,   0.,  54.,   0.,   0.,   0.,  36.,\n",
       "          0.,   0.,   0.,   0.,   9.,   0.,   0.,   0.,  23.,   0.,   0.,\n",
       "          0.,  16.,   0.,   0.,   0.,  22.,   0.,   0.,   0.,  10.,   0.,\n",
       "          0.,   0.,  12.,   0.,   0.,   0.,  31.,   0.,   0.,   0.,  13.,\n",
       "          0.,   0.,   0.,  12.,   0.,   0.,   0.,  28.]),\n",
       " array([  0.     ,   0.24375,   0.4875 ,   0.73125,   0.975  ,   1.21875,\n",
       "          1.4625 ,   1.70625,   1.95   ,   2.19375,   2.4375 ,   2.68125,\n",
       "          2.925  ,   3.16875,   3.4125 ,   3.65625,   3.9    ,   4.14375,\n",
       "          4.3875 ,   4.63125,   4.875  ,   5.11875,   5.3625 ,   5.60625,\n",
       "          5.85   ,   6.09375,   6.3375 ,   6.58125,   6.825  ,   7.06875,\n",
       "          7.3125 ,   7.55625,   7.8    ,   8.04375,   8.2875 ,   8.53125,\n",
       "          8.775  ,   9.01875,   9.2625 ,   9.50625,   9.75   ,   9.99375,\n",
       "         10.2375 ,  10.48125,  10.725  ,  10.96875,  11.2125 ,  11.45625,\n",
       "         11.7    ,  11.94375,  12.1875 ,  12.43125,  12.675  ,  12.91875,\n",
       "         13.1625 ,  13.40625,  13.65   ,  13.89375,  14.1375 ,  14.38125,\n",
       "         14.625  ,  14.86875,  15.1125 ,  15.35625,  15.6    ,  15.84375,\n",
       "         16.0875 ,  16.33125,  16.575  ,  16.81875,  17.0625 ,  17.30625,\n",
       "         17.55   ,  17.79375,  18.0375 ,  18.28125,  18.525  ,  18.76875,\n",
       "         19.0125 ,  19.25625,  19.5    ,  19.74375,  19.9875 ,  20.23125,\n",
       "         20.475  ,  20.71875,  20.9625 ,  21.20625,  21.45   ,  21.69375,\n",
       "         21.9375 ,  22.18125,  22.425  ,  22.66875,  22.9125 ,  23.15625,\n",
       "         23.4    ,  23.64375,  23.8875 ,  24.13125,  24.375  ,  24.61875,\n",
       "         24.8625 ,  25.10625,  25.35   ,  25.59375,  25.8375 ,  26.08125,\n",
       "         26.325  ,  26.56875,  26.8125 ,  27.05625,  27.3    ,  27.54375,\n",
       "         27.7875 ,  28.03125,  28.275  ,  28.51875,  28.7625 ,  29.00625,\n",
       "         29.25   ,  29.49375,  29.7375 ,  29.98125,  30.225  ,  30.46875,\n",
       "         30.7125 ,  30.95625,  31.2    ,  31.44375,  31.6875 ,  31.93125,\n",
       "         32.175  ,  32.41875,  32.6625 ,  32.90625,  33.15   ,  33.39375,\n",
       "         33.6375 ,  33.88125,  34.125  ,  34.36875,  34.6125 ,  34.85625,\n",
       "         35.1    ,  35.34375,  35.5875 ,  35.83125,  36.075  ,  36.31875,\n",
       "         36.5625 ,  36.80625,  37.05   ,  37.29375,  37.5375 ,  37.78125,\n",
       "         38.025  ,  38.26875,  38.5125 ,  38.75625,  39.     ,  39.24375,\n",
       "         39.4875 ,  39.73125,  39.975  ,  40.21875,  40.4625 ,  40.70625,\n",
       "         40.95   ,  41.19375,  41.4375 ,  41.68125,  41.925  ,  42.16875,\n",
       "         42.4125 ,  42.65625,  42.9    ,  43.14375,  43.3875 ,  43.63125,\n",
       "         43.875  ,  44.11875,  44.3625 ,  44.60625,  44.85   ,  45.09375,\n",
       "         45.3375 ,  45.58125,  45.825  ,  46.06875,  46.3125 ,  46.55625,\n",
       "         46.8    ,  47.04375,  47.2875 ,  47.53125,  47.775  ,  48.01875,\n",
       "         48.2625 ,  48.50625,  48.75   ,  48.99375,  49.2375 ,  49.48125,\n",
       "         49.725  ,  49.96875,  50.2125 ,  50.45625,  50.7    ,  50.94375,\n",
       "         51.1875 ,  51.43125,  51.675  ,  51.91875,  52.1625 ,  52.40625,\n",
       "         52.65   ,  52.89375,  53.1375 ,  53.38125,  53.625  ,  53.86875,\n",
       "         54.1125 ,  54.35625,  54.6    ,  54.84375,  55.0875 ,  55.33125,\n",
       "         55.575  ,  55.81875,  56.0625 ,  56.30625,  56.55   ,  56.79375,\n",
       "         57.0375 ,  57.28125,  57.525  ,  57.76875,  58.0125 ,  58.25625,\n",
       "         58.5    ,  58.74375,  58.9875 ,  59.23125,  59.475  ,  59.71875,\n",
       "         59.9625 ,  60.20625,  60.45   ,  60.69375,  60.9375 ,  61.18125,\n",
       "         61.425  ,  61.66875,  61.9125 ,  62.15625,  62.4    ,  62.64375,\n",
       "         62.8875 ,  63.13125,  63.375  ,  63.61875,  63.8625 ,  64.10625,\n",
       "         64.35   ,  64.59375,  64.8375 ,  65.08125,  65.325  ,  65.56875,\n",
       "         65.8125 ,  66.05625,  66.3    ,  66.54375,  66.7875 ,  67.03125,\n",
       "         67.275  ,  67.51875,  67.7625 ,  68.00625,  68.25   ,  68.49375,\n",
       "         68.7375 ,  68.98125,  69.225  ,  69.46875,  69.7125 ,  69.95625,\n",
       "         70.2    ,  70.44375,  70.6875 ,  70.93125,  71.175  ,  71.41875,\n",
       "         71.6625 ,  71.90625,  72.15   ,  72.39375,  72.6375 ,  72.88125,\n",
       "         73.125  ,  73.36875,  73.6125 ,  73.85625,  74.1    ,  74.34375,\n",
       "         74.5875 ,  74.83125,  75.075  ,  75.31875,  75.5625 ,  75.80625,\n",
       "         76.05   ,  76.29375,  76.5375 ,  76.78125,  77.025  ,  77.26875,\n",
       "         77.5125 ,  77.75625,  78.     ,  78.24375,  78.4875 ,  78.73125,\n",
       "         78.975  ,  79.21875,  79.4625 ,  79.70625,  79.95   ,  80.19375,\n",
       "         80.4375 ,  80.68125,  80.925  ,  81.16875,  81.4125 ,  81.65625,\n",
       "         81.9    ,  82.14375,  82.3875 ,  82.63125,  82.875  ,  83.11875,\n",
       "         83.3625 ,  83.60625,  83.85   ,  84.09375,  84.3375 ,  84.58125,\n",
       "         84.825  ,  85.06875,  85.3125 ,  85.55625,  85.8    ,  86.04375,\n",
       "         86.2875 ,  86.53125,  86.775  ,  87.01875,  87.2625 ,  87.50625,\n",
       "         87.75   ,  87.99375,  88.2375 ,  88.48125,  88.725  ,  88.96875,\n",
       "         89.2125 ,  89.45625,  89.7    ,  89.94375,  90.1875 ,  90.43125,\n",
       "         90.675  ,  90.91875,  91.1625 ,  91.40625,  91.65   ,  91.89375,\n",
       "         92.1375 ,  92.38125,  92.625  ,  92.86875,  93.1125 ,  93.35625,\n",
       "         93.6    ,  93.84375,  94.0875 ,  94.33125,  94.575  ,  94.81875,\n",
       "         95.0625 ,  95.30625,  95.55   ,  95.79375,  96.0375 ,  96.28125,\n",
       "         96.525  ,  96.76875,  97.0125 ,  97.25625,  97.5    ,  97.74375,\n",
       "         97.9875 ,  98.23125,  98.475  ,  98.71875,  98.9625 ,  99.20625,\n",
       "         99.45   ,  99.69375,  99.9375 , 100.18125, 100.425  , 100.66875,\n",
       "        100.9125 , 101.15625, 101.4    , 101.64375, 101.8875 , 102.13125,\n",
       "        102.375  , 102.61875, 102.8625 , 103.10625, 103.35   , 103.59375,\n",
       "        103.8375 , 104.08125, 104.325  , 104.56875, 104.8125 , 105.05625,\n",
       "        105.3    , 105.54375, 105.7875 , 106.03125, 106.275  , 106.51875,\n",
       "        106.7625 , 107.00625, 107.25   , 107.49375, 107.7375 , 107.98125,\n",
       "        108.225  , 108.46875, 108.7125 , 108.95625, 109.2    , 109.44375,\n",
       "        109.6875 , 109.93125, 110.175  , 110.41875, 110.6625 , 110.90625,\n",
       "        111.15   , 111.39375, 111.6375 , 111.88125, 112.125  , 112.36875,\n",
       "        112.6125 , 112.85625, 113.1    , 113.34375, 113.5875 , 113.83125,\n",
       "        114.075  , 114.31875, 114.5625 , 114.80625, 115.05   , 115.29375,\n",
       "        115.5375 , 115.78125, 116.025  , 116.26875, 116.5125 , 116.75625,\n",
       "        117.     , 117.24375, 117.4875 , 117.73125, 117.975  , 118.21875,\n",
       "        118.4625 , 118.70625, 118.95   , 119.19375, 119.4375 , 119.68125,\n",
       "        119.925  , 120.16875, 120.4125 , 120.65625, 120.9    , 121.14375,\n",
       "        121.3875 , 121.63125, 121.875  , 122.11875, 122.3625 , 122.60625,\n",
       "        122.85   , 123.09375, 123.3375 , 123.58125, 123.825  , 124.06875,\n",
       "        124.3125 , 124.55625, 124.8    , 125.04375, 125.2875 , 125.53125,\n",
       "        125.775  , 126.01875, 126.2625 , 126.50625, 126.75   , 126.99375,\n",
       "        127.2375 , 127.48125, 127.725  , 127.96875, 128.2125 , 128.45625,\n",
       "        128.7    , 128.94375, 129.1875 , 129.43125, 129.675  , 129.91875,\n",
       "        130.1625 , 130.40625, 130.65   , 130.89375, 131.1375 , 131.38125,\n",
       "        131.625  , 131.86875, 132.1125 , 132.35625, 132.6    , 132.84375,\n",
       "        133.0875 , 133.33125, 133.575  , 133.81875, 134.0625 , 134.30625,\n",
       "        134.55   , 134.79375, 135.0375 , 135.28125, 135.525  , 135.76875,\n",
       "        136.0125 , 136.25625, 136.5    , 136.74375, 136.9875 , 137.23125,\n",
       "        137.475  , 137.71875, 137.9625 , 138.20625, 138.45   , 138.69375,\n",
       "        138.9375 , 139.18125, 139.425  , 139.66875, 139.9125 , 140.15625,\n",
       "        140.4    , 140.64375, 140.8875 , 141.13125, 141.375  , 141.61875,\n",
       "        141.8625 , 142.10625, 142.35   , 142.59375, 142.8375 , 143.08125,\n",
       "        143.325  , 143.56875, 143.8125 , 144.05625, 144.3    , 144.54375,\n",
       "        144.7875 , 145.03125, 145.275  , 145.51875, 145.7625 , 146.00625,\n",
       "        146.25   , 146.49375, 146.7375 , 146.98125, 147.225  , 147.46875,\n",
       "        147.7125 , 147.95625, 148.2    , 148.44375, 148.6875 , 148.93125,\n",
       "        149.175  , 149.41875, 149.6625 , 149.90625, 150.15   , 150.39375,\n",
       "        150.6375 , 150.88125, 151.125  , 151.36875, 151.6125 , 151.85625,\n",
       "        152.1    , 152.34375, 152.5875 , 152.83125, 153.075  , 153.31875,\n",
       "        153.5625 , 153.80625, 154.05   , 154.29375, 154.5375 , 154.78125,\n",
       "        155.025  , 155.26875, 155.5125 , 155.75625, 156.     , 156.24375,\n",
       "        156.4875 , 156.73125, 156.975  , 157.21875, 157.4625 , 157.70625,\n",
       "        157.95   , 158.19375, 158.4375 , 158.68125, 158.925  , 159.16875,\n",
       "        159.4125 , 159.65625, 159.9    , 160.14375, 160.3875 , 160.63125,\n",
       "        160.875  , 161.11875, 161.3625 , 161.60625, 161.85   , 162.09375,\n",
       "        162.3375 , 162.58125, 162.825  , 163.06875, 163.3125 , 163.55625,\n",
       "        163.8    , 164.04375, 164.2875 , 164.53125, 164.775  , 165.01875,\n",
       "        165.2625 , 165.50625, 165.75   , 165.99375, 166.2375 , 166.48125,\n",
       "        166.725  , 166.96875, 167.2125 , 167.45625, 167.7    , 167.94375,\n",
       "        168.1875 , 168.43125, 168.675  , 168.91875, 169.1625 , 169.40625,\n",
       "        169.65   , 169.89375, 170.1375 , 170.38125, 170.625  , 170.86875,\n",
       "        171.1125 , 171.35625, 171.6    , 171.84375, 172.0875 , 172.33125,\n",
       "        172.575  , 172.81875, 173.0625 , 173.30625, 173.55   , 173.79375,\n",
       "        174.0375 , 174.28125, 174.525  , 174.76875, 175.0125 , 175.25625,\n",
       "        175.5    , 175.74375, 175.9875 , 176.23125, 176.475  , 176.71875,\n",
       "        176.9625 , 177.20625, 177.45   , 177.69375, 177.9375 , 178.18125,\n",
       "        178.425  , 178.66875, 178.9125 , 179.15625, 179.4    , 179.64375,\n",
       "        179.8875 , 180.13125, 180.375  , 180.61875, 180.8625 , 181.10625,\n",
       "        181.35   , 181.59375, 181.8375 , 182.08125, 182.325  , 182.56875,\n",
       "        182.8125 , 183.05625, 183.3    , 183.54375, 183.7875 , 184.03125,\n",
       "        184.275  , 184.51875, 184.7625 , 185.00625, 185.25   , 185.49375,\n",
       "        185.7375 , 185.98125, 186.225  , 186.46875, 186.7125 , 186.95625,\n",
       "        187.2    , 187.44375, 187.6875 , 187.93125, 188.175  , 188.41875,\n",
       "        188.6625 , 188.90625, 189.15   , 189.39375, 189.6375 , 189.88125,\n",
       "        190.125  , 190.36875, 190.6125 , 190.85625, 191.1    , 191.34375,\n",
       "        191.5875 , 191.83125, 192.075  , 192.31875, 192.5625 , 192.80625,\n",
       "        193.05   , 193.29375, 193.5375 , 193.78125, 194.025  , 194.26875,\n",
       "        194.5125 , 194.75625, 195.     ]),\n",
       " <BarContainer object of 800 artists>)"
      ]
     },
     "execution_count": 366,
     "metadata": {},
     "output_type": "execute_result"
    },
    {
     "data": {
      "image/png": "[encoded data removed]",
      "text/plain": [
       "<Figure size 640x480 with 1 Axes>"
      ]
     },
     "metadata": {},
     "output_type": "display_data"
    }
   ],
   "source": [
    "plt.hist(df_EnfeySinto_select.Sintoma,bins=800)"
   ]
  },
  {
   "cell_type": "code",
   "execution_count": 367,
   "id": "de3c6cf6",
   "metadata": {},
   "outputs": [
    {
     "data": {
      "image/png": "[encoded data removed]",
      "text/plain": [
       "<Figure size 640x480 with 2 Axes>"
      ]
     },
     "metadata": {},
     "output_type": "display_data"
    }
   ],
   "source": [
    "\n",
    "plt.imshow(sim_matrix);\n",
    "plt.colorbar()\n",
    "plt.show()"
   ]
  },
  {
   "cell_type": "code",
   "execution_count": 368,
   "id": "26653278",
   "metadata": {},
   "outputs": [
    {
     "data": {
      "image/png": "[encoded data removed]",
      "text/plain": [
       "<Figure size 2000x500 with 2 Axes>"
      ]
     },
     "metadata": {},
     "output_type": "display_data"
    }
   ],
   "source": [
    "plt.rcParams['figure.figsize'] = (20.0, 5.0)\n",
    "plt.imshow(users_predictions);\n",
    "plt.colorbar()\n",
    "plt.show()"
   ]
  },
  {
   "cell_type": "code",
   "execution_count": 369,
   "id": "39bb003b",
   "metadata": {},
   "outputs": [],
   "source": [
    "\n",
    "def get_mse(preds, actuals):\n",
    "    if preds.shape[1] != actuals.shape[1]:\n",
    "        actuals = actuals.T\n",
    "    preds = preds[actuals.nonzero()].flatten()\n",
    "    actuals = actuals[actuals.nonzero()].flatten()\n",
    "    return mean_squared_error(preds, actuals)\n",
    " \n"
   ]
  },
  {
   "cell_type": "code",
   "execution_count": 370,
   "id": "60aa5ce3",
   "metadata": {},
   "outputs": [
    {
     "data": {
      "text/plain": [
       "0.455185243370508"
      ]
     },
     "execution_count": 370,
     "metadata": {},
     "output_type": "execute_result"
    }
   ],
   "source": [
    "get_mse(users_predictions, ratings_train)\n",
    " \n"
   ]
  },
  {
   "cell_type": "code",
   "execution_count": 372,
   "id": "e2364c6a",
   "metadata": {},
   "outputs": [
    {
     "data": {
      "text/plain": [
       "0.5302801943238877"
      ]
     },
     "execution_count": 372,
     "metadata": {},
     "output_type": "execute_result"
    }
   ],
   "source": [
    "# Realizo las predicciones para el test set\n",
    "users_predictions_test = sim_matrix.dot(ratings) / np.array([np.abs(sim_matrix).sum(axis=1)]).T\n",
    "users_predictions_test = users_predictions_test[156:196,:]\n",
    " \n",
    "get_mse(users_predictions_test, ratings_test)"
   ]
  },
  {
   "cell_type": "code",
   "execution_count": null,
   "id": "4a208c53",
   "metadata": {},
   "outputs": [],
   "source": []
  },
  {
   "cell_type": "code",
   "execution_count": null,
   "id": "e12be658",
   "metadata": {},
   "outputs": [],
   "source": []
  },
  {
   "cell_type": "code",
   "execution_count": null,
   "id": "8a2ef273",
   "metadata": {},
   "outputs": [],
   "source": []
  },
  {
   "cell_type": "code",
   "execution_count": null,
   "id": "ad929f23",
   "metadata": {},
   "outputs": [],
   "source": []
  },
  {
   "cell_type": "code",
   "execution_count": null,
   "id": "1025abfe",
   "metadata": {},
   "outputs": [],
   "source": [
    "ratings"
   ]
  },
  {
   "cell_type": "code",
   "execution_count": null,
   "id": "f0f41bd1",
   "metadata": {},
   "outputs": [],
   "source": [
    "\n"
   ]
  },
  {
   "cell_type": "code",
   "execution_count": null,
   "id": "5da5a145",
   "metadata": {},
   "outputs": [],
   "source": []
  },
  {
   "cell_type": "code",
   "execution_count": null,
   "id": "139d66ce",
   "metadata": {},
   "outputs": [],
   "source": []
  },
  {
   "cell_type": "code",
   "execution_count": null,
   "id": "51637286",
   "metadata": {},
   "outputs": [],
   "source": []
  },
  {
   "cell_type": "code",
   "execution_count": null,
   "id": "c07bf443",
   "metadata": {},
   "outputs": [],
   "source": []
  },
  {
   "cell_type": "code",
   "execution_count": null,
   "id": "abf247ec",
   "metadata": {},
   "outputs": [],
   "source": []
  },
  {
   "cell_type": "code",
   "execution_count": null,
   "id": "7b695d24",
   "metadata": {},
   "outputs": [],
   "source": []
  },
  {
   "cell_type": "code",
   "execution_count": null,
   "id": "1708f714",
   "metadata": {},
   "outputs": [],
   "source": [
    "df_Sintomas"
   ]
  },
  {
   "cell_type": "code",
   "execution_count": null,
   "id": "2328edb2",
   "metadata": {},
   "outputs": [],
   "source": [
    "save_to_csv(df_train_generated,\"../data/01_raw/df_trained_Ofi.csv\")"
   ]
  },
  {
   "cell_type": "code",
   "execution_count": null,
   "id": "2c194657",
   "metadata": {},
   "outputs": [],
   "source": [
    "#df_train_generated=pd.read_csv(\"../data/01_raw/df_trained_Ofi.csv\")"
   ]
  },
  {
   "cell_type": "code",
   "execution_count": null,
   "id": "7fcc5577",
   "metadata": {},
   "outputs": [],
   "source": [
    "df_enfermedades= load_from_csv(\"../data/01_raw/exportCSVfromXML_Ofi.csv\")"
   ]
  },
  {
   "cell_type": "code",
   "execution_count": null,
   "id": "fb53cd47",
   "metadata": {},
   "outputs": [],
   "source": [
    "save_to_csv(df_enfermedades,\"../data/01_raw/exportCSVfromXML_Ofi.csv\")"
   ]
  },
  {
   "cell_type": "code",
   "execution_count": null,
   "id": "98d7de61",
   "metadata": {},
   "outputs": [],
   "source": []
  },
  {
   "cell_type": "code",
   "execution_count": null,
   "id": "34085c55",
   "metadata": {},
   "outputs": [],
   "source": []
  },
  {
   "cell_type": "code",
   "execution_count": null,
   "id": "a89b1f80",
   "metadata": {},
   "outputs": [],
   "source": []
  },
  {
   "cell_type": "code",
   "execution_count": null,
   "id": "bf9c4c56",
   "metadata": {},
   "outputs": [],
   "source": [
    "\n",
    "     "
   ]
  },
  {
   "cell_type": "code",
   "execution_count": null,
   "id": "93114241",
   "metadata": {},
   "outputs": [],
   "source": []
  },
  {
   "cell_type": "code",
   "execution_count": null,
   "id": "bc8bc639",
   "metadata": {},
   "outputs": [],
   "source": [
    "\n",
    "\n",
    "     "
   ]
  },
  {
   "cell_type": "code",
   "execution_count": null,
   "id": "15db8cb2",
   "metadata": {},
   "outputs": [],
   "source": [
    "\n",
    "\n",
    "sim_matrix.shape"
   ]
  },
  {
   "cell_type": "code",
   "execution_count": null,
   "id": "6e266ba0",
   "metadata": {},
   "outputs": [],
   "source": [
    "\n",
    "plt.rcParams['figure.figsize'] = (20.0, 5.0)\n",
    "plt.imshow(sim_matrix);\n",
    "plt.colorbar()\n",
    "plt.show()"
   ]
  },
  {
   "cell_type": "code",
   "execution_count": null,
   "id": "3f8a8989",
   "metadata": {},
   "outputs": [],
   "source": [
    "sim_matrix_train"
   ]
  },
  {
   "cell_type": "code",
   "execution_count": null,
   "id": "fd615383",
   "metadata": {},
   "outputs": [],
   "source": [
    "users_predictions.shape"
   ]
  },
  {
   "cell_type": "code",
   "execution_count": null,
   "id": "725b88f3",
   "metadata": {},
   "outputs": [],
   "source": [
    "ratings_train"
   ]
  },
  {
   "cell_type": "code",
   "execution_count": null,
   "id": "2a2061d9",
   "metadata": {},
   "outputs": [],
   "source": [
    "\n",
    "plt.rcParams['figure.figsize'] = (20.0, 5.0)\n",
    "plt.imshow(users_predictions);\n",
    "plt.colorbar()\n",
    "plt.show()"
   ]
  },
  {
   "cell_type": "code",
   "execution_count": null,
   "id": "38465d2c",
   "metadata": {},
   "outputs": [],
   "source": [
    "df_Enfermedades"
   ]
  },
  {
   "cell_type": "code",
   "execution_count": null,
   "id": "3150a3ae",
   "metadata": {},
   "outputs": [],
   "source": [
    "df_Sintomas.drop ([\"Enfermedad\", \"Frecuencia\", \"Id_Enfermedad\"], axis=1)"
   ]
  },
  {
   "cell_type": "code",
   "execution_count": null,
   "id": "0666e940",
   "metadata": {},
   "outputs": [],
   "source": []
  },
  {
   "cell_type": "code",
   "execution_count": null,
   "id": "63861864",
   "metadata": {},
   "outputs": [],
   "source": [
    "user0=users_predictions.argsort()[sintoma_ver]\n",
    "user0"
   ]
  },
  {
   "cell_type": "code",
   "execution_count": null,
   "id": "f40ed414",
   "metadata": {},
   "outputs": [],
   "source": [
    "rows=df_matrix.index\n",
    "rows[sintoma_ver]"
   ]
  },
  {
   "cell_type": "code",
   "execution_count": null,
   "id": "2304795c",
   "metadata": {},
   "outputs": [],
   "source": [
    "df_matrix.iloc[\"id\"]"
   ]
  },
  {
   "cell_type": "code",
   "execution_count": null,
   "id": "47248665",
   "metadata": {},
   "outputs": [],
   "source": []
  },
  {
   "cell_type": "code",
   "execution_count": null,
   "id": "ceb8e652",
   "metadata": {},
   "outputs": [],
   "source": [
    "df_enfermedades_select[(df_enfermedades_select[\"Sintoma\"]==SINTOMA_EJEMPLO) &\n",
    "               (df_enfermedades_select[\"Enfermedad\"]==\"Aciduria 3-metilglutacónica tipo 1\")]"
   ]
  },
  {
   "cell_type": "code",
   "execution_count": null,
   "id": "d393e9e6",
   "metadata": {},
   "outputs": [],
   "source": [
    "df_enfermedades_select"
   ]
  },
  {
   "cell_type": "code",
   "execution_count": null,
   "id": "6cb93910",
   "metadata": {},
   "outputs": [],
   "source": [
    "top_k_distances, top_k_items = neighbors.kneighbors(ratings_train.T, return_distance=True)\n",
    "top_k_distances.shape"
   ]
  },
  {
   "cell_type": "code",
   "execution_count": null,
   "id": "2e80c09b",
   "metadata": {},
   "outputs": [],
   "source": [
    "data = df_repos[df_repos['title'] == 'jbagnato / machine-learning']\n",
    "repo_ver = data.iloc[0]['repoId'] -1\n",
    "#print(repo_ver)"
   ]
  },
  {
   "cell_type": "code",
   "execution_count": null,
   "id": "dc7d6718",
   "metadata": {},
   "outputs": [],
   "source": [
    "SINTOMA_EJEMPLO = 'Ataxia' # debe existir en nuestro dataset de train!\n",
    "data = df_Sintomas[df_Sintomas['Sintoma'] == SINTOMA_EJEMPLO]\n",
    "data.iloc[0]\n",
    "sintoma_ver= data.index\n",
    "sintoma_ver=sintoma_ver.values[0]\n",
    "sintoma_ver"
   ]
  },
  {
   "cell_type": "code",
   "execution_count": null,
   "id": "2e25378e",
   "metadata": {},
   "outputs": [],
   "source": [
    "df_Sintomas[df_Sintomas['repoId'].isin([sintoma_ver])]\n"
   ]
  },
  {
   "cell_type": "code",
   "execution_count": null,
   "id": "7470134c",
   "metadata": {},
   "outputs": [],
   "source": [
    "sintoma_ver= data.index\n",
    "sintoma_ver=sintoma_ver.values[0]\n",
    "sintoma_ver"
   ]
  },
  {
   "cell_type": "code",
   "execution_count": null,
   "id": "ee3c652d",
   "metadata": {},
   "outputs": [],
   "source": [
    "item_preds = ratings_train.dot(top_k_distances) / np.array([np.abs(top_k_distances).sum(axis=1)])"
   ]
  },
  {
   "cell_type": "code",
   "execution_count": null,
   "id": "d6521070",
   "metadata": {},
   "outputs": [],
   "source": []
  },
  {
   "cell_type": "code",
   "execution_count": null,
   "id": "f2e74f10",
   "metadata": {},
   "outputs": [],
   "source": []
  },
  {
   "cell_type": "code",
   "execution_count": null,
   "id": "47ded0d0",
   "metadata": {},
   "outputs": [],
   "source": []
  },
  {
   "cell_type": "code",
   "execution_count": null,
   "id": "31e6acbb",
   "metadata": {},
   "outputs": [],
   "source": []
  },
  {
   "cell_type": "code",
   "execution_count": 360,
   "id": "e3199b48",
   "metadata": {},
   "outputs": [],
   "source": [
    "def get_mse(preds, actuals):\n",
    "    if preds.shape[1] != actuals.shape[1]:\n",
    "        actuals = actuals.T\n",
    "    preds = preds[actuals.nonzero()].flatten()\n",
    "    actuals = actuals[actuals.nonzero()].flatten()\n",
    "    return mean_squared_error(preds, actuals)"
   ]
  },
  {
   "cell_type": "code",
   "execution_count": 361,
   "id": "e112fcff",
   "metadata": {},
   "outputs": [
    {
     "data": {
      "text/plain": [
       "0.455185243370508"
      ]
     },
     "execution_count": 361,
     "metadata": {},
     "output_type": "execute_result"
    }
   ],
   "source": [
    "get_mse(users_predictions, ratings_train)"
   ]
  },
  {
   "cell_type": "code",
   "execution_count": 362,
   "id": "d9f68736",
   "metadata": {},
   "outputs": [
    {
     "ename": "IndexError",
     "evalue": "index 13 is out of bounds for axis 0 with size 13",
     "output_type": "error",
     "traceback": [
      "\u001b[0;31m---------------------------------------------------------------------------\u001b[0m",
      "\u001b[0;31mIndexError\u001b[0m                                Traceback (most recent call last)",
      "Cell \u001b[0;32mIn[362], line 5\u001b[0m\n\u001b[1;32m      2\u001b[0m users_predictions_test \u001b[38;5;241m=\u001b[39m sim_matrix\u001b[38;5;241m.\u001b[39mdot(ratings) \u001b[38;5;241m/\u001b[39m np\u001b[38;5;241m.\u001b[39marray([np\u001b[38;5;241m.\u001b[39mabs(sim_matrix)\u001b[38;5;241m.\u001b[39msum(axis\u001b[38;5;241m=\u001b[39m\u001b[38;5;241m1\u001b[39m)])\u001b[38;5;241m.\u001b[39mT\n\u001b[1;32m      3\u001b[0m users_predictions_test \u001b[38;5;241m=\u001b[39m users_predictions_test[\u001b[38;5;241m50\u001b[39m:\u001b[38;5;241m63\u001b[39m,:]\n\u001b[0;32m----> 5\u001b[0m \u001b[43mget_mse\u001b[49m\u001b[43m(\u001b[49m\u001b[43musers_predictions_test\u001b[49m\u001b[43m,\u001b[49m\u001b[43m \u001b[49m\u001b[43mratings_test\u001b[49m\u001b[43m)\u001b[49m\n",
      "Cell \u001b[0;32mIn[360], line 4\u001b[0m, in \u001b[0;36mget_mse\u001b[0;34m(preds, actuals)\u001b[0m\n\u001b[1;32m      2\u001b[0m \u001b[38;5;28;01mif\u001b[39;00m preds\u001b[38;5;241m.\u001b[39mshape[\u001b[38;5;241m1\u001b[39m] \u001b[38;5;241m!=\u001b[39m actuals\u001b[38;5;241m.\u001b[39mshape[\u001b[38;5;241m1\u001b[39m]:\n\u001b[1;32m      3\u001b[0m     actuals \u001b[38;5;241m=\u001b[39m actuals\u001b[38;5;241m.\u001b[39mT\n\u001b[0;32m----> 4\u001b[0m preds \u001b[38;5;241m=\u001b[39m \u001b[43mpreds\u001b[49m\u001b[43m[\u001b[49m\u001b[43mactuals\u001b[49m\u001b[38;5;241;43m.\u001b[39;49m\u001b[43mnonzero\u001b[49m\u001b[43m(\u001b[49m\u001b[43m)\u001b[49m\u001b[43m]\u001b[49m\u001b[38;5;241m.\u001b[39mflatten()\n\u001b[1;32m      5\u001b[0m actuals \u001b[38;5;241m=\u001b[39m actuals[actuals\u001b[38;5;241m.\u001b[39mnonzero()]\u001b[38;5;241m.\u001b[39mflatten()\n\u001b[1;32m      6\u001b[0m \u001b[38;5;28;01mreturn\u001b[39;00m mean_squared_error(preds, actuals)\n",
      "\u001b[0;31mIndexError\u001b[0m: index 13 is out of bounds for axis 0 with size 13"
     ]
    }
   ],
   "source": [
    "# Realizo las predicciones para el test set\n",
    "users_predictions_test = sim_matrix.dot(ratings) / np.array([np.abs(sim_matrix).sum(axis=1)]).T\n",
    "users_predictions_test = users_predictions_test[50:63,:]\n",
    "\n",
    "get_mse(users_predictions_test, ratings_test)"
   ]
  },
  {
   "cell_type": "code",
   "execution_count": null,
   "id": "b4e18d99",
   "metadata": {},
   "outputs": [],
   "source": [
    "neighbors = NearestNeighbors(1, 'cosine')\n",
    "neighbors.fit(ratings_train.T)"
   ]
  },
  {
   "cell_type": "code",
   "execution_count": null,
   "id": "248e03aa",
   "metadata": {},
   "outputs": [],
   "source": []
  },
  {
   "cell_type": "code",
   "execution_count": null,
   "id": "be047546",
   "metadata": {},
   "outputs": [],
   "source": []
  },
  {
   "cell_type": "code",
   "execution_count": null,
   "id": "869f00f4",
   "metadata": {},
   "outputs": [],
   "source": []
  },
  {
   "cell_type": "code",
   "execution_count": null,
   "id": "41b6fa01",
   "metadata": {},
   "outputs": [],
   "source": []
  },
  {
   "cell_type": "code",
   "execution_count": null,
   "id": "4b0df549",
   "metadata": {},
   "outputs": [],
   "source": []
  },
  {
   "cell_type": "code",
   "execution_count": null,
   "id": "9008a601",
   "metadata": {},
   "outputs": [],
   "source": [
    "df_train_generated,model,target,X_test,y_test, X_train, y_train=train_data (df_train_generated)  "
   ]
  },
  {
   "cell_type": "code",
   "execution_count": null,
   "id": "f0e68dad",
   "metadata": {},
   "outputs": [],
   "source": [
    "evaluate (model, X_test, y_test)"
   ]
  },
  {
   "cell_type": "markdown",
   "id": "4dfaf75b",
   "metadata": {},
   "source": [
    "model"
   ]
  },
  {
   "cell_type": "code",
   "execution_count": null,
   "id": "2a80f503",
   "metadata": {},
   "outputs": [],
   "source": [
    "model"
   ]
  },
  {
   "cell_type": "code",
   "execution_count": null,
   "id": "cd46081a",
   "metadata": {},
   "outputs": [],
   "source": []
  },
  {
   "cell_type": "code",
   "execution_count": null,
   "id": "200b0760",
   "metadata": {},
   "outputs": [],
   "source": []
  },
  {
   "cell_type": "code",
   "execution_count": null,
   "id": "16ce5f17",
   "metadata": {},
   "outputs": [],
   "source": []
  },
  {
   "cell_type": "code",
   "execution_count": null,
   "id": "1ba31649",
   "metadata": {},
   "outputs": [],
   "source": []
  },
  {
   "cell_type": "code",
   "execution_count": null,
   "id": "992ce360",
   "metadata": {},
   "outputs": [],
   "source": []
  },
  {
   "cell_type": "code",
   "execution_count": null,
   "id": "76afdc9f",
   "metadata": {},
   "outputs": [],
   "source": []
  },
  {
   "cell_type": "code",
   "execution_count": null,
   "id": "add60b60",
   "metadata": {},
   "outputs": [],
   "source": []
  },
  {
   "cell_type": "code",
   "execution_count": null,
   "id": "94864a68",
   "metadata": {},
   "outputs": [],
   "source": []
  },
  {
   "cell_type": "code",
   "execution_count": null,
   "id": "5df91d34",
   "metadata": {},
   "outputs": [],
   "source": []
  },
  {
   "cell_type": "code",
   "execution_count": null,
   "id": "6740870f",
   "metadata": {},
   "outputs": [],
   "source": []
  },
  {
   "cell_type": "code",
   "execution_count": null,
   "id": "2fee7f48",
   "metadata": {},
   "outputs": [],
   "source": []
  },
  {
   "cell_type": "code",
   "execution_count": null,
   "id": "4c6eb964",
   "metadata": {},
   "outputs": [],
   "source": [
    "import pickle\n",
    "\n",
    "#pickle.dump(model,open(\"modelo19m.pickle\",\"wb\"))\n",
    "model2=pickle.load(open(\"modelo19m.pickle\",\"rb\"))"
   ]
  },
  {
   "cell_type": "code",
   "execution_count": null,
   "id": "2f6bcccc",
   "metadata": {},
   "outputs": [],
   "source": [
    "df_train_generated.to_csv(\"df_train_final.csv\", index=False)"
   ]
  },
  {
   "cell_type": "code",
   "execution_count": null,
   "id": "76dca18d",
   "metadata": {},
   "outputs": [],
   "source": [
    "from joblib import dump\n",
    "dump(model, 'modelo19m.joblib') "
   ]
  },
  {
   "cell_type": "code",
   "execution_count": null,
   "id": "46e36a81",
   "metadata": {},
   "outputs": [],
   "source": [
    "from joblib import load\n",
    "new_model = load('modelo19m.joblib')"
   ]
  },
  {
   "cell_type": "code",
   "execution_count": null,
   "id": "63db9e65",
   "metadata": {},
   "outputs": [],
   "source": [
    "evaluate (new_model, X_test, y_test)"
   ]
  },
  {
   "cell_type": "code",
   "execution_count": null,
   "id": "303bd1e0",
   "metadata": {},
   "outputs": [],
   "source": [
    "param_grid = { \n",
    "    'n_estimators': [200, 500],\n",
    "    'max_features': ['auto', 'sqrt', 'log2'],\n",
    "    'max_depth' : [4,5,6,7,8],\n",
    "    'criterion' :['gini', 'entropy']\n",
    "}"
   ]
  },
  {
   "cell_type": "code",
   "execution_count": null,
   "id": "5dbf0d15",
   "metadata": {},
   "outputs": [],
   "source": [
    "CV_rfc = GridSearchCV(estimator=model, param_grid=param_grid, cv= 5)\n",
    "CV_rfc.fit(X_train, y_train)"
   ]
  },
  {
   "cell_type": "code",
   "execution_count": null,
   "id": "2bf86c23",
   "metadata": {},
   "outputs": [],
   "source": []
  },
  {
   "cell_type": "code",
   "execution_count": null,
   "id": "63c90cbc",
   "metadata": {},
   "outputs": [],
   "source": [
    "CV_rfc.best_params_"
   ]
  },
  {
   "cell_type": "code",
   "execution_count": null,
   "id": "fe0b01a2",
   "metadata": {},
   "outputs": [],
   "source": [
    "X_test"
   ]
  },
  {
   "cell_type": "code",
   "execution_count": null,
   "id": "108964c6",
   "metadata": {},
   "outputs": [],
   "source": [
    "X_test.iloc[[1]]"
   ]
  },
  {
   "cell_type": "code",
   "execution_count": null,
   "id": "8a0b6343",
   "metadata": {},
   "outputs": [],
   "source": [
    "model.predict(X_test.iloc[[2]])"
   ]
  },
  {
   "cell_type": "code",
   "execution_count": null,
   "id": "59098881",
   "metadata": {},
   "outputs": [],
   "source": [
    "y_test.iloc[[2]]"
   ]
  },
  {
   "cell_type": "code",
   "execution_count": null,
   "id": "32d17c3b",
   "metadata": {},
   "outputs": [],
   "source": [
    "predicciones = model.predict_proba(X_test.iloc[[2]])\n",
    "predicciones.shape\n"
   ]
  },
  {
   "cell_type": "code",
   "execution_count": null,
   "id": "3a370224",
   "metadata": {},
   "outputs": [],
   "source": [
    "X_test.iloc[[2]]\n"
   ]
  },
  {
   "cell_type": "code",
   "execution_count": null,
   "id": "0360cb56",
   "metadata": {},
   "outputs": [],
   "source": [
    "a=df_train_generated.columns\n"
   ]
  },
  {
   "cell_type": "code",
   "execution_count": null,
   "id": "c84529bb",
   "metadata": {},
   "outputs": [],
   "source": [
    "b=a.to_list()\n",
    "b.remove('id_Enfermedad')\n",
    "b"
   ]
  },
  {
   "cell_type": "code",
   "execution_count": null,
   "id": "6dcde3ae",
   "metadata": {},
   "outputs": [],
   "source": [
    "df_train_generated.columns\n",
    "df_predicciones = pd.DataFrame(data=predicciones)\n",
    "#df_predicciones['clasificacion_default_0.5'] = np.where(df_predicciones['0'] > df_predicciones['1'], 0, 1)\n",
    "df_predicciones"
   ]
  },
  {
   "cell_type": "code",
   "execution_count": null,
   "id": "b7564f87",
   "metadata": {},
   "outputs": [],
   "source": [
    "df_predicciones2=df_predicciones.transpose()\n",
    "df_predicciones2"
   ]
  },
  {
   "cell_type": "code",
   "execution_count": null,
   "id": "06475b4b",
   "metadata": {},
   "outputs": [],
   "source": [
    "list_to_rank=df_predicciones2[df_predicciones2[0]>0]"
   ]
  },
  {
   "cell_type": "code",
   "execution_count": null,
   "id": "50f8299e",
   "metadata": {},
   "outputs": [],
   "source": [
    "rank = list_to_rank.sort_values(0,ascending=False)\n",
    "rank"
   ]
  },
  {
   "cell_type": "code",
   "execution_count": null,
   "id": "e0e3ad4b",
   "metadata": {},
   "outputs": [],
   "source": [
    "rank2=rank.reset_index()"
   ]
  },
  {
   "cell_type": "code",
   "execution_count": null,
   "id": "b5df6a67",
   "metadata": {},
   "outputs": [],
   "source": []
  },
  {
   "cell_type": "code",
   "execution_count": null,
   "id": "51f42b4c",
   "metadata": {},
   "outputs": [],
   "source": [
    "rank2=rank2.head(5)\n",
    "rank2"
   ]
  },
  {
   "cell_type": "code",
   "execution_count": null,
   "id": "3f24b08b",
   "metadata": {},
   "outputs": [],
   "source": [
    "rank2.merge (data)"
   ]
  },
  {
   "cell_type": "code",
   "execution_count": null,
   "id": "7e3eb1c9",
   "metadata": {},
   "outputs": [],
   "source": [
    "rank2[\"Enfermedad\"]= rank2.apply(lambda row:\n",
    "                                 data[data['Id_Enfermedad']==row[\"index\"]].iloc[0][0]\n",
    "                                 if data['Id_Enfermedad']==row[\"index\"]\n",
    "                                 else 0,\n",
    "                                 axis=1\n",
    "                                )"
   ]
  },
  {
   "cell_type": "code",
   "execution_count": null,
   "id": "5d198c78",
   "metadata": {},
   "outputs": [],
   "source": []
  },
  {
   "cell_type": "code",
   "execution_count": null,
   "id": "4cc45ec7",
   "metadata": {},
   "outputs": [],
   "source": [
    "data.iloc[0][0]"
   ]
  },
  {
   "cell_type": "code",
   "execution_count": null,
   "id": "26fa3cf4",
   "metadata": {},
   "outputs": [],
   "source": [
    "for i in range(1):\n",
    "    \n",
    "    a=data[data['Id_Enfermedad']==rank2[\"index\"][i]].iloc[0][0]\n",
    "    a"
   ]
  },
  {
   "cell_type": "code",
   "execution_count": null,
   "id": "2e79ece6",
   "metadata": {},
   "outputs": [],
   "source": []
  },
  {
   "cell_type": "code",
   "execution_count": null,
   "id": "07495491",
   "metadata": {},
   "outputs": [],
   "source": [
    "a"
   ]
  },
  {
   "cell_type": "code",
   "execution_count": null,
   "id": "06031cba",
   "metadata": {},
   "outputs": [],
   "source": [
    "a.iloc[0][0]"
   ]
  },
  {
   "cell_type": "code",
   "execution_count": null,
   "id": "d0707716",
   "metadata": {},
   "outputs": [],
   "source": [
    "list_rank=rank.to_numpy().tolist()\n",
    "list_rank\n"
   ]
  },
  {
   "cell_type": "code",
   "execution_count": null,
   "id": "0fc56788",
   "metadata": {},
   "outputs": [],
   "source": [
    "for i in range(5):\n",
    "    print (i)\n",
    "    print (lis)\n",
    "        "
   ]
  },
  {
   "cell_type": "code",
   "execution_count": null,
   "id": "2945556d",
   "metadata": {},
   "outputs": [],
   "source": [
    "data[data['Id_Enfermedad']==2389]"
   ]
  },
  {
   "cell_type": "code",
   "execution_count": null,
   "id": "93e701de",
   "metadata": {},
   "outputs": [],
   "source": []
  },
  {
   "cell_type": "code",
   "execution_count": null,
   "id": "2745cca8",
   "metadata": {},
   "outputs": [],
   "source": []
  },
  {
   "cell_type": "code",
   "execution_count": null,
   "id": "26065340",
   "metadata": {},
   "outputs": [],
   "source": []
  },
  {
   "cell_type": "code",
   "execution_count": null,
   "id": "db9d340a",
   "metadata": {},
   "outputs": [],
   "source": []
  },
  {
   "cell_type": "code",
   "execution_count": null,
   "id": "300c7959",
   "metadata": {},
   "outputs": [],
   "source": []
  },
  {
   "cell_type": "code",
   "execution_count": null,
   "id": "3452282c",
   "metadata": {},
   "outputs": [],
   "source": []
  },
  {
   "cell_type": "code",
   "execution_count": null,
   "id": "52085cc2",
   "metadata": {},
   "outputs": [],
   "source": []
  },
  {
   "cell_type": "code",
   "execution_count": null,
   "id": "27d3771e",
   "metadata": {},
   "outputs": [],
   "source": []
  },
  {
   "cell_type": "code",
   "execution_count": null,
   "id": "5f0ba742",
   "metadata": {},
   "outputs": [],
   "source": []
  },
  {
   "cell_type": "code",
   "execution_count": null,
   "id": "f7f759cc",
   "metadata": {},
   "outputs": [],
   "source": []
  },
  {
   "cell_type": "code",
   "execution_count": null,
   "id": "58b53230",
   "metadata": {},
   "outputs": [],
   "source": []
  },
  {
   "cell_type": "code",
   "execution_count": null,
   "id": "14b3014c",
   "metadata": {},
   "outputs": [],
   "source": []
  },
  {
   "cell_type": "code",
   "execution_count": null,
   "id": "9e7d448a",
   "metadata": {},
   "outputs": [],
   "source": []
  },
  {
   "cell_type": "code",
   "execution_count": null,
   "id": "19531462",
   "metadata": {},
   "outputs": [],
   "source": []
  },
  {
   "cell_type": "code",
   "execution_count": null,
   "id": "015ac772",
   "metadata": {},
   "outputs": [],
   "source": []
  },
  {
   "cell_type": "code",
   "execution_count": null,
   "id": "e496a776",
   "metadata": {},
   "outputs": [],
   "source": []
  },
  {
   "cell_type": "code",
   "execution_count": null,
   "id": "049f0a0c",
   "metadata": {},
   "outputs": [],
   "source": []
  },
  {
   "cell_type": "code",
   "execution_count": null,
   "id": "f13fa43e",
   "metadata": {},
   "outputs": [],
   "source": []
  },
  {
   "cell_type": "code",
   "execution_count": null,
   "id": "596c53cb",
   "metadata": {},
   "outputs": [],
   "source": []
  },
  {
   "cell_type": "code",
   "execution_count": null,
   "id": "bc28f558",
   "metadata": {},
   "outputs": [],
   "source": []
  },
  {
   "cell_type": "code",
   "execution_count": null,
   "id": "84f191d8",
   "metadata": {},
   "outputs": [],
   "source": []
  },
  {
   "cell_type": "code",
   "execution_count": null,
   "id": "0dfee2f7",
   "metadata": {},
   "outputs": [],
   "source": []
  },
  {
   "cell_type": "code",
   "execution_count": null,
   "id": "2b528a4f",
   "metadata": {},
   "outputs": [],
   "source": [
    "\n"
   ]
  },
  {
   "cell_type": "code",
   "execution_count": null,
   "id": "78dbb816",
   "metadata": {},
   "outputs": [],
   "source": []
  },
  {
   "cell_type": "code",
   "execution_count": null,
   "id": "c7aa14a4",
   "metadata": {},
   "outputs": [],
   "source": []
  },
  {
   "cell_type": "code",
   "execution_count": null,
   "id": "8c3c7b8b",
   "metadata": {},
   "outputs": [],
   "source": []
  },
  {
   "cell_type": "code",
   "execution_count": null,
   "id": "cd8611d2",
   "metadata": {},
   "outputs": [],
   "source": []
  },
  {
   "cell_type": "code",
   "execution_count": null,
   "id": "9c561952",
   "metadata": {},
   "outputs": [],
   "source": []
  },
  {
   "cell_type": "code",
   "execution_count": null,
   "id": "51951b7b",
   "metadata": {},
   "outputs": [],
   "source": []
  },
  {
   "cell_type": "code",
   "execution_count": null,
   "id": "b40c4efd",
   "metadata": {},
   "outputs": [],
   "source": []
  },
  {
   "cell_type": "code",
   "execution_count": null,
   "id": "2a4fdd5f",
   "metadata": {},
   "outputs": [],
   "source": []
  },
  {
   "cell_type": "code",
   "execution_count": null,
   "id": "5e6ac7e8",
   "metadata": {},
   "outputs": [],
   "source": []
  },
  {
   "cell_type": "code",
   "execution_count": null,
   "id": "c679b556",
   "metadata": {},
   "outputs": [],
   "source": []
  },
  {
   "cell_type": "code",
   "execution_count": null,
   "id": "c44a719b",
   "metadata": {},
   "outputs": [],
   "source": []
  },
  {
   "cell_type": "code",
   "execution_count": null,
   "id": "87c2e2a8",
   "metadata": {},
   "outputs": [],
   "source": []
  },
  {
   "cell_type": "code",
   "execution_count": null,
   "id": "f40e9129",
   "metadata": {},
   "outputs": [],
   "source": []
  },
  {
   "cell_type": "code",
   "execution_count": null,
   "id": "994e8366",
   "metadata": {},
   "outputs": [],
   "source": []
  },
  {
   "cell_type": "code",
   "execution_count": null,
   "id": "75086651",
   "metadata": {},
   "outputs": [],
   "source": []
  },
  {
   "cell_type": "code",
   "execution_count": null,
   "id": "7e39e638",
   "metadata": {},
   "outputs": [],
   "source": []
  },
  {
   "cell_type": "code",
   "execution_count": null,
   "id": "4549cfd8",
   "metadata": {},
   "outputs": [],
   "source": []
  },
  {
   "cell_type": "code",
   "execution_count": null,
   "id": "88b810c4",
   "metadata": {},
   "outputs": [],
   "source": [
    "\n"
   ]
  },
  {
   "cell_type": "code",
   "execution_count": null,
   "id": "2327cc23",
   "metadata": {},
   "outputs": [],
   "source": []
  },
  {
   "cell_type": "code",
   "execution_count": null,
   "id": "ea7f0749",
   "metadata": {},
   "outputs": [],
   "source": []
  },
  {
   "cell_type": "code",
   "execution_count": null,
   "id": "7f535947",
   "metadata": {},
   "outputs": [],
   "source": []
  },
  {
   "cell_type": "code",
   "execution_count": null,
   "id": "621875a4",
   "metadata": {},
   "outputs": [],
   "source": []
  },
  {
   "cell_type": "code",
   "execution_count": null,
   "id": "24b1f889",
   "metadata": {},
   "outputs": [],
   "source": []
  },
  {
   "cell_type": "code",
   "execution_count": null,
   "id": "577ee4f4",
   "metadata": {},
   "outputs": [],
   "source": []
  },
  {
   "cell_type": "code",
   "execution_count": null,
   "id": "ded24e90",
   "metadata": {},
   "outputs": [],
   "source": []
  },
  {
   "cell_type": "code",
   "execution_count": null,
   "id": "ecd18e53",
   "metadata": {},
   "outputs": [],
   "source": []
  },
  {
   "cell_type": "code",
   "execution_count": null,
   "id": "a69f0ca1",
   "metadata": {},
   "outputs": [],
   "source": []
  },
  {
   "cell_type": "code",
   "execution_count": null,
   "id": "d7a4ac9f",
   "metadata": {},
   "outputs": [],
   "source": []
  },
  {
   "cell_type": "code",
   "execution_count": null,
   "id": "aa2c78b8",
   "metadata": {},
   "outputs": [],
   "source": []
  },
  {
   "cell_type": "code",
   "execution_count": null,
   "id": "dcb7d983",
   "metadata": {},
   "outputs": [],
   "source": []
  },
  {
   "cell_type": "code",
   "execution_count": null,
   "id": "6e450b7b",
   "metadata": {},
   "outputs": [],
   "source": []
  },
  {
   "cell_type": "code",
   "execution_count": null,
   "id": "c60685bf",
   "metadata": {},
   "outputs": [],
   "source": [
    "\n"
   ]
  },
  {
   "cell_type": "code",
   "execution_count": null,
   "id": "d01789d3",
   "metadata": {},
   "outputs": [],
   "source": []
  },
  {
   "cell_type": "code",
   "execution_count": null,
   "id": "5c345bdc",
   "metadata": {},
   "outputs": [],
   "source": []
  },
  {
   "cell_type": "code",
   "execution_count": null,
   "id": "589341a4",
   "metadata": {},
   "outputs": [],
   "source": [
    "\n"
   ]
  },
  {
   "cell_type": "code",
   "execution_count": null,
   "id": "af7b2430",
   "metadata": {},
   "outputs": [],
   "source": []
  },
  {
   "cell_type": "code",
   "execution_count": null,
   "id": "7cd4cae0",
   "metadata": {},
   "outputs": [],
   "source": []
  },
  {
   "cell_type": "code",
   "execution_count": null,
   "id": "20c0ed35",
   "metadata": {},
   "outputs": [],
   "source": []
  },
  {
   "cell_type": "code",
   "execution_count": null,
   "id": "4a7adcc5",
   "metadata": {},
   "outputs": [],
   "source": []
  },
  {
   "cell_type": "code",
   "execution_count": null,
   "id": "8851eeec",
   "metadata": {},
   "outputs": [],
   "source": [
    "\n"
   ]
  },
  {
   "cell_type": "code",
   "execution_count": null,
   "id": "dd5a8b36",
   "metadata": {},
   "outputs": [],
   "source": [
    "\n"
   ]
  },
  {
   "cell_type": "code",
   "execution_count": null,
   "id": "4ed33270",
   "metadata": {},
   "outputs": [],
   "source": [
    "\n"
   ]
  },
  {
   "cell_type": "code",
   "execution_count": null,
   "id": "9c371fa1",
   "metadata": {},
   "outputs": [],
   "source": [
    "\n",
    "\n"
   ]
  },
  {
   "cell_type": "code",
   "execution_count": null,
   "id": "3a1aa7ea",
   "metadata": {},
   "outputs": [],
   "source": []
  },
  {
   "cell_type": "code",
   "execution_count": null,
   "id": "1b23461d",
   "metadata": {},
   "outputs": [],
   "source": []
  },
  {
   "cell_type": "code",
   "execution_count": null,
   "id": "220d0c59",
   "metadata": {},
   "outputs": [],
   "source": []
  },
  {
   "cell_type": "code",
   "execution_count": null,
   "id": "9f8ce2d4",
   "metadata": {},
   "outputs": [],
   "source": []
  },
  {
   "cell_type": "code",
   "execution_count": null,
   "id": "df4d6d0b",
   "metadata": {},
   "outputs": [],
   "source": []
  },
  {
   "cell_type": "code",
   "execution_count": null,
   "id": "2d14440c",
   "metadata": {},
   "outputs": [],
   "source": []
  },
  {
   "cell_type": "code",
   "execution_count": null,
   "id": "81a8f72e",
   "metadata": {},
   "outputs": [],
   "source": []
  },
  {
   "cell_type": "code",
   "execution_count": null,
   "id": "c61233cb",
   "metadata": {},
   "outputs": [],
   "source": []
  },
  {
   "cell_type": "code",
   "execution_count": null,
   "id": "25da1db5",
   "metadata": {},
   "outputs": [],
   "source": []
  },
  {
   "cell_type": "code",
   "execution_count": null,
   "id": "3581334c",
   "metadata": {},
   "outputs": [],
   "source": [
    "\n"
   ]
  },
  {
   "cell_type": "code",
   "execution_count": null,
   "id": "57094c01",
   "metadata": {},
   "outputs": [],
   "source": []
  },
  {
   "cell_type": "code",
   "execution_count": null,
   "id": "da7ee8e3",
   "metadata": {},
   "outputs": [],
   "source": []
  },
  {
   "cell_type": "code",
   "execution_count": null,
   "id": "683f074b",
   "metadata": {},
   "outputs": [],
   "source": []
  },
  {
   "cell_type": "code",
   "execution_count": null,
   "id": "07a6ac8b",
   "metadata": {},
   "outputs": [],
   "source": []
  },
  {
   "cell_type": "code",
   "execution_count": null,
   "id": "a05977ec",
   "metadata": {},
   "outputs": [],
   "source": []
  },
  {
   "cell_type": "code",
   "execution_count": null,
   "id": "552e9419",
   "metadata": {},
   "outputs": [],
   "source": []
  },
  {
   "cell_type": "code",
   "execution_count": null,
   "id": "f6f635ef",
   "metadata": {},
   "outputs": [],
   "source": []
  },
  {
   "cell_type": "code",
   "execution_count": null,
   "id": "98485235",
   "metadata": {},
   "outputs": [],
   "source": []
  },
  {
   "cell_type": "markdown",
   "id": "65f1ae66",
   "metadata": {},
   "source": [
    "#### "
   ]
  },
  {
   "cell_type": "code",
   "execution_count": null,
   "id": "a879cb4c",
   "metadata": {},
   "outputs": [],
   "source": []
  },
  {
   "cell_type": "code",
   "execution_count": null,
   "id": "13ea6fb2",
   "metadata": {},
   "outputs": [],
   "source": []
  },
  {
   "cell_type": "code",
   "execution_count": null,
   "id": "a004332b",
   "metadata": {},
   "outputs": [],
   "source": []
  },
  {
   "cell_type": "code",
   "execution_count": null,
   "id": "e247e16e",
   "metadata": {},
   "outputs": [],
   "source": []
  },
  {
   "cell_type": "code",
   "execution_count": null,
   "id": "afa51577",
   "metadata": {},
   "outputs": [],
   "source": []
  },
  {
   "cell_type": "code",
   "execution_count": null,
   "id": "2a6eae33",
   "metadata": {},
   "outputs": [],
   "source": []
  },
  {
   "cell_type": "code",
   "execution_count": null,
   "id": "d56870dd",
   "metadata": {},
   "outputs": [],
   "source": []
  },
  {
   "cell_type": "code",
   "execution_count": null,
   "id": "099ff457",
   "metadata": {},
   "outputs": [],
   "source": []
  },
  {
   "cell_type": "code",
   "execution_count": null,
   "id": "1b973bcc",
   "metadata": {},
   "outputs": [],
   "source": []
  },
  {
   "cell_type": "code",
   "execution_count": null,
   "id": "757b309b",
   "metadata": {},
   "outputs": [],
   "source": [
    "\n"
   ]
  },
  {
   "cell_type": "code",
   "execution_count": null,
   "id": "d90c431c",
   "metadata": {},
   "outputs": [],
   "source": []
  },
  {
   "cell_type": "code",
   "execution_count": null,
   "id": "20b035f9",
   "metadata": {},
   "outputs": [],
   "source": []
  },
  {
   "cell_type": "code",
   "execution_count": null,
   "id": "6f89a9e2",
   "metadata": {},
   "outputs": [],
   "source": []
  },
  {
   "cell_type": "code",
   "execution_count": null,
   "id": "77f02d9e",
   "metadata": {},
   "outputs": [],
   "source": []
  }
 ],
 "metadata": {
  "kernelspec": {
   "display_name": "Python 3 (ipykernel)",
   "language": "python",
   "name": "python3"
  },
  "language_info": {
   "codemirror_mode": {
    "name": "ipython",
    "version": 3
   },
   "file_extension": ".py",
   "mimetype": "text/x-python",
   "name": "python",
   "nbconvert_exporter": "python",
   "pygments_lexer": "ipython3",
   "version": "3.9.13"
  }
 },
 "nbformat": 4,
 "nbformat_minor": 5
}
