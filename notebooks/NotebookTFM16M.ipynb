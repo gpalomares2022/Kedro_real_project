{
 "cells": [
  {
   "cell_type": "markdown",
   "id": "1663e304",
   "metadata": {},
   "source": [
    "## Import Library"
   ]
  },
  {
   "cell_type": "code",
   "execution_count": 160,
   "id": "2acbb61b",
   "metadata": {},
   "outputs": [],
   "source": [
    "import logging\n",
    "from typing import Dict, Tuple\n",
    "import pandas as pd\n",
    "import numpy as np\n",
    "from sklearn.ensemble import RandomForestClassifier\n",
    "from sklearn.metrics import r2_score\n",
    "from sklearn.model_selection import train_test_split\n",
    "from lightgbm import LGBMRegressor\n",
    "import random\n",
    "from sklearn.metrics import f1_score, accuracy_score, roc_auc_score, roc_curve, precision_score\n",
    "from sklearn.model_selection import train_test_split\n",
    "from kedro.extras.datasets.pickle import PickleDataSet\n",
    "from sklearn.model_selection import GridSearchCV\n",
    "import xmltodict\n",
    "import pandas as pd\n",
    "import numpy as np\n",
    "from sklearn.metrics import mean_squared_error\n",
    "from sklearn.model_selection import train_test_split\n",
    "from sklearn.neighbors import NearestNeighbors\n",
    "import matplotlib.pyplot as plt\n",
    "import sklearn\n",
    "from sklearn.model_selection import GridSearchCV\n",
    "from sklearn.neighbors import KNeighborsClassifier\n",
    "\n"
   ]
  },
  {
   "cell_type": "markdown",
   "id": "6df642bf",
   "metadata": {},
   "source": [
    "## Load/Save Data (XML/CSV)"
   ]
  },
  {
   "cell_type": "code",
   "execution_count": 2,
   "id": "ca0abbc8",
   "metadata": {},
   "outputs": [],
   "source": [
    "def _clean_name (cadena):\n",
    "    \n",
    "    cadena_str= str(cadena)\n",
    "    cadena_str=cadena_str[26:]\n",
    "    cadena_str = cadena_str.replace('}', '',1)\n",
    "    cadena_str = cadena_str.replace('\\'','')\n",
    "    \n",
    "    return cadena_str"
   ]
  },
  {
   "cell_type": "code",
   "execution_count": 3,
   "id": "2a963b35",
   "metadata": {},
   "outputs": [],
   "source": [
    "def load_from_xml (path):\n",
    "    xml=open(path, encoding='ISO-8859-1')\n",
    "    xmldict = xmltodict.parse(xml.read())\n",
    "    df_enfermedades = pd.DataFrame()\n",
    "    lista_enfer_sinto_prob=[]\n",
    "    first_tree=xmldict[\"JDBOR\"][\"HPODisorderSetStatusList\"][\"HPODisorderSetStatus\"]\n",
    "    id=0\n",
    "    for nodo in xmldict[\"JDBOR\"][\"HPODisorderSetStatusList\"][\"HPODisorderSetStatus\"]:\n",
    "     \n",
    "        enfermedad=_clean_name(nodo[\"Disorder\"][\"Name\"])\n",
    "        sec_tree= nodo[\"Disorder\"][\"HPODisorderAssociationList\"]\n",
    "        if (len(sec_tree)==2):\n",
    "            tam_sintomas=len(sec_tree[\"HPODisorderAssociation\"])\n",
    "            i=0\n",
    "            registro_enfer_sinto_prob=[]\n",
    "            while (i<tam_sintomas):\n",
    "                registro_enfer_sinto_prob.append(enfermedad)\n",
    "                registro_enfer_sinto_prob.append(id)\n",
    "                registro_enfer_sinto_prob.append(sec_tree[\"HPODisorderAssociation\"][i][\"HPO\"][\"HPOTerm\"])\n",
    "                frecuencia=_clean_name(sec_tree[\"HPODisorderAssociation\"][i][\"HPOFrequency\"][\"Name\"])\n",
    "                registro_enfer_sinto_prob.append(frecuencia)\n",
    "                lista_enfer_sinto_prob.append (registro_enfer_sinto_prob)\n",
    "                registro_enfer_sinto_prob=[]\n",
    "                i=i+1\n",
    "        id=id+1\n",
    "    df_enfermedades = pd.DataFrame(lista_enfer_sinto_prob)\n",
    "    df_enfermedades = df_enfermedades.rename(columns={0:'Enfermedad',1:'Id_Enfermedad', 2:'Sintoma', 3:\"Frecuencia\"})\n",
    "    \n",
    "    return df_enfermedades        "
   ]
  },
  {
   "cell_type": "code",
   "execution_count": 4,
   "id": "ad4b8f4d",
   "metadata": {},
   "outputs": [],
   "source": [
    "def save_to_csv (data, path):\n",
    "    data.to_csv(path, index=False)"
   ]
  },
  {
   "cell_type": "code",
   "execution_count": 5,
   "id": "773c6f6b",
   "metadata": {},
   "outputs": [],
   "source": [
    "def load_from_csv (path):\n",
    "    data=pd.read_csv(path)\n",
    "    return data   "
   ]
  },
  {
   "cell_type": "markdown",
   "id": "ffeffcef",
   "metadata": {},
   "source": [
    "## Exploratory Data Analysis (EDA)"
   ]
  },
  {
   "cell_type": "code",
   "execution_count": 6,
   "id": "136d05d1",
   "metadata": {},
   "outputs": [],
   "source": [
    "def clean_data(data): \n",
    "    \n",
    "    data=data.drop_duplicates()\n",
    "    data=data.dropna()\n",
    "    vc = data[\"Sintoma\"].value_counts()\n",
    "    vector=vc[vc < 50].index\n",
    "    for a in vector:\n",
    "        indexNames = data [ data[\"Sintoma\"] == a ].index\n",
    "        for b in indexNames:\n",
    "            data.drop(b , inplace=True, axis=0)\n",
    "  \n",
    "    return data "
   ]
  },
  {
   "cell_type": "markdown",
   "id": "245db642",
   "metadata": {},
   "source": [
    "## Feature Engineering "
   ]
  },
  {
   "cell_type": "code",
   "execution_count": 7,
   "id": "4dba0e5d",
   "metadata": {},
   "outputs": [],
   "source": [
    "def _cambiar_columnas(df):\n",
    "    \n",
    "    columnas=len(df.columns)\n",
    "    i=0\n",
    "    while (i<columnas):\n",
    "        df = df.rename(columns={df.columns[i]:i})\n",
    "        i=i+1\n",
    "        \n",
    "        \n",
    "    return df"
   ]
  },
  {
   "cell_type": "code",
   "execution_count": 8,
   "id": "3211473f",
   "metadata": {},
   "outputs": [],
   "source": [
    "def selection_and_preparation_data(data):\n",
    "    \n",
    "    #data=data[(data['Frecuencia']==\"Muy frecuente (99-80%)\")]\n",
    "    data=data[(data['Frecuencia']==\"Muy frecuente (99-80%)\") |\n",
    "              (data['Frecuencia']==\"Frecuente (79-30%)\") |\n",
    "              (data['Frecuencia']==\"Obligatorio (100%)\") |\n",
    "              (data['Frecuencia']==\"Ocasional (29-5%)\")\n",
    "              \n",
    "             ]\n",
    "    #data=data[(data['Frecuencia']==\"Frecuente (79-30%)\")]\n",
    "\n",
    "    \n",
    "        \n",
    "    return data\n"
   ]
  },
  {
   "cell_type": "code",
   "execution_count": 9,
   "id": "0f7ec4ba",
   "metadata": {},
   "outputs": [],
   "source": [
    "def generate_data_train (data, repeticiones):\n",
    "    \n",
    "    sintomas=data.iloc[:,1]\n",
    "    sintomas_sin_repe=sintomas.drop_duplicates()\n",
    "    sintomas_sin_repe=sintomas_sin_repe.sort_values(ascending\n",
    "                              = True)\n",
    "    df_train=pd.DataFrame(columns=sintomas_sin_repe)\n",
    "   # df_train.insert(0, 'Enfermedad', 0)\n",
    "    #df_train.insert(0, 'id_Enfermedad', 0)\n",
    " \n",
    "    \n",
    "    data_agrupado = (data.groupby(\"Enfermedad\")\n",
    "         .agg({\"Sintoma\": np.array, \"Frecuencia\": np.array})\n",
    "         .reset_index()\n",
    "         )\n",
    "    \n",
    "    z=0\n",
    "    j=0\n",
    "    while (z<repeticiones):\n",
    "    \n",
    "  #  print (\"entra\")\n",
    "        i=0\n",
    "        for a in data_agrupado[\"Enfermedad\"]:\n",
    "           # print (\"Enfermedad: \", a)\n",
    "        #vector_enfermedad.append(a)\n",
    "        #lista=[]\n",
    "            lst = [0] * ((len(sintomas_sin_repe)))\n",
    "           \n",
    "            df_train.loc[len(df_train)] = lst\n",
    "           # df_train[\"Enfermedad\"][j]=a\n",
    "            #df_train[\"id_Enfermedad\"][j]=(i)\n",
    "           \n",
    "            pos=0\n",
    "            for b in data_agrupado[\"Sintoma\"][i]:\n",
    "                valor_aleatorio = random.random()\n",
    "                frecuencia=data_agrupado[\"Frecuencia\"][i][pos]\n",
    "            #    print (\"frecuencia:\", frecuencia)\n",
    "                if (frecuencia==\"Muy frecuente (99-80%)\"):\n",
    "             #       print (b)\n",
    "              #      print (\"es muy frecuente\")\n",
    "                    #if (valor_aleatorio>0.4):\n",
    "                        valor_entero=3\n",
    "                    #else:\n",
    "                     #   valor_entero=0\n",
    "                elif (frecuencia==\"Frecuente (79-30%)\"):\n",
    "               #     print (b)\n",
    "                #    print (\"es frecuente\")\n",
    "                    #if (valor_aleatorio>0.6):\n",
    "                        valor_entero=2\n",
    "                    #else:\n",
    "                     #   valor_entero=0\n",
    "                         \n",
    "                elif (frecuencia==\"Obligatorio (100%)\"):\n",
    "                    valor_entero=4\n",
    "\n",
    "                elif (frecuencia==\"Ocasional (29-5%)\"):\n",
    "                    valor_entero=1\n",
    "                    \n",
    "                df_train[b][j]=valor_entero\n",
    "               \n",
    "                pos=pos+1\n",
    "            j=j+1\n",
    "            i=i+1\n",
    "        z=z+1\n",
    "        print (\"VUELTA: \", z)\n",
    "        print (\"Tamaño: \",j)\n",
    "    return df_train      "
   ]
  },
  {
   "cell_type": "code",
   "execution_count": null,
   "id": "709542ab",
   "metadata": {},
   "outputs": [],
   "source": []
  },
  {
   "cell_type": "markdown",
   "id": "eba84902",
   "metadata": {},
   "source": [
    "## Train Data and Predict"
   ]
  },
  {
   "cell_type": "code",
   "execution_count": 10,
   "id": "d6f545d9",
   "metadata": {},
   "outputs": [],
   "source": [
    "def train_data (df_train):\n",
    "    \n",
    "    target=df_train[\"id_Enfermedad\"]\n",
    "   # data=data.drop (['Enfermedad'], axis=1)\n",
    "    \n",
    "    X_train, X_test, y_train, y_test = train_test_split(df_train,target)\n",
    "    rf= RandomForestClassifier()\n",
    "    rf.fit (X_train,y_train)\n",
    "    #prediccion=rf.predict(X_test)\n",
    "    \n",
    "    return df_train,rf,target,X_test,y_test, X_train, y_train\n"
   ]
  },
  {
   "cell_type": "code",
   "execution_count": 11,
   "id": "0cf7cfbf",
   "metadata": {},
   "outputs": [],
   "source": [
    "def aparece_y_como (scoring_enfermedades,id_Sintoma, df_Enfermedades):\n",
    "    \n",
    "\n",
    "    \n",
    "    j=0\n",
    "    enfermedades=[]\n",
    "    while (j<len(scoring_enfermedades)):\n",
    "        enfermedad=[]\n",
    "        id_enfermedad=scoring_enfermedades[\"index\"][j]\n",
    "        scoring=scoring_enfermedades[id_Sintoma][j]\n",
    "        \n",
    "        enfermedad.append(id_enfermedad)\n",
    "       \n",
    "        enfermedad.append(df_Enfermedades[df_Enfermedades[\"index\"]==id_enfermedad][\"Enfermedad\"].values[0])\n",
    "   \n",
    "        enfermedad.append(scoring)\n",
    "        lista=df_EnfeySinto_select[df_EnfeySinto_select[\"Enfermedad\"]==\n",
    "                                   df_Enfermedades.loc[id_enfermedad][1]]\n",
    "        lista=lista.reset_index()\n",
    "        sintoma= df_Sintomas.loc[id_Sintoma].Sintoma\n",
    "        \n",
    "        i=0\n",
    "        while i<len(lista):\n",
    "         \n",
    "            if lista[\"Sintoma\"][i]==sintoma:\n",
    "                enfermedad.append(lista[\"Frecuencia\"][i])\n",
    "            \n",
    "            i=i+1  \n",
    "        j=j+1\n",
    "        enfermedades.append(enfermedad)\n",
    "    return enfermedades"
   ]
  },
  {
   "cell_type": "code",
   "execution_count": 35,
   "id": "1d4ba4a1",
   "metadata": {},
   "outputs": [],
   "source": [
    "def saca_enfermedades (vector,df_Enfermedades):\n",
    "    \n",
    "    enfermedades=[]\n",
    "    for j in vector:\n",
    "        enfermedades.append(df_Enfermedades[df_Enfermedades[\"index\"]==j][\"Enfermedad\"])\n",
    "        \n",
    "    return enfermedades"
   ]
  },
  {
   "cell_type": "code",
   "execution_count": 36,
   "id": "9379c47c",
   "metadata": {},
   "outputs": [],
   "source": [
    "def predict_collaborative_filtering_ser_based(ratings, sintoma, elementos):\n",
    " \n",
    "    id_sintoma = df_Sintomas[df_Sintomas['Sintoma'] == sintoma].index.values[0]\n",
    "\n",
    "    ratings_train, ratings_test = train_test_split(ratings, test_size = 0.2, shuffle=False, random_state=42)\n",
    "    print (ratings_train.shape)\n",
    "    print (ratings_test.shape)\n",
    "    sim_matrix = 1 - sklearn.metrics.pairwise.cosine_distances(ratings)\n",
    "    \n",
    "    #Matriz de similitud entre los usuarios (distancia del coseno -vectores-).\n",
    "    #Predecir la valoración desconocida de un ítem i para un usuario activo u basandonos en la suma ponderada de\n",
    "    #todas las valoraciones del resto de usuarios para dicho ítem.\n",
    "    #Recomendaremos los nuevos ítems a los usuarios según lo establecido en los pasos anteriores.\n",
    "    #separar las filas y columnas de train y test\n",
    "    sim_matrix_train = sim_matrix[0:386,0:386]\n",
    "    sim_matrix_test = sim_matrix[386:483,386:483]\n",
    "    \n",
    "    #users_predictions = sim_matrix_train.dot(ratings_train) / np.array([np.abs(sim_matrix_train).sum(axis=1)]).T\n",
    "    users_predictions = sim_matrix.dot(ratings) / np.array([np.abs(sim_matrix).sum(axis=1)]).T\n",
    "\n",
    "    \n",
    "    \n",
    "    #Predicciones (las recomendaciones!)\n",
    "    \n",
    "    user0=users_predictions.argsort()[id_sintoma]\n",
    "    vector_id_enfermedad_scoring=[]\n",
    "    for i, aRepo in enumerate(user0[-elementos:]):\n",
    "        v=[]\n",
    "        selRepo = df_Enfermedades[df_Enfermedades[\"index\"]==aRepo]\n",
    "  \n",
    "       # print('Enfermedad:', selRepo[\"Enfermedad\"] , 'scoring:', users_predictions[sintoma_ver][aRepo])\n",
    "        v.append (aRepo)\n",
    "        v.append (users_predictions[id_sintoma][aRepo])\n",
    "        vector_id_enfermedad_scoring.append(v)\n",
    "        \n",
    "    vector_id_enfermedad_scoring=pd.DataFrame(vector_id_enfermedad_scoring)\n",
    "    vector_id_enfermedad_scoring = vector_id_enfermedad_scoring.rename(columns={1:id_sintoma, 0:\"index\"})\n",
    "    \n",
    "    listado_completo=aparece_y_como (vector_id_enfermedad_scoring,id_sintoma, df_Enfermedades)\n",
    "    #listado_completo= list(reserved(listado_completo))\n",
    "    return listado_completo,users_predictions,ratings, ratings_test, sim_matrix, vector_id_enfermedad_scoring"
   ]
  },
  {
   "cell_type": "code",
   "execution_count": 167,
   "id": "016b4ef3",
   "metadata": {},
   "outputs": [],
   "source": [
    "def prueba (ratings,sintoma,elementos,k):\n",
    "    \n",
    "    id_sintoma = df_Sintomas[df_Sintomas['Sintoma'] == sintoma].index.values[0]\n",
    "    ratings_train, ratings_test = train_test_split(ratings, test_size = 0.2, shuffle=False, random_state=42)\n",
    "    \n",
    "    neighbors = NearestNeighbors(n_neighbors=k, metric='cosine')\n",
    "    neighbors.fit(ratings_train)\n",
    "    \n",
    "    \n",
    "    \n",
    "    top_k_distances, top_k_users = neighbors.kneighbors(ratings_train, return_distance=True)\n",
    "    \n",
    "    res = top_k_users[id_sintoma]\n",
    "    \n",
    "    users_k = np.zeros(ratings_train.shape)\n",
    "    for i in range(ratings_train.shape[0]):# para cada usuario del conjunto de entrenamiento\n",
    "        users_k[i,:] = top_k_distances[i].T.dot(ratings_train[top_k_users][i]) / np.array([np.abs(top_k_distances[i].T).sum(axis=0)]).T\n",
    "    #prueba\n",
    "    \n",
    "    y_train=users_k\n",
    "    \n",
    "    #knn = KNeighborsClassifier()\n",
    "    #k_range = list(range(1, 31))\n",
    "    #param_grid = dict(n_neighbors=k_range)\n",
    "  \n",
    "    # defining parameter range\n",
    "    #grid = GridSearchCV(knn, param_grid, cv=10, scoring='accuracy', return_train_score=False,verbose=1)\n",
    "  \n",
    "# fitting the model for grid search\n",
    "    #grid_search=grid.fit(ratings_train, y_train)\n",
    "    #print(grid_search.best_params_)\n",
    "    #accuracy = grid_search.best_score_ *100\n",
    "    #print(\"Accuracy for our training dataset with tuning is : {:.2f}%\".format(accuracy) )\n",
    "    \n",
    "    #fin prueba\n",
    "    \n",
    "    \n",
    "    \n",
    "    a=1                                                                                               \n",
    "    user0=users_k.argsort()[id_sintoma][-5:]\n",
    "# los tres con mayor puntaje en la predic para este usuario\n",
    "# agrego 4 puesto que uno es mi propio repositorio\n",
    "    for aRepo in user0:\n",
    "        selRepo = df_Enfermedades[df_Enfermedades['index'] == (aRepo)]\n",
    "        print(selRepo['Enfermedad'], 'puntaje:', users_k[id_sintoma][aRepo])\n",
    "                                                                                                   \n",
    "    print(\"mse:\",get_mse(users_k, ratings_train) )                                                                                              \n",
    "    return top_k_users"
   ]
  },
  {
   "cell_type": "code",
   "execution_count": 38,
   "id": "d817d2db",
   "metadata": {},
   "outputs": [],
   "source": [
    "def predict_similitud_entre_usuarios_by_pearson (df_train_generated,sintoma,elementos):\n",
    "    \n",
    "    id_sintoma = df_Sintomas[df_Sintomas['Sintoma'] == sintoma].index.values[0]\n",
    "\n",
    "    \n",
    "    df_transpuesta=df_train_generated\n",
    "    correlaciones = df_transpuesta.corr(method='pearson')\n",
    "    #correlaciones[34].sort_values(ascending=False)\n",
    "    #Top = 3\n",
    "    # Top relaciones positivas\n",
    "    #correlaciones[0].sort_values(ascending=False)[1:].head(Top)\n",
    "    #correlaciones[0].sort_values(ascending=True).head(Top)\n",
    "    MediasUsers = df_transpuesta.mean(numeric_only=True,skipna=True)\n",
    "    DesviacionesUsers = df_transpuesta.std(numeric_only=True,skipna=True)\n",
    "    df_ValoracionesNorm = df_transpuesta[MediasUsers.index].sub(MediasUsers, axis='columns')\n",
    "   # df_ValoracionesNorm.sort_values(0).head(10)\n",
    "    df_ValoracionesNorm = df_ValoracionesNorm.div(DesviacionesUsers, axis='columns')\n",
    "    #df_ValoracionesNorm.sort_values(0).head(10)\n",
    "    Numerador = df_ValoracionesNorm.dot(correlaciones)\n",
    "    Numerador.sort_values(0,ascending=False)\n",
    "    Denominador = correlaciones.abs().sum()\n",
    "    Cociente = Numerador.div(Denominador, axis='columns')\n",
    "   # Cociente.sort_values(0,ascending=False)\n",
    "    Valoraciones = Cociente.mul(DesviacionesUsers,axis='columns').add(MediasUsers, axis='columns')\n",
    "    #Valoraciones.sort_values(0,ascending=False)\n",
    "    a=Valoraciones[id_sintoma].sort_values(ascending=False).head(elementos)\n",
    "    vector=pd.DataFrame(a)\n",
    "    vector=vector.reset_index()\n",
    "    lista=aparece_y_como (vector,id_sintoma, df_Enfermedades)\n",
    "    \n",
    "  \n",
    "    \n",
    "    return lista,a"
   ]
  },
  {
   "cell_type": "code",
   "execution_count": null,
   "id": "f7913fce",
   "metadata": {},
   "outputs": [],
   "source": [
    "\n",
    "    "
   ]
  },
  {
   "cell_type": "code",
   "execution_count": 39,
   "id": "986703ec",
   "metadata": {},
   "outputs": [
    {
     "ename": "SyntaxError",
     "evalue": "unexpected EOF while parsing (1377464827.py, line 1)",
     "output_type": "error",
     "traceback": [
      "\u001b[0;36m  Cell \u001b[0;32mIn[39], line 1\u001b[0;36m\u001b[0m\n\u001b[0;31m    df_Enfermedades[df_Enfermedades[\"index\"]==aRepo\u001b[0m\n\u001b[0m                                                   ^\u001b[0m\n\u001b[0;31mSyntaxError\u001b[0m\u001b[0;31m:\u001b[0m unexpected EOF while parsing\n"
     ]
    }
   ],
   "source": [
    "df_Enfermedades[df_Enfermedades[\"index\"]==aRepo"
   ]
  },
  {
   "cell_type": "markdown",
   "id": "69c6283b",
   "metadata": {},
   "source": [
    "## Evaluate"
   ]
  },
  {
   "cell_type": "code",
   "execution_count": 40,
   "id": "522f65fe",
   "metadata": {},
   "outputs": [],
   "source": [
    "\n",
    "def get_mse(preds, actuals):\n",
    "    if preds.shape[1] != actuals.shape[1]:\n",
    "        actuals = actuals.T\n",
    "    preds = preds[actuals.nonzero()].flatten()\n",
    "    actuals = actuals[actuals.nonzero()].flatten()\n",
    "    return mean_squared_error(preds, actuals)\n",
    " \n"
   ]
  },
  {
   "cell_type": "code",
   "execution_count": 41,
   "id": "3614f414",
   "metadata": {},
   "outputs": [],
   "source": [
    "def evaluate (classifier, X_test, y_test):\n",
    "\n",
    "    y_pred=classifier.predict(X_test)\n",
    "    probs=classifier.predict_proba(X_test) [:, 1]\n",
    "    \n",
    "    acc = accuracy_score(y_test, y_pred)\n",
    "    pres= precision_score (y_test, y_pred, average='micro')\n",
    "    f1 = f1_score(y_test, y_pred, average='micro')\n",
    "    \n",
    "   # roc_auc = roc_auc_score(y_test,probs, multi_class='ovr')\n",
    "    #auc = roc_auc_score(y_test, probs)\n",
    "    print (\"Accurancy: \", acc)\n",
    "    print (\"Precision: \", pres)\n",
    "    print (\"f1: \", f1)\n",
    "    #print (\"auc: \", auc)\n",
    "    \n",
    "   # fpr, tpr, threshols = roc_curve(y_test, probs)\n",
    "   # plt.plot(fpr,tpr)\n",
    "   # plt.xlabel('False positives rate')\n",
    "   # plt.ylabel('True positives rate')\n",
    "   # plt.gcf().set_size_inches(8,6)\n",
    "   "
   ]
  },
  {
   "cell_type": "code",
   "execution_count": null,
   "id": "825746ad",
   "metadata": {},
   "outputs": [],
   "source": []
  },
  {
   "cell_type": "markdown",
   "id": "d027c06e",
   "metadata": {},
   "source": [
    "## Notebook Main: Carga de Datos de DataFrames"
   ]
  },
  {
   "cell_type": "code",
   "execution_count": 42,
   "id": "66433999",
   "metadata": {},
   "outputs": [],
   "source": [
    "df_EnfeySinto=load_from_xml(\"../data/01_raw/enfermedades.xml\")"
   ]
  },
  {
   "cell_type": "code",
   "execution_count": 43,
   "id": "d1b7b07b",
   "metadata": {},
   "outputs": [
    {
     "data": {
      "text/plain": [
       "array(['Muy frecuente (99-80%)', 'Frecuente (79-30%)',\n",
       "       'Ocasional (29-5%)', 'Muy poco frecuente (4-1%)',\n",
       "       'Excluyente (0%)', 'Obligatorio (100%)'], dtype=object)"
      ]
     },
     "execution_count": 43,
     "metadata": {},
     "output_type": "execute_result"
    }
   ],
   "source": [
    "df_EnfeySinto[\"Frecuencia\"].unique()"
   ]
  },
  {
   "cell_type": "code",
   "execution_count": 22,
   "id": "995f4af1",
   "metadata": {},
   "outputs": [
    {
     "name": "stdout",
     "output_type": "stream",
     "text": [
      "Después de filtrado por sintomas filas\n",
      "Enfermedades:  4262\n",
      "Sintomas:  8303\n",
      "Frecuencias:  6\n"
     ]
    }
   ],
   "source": [
    "print (\"Después de filtrado por sintomas filas\")\n",
    "print (\"Enfermedades: \", df_EnfeySinto[\"Enfermedad\"].nunique())\n",
    "print (\"Sintomas: \", df_EnfeySinto[\"Sintoma\"].nunique())\n",
    "print (\"Frecuencias: \", df_EnfeySinto[\"Frecuencia\"].nunique())  "
   ]
  },
  {
   "cell_type": "code",
   "execution_count": 23,
   "id": "8b6a9cd4",
   "metadata": {},
   "outputs": [],
   "source": [
    "df_EnfeySinto_cleaned=clean_data(df_EnfeySinto)"
   ]
  },
  {
   "cell_type": "code",
   "execution_count": 24,
   "id": "a221a462",
   "metadata": {},
   "outputs": [
    {
     "name": "stdout",
     "output_type": "stream",
     "text": [
      "Después de filtrado por sintomas filas\n",
      "Enfermedades:  4187\n",
      "Sintomas:  483\n",
      "Frecuencias:  6\n"
     ]
    }
   ],
   "source": [
    "print (\"Después de filtrado por sintomas filas\")\n",
    "print (\"Enfermedades: \", df_EnfeySinto_cleaned[\"Enfermedad\"].nunique())\n",
    "print (\"Sintomas: \", df_EnfeySinto_cleaned[\"Sintoma\"].nunique())\n",
    "print (\"Frecuencias: \", df_EnfeySinto_cleaned[\"Frecuencia\"].nunique())  "
   ]
  },
  {
   "cell_type": "code",
   "execution_count": 25,
   "id": "3973a5a4",
   "metadata": {},
   "outputs": [
    {
     "data": {
      "text/html": [
       "<div>\n",
       "<style scoped>\n",
       "    .dataframe tbody tr th:only-of-type {\n",
       "        vertical-align: middle;\n",
       "    }\n",
       "\n",
       "    .dataframe tbody tr th {\n",
       "        vertical-align: top;\n",
       "    }\n",
       "\n",
       "    .dataframe thead th {\n",
       "        text-align: right;\n",
       "    }\n",
       "</style>\n",
       "<table border=\"1\" class=\"dataframe\">\n",
       "  <thead>\n",
       "    <tr style=\"text-align: right;\">\n",
       "      <th></th>\n",
       "      <th>Enfermedad</th>\n",
       "      <th>Id_Enfermedad</th>\n",
       "      <th>Sintoma</th>\n",
       "      <th>Frecuencia</th>\n",
       "    </tr>\n",
       "  </thead>\n",
       "  <tbody>\n",
       "    <tr>\n",
       "      <th>0</th>\n",
       "      <td>Enfermedad de Alexander</td>\n",
       "      <td>0</td>\n",
       "      <td>Macrocephaly</td>\n",
       "      <td>Muy frecuente (99-80%)</td>\n",
       "    </tr>\n",
       "    <tr>\n",
       "      <th>1</th>\n",
       "      <td>Enfermedad de Alexander</td>\n",
       "      <td>0</td>\n",
       "      <td>Intellectual disability</td>\n",
       "      <td>Muy frecuente (99-80%)</td>\n",
       "    </tr>\n",
       "    <tr>\n",
       "      <th>2</th>\n",
       "      <td>Enfermedad de Alexander</td>\n",
       "      <td>0</td>\n",
       "      <td>Seizure</td>\n",
       "      <td>Muy frecuente (99-80%)</td>\n",
       "    </tr>\n",
       "    <tr>\n",
       "      <th>3</th>\n",
       "      <td>Enfermedad de Alexander</td>\n",
       "      <td>0</td>\n",
       "      <td>Spasticity</td>\n",
       "      <td>Muy frecuente (99-80%)</td>\n",
       "    </tr>\n",
       "    <tr>\n",
       "      <th>4</th>\n",
       "      <td>Enfermedad de Alexander</td>\n",
       "      <td>0</td>\n",
       "      <td>Agenesis of corpus callosum</td>\n",
       "      <td>Muy frecuente (99-80%)</td>\n",
       "    </tr>\n",
       "    <tr>\n",
       "      <th>...</th>\n",
       "      <td>...</td>\n",
       "      <td>...</td>\n",
       "      <td>...</td>\n",
       "      <td>...</td>\n",
       "    </tr>\n",
       "    <tr>\n",
       "      <th>112669</th>\n",
       "      <td>Artrogriposis múltiple congénita miogénica aut...</td>\n",
       "      <td>4262</td>\n",
       "      <td>Depressed nasal bridge</td>\n",
       "      <td>Ocasional (29-5%)</td>\n",
       "    </tr>\n",
       "    <tr>\n",
       "      <th>112671</th>\n",
       "      <td>Artrogriposis múltiple congénita miogénica aut...</td>\n",
       "      <td>4262</td>\n",
       "      <td>Postnatal growth retardation</td>\n",
       "      <td>Ocasional (29-5%)</td>\n",
       "    </tr>\n",
       "    <tr>\n",
       "      <th>112672</th>\n",
       "      <td>Artrogriposis múltiple congénita miogénica aut...</td>\n",
       "      <td>4262</td>\n",
       "      <td>Gastrostomy tube feeding in infancy</td>\n",
       "      <td>Ocasional (29-5%)</td>\n",
       "    </tr>\n",
       "    <tr>\n",
       "      <th>112679</th>\n",
       "      <td>Nevo de cabello lanoso</td>\n",
       "      <td>4263</td>\n",
       "      <td>Fine hair</td>\n",
       "      <td>Muy frecuente (99-80%)</td>\n",
       "    </tr>\n",
       "    <tr>\n",
       "      <th>112684</th>\n",
       "      <td>Nevo de cabello lanoso</td>\n",
       "      <td>4263</td>\n",
       "      <td>Brachydactyly</td>\n",
       "      <td>Ocasional (29-5%)</td>\n",
       "    </tr>\n",
       "  </tbody>\n",
       "</table>\n",
       "<p>55977 rows × 4 columns</p>\n",
       "</div>"
      ],
      "text/plain": [
       "                                               Enfermedad  Id_Enfermedad  \\\n",
       "0                                 Enfermedad de Alexander              0   \n",
       "1                                 Enfermedad de Alexander              0   \n",
       "2                                 Enfermedad de Alexander              0   \n",
       "3                                 Enfermedad de Alexander              0   \n",
       "4                                 Enfermedad de Alexander              0   \n",
       "...                                                   ...            ...   \n",
       "112669  Artrogriposis múltiple congénita miogénica aut...           4262   \n",
       "112671  Artrogriposis múltiple congénita miogénica aut...           4262   \n",
       "112672  Artrogriposis múltiple congénita miogénica aut...           4262   \n",
       "112679                             Nevo de cabello lanoso           4263   \n",
       "112684                             Nevo de cabello lanoso           4263   \n",
       "\n",
       "                                    Sintoma              Frecuencia  \n",
       "0                              Macrocephaly  Muy frecuente (99-80%)  \n",
       "1                   Intellectual disability  Muy frecuente (99-80%)  \n",
       "2                                   Seizure  Muy frecuente (99-80%)  \n",
       "3                                Spasticity  Muy frecuente (99-80%)  \n",
       "4               Agenesis of corpus callosum  Muy frecuente (99-80%)  \n",
       "...                                     ...                     ...  \n",
       "112669               Depressed nasal bridge       Ocasional (29-5%)  \n",
       "112671         Postnatal growth retardation       Ocasional (29-5%)  \n",
       "112672  Gastrostomy tube feeding in infancy       Ocasional (29-5%)  \n",
       "112679                            Fine hair  Muy frecuente (99-80%)  \n",
       "112684                        Brachydactyly       Ocasional (29-5%)  \n",
       "\n",
       "[55977 rows x 4 columns]"
      ]
     },
     "execution_count": 25,
     "metadata": {},
     "output_type": "execute_result"
    }
   ],
   "source": [
    "df_EnfeySinto_select=selection_and_preparation_data(df_EnfeySinto_cleaned)\n",
    "df_EnfeySinto_select"
   ]
  },
  {
   "cell_type": "code",
   "execution_count": 26,
   "id": "2bd473c6",
   "metadata": {},
   "outputs": [
    {
     "name": "stdout",
     "output_type": "stream",
     "text": [
      "Después de borrado filas, duplicates y NAN\n",
      "Enfermedades:  4173\n",
      "Sintomas:  483\n",
      "Frecuencias:  4\n"
     ]
    }
   ],
   "source": [
    "  print (\"Después de borrado filas, duplicates y NAN\")\n",
    "  print (\"Enfermedades: \", df_EnfeySinto_select[\"Enfermedad\"].nunique())\n",
    "  print (\"Sintomas: \", df_EnfeySinto_select[\"Sintoma\"].nunique())\n",
    "  print (\"Frecuencias: \", df_EnfeySinto_select[\"Frecuencia\"].nunique())  \n"
   ]
  },
  {
   "cell_type": "code",
   "execution_count": 27,
   "id": "630df42e",
   "metadata": {},
   "outputs": [
    {
     "data": {
      "text/html": [
       "<div>\n",
       "<style scoped>\n",
       "    .dataframe tbody tr th:only-of-type {\n",
       "        vertical-align: middle;\n",
       "    }\n",
       "\n",
       "    .dataframe tbody tr th {\n",
       "        vertical-align: top;\n",
       "    }\n",
       "\n",
       "    .dataframe thead th {\n",
       "        text-align: right;\n",
       "    }\n",
       "</style>\n",
       "<table border=\"1\" class=\"dataframe\">\n",
       "  <thead>\n",
       "    <tr style=\"text-align: right;\">\n",
       "      <th></th>\n",
       "      <th>Enfermedad</th>\n",
       "      <th>Sintoma</th>\n",
       "      <th>Frecuencia</th>\n",
       "    </tr>\n",
       "  </thead>\n",
       "  <tbody>\n",
       "    <tr>\n",
       "      <th>0</th>\n",
       "      <td>Enfermedad de Alexander</td>\n",
       "      <td>Macrocephaly</td>\n",
       "      <td>Muy frecuente (99-80%)</td>\n",
       "    </tr>\n",
       "    <tr>\n",
       "      <th>1</th>\n",
       "      <td>Enfermedad de Alexander</td>\n",
       "      <td>Intellectual disability</td>\n",
       "      <td>Muy frecuente (99-80%)</td>\n",
       "    </tr>\n",
       "    <tr>\n",
       "      <th>2</th>\n",
       "      <td>Enfermedad de Alexander</td>\n",
       "      <td>Seizure</td>\n",
       "      <td>Muy frecuente (99-80%)</td>\n",
       "    </tr>\n",
       "    <tr>\n",
       "      <th>3</th>\n",
       "      <td>Enfermedad de Alexander</td>\n",
       "      <td>Spasticity</td>\n",
       "      <td>Muy frecuente (99-80%)</td>\n",
       "    </tr>\n",
       "    <tr>\n",
       "      <th>4</th>\n",
       "      <td>Enfermedad de Alexander</td>\n",
       "      <td>Agenesis of corpus callosum</td>\n",
       "      <td>Muy frecuente (99-80%)</td>\n",
       "    </tr>\n",
       "    <tr>\n",
       "      <th>...</th>\n",
       "      <td>...</td>\n",
       "      <td>...</td>\n",
       "      <td>...</td>\n",
       "    </tr>\n",
       "    <tr>\n",
       "      <th>112669</th>\n",
       "      <td>Artrogriposis múltiple congénita miogénica aut...</td>\n",
       "      <td>Depressed nasal bridge</td>\n",
       "      <td>Ocasional (29-5%)</td>\n",
       "    </tr>\n",
       "    <tr>\n",
       "      <th>112671</th>\n",
       "      <td>Artrogriposis múltiple congénita miogénica aut...</td>\n",
       "      <td>Postnatal growth retardation</td>\n",
       "      <td>Ocasional (29-5%)</td>\n",
       "    </tr>\n",
       "    <tr>\n",
       "      <th>112672</th>\n",
       "      <td>Artrogriposis múltiple congénita miogénica aut...</td>\n",
       "      <td>Gastrostomy tube feeding in infancy</td>\n",
       "      <td>Ocasional (29-5%)</td>\n",
       "    </tr>\n",
       "    <tr>\n",
       "      <th>112679</th>\n",
       "      <td>Nevo de cabello lanoso</td>\n",
       "      <td>Fine hair</td>\n",
       "      <td>Muy frecuente (99-80%)</td>\n",
       "    </tr>\n",
       "    <tr>\n",
       "      <th>112684</th>\n",
       "      <td>Nevo de cabello lanoso</td>\n",
       "      <td>Brachydactyly</td>\n",
       "      <td>Ocasional (29-5%)</td>\n",
       "    </tr>\n",
       "  </tbody>\n",
       "</table>\n",
       "<p>55977 rows × 3 columns</p>\n",
       "</div>"
      ],
      "text/plain": [
       "                                               Enfermedad  \\\n",
       "0                                 Enfermedad de Alexander   \n",
       "1                                 Enfermedad de Alexander   \n",
       "2                                 Enfermedad de Alexander   \n",
       "3                                 Enfermedad de Alexander   \n",
       "4                                 Enfermedad de Alexander   \n",
       "...                                                   ...   \n",
       "112669  Artrogriposis múltiple congénita miogénica aut...   \n",
       "112671  Artrogriposis múltiple congénita miogénica aut...   \n",
       "112672  Artrogriposis múltiple congénita miogénica aut...   \n",
       "112679                             Nevo de cabello lanoso   \n",
       "112684                             Nevo de cabello lanoso   \n",
       "\n",
       "                                    Sintoma              Frecuencia  \n",
       "0                              Macrocephaly  Muy frecuente (99-80%)  \n",
       "1                   Intellectual disability  Muy frecuente (99-80%)  \n",
       "2                                   Seizure  Muy frecuente (99-80%)  \n",
       "3                                Spasticity  Muy frecuente (99-80%)  \n",
       "4               Agenesis of corpus callosum  Muy frecuente (99-80%)  \n",
       "...                                     ...                     ...  \n",
       "112669               Depressed nasal bridge       Ocasional (29-5%)  \n",
       "112671         Postnatal growth retardation       Ocasional (29-5%)  \n",
       "112672  Gastrostomy tube feeding in infancy       Ocasional (29-5%)  \n",
       "112679                            Fine hair  Muy frecuente (99-80%)  \n",
       "112684                        Brachydactyly       Ocasional (29-5%)  \n",
       "\n",
       "[55977 rows x 3 columns]"
      ]
     },
     "execution_count": 27,
     "metadata": {},
     "output_type": "execute_result"
    }
   ],
   "source": [
    "df_EnfeySinto_select=df_EnfeySinto_select.drop(\"Id_Enfermedad\", axis=1)\n",
    "df_EnfeySinto_select"
   ]
  },
  {
   "cell_type": "code",
   "execution_count": 28,
   "id": "9f2c3933",
   "metadata": {},
   "outputs": [
    {
     "data": {
      "text/html": [
       "<div>\n",
       "<style scoped>\n",
       "    .dataframe tbody tr th:only-of-type {\n",
       "        vertical-align: middle;\n",
       "    }\n",
       "\n",
       "    .dataframe tbody tr th {\n",
       "        vertical-align: top;\n",
       "    }\n",
       "\n",
       "    .dataframe thead th {\n",
       "        text-align: right;\n",
       "    }\n",
       "</style>\n",
       "<table border=\"1\" class=\"dataframe\">\n",
       "  <thead>\n",
       "    <tr style=\"text-align: right;\">\n",
       "      <th></th>\n",
       "      <th>Sintoma</th>\n",
       "    </tr>\n",
       "  </thead>\n",
       "  <tbody>\n",
       "    <tr>\n",
       "      <th>0</th>\n",
       "      <td>Abdominal distention</td>\n",
       "    </tr>\n",
       "    <tr>\n",
       "      <th>1</th>\n",
       "      <td>Abdominal pain</td>\n",
       "    </tr>\n",
       "    <tr>\n",
       "      <th>2</th>\n",
       "      <td>Abnormal bleeding</td>\n",
       "    </tr>\n",
       "    <tr>\n",
       "      <th>3</th>\n",
       "      <td>Abnormal blistering of the skin</td>\n",
       "    </tr>\n",
       "    <tr>\n",
       "      <th>4</th>\n",
       "      <td>Abnormal cardiac septum morphology</td>\n",
       "    </tr>\n",
       "    <tr>\n",
       "      <th>...</th>\n",
       "      <td>...</td>\n",
       "    </tr>\n",
       "    <tr>\n",
       "      <th>478</th>\n",
       "      <td>Weight loss</td>\n",
       "    </tr>\n",
       "    <tr>\n",
       "      <th>479</th>\n",
       "      <td>Wide intermamillary distance</td>\n",
       "    </tr>\n",
       "    <tr>\n",
       "      <th>480</th>\n",
       "      <td>Wide mouth</td>\n",
       "    </tr>\n",
       "    <tr>\n",
       "      <th>481</th>\n",
       "      <td>Wide nasal bridge</td>\n",
       "    </tr>\n",
       "    <tr>\n",
       "      <th>482</th>\n",
       "      <td>Wide nose</td>\n",
       "    </tr>\n",
       "  </tbody>\n",
       "</table>\n",
       "<p>483 rows × 1 columns</p>\n",
       "</div>"
      ],
      "text/plain": [
       "                                Sintoma\n",
       "0                  Abdominal distention\n",
       "1                        Abdominal pain\n",
       "2                     Abnormal bleeding\n",
       "3       Abnormal blistering of the skin\n",
       "4    Abnormal cardiac septum morphology\n",
       "..                                  ...\n",
       "478                         Weight loss\n",
       "479        Wide intermamillary distance\n",
       "480                          Wide mouth\n",
       "481                   Wide nasal bridge\n",
       "482                           Wide nose\n",
       "\n",
       "[483 rows x 1 columns]"
      ]
     },
     "execution_count": 28,
     "metadata": {},
     "output_type": "execute_result"
    }
   ],
   "source": [
    "df_Sintomas=df_EnfeySinto_select.groupby ([\"Sintoma\"]).count().reset_index()\n",
    "df_Sintomas=df_Sintomas.drop([\"Enfermedad\",\"Frecuencia\"], axis=1)\n",
    "df_Sintomas"
   ]
  },
  {
   "cell_type": "code",
   "execution_count": 29,
   "id": "ef803ecb",
   "metadata": {},
   "outputs": [
    {
     "data": {
      "text/html": [
       "<div>\n",
       "<style scoped>\n",
       "    .dataframe tbody tr th:only-of-type {\n",
       "        vertical-align: middle;\n",
       "    }\n",
       "\n",
       "    .dataframe tbody tr th {\n",
       "        vertical-align: top;\n",
       "    }\n",
       "\n",
       "    .dataframe thead th {\n",
       "        text-align: right;\n",
       "    }\n",
       "</style>\n",
       "<table border=\"1\" class=\"dataframe\">\n",
       "  <thead>\n",
       "    <tr style=\"text-align: right;\">\n",
       "      <th></th>\n",
       "      <th>index</th>\n",
       "      <th>Enfermedad</th>\n",
       "    </tr>\n",
       "  </thead>\n",
       "  <tbody>\n",
       "    <tr>\n",
       "      <th>0</th>\n",
       "      <td>0</td>\n",
       "      <td>AICA ribosiduria</td>\n",
       "    </tr>\n",
       "    <tr>\n",
       "      <th>1</th>\n",
       "      <td>1</td>\n",
       "      <td>ALG1-CDG</td>\n",
       "    </tr>\n",
       "    <tr>\n",
       "      <th>2</th>\n",
       "      <td>2</td>\n",
       "      <td>ALG11-CDG</td>\n",
       "    </tr>\n",
       "    <tr>\n",
       "      <th>3</th>\n",
       "      <td>3</td>\n",
       "      <td>ALG12-CDG</td>\n",
       "    </tr>\n",
       "    <tr>\n",
       "      <th>4</th>\n",
       "      <td>4</td>\n",
       "      <td>ALG13-CDG</td>\n",
       "    </tr>\n",
       "    <tr>\n",
       "      <th>...</th>\n",
       "      <td>...</td>\n",
       "      <td>...</td>\n",
       "    </tr>\n",
       "    <tr>\n",
       "      <th>4168</th>\n",
       "      <td>4168</td>\n",
       "      <td>Xeroderma pigmentoso</td>\n",
       "    </tr>\n",
       "    <tr>\n",
       "      <th>4169</th>\n",
       "      <td>4169</td>\n",
       "      <td>Xeroderma pigmentoso tipo variante</td>\n",
       "    </tr>\n",
       "    <tr>\n",
       "      <th>4170</th>\n",
       "      <td>4170</td>\n",
       "      <td>Zigomicosis</td>\n",
       "    </tr>\n",
       "    <tr>\n",
       "      <th>4171</th>\n",
       "      <td>4171</td>\n",
       "      <td>síndrome de talla baja-sordera-disfunción neut...</td>\n",
       "    </tr>\n",
       "    <tr>\n",
       "      <th>4172</th>\n",
       "      <td>4172</td>\n",
       "      <td>Úvula bífida</td>\n",
       "    </tr>\n",
       "  </tbody>\n",
       "</table>\n",
       "<p>4173 rows × 2 columns</p>\n",
       "</div>"
      ],
      "text/plain": [
       "      index                                         Enfermedad\n",
       "0         0                                   AICA ribosiduria\n",
       "1         1                                           ALG1-CDG\n",
       "2         2                                          ALG11-CDG\n",
       "3         3                                          ALG12-CDG\n",
       "4         4                                          ALG13-CDG\n",
       "...     ...                                                ...\n",
       "4168   4168                               Xeroderma pigmentoso\n",
       "4169   4169                 Xeroderma pigmentoso tipo variante\n",
       "4170   4170                                        Zigomicosis\n",
       "4171   4171  síndrome de talla baja-sordera-disfunción neut...\n",
       "4172   4172                                       Úvula bífida\n",
       "\n",
       "[4173 rows x 2 columns]"
      ]
     },
     "execution_count": 29,
     "metadata": {},
     "output_type": "execute_result"
    }
   ],
   "source": [
    "df_Enfermedades=df_EnfeySinto_select.groupby ([\"Enfermedad\"]).count().reset_index()\n",
    "df_Enfermedades=df_Enfermedades.drop([\"Sintoma\",\"Frecuencia\"], axis=1)\n",
    "df_Enfermedades=df_Enfermedades.reset_index()\n",
    "df_Enfermedades"
   ]
  },
  {
   "cell_type": "markdown",
   "id": "ee2b273e",
   "metadata": {},
   "source": [
    "## Datos Entrenamiento y Matrix"
   ]
  },
  {
   "cell_type": "code",
   "execution_count": 30,
   "id": "76167759",
   "metadata": {},
   "outputs": [
    {
     "name": "stdout",
     "output_type": "stream",
     "text": [
      "VUELTA:  1\n",
      "Tamaño:  4173\n",
      "CPU times: user 7.07 s, sys: 2.17 s, total: 9.25 s\n",
      "Wall time: 9.25 s\n"
     ]
    }
   ],
   "source": [
    "%%time\n",
    "df_train_generated=generate_data_train (df_EnfeySinto_select, 1)"
   ]
  },
  {
   "cell_type": "code",
   "execution_count": 31,
   "id": "652f38a2",
   "metadata": {},
   "outputs": [
    {
     "data": {
      "text/html": [
       "<div>\n",
       "<style scoped>\n",
       "    .dataframe tbody tr th:only-of-type {\n",
       "        vertical-align: middle;\n",
       "    }\n",
       "\n",
       "    .dataframe tbody tr th {\n",
       "        vertical-align: top;\n",
       "    }\n",
       "\n",
       "    .dataframe thead th {\n",
       "        text-align: right;\n",
       "    }\n",
       "</style>\n",
       "<table border=\"1\" class=\"dataframe\">\n",
       "  <thead>\n",
       "    <tr style=\"text-align: right;\">\n",
       "      <th>Sintoma</th>\n",
       "      <th>Abdominal distention</th>\n",
       "      <th>Abdominal pain</th>\n",
       "      <th>Abnormal bleeding</th>\n",
       "      <th>Abnormal blistering of the skin</th>\n",
       "      <th>Abnormal cardiac septum morphology</th>\n",
       "      <th>Abnormal cerebral white matter morphology</th>\n",
       "      <th>Abnormal dermatoglyphics</th>\n",
       "      <th>Abnormal enzyme/coenzyme activity</th>\n",
       "      <th>Abnormal facial shape</th>\n",
       "      <th>Abnormal fingernail morphology</th>\n",
       "      <th>...</th>\n",
       "      <th>Visual impairment</th>\n",
       "      <th>Visual loss</th>\n",
       "      <th>Vomiting</th>\n",
       "      <th>Waddling gait</th>\n",
       "      <th>Webbed neck</th>\n",
       "      <th>Weight loss</th>\n",
       "      <th>Wide intermamillary distance</th>\n",
       "      <th>Wide mouth</th>\n",
       "      <th>Wide nasal bridge</th>\n",
       "      <th>Wide nose</th>\n",
       "    </tr>\n",
       "  </thead>\n",
       "  <tbody>\n",
       "    <tr>\n",
       "      <th>0</th>\n",
       "      <td>0</td>\n",
       "      <td>0</td>\n",
       "      <td>0</td>\n",
       "      <td>0</td>\n",
       "      <td>0</td>\n",
       "      <td>0</td>\n",
       "      <td>0</td>\n",
       "      <td>0</td>\n",
       "      <td>0</td>\n",
       "      <td>0</td>\n",
       "      <td>...</td>\n",
       "      <td>0</td>\n",
       "      <td>0</td>\n",
       "      <td>0</td>\n",
       "      <td>0</td>\n",
       "      <td>0</td>\n",
       "      <td>0</td>\n",
       "      <td>0</td>\n",
       "      <td>3</td>\n",
       "      <td>0</td>\n",
       "      <td>0</td>\n",
       "    </tr>\n",
       "    <tr>\n",
       "      <th>1</th>\n",
       "      <td>0</td>\n",
       "      <td>0</td>\n",
       "      <td>0</td>\n",
       "      <td>0</td>\n",
       "      <td>0</td>\n",
       "      <td>0</td>\n",
       "      <td>0</td>\n",
       "      <td>0</td>\n",
       "      <td>2</td>\n",
       "      <td>0</td>\n",
       "      <td>...</td>\n",
       "      <td>0</td>\n",
       "      <td>0</td>\n",
       "      <td>0</td>\n",
       "      <td>0</td>\n",
       "      <td>0</td>\n",
       "      <td>0</td>\n",
       "      <td>0</td>\n",
       "      <td>0</td>\n",
       "      <td>0</td>\n",
       "      <td>0</td>\n",
       "    </tr>\n",
       "    <tr>\n",
       "      <th>2</th>\n",
       "      <td>0</td>\n",
       "      <td>0</td>\n",
       "      <td>0</td>\n",
       "      <td>0</td>\n",
       "      <td>0</td>\n",
       "      <td>1</td>\n",
       "      <td>0</td>\n",
       "      <td>0</td>\n",
       "      <td>2</td>\n",
       "      <td>0</td>\n",
       "      <td>...</td>\n",
       "      <td>0</td>\n",
       "      <td>0</td>\n",
       "      <td>0</td>\n",
       "      <td>0</td>\n",
       "      <td>0</td>\n",
       "      <td>0</td>\n",
       "      <td>0</td>\n",
       "      <td>0</td>\n",
       "      <td>0</td>\n",
       "      <td>0</td>\n",
       "    </tr>\n",
       "    <tr>\n",
       "      <th>3</th>\n",
       "      <td>0</td>\n",
       "      <td>0</td>\n",
       "      <td>0</td>\n",
       "      <td>0</td>\n",
       "      <td>0</td>\n",
       "      <td>0</td>\n",
       "      <td>0</td>\n",
       "      <td>4</td>\n",
       "      <td>1</td>\n",
       "      <td>0</td>\n",
       "      <td>...</td>\n",
       "      <td>0</td>\n",
       "      <td>0</td>\n",
       "      <td>0</td>\n",
       "      <td>0</td>\n",
       "      <td>0</td>\n",
       "      <td>0</td>\n",
       "      <td>0</td>\n",
       "      <td>0</td>\n",
       "      <td>0</td>\n",
       "      <td>1</td>\n",
       "    </tr>\n",
       "    <tr>\n",
       "      <th>4</th>\n",
       "      <td>0</td>\n",
       "      <td>0</td>\n",
       "      <td>0</td>\n",
       "      <td>0</td>\n",
       "      <td>0</td>\n",
       "      <td>0</td>\n",
       "      <td>0</td>\n",
       "      <td>0</td>\n",
       "      <td>0</td>\n",
       "      <td>0</td>\n",
       "      <td>...</td>\n",
       "      <td>0</td>\n",
       "      <td>0</td>\n",
       "      <td>0</td>\n",
       "      <td>0</td>\n",
       "      <td>0</td>\n",
       "      <td>0</td>\n",
       "      <td>0</td>\n",
       "      <td>0</td>\n",
       "      <td>0</td>\n",
       "      <td>0</td>\n",
       "    </tr>\n",
       "    <tr>\n",
       "      <th>...</th>\n",
       "      <td>...</td>\n",
       "      <td>...</td>\n",
       "      <td>...</td>\n",
       "      <td>...</td>\n",
       "      <td>...</td>\n",
       "      <td>...</td>\n",
       "      <td>...</td>\n",
       "      <td>...</td>\n",
       "      <td>...</td>\n",
       "      <td>...</td>\n",
       "      <td>...</td>\n",
       "      <td>...</td>\n",
       "      <td>...</td>\n",
       "      <td>...</td>\n",
       "      <td>...</td>\n",
       "      <td>...</td>\n",
       "      <td>...</td>\n",
       "      <td>...</td>\n",
       "      <td>...</td>\n",
       "      <td>...</td>\n",
       "      <td>...</td>\n",
       "    </tr>\n",
       "    <tr>\n",
       "      <th>4168</th>\n",
       "      <td>0</td>\n",
       "      <td>0</td>\n",
       "      <td>0</td>\n",
       "      <td>0</td>\n",
       "      <td>0</td>\n",
       "      <td>0</td>\n",
       "      <td>0</td>\n",
       "      <td>0</td>\n",
       "      <td>0</td>\n",
       "      <td>0</td>\n",
       "      <td>...</td>\n",
       "      <td>0</td>\n",
       "      <td>0</td>\n",
       "      <td>0</td>\n",
       "      <td>0</td>\n",
       "      <td>0</td>\n",
       "      <td>0</td>\n",
       "      <td>0</td>\n",
       "      <td>0</td>\n",
       "      <td>0</td>\n",
       "      <td>0</td>\n",
       "    </tr>\n",
       "    <tr>\n",
       "      <th>4169</th>\n",
       "      <td>0</td>\n",
       "      <td>0</td>\n",
       "      <td>0</td>\n",
       "      <td>0</td>\n",
       "      <td>0</td>\n",
       "      <td>0</td>\n",
       "      <td>0</td>\n",
       "      <td>0</td>\n",
       "      <td>0</td>\n",
       "      <td>0</td>\n",
       "      <td>...</td>\n",
       "      <td>0</td>\n",
       "      <td>0</td>\n",
       "      <td>0</td>\n",
       "      <td>0</td>\n",
       "      <td>0</td>\n",
       "      <td>0</td>\n",
       "      <td>0</td>\n",
       "      <td>0</td>\n",
       "      <td>0</td>\n",
       "      <td>0</td>\n",
       "    </tr>\n",
       "    <tr>\n",
       "      <th>4170</th>\n",
       "      <td>0</td>\n",
       "      <td>1</td>\n",
       "      <td>0</td>\n",
       "      <td>1</td>\n",
       "      <td>0</td>\n",
       "      <td>0</td>\n",
       "      <td>0</td>\n",
       "      <td>0</td>\n",
       "      <td>0</td>\n",
       "      <td>0</td>\n",
       "      <td>...</td>\n",
       "      <td>0</td>\n",
       "      <td>1</td>\n",
       "      <td>1</td>\n",
       "      <td>0</td>\n",
       "      <td>0</td>\n",
       "      <td>0</td>\n",
       "      <td>0</td>\n",
       "      <td>0</td>\n",
       "      <td>0</td>\n",
       "      <td>0</td>\n",
       "    </tr>\n",
       "    <tr>\n",
       "      <th>4171</th>\n",
       "      <td>0</td>\n",
       "      <td>0</td>\n",
       "      <td>0</td>\n",
       "      <td>0</td>\n",
       "      <td>0</td>\n",
       "      <td>0</td>\n",
       "      <td>0</td>\n",
       "      <td>0</td>\n",
       "      <td>0</td>\n",
       "      <td>0</td>\n",
       "      <td>...</td>\n",
       "      <td>0</td>\n",
       "      <td>0</td>\n",
       "      <td>0</td>\n",
       "      <td>0</td>\n",
       "      <td>0</td>\n",
       "      <td>0</td>\n",
       "      <td>0</td>\n",
       "      <td>0</td>\n",
       "      <td>0</td>\n",
       "      <td>0</td>\n",
       "    </tr>\n",
       "    <tr>\n",
       "      <th>4172</th>\n",
       "      <td>0</td>\n",
       "      <td>0</td>\n",
       "      <td>0</td>\n",
       "      <td>0</td>\n",
       "      <td>0</td>\n",
       "      <td>0</td>\n",
       "      <td>0</td>\n",
       "      <td>0</td>\n",
       "      <td>0</td>\n",
       "      <td>0</td>\n",
       "      <td>...</td>\n",
       "      <td>0</td>\n",
       "      <td>0</td>\n",
       "      <td>0</td>\n",
       "      <td>0</td>\n",
       "      <td>0</td>\n",
       "      <td>0</td>\n",
       "      <td>0</td>\n",
       "      <td>0</td>\n",
       "      <td>0</td>\n",
       "      <td>0</td>\n",
       "    </tr>\n",
       "  </tbody>\n",
       "</table>\n",
       "<p>4173 rows × 483 columns</p>\n",
       "</div>"
      ],
      "text/plain": [
       "Sintoma  Abdominal distention  Abdominal pain  Abnormal bleeding  \\\n",
       "0                           0               0                  0   \n",
       "1                           0               0                  0   \n",
       "2                           0               0                  0   \n",
       "3                           0               0                  0   \n",
       "4                           0               0                  0   \n",
       "...                       ...             ...                ...   \n",
       "4168                        0               0                  0   \n",
       "4169                        0               0                  0   \n",
       "4170                        0               1                  0   \n",
       "4171                        0               0                  0   \n",
       "4172                        0               0                  0   \n",
       "\n",
       "Sintoma  Abnormal blistering of the skin  Abnormal cardiac septum morphology  \\\n",
       "0                                      0                                   0   \n",
       "1                                      0                                   0   \n",
       "2                                      0                                   0   \n",
       "3                                      0                                   0   \n",
       "4                                      0                                   0   \n",
       "...                                  ...                                 ...   \n",
       "4168                                   0                                   0   \n",
       "4169                                   0                                   0   \n",
       "4170                                   1                                   0   \n",
       "4171                                   0                                   0   \n",
       "4172                                   0                                   0   \n",
       "\n",
       "Sintoma  Abnormal cerebral white matter morphology  Abnormal dermatoglyphics  \\\n",
       "0                                                0                         0   \n",
       "1                                                0                         0   \n",
       "2                                                1                         0   \n",
       "3                                                0                         0   \n",
       "4                                                0                         0   \n",
       "...                                            ...                       ...   \n",
       "4168                                             0                         0   \n",
       "4169                                             0                         0   \n",
       "4170                                             0                         0   \n",
       "4171                                             0                         0   \n",
       "4172                                             0                         0   \n",
       "\n",
       "Sintoma  Abnormal enzyme/coenzyme activity  Abnormal facial shape  \\\n",
       "0                                        0                      0   \n",
       "1                                        0                      2   \n",
       "2                                        0                      2   \n",
       "3                                        4                      1   \n",
       "4                                        0                      0   \n",
       "...                                    ...                    ...   \n",
       "4168                                     0                      0   \n",
       "4169                                     0                      0   \n",
       "4170                                     0                      0   \n",
       "4171                                     0                      0   \n",
       "4172                                     0                      0   \n",
       "\n",
       "Sintoma  Abnormal fingernail morphology  ...  Visual impairment  Visual loss  \\\n",
       "0                                     0  ...                  0            0   \n",
       "1                                     0  ...                  0            0   \n",
       "2                                     0  ...                  0            0   \n",
       "3                                     0  ...                  0            0   \n",
       "4                                     0  ...                  0            0   \n",
       "...                                 ...  ...                ...          ...   \n",
       "4168                                  0  ...                  0            0   \n",
       "4169                                  0  ...                  0            0   \n",
       "4170                                  0  ...                  0            1   \n",
       "4171                                  0  ...                  0            0   \n",
       "4172                                  0  ...                  0            0   \n",
       "\n",
       "Sintoma  Vomiting  Waddling gait  Webbed neck  Weight loss  \\\n",
       "0               0              0            0            0   \n",
       "1               0              0            0            0   \n",
       "2               0              0            0            0   \n",
       "3               0              0            0            0   \n",
       "4               0              0            0            0   \n",
       "...           ...            ...          ...          ...   \n",
       "4168            0              0            0            0   \n",
       "4169            0              0            0            0   \n",
       "4170            1              0            0            0   \n",
       "4171            0              0            0            0   \n",
       "4172            0              0            0            0   \n",
       "\n",
       "Sintoma  Wide intermamillary distance  Wide mouth  Wide nasal bridge  \\\n",
       "0                                   0           3                  0   \n",
       "1                                   0           0                  0   \n",
       "2                                   0           0                  0   \n",
       "3                                   0           0                  0   \n",
       "4                                   0           0                  0   \n",
       "...                               ...         ...                ...   \n",
       "4168                                0           0                  0   \n",
       "4169                                0           0                  0   \n",
       "4170                                0           0                  0   \n",
       "4171                                0           0                  0   \n",
       "4172                                0           0                  0   \n",
       "\n",
       "Sintoma  Wide nose  \n",
       "0                0  \n",
       "1                0  \n",
       "2                0  \n",
       "3                1  \n",
       "4                0  \n",
       "...            ...  \n",
       "4168             0  \n",
       "4169             0  \n",
       "4170             0  \n",
       "4171             0  \n",
       "4172             0  \n",
       "\n",
       "[4173 rows x 483 columns]"
      ]
     },
     "execution_count": 31,
     "metadata": {},
     "output_type": "execute_result"
    }
   ],
   "source": [
    "df_train_generated"
   ]
  },
  {
   "cell_type": "code",
   "execution_count": 32,
   "id": "6833a24f",
   "metadata": {},
   "outputs": [
    {
     "data": {
      "text/html": [
       "<div>\n",
       "<style scoped>\n",
       "    .dataframe tbody tr th:only-of-type {\n",
       "        vertical-align: middle;\n",
       "    }\n",
       "\n",
       "    .dataframe tbody tr th {\n",
       "        vertical-align: top;\n",
       "    }\n",
       "\n",
       "    .dataframe thead th {\n",
       "        text-align: right;\n",
       "    }\n",
       "</style>\n",
       "<table border=\"1\" class=\"dataframe\">\n",
       "  <thead>\n",
       "    <tr style=\"text-align: right;\">\n",
       "      <th>Sintoma</th>\n",
       "      <th>0</th>\n",
       "      <th>1</th>\n",
       "      <th>2</th>\n",
       "      <th>3</th>\n",
       "      <th>4</th>\n",
       "      <th>5</th>\n",
       "      <th>6</th>\n",
       "      <th>7</th>\n",
       "      <th>8</th>\n",
       "      <th>9</th>\n",
       "      <th>...</th>\n",
       "      <th>473</th>\n",
       "      <th>474</th>\n",
       "      <th>475</th>\n",
       "      <th>476</th>\n",
       "      <th>477</th>\n",
       "      <th>478</th>\n",
       "      <th>479</th>\n",
       "      <th>480</th>\n",
       "      <th>481</th>\n",
       "      <th>482</th>\n",
       "    </tr>\n",
       "  </thead>\n",
       "  <tbody>\n",
       "    <tr>\n",
       "      <th>0</th>\n",
       "      <td>0</td>\n",
       "      <td>0</td>\n",
       "      <td>0</td>\n",
       "      <td>0</td>\n",
       "      <td>0</td>\n",
       "      <td>0</td>\n",
       "      <td>0</td>\n",
       "      <td>0</td>\n",
       "      <td>0</td>\n",
       "      <td>0</td>\n",
       "      <td>...</td>\n",
       "      <td>0</td>\n",
       "      <td>0</td>\n",
       "      <td>0</td>\n",
       "      <td>0</td>\n",
       "      <td>0</td>\n",
       "      <td>0</td>\n",
       "      <td>0</td>\n",
       "      <td>3</td>\n",
       "      <td>0</td>\n",
       "      <td>0</td>\n",
       "    </tr>\n",
       "    <tr>\n",
       "      <th>1</th>\n",
       "      <td>0</td>\n",
       "      <td>0</td>\n",
       "      <td>0</td>\n",
       "      <td>0</td>\n",
       "      <td>0</td>\n",
       "      <td>0</td>\n",
       "      <td>0</td>\n",
       "      <td>0</td>\n",
       "      <td>2</td>\n",
       "      <td>0</td>\n",
       "      <td>...</td>\n",
       "      <td>0</td>\n",
       "      <td>0</td>\n",
       "      <td>0</td>\n",
       "      <td>0</td>\n",
       "      <td>0</td>\n",
       "      <td>0</td>\n",
       "      <td>0</td>\n",
       "      <td>0</td>\n",
       "      <td>0</td>\n",
       "      <td>0</td>\n",
       "    </tr>\n",
       "    <tr>\n",
       "      <th>2</th>\n",
       "      <td>0</td>\n",
       "      <td>0</td>\n",
       "      <td>0</td>\n",
       "      <td>0</td>\n",
       "      <td>0</td>\n",
       "      <td>1</td>\n",
       "      <td>0</td>\n",
       "      <td>0</td>\n",
       "      <td>2</td>\n",
       "      <td>0</td>\n",
       "      <td>...</td>\n",
       "      <td>0</td>\n",
       "      <td>0</td>\n",
       "      <td>0</td>\n",
       "      <td>0</td>\n",
       "      <td>0</td>\n",
       "      <td>0</td>\n",
       "      <td>0</td>\n",
       "      <td>0</td>\n",
       "      <td>0</td>\n",
       "      <td>0</td>\n",
       "    </tr>\n",
       "    <tr>\n",
       "      <th>3</th>\n",
       "      <td>0</td>\n",
       "      <td>0</td>\n",
       "      <td>0</td>\n",
       "      <td>0</td>\n",
       "      <td>0</td>\n",
       "      <td>0</td>\n",
       "      <td>0</td>\n",
       "      <td>4</td>\n",
       "      <td>1</td>\n",
       "      <td>0</td>\n",
       "      <td>...</td>\n",
       "      <td>0</td>\n",
       "      <td>0</td>\n",
       "      <td>0</td>\n",
       "      <td>0</td>\n",
       "      <td>0</td>\n",
       "      <td>0</td>\n",
       "      <td>0</td>\n",
       "      <td>0</td>\n",
       "      <td>0</td>\n",
       "      <td>1</td>\n",
       "    </tr>\n",
       "    <tr>\n",
       "      <th>4</th>\n",
       "      <td>0</td>\n",
       "      <td>0</td>\n",
       "      <td>0</td>\n",
       "      <td>0</td>\n",
       "      <td>0</td>\n",
       "      <td>0</td>\n",
       "      <td>0</td>\n",
       "      <td>0</td>\n",
       "      <td>0</td>\n",
       "      <td>0</td>\n",
       "      <td>...</td>\n",
       "      <td>0</td>\n",
       "      <td>0</td>\n",
       "      <td>0</td>\n",
       "      <td>0</td>\n",
       "      <td>0</td>\n",
       "      <td>0</td>\n",
       "      <td>0</td>\n",
       "      <td>0</td>\n",
       "      <td>0</td>\n",
       "      <td>0</td>\n",
       "    </tr>\n",
       "    <tr>\n",
       "      <th>...</th>\n",
       "      <td>...</td>\n",
       "      <td>...</td>\n",
       "      <td>...</td>\n",
       "      <td>...</td>\n",
       "      <td>...</td>\n",
       "      <td>...</td>\n",
       "      <td>...</td>\n",
       "      <td>...</td>\n",
       "      <td>...</td>\n",
       "      <td>...</td>\n",
       "      <td>...</td>\n",
       "      <td>...</td>\n",
       "      <td>...</td>\n",
       "      <td>...</td>\n",
       "      <td>...</td>\n",
       "      <td>...</td>\n",
       "      <td>...</td>\n",
       "      <td>...</td>\n",
       "      <td>...</td>\n",
       "      <td>...</td>\n",
       "      <td>...</td>\n",
       "    </tr>\n",
       "    <tr>\n",
       "      <th>4168</th>\n",
       "      <td>0</td>\n",
       "      <td>0</td>\n",
       "      <td>0</td>\n",
       "      <td>0</td>\n",
       "      <td>0</td>\n",
       "      <td>0</td>\n",
       "      <td>0</td>\n",
       "      <td>0</td>\n",
       "      <td>0</td>\n",
       "      <td>0</td>\n",
       "      <td>...</td>\n",
       "      <td>0</td>\n",
       "      <td>0</td>\n",
       "      <td>0</td>\n",
       "      <td>0</td>\n",
       "      <td>0</td>\n",
       "      <td>0</td>\n",
       "      <td>0</td>\n",
       "      <td>0</td>\n",
       "      <td>0</td>\n",
       "      <td>0</td>\n",
       "    </tr>\n",
       "    <tr>\n",
       "      <th>4169</th>\n",
       "      <td>0</td>\n",
       "      <td>0</td>\n",
       "      <td>0</td>\n",
       "      <td>0</td>\n",
       "      <td>0</td>\n",
       "      <td>0</td>\n",
       "      <td>0</td>\n",
       "      <td>0</td>\n",
       "      <td>0</td>\n",
       "      <td>0</td>\n",
       "      <td>...</td>\n",
       "      <td>0</td>\n",
       "      <td>0</td>\n",
       "      <td>0</td>\n",
       "      <td>0</td>\n",
       "      <td>0</td>\n",
       "      <td>0</td>\n",
       "      <td>0</td>\n",
       "      <td>0</td>\n",
       "      <td>0</td>\n",
       "      <td>0</td>\n",
       "    </tr>\n",
       "    <tr>\n",
       "      <th>4170</th>\n",
       "      <td>0</td>\n",
       "      <td>1</td>\n",
       "      <td>0</td>\n",
       "      <td>1</td>\n",
       "      <td>0</td>\n",
       "      <td>0</td>\n",
       "      <td>0</td>\n",
       "      <td>0</td>\n",
       "      <td>0</td>\n",
       "      <td>0</td>\n",
       "      <td>...</td>\n",
       "      <td>0</td>\n",
       "      <td>1</td>\n",
       "      <td>1</td>\n",
       "      <td>0</td>\n",
       "      <td>0</td>\n",
       "      <td>0</td>\n",
       "      <td>0</td>\n",
       "      <td>0</td>\n",
       "      <td>0</td>\n",
       "      <td>0</td>\n",
       "    </tr>\n",
       "    <tr>\n",
       "      <th>4171</th>\n",
       "      <td>0</td>\n",
       "      <td>0</td>\n",
       "      <td>0</td>\n",
       "      <td>0</td>\n",
       "      <td>0</td>\n",
       "      <td>0</td>\n",
       "      <td>0</td>\n",
       "      <td>0</td>\n",
       "      <td>0</td>\n",
       "      <td>0</td>\n",
       "      <td>...</td>\n",
       "      <td>0</td>\n",
       "      <td>0</td>\n",
       "      <td>0</td>\n",
       "      <td>0</td>\n",
       "      <td>0</td>\n",
       "      <td>0</td>\n",
       "      <td>0</td>\n",
       "      <td>0</td>\n",
       "      <td>0</td>\n",
       "      <td>0</td>\n",
       "    </tr>\n",
       "    <tr>\n",
       "      <th>4172</th>\n",
       "      <td>0</td>\n",
       "      <td>0</td>\n",
       "      <td>0</td>\n",
       "      <td>0</td>\n",
       "      <td>0</td>\n",
       "      <td>0</td>\n",
       "      <td>0</td>\n",
       "      <td>0</td>\n",
       "      <td>0</td>\n",
       "      <td>0</td>\n",
       "      <td>...</td>\n",
       "      <td>0</td>\n",
       "      <td>0</td>\n",
       "      <td>0</td>\n",
       "      <td>0</td>\n",
       "      <td>0</td>\n",
       "      <td>0</td>\n",
       "      <td>0</td>\n",
       "      <td>0</td>\n",
       "      <td>0</td>\n",
       "      <td>0</td>\n",
       "    </tr>\n",
       "  </tbody>\n",
       "</table>\n",
       "<p>4173 rows × 483 columns</p>\n",
       "</div>"
      ],
      "text/plain": [
       "Sintoma  0    1    2    3    4    5    6    7    8    9    ...  473  474  475  \\\n",
       "0          0    0    0    0    0    0    0    0    0    0  ...    0    0    0   \n",
       "1          0    0    0    0    0    0    0    0    2    0  ...    0    0    0   \n",
       "2          0    0    0    0    0    1    0    0    2    0  ...    0    0    0   \n",
       "3          0    0    0    0    0    0    0    4    1    0  ...    0    0    0   \n",
       "4          0    0    0    0    0    0    0    0    0    0  ...    0    0    0   \n",
       "...      ...  ...  ...  ...  ...  ...  ...  ...  ...  ...  ...  ...  ...  ...   \n",
       "4168       0    0    0    0    0    0    0    0    0    0  ...    0    0    0   \n",
       "4169       0    0    0    0    0    0    0    0    0    0  ...    0    0    0   \n",
       "4170       0    1    0    1    0    0    0    0    0    0  ...    0    1    1   \n",
       "4171       0    0    0    0    0    0    0    0    0    0  ...    0    0    0   \n",
       "4172       0    0    0    0    0    0    0    0    0    0  ...    0    0    0   \n",
       "\n",
       "Sintoma  476  477  478  479  480  481  482  \n",
       "0          0    0    0    0    3    0    0  \n",
       "1          0    0    0    0    0    0    0  \n",
       "2          0    0    0    0    0    0    0  \n",
       "3          0    0    0    0    0    0    1  \n",
       "4          0    0    0    0    0    0    0  \n",
       "...      ...  ...  ...  ...  ...  ...  ...  \n",
       "4168       0    0    0    0    0    0    0  \n",
       "4169       0    0    0    0    0    0    0  \n",
       "4170       0    0    0    0    0    0    0  \n",
       "4171       0    0    0    0    0    0    0  \n",
       "4172       0    0    0    0    0    0    0  \n",
       "\n",
       "[4173 rows x 483 columns]"
      ]
     },
     "execution_count": 32,
     "metadata": {},
     "output_type": "execute_result"
    }
   ],
   "source": [
    "df_train_generated=_cambiar_columnas(df_train_generated)\n",
    "df_train_generated"
   ]
  },
  {
   "cell_type": "code",
   "execution_count": 33,
   "id": "aa4864e6",
   "metadata": {},
   "outputs": [
    {
     "data": {
      "text/html": [
       "<div>\n",
       "<style scoped>\n",
       "    .dataframe tbody tr th:only-of-type {\n",
       "        vertical-align: middle;\n",
       "    }\n",
       "\n",
       "    .dataframe tbody tr th {\n",
       "        vertical-align: top;\n",
       "    }\n",
       "\n",
       "    .dataframe thead th {\n",
       "        text-align: right;\n",
       "    }\n",
       "</style>\n",
       "<table border=\"1\" class=\"dataframe\">\n",
       "  <thead>\n",
       "    <tr style=\"text-align: right;\">\n",
       "      <th></th>\n",
       "      <th>0</th>\n",
       "      <th>1</th>\n",
       "      <th>2</th>\n",
       "      <th>3</th>\n",
       "      <th>4</th>\n",
       "      <th>5</th>\n",
       "      <th>6</th>\n",
       "      <th>7</th>\n",
       "      <th>8</th>\n",
       "      <th>9</th>\n",
       "      <th>...</th>\n",
       "      <th>4163</th>\n",
       "      <th>4164</th>\n",
       "      <th>4165</th>\n",
       "      <th>4166</th>\n",
       "      <th>4167</th>\n",
       "      <th>4168</th>\n",
       "      <th>4169</th>\n",
       "      <th>4170</th>\n",
       "      <th>4171</th>\n",
       "      <th>4172</th>\n",
       "    </tr>\n",
       "    <tr>\n",
       "      <th>Sintoma</th>\n",
       "      <th></th>\n",
       "      <th></th>\n",
       "      <th></th>\n",
       "      <th></th>\n",
       "      <th></th>\n",
       "      <th></th>\n",
       "      <th></th>\n",
       "      <th></th>\n",
       "      <th></th>\n",
       "      <th></th>\n",
       "      <th></th>\n",
       "      <th></th>\n",
       "      <th></th>\n",
       "      <th></th>\n",
       "      <th></th>\n",
       "      <th></th>\n",
       "      <th></th>\n",
       "      <th></th>\n",
       "      <th></th>\n",
       "      <th></th>\n",
       "      <th></th>\n",
       "    </tr>\n",
       "  </thead>\n",
       "  <tbody>\n",
       "    <tr>\n",
       "      <th>0</th>\n",
       "      <td>0</td>\n",
       "      <td>0</td>\n",
       "      <td>0</td>\n",
       "      <td>0</td>\n",
       "      <td>0</td>\n",
       "      <td>0</td>\n",
       "      <td>0</td>\n",
       "      <td>0</td>\n",
       "      <td>0</td>\n",
       "      <td>0</td>\n",
       "      <td>...</td>\n",
       "      <td>0</td>\n",
       "      <td>0</td>\n",
       "      <td>0</td>\n",
       "      <td>0</td>\n",
       "      <td>0</td>\n",
       "      <td>0</td>\n",
       "      <td>0</td>\n",
       "      <td>0</td>\n",
       "      <td>0</td>\n",
       "      <td>0</td>\n",
       "    </tr>\n",
       "    <tr>\n",
       "      <th>1</th>\n",
       "      <td>0</td>\n",
       "      <td>0</td>\n",
       "      <td>0</td>\n",
       "      <td>0</td>\n",
       "      <td>0</td>\n",
       "      <td>0</td>\n",
       "      <td>0</td>\n",
       "      <td>0</td>\n",
       "      <td>0</td>\n",
       "      <td>0</td>\n",
       "      <td>...</td>\n",
       "      <td>0</td>\n",
       "      <td>0</td>\n",
       "      <td>0</td>\n",
       "      <td>0</td>\n",
       "      <td>0</td>\n",
       "      <td>0</td>\n",
       "      <td>0</td>\n",
       "      <td>1</td>\n",
       "      <td>0</td>\n",
       "      <td>0</td>\n",
       "    </tr>\n",
       "    <tr>\n",
       "      <th>2</th>\n",
       "      <td>0</td>\n",
       "      <td>0</td>\n",
       "      <td>0</td>\n",
       "      <td>0</td>\n",
       "      <td>0</td>\n",
       "      <td>0</td>\n",
       "      <td>0</td>\n",
       "      <td>0</td>\n",
       "      <td>0</td>\n",
       "      <td>0</td>\n",
       "      <td>...</td>\n",
       "      <td>0</td>\n",
       "      <td>0</td>\n",
       "      <td>0</td>\n",
       "      <td>0</td>\n",
       "      <td>0</td>\n",
       "      <td>0</td>\n",
       "      <td>0</td>\n",
       "      <td>0</td>\n",
       "      <td>0</td>\n",
       "      <td>0</td>\n",
       "    </tr>\n",
       "    <tr>\n",
       "      <th>3</th>\n",
       "      <td>0</td>\n",
       "      <td>0</td>\n",
       "      <td>0</td>\n",
       "      <td>0</td>\n",
       "      <td>0</td>\n",
       "      <td>0</td>\n",
       "      <td>0</td>\n",
       "      <td>0</td>\n",
       "      <td>0</td>\n",
       "      <td>0</td>\n",
       "      <td>...</td>\n",
       "      <td>0</td>\n",
       "      <td>0</td>\n",
       "      <td>0</td>\n",
       "      <td>0</td>\n",
       "      <td>0</td>\n",
       "      <td>0</td>\n",
       "      <td>0</td>\n",
       "      <td>1</td>\n",
       "      <td>0</td>\n",
       "      <td>0</td>\n",
       "    </tr>\n",
       "    <tr>\n",
       "      <th>4</th>\n",
       "      <td>0</td>\n",
       "      <td>0</td>\n",
       "      <td>0</td>\n",
       "      <td>0</td>\n",
       "      <td>0</td>\n",
       "      <td>0</td>\n",
       "      <td>0</td>\n",
       "      <td>0</td>\n",
       "      <td>0</td>\n",
       "      <td>0</td>\n",
       "      <td>...</td>\n",
       "      <td>0</td>\n",
       "      <td>0</td>\n",
       "      <td>0</td>\n",
       "      <td>0</td>\n",
       "      <td>0</td>\n",
       "      <td>0</td>\n",
       "      <td>0</td>\n",
       "      <td>0</td>\n",
       "      <td>0</td>\n",
       "      <td>0</td>\n",
       "    </tr>\n",
       "    <tr>\n",
       "      <th>...</th>\n",
       "      <td>...</td>\n",
       "      <td>...</td>\n",
       "      <td>...</td>\n",
       "      <td>...</td>\n",
       "      <td>...</td>\n",
       "      <td>...</td>\n",
       "      <td>...</td>\n",
       "      <td>...</td>\n",
       "      <td>...</td>\n",
       "      <td>...</td>\n",
       "      <td>...</td>\n",
       "      <td>...</td>\n",
       "      <td>...</td>\n",
       "      <td>...</td>\n",
       "      <td>...</td>\n",
       "      <td>...</td>\n",
       "      <td>...</td>\n",
       "      <td>...</td>\n",
       "      <td>...</td>\n",
       "      <td>...</td>\n",
       "      <td>...</td>\n",
       "    </tr>\n",
       "    <tr>\n",
       "      <th>478</th>\n",
       "      <td>0</td>\n",
       "      <td>0</td>\n",
       "      <td>0</td>\n",
       "      <td>0</td>\n",
       "      <td>0</td>\n",
       "      <td>0</td>\n",
       "      <td>0</td>\n",
       "      <td>0</td>\n",
       "      <td>0</td>\n",
       "      <td>0</td>\n",
       "      <td>...</td>\n",
       "      <td>0</td>\n",
       "      <td>0</td>\n",
       "      <td>0</td>\n",
       "      <td>0</td>\n",
       "      <td>0</td>\n",
       "      <td>0</td>\n",
       "      <td>0</td>\n",
       "      <td>0</td>\n",
       "      <td>0</td>\n",
       "      <td>0</td>\n",
       "    </tr>\n",
       "    <tr>\n",
       "      <th>479</th>\n",
       "      <td>0</td>\n",
       "      <td>0</td>\n",
       "      <td>0</td>\n",
       "      <td>0</td>\n",
       "      <td>0</td>\n",
       "      <td>0</td>\n",
       "      <td>0</td>\n",
       "      <td>0</td>\n",
       "      <td>0</td>\n",
       "      <td>0</td>\n",
       "      <td>...</td>\n",
       "      <td>0</td>\n",
       "      <td>0</td>\n",
       "      <td>0</td>\n",
       "      <td>0</td>\n",
       "      <td>0</td>\n",
       "      <td>0</td>\n",
       "      <td>0</td>\n",
       "      <td>0</td>\n",
       "      <td>0</td>\n",
       "      <td>0</td>\n",
       "    </tr>\n",
       "    <tr>\n",
       "      <th>480</th>\n",
       "      <td>3</td>\n",
       "      <td>0</td>\n",
       "      <td>0</td>\n",
       "      <td>0</td>\n",
       "      <td>0</td>\n",
       "      <td>0</td>\n",
       "      <td>0</td>\n",
       "      <td>0</td>\n",
       "      <td>0</td>\n",
       "      <td>1</td>\n",
       "      <td>...</td>\n",
       "      <td>0</td>\n",
       "      <td>0</td>\n",
       "      <td>0</td>\n",
       "      <td>0</td>\n",
       "      <td>0</td>\n",
       "      <td>0</td>\n",
       "      <td>0</td>\n",
       "      <td>0</td>\n",
       "      <td>0</td>\n",
       "      <td>0</td>\n",
       "    </tr>\n",
       "    <tr>\n",
       "      <th>481</th>\n",
       "      <td>0</td>\n",
       "      <td>0</td>\n",
       "      <td>0</td>\n",
       "      <td>0</td>\n",
       "      <td>0</td>\n",
       "      <td>2</td>\n",
       "      <td>0</td>\n",
       "      <td>0</td>\n",
       "      <td>0</td>\n",
       "      <td>0</td>\n",
       "      <td>...</td>\n",
       "      <td>0</td>\n",
       "      <td>0</td>\n",
       "      <td>0</td>\n",
       "      <td>0</td>\n",
       "      <td>0</td>\n",
       "      <td>0</td>\n",
       "      <td>0</td>\n",
       "      <td>0</td>\n",
       "      <td>0</td>\n",
       "      <td>0</td>\n",
       "    </tr>\n",
       "    <tr>\n",
       "      <th>482</th>\n",
       "      <td>0</td>\n",
       "      <td>0</td>\n",
       "      <td>0</td>\n",
       "      <td>1</td>\n",
       "      <td>0</td>\n",
       "      <td>0</td>\n",
       "      <td>0</td>\n",
       "      <td>0</td>\n",
       "      <td>0</td>\n",
       "      <td>0</td>\n",
       "      <td>...</td>\n",
       "      <td>0</td>\n",
       "      <td>0</td>\n",
       "      <td>0</td>\n",
       "      <td>0</td>\n",
       "      <td>0</td>\n",
       "      <td>0</td>\n",
       "      <td>0</td>\n",
       "      <td>0</td>\n",
       "      <td>0</td>\n",
       "      <td>0</td>\n",
       "    </tr>\n",
       "  </tbody>\n",
       "</table>\n",
       "<p>483 rows × 4173 columns</p>\n",
       "</div>"
      ],
      "text/plain": [
       "         0     1     2     3     4     5     6     7     8     9     ...  \\\n",
       "Sintoma                                                              ...   \n",
       "0           0     0     0     0     0     0     0     0     0     0  ...   \n",
       "1           0     0     0     0     0     0     0     0     0     0  ...   \n",
       "2           0     0     0     0     0     0     0     0     0     0  ...   \n",
       "3           0     0     0     0     0     0     0     0     0     0  ...   \n",
       "4           0     0     0     0     0     0     0     0     0     0  ...   \n",
       "...       ...   ...   ...   ...   ...   ...   ...   ...   ...   ...  ...   \n",
       "478         0     0     0     0     0     0     0     0     0     0  ...   \n",
       "479         0     0     0     0     0     0     0     0     0     0  ...   \n",
       "480         3     0     0     0     0     0     0     0     0     1  ...   \n",
       "481         0     0     0     0     0     2     0     0     0     0  ...   \n",
       "482         0     0     0     1     0     0     0     0     0     0  ...   \n",
       "\n",
       "         4163  4164  4165  4166  4167  4168  4169  4170  4171  4172  \n",
       "Sintoma                                                              \n",
       "0           0     0     0     0     0     0     0     0     0     0  \n",
       "1           0     0     0     0     0     0     0     1     0     0  \n",
       "2           0     0     0     0     0     0     0     0     0     0  \n",
       "3           0     0     0     0     0     0     0     1     0     0  \n",
       "4           0     0     0     0     0     0     0     0     0     0  \n",
       "...       ...   ...   ...   ...   ...   ...   ...   ...   ...   ...  \n",
       "478         0     0     0     0     0     0     0     0     0     0  \n",
       "479         0     0     0     0     0     0     0     0     0     0  \n",
       "480         0     0     0     0     0     0     0     0     0     0  \n",
       "481         0     0     0     0     0     0     0     0     0     0  \n",
       "482         0     0     0     0     0     0     0     0     0     0  \n",
       "\n",
       "[483 rows x 4173 columns]"
      ]
     },
     "execution_count": 33,
     "metadata": {},
     "output_type": "execute_result"
    }
   ],
   "source": [
    "df_matrix=df_train_generated.transpose()\n",
    "df_matrix"
   ]
  },
  {
   "cell_type": "markdown",
   "id": "faf962ba",
   "metadata": {},
   "source": [
    "## Collaborative Filtering: User based"
   ]
  },
  {
   "cell_type": "code",
   "execution_count": 177,
   "id": "6f375fa4",
   "metadata": {},
   "outputs": [
    {
     "name": "stdout",
     "output_type": "stream",
     "text": [
      "1182    Enfermedad de inclusiones intranucleares neuro...\n",
      "Name: Enfermedad, dtype: object puntaje: 3.0\n",
      "893    Distonía primaria tipo DYT17\n",
      "Name: Enfermedad, dtype: object puntaje: 3.0\n",
      "285    Ataxia espinocerebolosa tipo 26\n",
      "Name: Enfermedad, dtype: object puntaje: 3.0\n",
      "287    Ataxia espinocerebolosa tipo 30\n",
      "Name: Enfermedad, dtype: object puntaje: 3.0\n",
      "280    Ataxia espinocerebelosa tipo 7\n",
      "Name: Enfermedad, dtype: object puntaje: 4.0\n",
      "mse: 2.9371830599844673\n"
     ]
    }
   ],
   "source": [
    "matriz=prueba(df_matrix.values,\"Dysphagia\",10,2)"
   ]
  },
  {
   "cell_type": "code",
   "execution_count": 166,
   "id": "5eb67d26",
   "metadata": {},
   "outputs": [
    {
     "name": "stdout",
     "output_type": "stream",
     "text": [
      "(386, 4173)\n",
      "(97, 4173)\n"
     ]
    }
   ],
   "source": [
    "listado_completo,users_predictions,ratings, ratings_test, sim_matrix,v=predict_collaborative_filtering_ser_based(\n",
    "    df_matrix.values, \"Dysphagia\",10)"
   ]
  },
  {
   "cell_type": "code",
   "execution_count": 155,
   "id": "10577550",
   "metadata": {},
   "outputs": [
    {
     "data": {
      "text/plain": [
       "[[2533, 'Síndrome de Angelman', 0.3879151519034181, 'Ocasional (29-5%)'],\n",
       " [3765,\n",
       "  'Síndrome de regresión cognitiva y motora de inicio en la infancia con trastorno del movimiento extrapiramidal',\n",
       "  0.404895225011024,\n",
       "  'Muy frecuente (99-80%)'],\n",
       " [1591, 'Holoprosencefalia alobar', 0.41065212895602776, 'Frecuente (79-30%)'],\n",
       " [4148,\n",
       "  'Variante interhemisférica media de la holoprosencefalia',\n",
       "  0.41065212895602776,\n",
       "  'Frecuente (79-30%)'],\n",
       " [1594,\n",
       "  'Holoprosencefalia semilobar',\n",
       "  0.41065212895602776,\n",
       "  'Frecuente (79-30%)'],\n",
       " [1125,\n",
       "  'Enfermedad de Niemann-Pick tipo C',\n",
       "  0.42245560982610186,\n",
       "  'Muy frecuente (99-80%)'],\n",
       " [280,\n",
       "  'Ataxia espinocerebelosa tipo 7',\n",
       "  0.4329044316020305,\n",
       "  'Muy frecuente (99-80%)'],\n",
       " [3209,\n",
       "  'Síndrome de deleción 1p36',\n",
       "  0.43633736936354817,\n",
       "  'Frecuente (79-30%)'],\n",
       " [2997, 'Síndrome de Williams', 0.46205179282354814],\n",
       " [1040, 'Enfermedad de Alexander', 0.4766050104283615, 'Frecuente (79-30%)']]"
      ]
     },
     "execution_count": 155,
     "metadata": {},
     "output_type": "execute_result"
    }
   ],
   "source": [
    "listado_completo"
   ]
  },
  {
   "cell_type": "code",
   "execution_count": null,
   "id": "0dd10e67",
   "metadata": {},
   "outputs": [],
   "source": []
  },
  {
   "cell_type": "code",
   "execution_count": 156,
   "id": "c10bcc5f",
   "metadata": {},
   "outputs": [
    {
     "data": {
      "text/plain": [
       "3.1285724759508975"
      ]
     },
     "execution_count": 156,
     "metadata": {},
     "output_type": "execute_result"
    }
   ],
   "source": [
    "get_mse(users_predictions, ratings)"
   ]
  },
  {
   "cell_type": "code",
   "execution_count": null,
   "id": "830537f5",
   "metadata": {},
   "outputs": [],
   "source": [
    "# Realizo las predicciones para el test set\n",
    "users_predictions_test = sim_matrix.dot(df_matrix.values) / np.array([np.abs(sim_matrix).sum(axis=1)]).T\n",
    "users_predictions_test = users_predictions_test[386:483,:]\n",
    " \n",
    "get_mse(users_predictions_test, ratings_test)"
   ]
  },
  {
   "cell_type": "code",
   "execution_count": null,
   "id": "0643c34c",
   "metadata": {},
   "outputs": [],
   "source": [
    "#df_EnfeySinto_select[df_EnfeySinto_select[\"Enfermedad\"]==\"Síndrome de Angelman\"]"
   ]
  },
  {
   "cell_type": "code",
   "execution_count": null,
   "id": "f0b6de05",
   "metadata": {},
   "outputs": [],
   "source": []
  },
  {
   "cell_type": "code",
   "execution_count": null,
   "id": "63d7b1ef",
   "metadata": {},
   "outputs": [],
   "source": [
    "\n"
   ]
  },
  {
   "cell_type": "markdown",
   "id": "82284045",
   "metadata": {},
   "source": [
    "## Similitud entre Usuarios: Correlación de Pearson"
   ]
  },
  {
   "cell_type": "markdown",
   "id": "be0bdd30",
   "metadata": {},
   "source": [
    "SOLO UN SINTOMA"
   ]
  },
  {
   "cell_type": "code",
   "execution_count": null,
   "id": "a44436f0",
   "metadata": {},
   "outputs": [],
   "source": [
    "listado_completo, vector_enfermedades_scoring=predict_similitud_entre_usuarios_by_pearson(\n",
    "    df_train_generated,\"Gastroesophageal reflux\", 10)\n"
   ]
  },
  {
   "cell_type": "code",
   "execution_count": null,
   "id": "602316d5",
   "metadata": {},
   "outputs": [],
   "source": [
    "listado_completo"
   ]
  },
  {
   "cell_type": "code",
   "execution_count": null,
   "id": "90f733c2",
   "metadata": {},
   "outputs": [],
   "source": [
    "vector_enfermedades_scoring"
   ]
  },
  {
   "cell_type": "code",
   "execution_count": null,
   "id": "54bf65d3",
   "metadata": {},
   "outputs": [],
   "source": []
  },
  {
   "cell_type": "code",
   "execution_count": null,
   "id": "2ff80ca1",
   "metadata": {},
   "outputs": [],
   "source": [
    "df_EnfeySinto_select[(df_EnfeySinto_select[\"Enfermedad\"]==\"Linfoma de Hodgkin\")]"
   ]
  },
  {
   "cell_type": "code",
   "execution_count": null,
   "id": "e9c74efa",
   "metadata": {},
   "outputs": [],
   "source": []
  },
  {
   "cell_type": "code",
   "execution_count": null,
   "id": "587a7a33",
   "metadata": {},
   "outputs": [],
   "source": []
  },
  {
   "cell_type": "code",
   "execution_count": null,
   "id": "f659022c",
   "metadata": {},
   "outputs": [],
   "source": []
  },
  {
   "cell_type": "code",
   "execution_count": 241,
   "id": "2c76eeb5",
   "metadata": {},
   "outputs": [],
   "source": [
    "\n",
    "\n",
    "#common = set(first).intersection(second)\n",
    "##HACE INTERSECCIÓN DE VARIOS SINTOMAS\n",
    "def trata_sintomas2 (sintomas,df_transpuesta):\n",
    "    comunes=[]\n",
    "    primera_iter=True\n",
    "    df_matrix=df_transpuesta.transpose()\n",
    "\n",
    "    for i in sintomas:\n",
    "        vector=[]\n",
    "        #lista,vector=predict_similitud_entre_usuarios_by_pearson(df_transpuesta,i,20)\n",
    "        listado_completo,users_predictions,ratings_train, ratings_test, sim_matrix, v=predict_collaborative_filtering_ser_based(\n",
    "    df_matrix.values, i,200)\n",
    "        #v=vector.reset_index()\n",
    "        \n",
    "        sintoma=v[\"index\"]\n",
    "        sintoma=list(sintoma)\n",
    "        print(sintoma)\n",
    "      \n",
    "        if primera_iter:\n",
    "            comunes=sintoma\n",
    "            primera_iter=False\n",
    "\n",
    "        else:            \n",
    "            comunes = set(comunes).intersection(sintoma)\n",
    "            \n",
    "    return comunes\n"
   ]
  },
  {
   "cell_type": "code",
   "execution_count": 242,
   "id": "d4caeded",
   "metadata": {},
   "outputs": [],
   "source": [
    "\n",
    "\n",
    "#common = set(first).intersection(second)\n",
    "##HACE INTERSECCIÓN DE VARIOS SINTOMAS\n",
    "def trata_sintomas1 (sintomas,df_transpuesta):\n",
    "    comunes=[]\n",
    "    primera_iter=True\n",
    "\n",
    "\n",
    "    for i in sintomas:\n",
    "        vector=[]\n",
    "        lista,vector=predict_similitud_entre_usuarios_by_pearson(df_transpuesta,i,200)\n",
    "        #listado_completo,users_predictions,ratings_train, ratings_test, sim_matrix, v=predict_collaborative_filtering_ser_based(\n",
    "    #df_matrix.values, i,10)\n",
    "        v=vector.reset_index()\n",
    "        \n",
    "        sintoma=v[\"index\"]\n",
    "        sintoma=list(sintoma)\n",
    "      \n",
    "        if primera_iter:\n",
    "            comunes=sintoma\n",
    "            primera_iter=False\n",
    "\n",
    "        else:            \n",
    "            comunes = set(comunes).intersection(sintoma)\n",
    "        \n",
    "    return comunes"
   ]
  },
  {
   "cell_type": "markdown",
   "id": "b77edfac",
   "metadata": {},
   "source": [
    "VAMOS CON MULTI-SINTOMA"
   ]
  },
  {
   "cell_type": "code",
   "execution_count": 261,
   "id": "f5883573",
   "metadata": {},
   "outputs": [],
   "source": [
    "SINTOMAS_EJEMPLO = ['Dysphagia','Gastroesophageal reflux']"
   ]
  },
  {
   "cell_type": "code",
   "execution_count": 262,
   "id": "103bc956",
   "metadata": {},
   "outputs": [
    {
     "data": {
      "text/plain": [
       "{27,\n",
       " 920,\n",
       " 1005,\n",
       " 1048,\n",
       " 1239,\n",
       " 1306,\n",
       " 1402,\n",
       " 1591,\n",
       " 1592,\n",
       " 1594,\n",
       " 2419,\n",
       " 2533,\n",
       " 2534,\n",
       " 2592,\n",
       " 2595,\n",
       " 2655,\n",
       " 2738,\n",
       " 2995,\n",
       " 3209,\n",
       " 3230,\n",
       " 3358,\n",
       " 3614,\n",
       " 3868,\n",
       " 3920,\n",
       " 3971,\n",
       " 4148}"
      ]
     },
     "execution_count": 262,
     "metadata": {},
     "output_type": "execute_result"
    }
   ],
   "source": [
    "sintomas_comunes1=trata_sintomas1 (SINTOMAS_EJEMPLO,df_train_generated)\n",
    "sintomas_comunes1"
   ]
  },
  {
   "cell_type": "code",
   "execution_count": 263,
   "id": "d1c1abec",
   "metadata": {},
   "outputs": [
    {
     "name": "stdout",
     "output_type": "stream",
     "text": [
      "[3971    Síndrome similar a Prader-Willi asociado al ge...\n",
      "Name: Enfermedad, dtype: object, 3209    Síndrome de deleción 1p36\n",
      "Name: Enfermedad, dtype: object, 920    Distrofia muscular congénita asociada a la sub...\n",
      "Name: Enfermedad, dtype: object, 1048    Enfermedad de Canavan grave\n",
      "Name: Enfermedad, dtype: object, 1306    Esclerosis sistémica cutánea difusa\n",
      "Name: Enfermedad, dtype: object, 27    Acidosis láctica congénita tipo Saguenay-Lac-S...\n",
      "Name: Enfermedad, dtype: object, 3868    Síndrome del cuerno occipital\n",
      "Name: Enfermedad, dtype: object, 3230    Síndrome de discapacidad intelectual asociado ...\n",
      "Name: Enfermedad, dtype: object, 3358    Síndrome de encefalopatía progresiva-hipoacusi...\n",
      "Name: Enfermedad, dtype: object, 2592    Síndrome de Christianson\n",
      "Name: Enfermedad, dtype: object, 3614    Síndrome de microdeleción 9q33.3q34.11\n",
      "Name: Enfermedad, dtype: object, 2595    Síndrome de Cockayne\n",
      "Name: Enfermedad, dtype: object, 2738    Síndrome de Kagami-Ogata\n",
      "Name: Enfermedad, dtype: object, 2995    Síndrome de Wiedemann-Steiner\n",
      "Name: Enfermedad, dtype: object, 4148    Variante interhemisférica media de la holopros...\n",
      "Name: Enfermedad, dtype: object, 1591    Holoprosencefalia alobar\n",
      "Name: Enfermedad, dtype: object, 1592    Holoprosencefalia lobar\n",
      "Name: Enfermedad, dtype: object, 1594    Holoprosencefalia semilobar\n",
      "Name: Enfermedad, dtype: object, 3920    Síndrome neonatal de hipotonía-crisis-encefalo...\n",
      "Name: Enfermedad, dtype: object, 1239    Epidermólisis ampollosa distrófica generalizad...\n",
      "Name: Enfermedad, dtype: object, 2655    Síndrome de Emanuel\n",
      "Name: Enfermedad, dtype: object, 2533    Síndrome de Angelman\n",
      "Name: Enfermedad, dtype: object, 2534    Síndrome de Angelman por deleción materna 15q1...\n",
      "Name: Enfermedad, dtype: object, 1005    Encefalomiopatía neurogastrointestinal mitocon...\n",
      "Name: Enfermedad, dtype: object, 2419    Síndrome FOXG1\n",
      "Name: Enfermedad, dtype: object, 1402    Gangliosidosis GM1\n",
      "Name: Enfermedad, dtype: object]\n"
     ]
    }
   ],
   "source": [
    "print(saca_enfermedades (sintomas_comunes1,df_Enfermedades))"
   ]
  },
  {
   "cell_type": "code",
   "execution_count": 264,
   "id": "a539bd93",
   "metadata": {},
   "outputs": [
    {
     "name": "stdout",
     "output_type": "stream",
     "text": [
      "(386, 4173)\n",
      "(97, 4173)\n",
      "[281, 599, 28, 4137, 1306, 2791, 2994, 1369, 887, 1132, 220, 1042, 2162, 1985, 3218, 399, 2717, 2865, 557, 3229, 4040, 3288, 2816, 2404, 1018, 1156, 2138, 3303, 468, 236, 489, 493, 1144, 3269, 1997, 2900, 2940, 882, 918, 861, 1181, 513, 1987, 2599, 3713, 3571, 2400, 2388, 417, 958, 2101, 3460, 2786, 3203, 3057, 223, 633, 3834, 226, 1155, 1523, 3358, 350, 2451, 1301, 253, 297, 2834, 2902, 1239, 265, 3187, 2815, 2817, 3517, 586, 2773, 3829, 2443, 1029, 1980, 2884, 221, 2483, 237, 920, 1022, 1819, 2760, 3575, 645, 4012, 1673, 1981, 2350, 3256, 3099, 2529, 1954, 276, 3001, 117, 1099, 2103, 1175, 2936, 3369, 2915, 2493, 3098, 3210, 1048, 2772, 3868, 2903, 2794, 1863, 898, 279, 2419, 3920, 27, 1422, 3083, 1998, 291, 3302, 4001, 2534, 2771, 2995, 1114, 324, 3827, 348, 2606, 2030, 3518, 3111, 1196, 515, 1115, 1956, 1133, 3301, 2811, 1672, 4167, 1752, 3935, 251, 1944, 2161, 1721, 1113, 3951, 3971, 3334, 617, 2864, 1088, 1028, 3106, 2683, 1592, 1090, 2102, 2592, 3614, 3230, 351, 2595, 3591, 1955, 346, 2937, 1438, 2738, 1005, 2098, 353, 2655, 4000, 3911, 2774, 347, 1982, 349, 1149, 1402, 2533, 3765, 1591, 4148, 1594, 1125, 280, 3209, 2997, 1040]\n",
      "(386, 4173)\n",
      "(97, 4173)\n",
      "[3798, 2332, 3614, 1559, 2556, 3636, 3654, 4025, 2683, 1918, 1620, 861, 1133, 3, 3593, 3262, 3319, 3530, 2407, 2968, 2967, 1923, 1922, 3602, 3595, 3347, 681, 3548, 3618, 3607, 1944, 3289, 920, 2834, 2639, 2534, 2707, 2872, 2890, 3993, 2451, 3891, 3268, 3215, 3972, 3644, 3779, 1921, 3821, 3866, 2739, 3437, 4074, 2868, 3868, 2412, 495, 3835, 3836, 2737, 680, 2543, 3578, 3008, 2482, 1819, 3943, 3920, 3492, 3125, 2891, 3628, 2929, 3288, 3276, 2700, 3675, 2995, 3510, 3597, 2717, 2060, 2678, 1040, 4079, 2923, 2939, 2607, 3645, 653, 3610, 2871, 3270, 2447, 2169, 2631, 2676, 2754, 1929, 1926, 3189, 2869, 3970, 4045, 3279, 2417, 3931, 4070, 2393, 2993, 2870, 2399, 3457, 3186, 3633, 2926, 3273, 1048, 2623, 3057, 2933, 3303, 2387, 2602, 2873, 3269, 850, 489, 2915, 2600, 4075, 2899, 1590, 3517, 2592, 2383, 2791, 3743, 2595, 2503, 2759, 3569, 3302, 3351, 4012, 2723, 2419, 2839, 1920, 3249, 2420, 4049, 2853, 2901, 2388, 2816, 2483, 3222, 3229, 2941, 2486, 2390, 2817, 3301, 2994, 1592, 3460, 1402, 3554, 2815, 2335, 2493, 2599, 3256, 3571, 2753, 3030, 3001, 3591, 3834, 3230, 3575, 2760, 2900, 2404, 2902, 2655, 3935, 3971, 1591, 4148, 1594, 3210, 2533, 2864, 2936, 2997, 2937, 3209, 2606]\n"
     ]
    },
    {
     "data": {
      "text/plain": [
       "{489,\n",
       " 861,\n",
       " 920,\n",
       " 1040,\n",
       " 1048,\n",
       " 1133,\n",
       " 1402,\n",
       " 1591,\n",
       " 1592,\n",
       " 1594,\n",
       " 1819,\n",
       " 1944,\n",
       " 2388,\n",
       " 2404,\n",
       " 2419,\n",
       " 2451,\n",
       " 2483,\n",
       " 2493,\n",
       " 2533,\n",
       " 2534,\n",
       " 2592,\n",
       " 2595,\n",
       " 2599,\n",
       " 2606,\n",
       " 2655,\n",
       " 2683,\n",
       " 2717,\n",
       " 2760,\n",
       " 2791,\n",
       " 2815,\n",
       " 2816,\n",
       " 2817,\n",
       " 2834,\n",
       " 2864,\n",
       " 2900,\n",
       " 2902,\n",
       " 2915,\n",
       " 2936,\n",
       " 2937,\n",
       " 2994,\n",
       " 2995,\n",
       " 2997,\n",
       " 3001,\n",
       " 3057,\n",
       " 3209,\n",
       " 3210,\n",
       " 3229,\n",
       " 3230,\n",
       " 3256,\n",
       " 3269,\n",
       " 3288,\n",
       " 3301,\n",
       " 3302,\n",
       " 3303,\n",
       " 3460,\n",
       " 3517,\n",
       " 3571,\n",
       " 3575,\n",
       " 3591,\n",
       " 3614,\n",
       " 3834,\n",
       " 3868,\n",
       " 3920,\n",
       " 3935,\n",
       " 3971,\n",
       " 4012,\n",
       " 4148}"
      ]
     },
     "execution_count": 264,
     "metadata": {},
     "output_type": "execute_result"
    }
   ],
   "source": [
    "sintomas_comunes2=trata_sintomas2 (SINTOMAS_EJEMPLO,df_train_generated)\n",
    "sintomas_comunes2"
   ]
  },
  {
   "cell_type": "code",
   "execution_count": 265,
   "id": "1531ed44",
   "metadata": {},
   "outputs": [
    {
     "name": "stdout",
     "output_type": "stream",
     "text": [
      "[2816    Síndrome de Mowat-Wilson por monosomía 2q22\n",
      "Name: Enfermedad, dtype: object, 2817    Síndrome de Mowat-Wilson por una mutación punt...\n",
      "Name: Enfermedad, dtype: object, 3971    Síndrome similar a Prader-Willi asociado al ge...\n",
      "Name: Enfermedad, dtype: object, 3460    Síndrome de hipotonía-trastorno del habla-retr...\n",
      "Name: Enfermedad, dtype: object, 3591    Síndrome de microdeleción 2p15p16.1\n",
      "Name: Enfermedad, dtype: object, 3209    Síndrome de deleción 1p36\n",
      "Name: Enfermedad, dtype: object, 3210    Síndrome de deleción 22q11.2\n",
      "Name: Enfermedad, dtype: object, 1040    Enfermedad de Alexander\n",
      "Name: Enfermedad, dtype: object, 2834    Síndrome de Noonan\n",
      "Name: Enfermedad, dtype: object, 2451    Síndrome PEHO\n",
      "Name: Enfermedad, dtype: object, 920    Distrofia muscular congénita asociada a la sub...\n",
      "Name: Enfermedad, dtype: object, 1944    Mucopolisacaridosis tipo 3\n",
      "Name: Enfermedad, dtype: object, 1048    Enfermedad de Canavan grave\n",
      "Name: Enfermedad, dtype: object, 1819    Microcefalia asociada al gen PYCR2-leucoencefa...\n",
      "Name: Enfermedad, dtype: object, 3868    Síndrome del cuerno occipital\n",
      "Name: Enfermedad, dtype: object, 2717    Síndrome de Hurler\n",
      "Name: Enfermedad, dtype: object, 3614    Síndrome de microdeleción 9q33.3q34.11\n",
      "Name: Enfermedad, dtype: object, 3229    Síndrome de discapacidad intelectual asociado ...\n",
      "Name: Enfermedad, dtype: object, 2592    Síndrome de Christianson\n",
      "Name: Enfermedad, dtype: object, 3230    Síndrome de discapacidad intelectual asociado ...\n",
      "Name: Enfermedad, dtype: object, 2595    Síndrome de Cockayne\n",
      "Name: Enfermedad, dtype: object, 2599    Síndrome de Coffin-Lowry\n",
      "Name: Enfermedad, dtype: object, 4012    Talla baja significativa primordial osteodispl...\n",
      "Name: Enfermedad, dtype: object, 2606    Síndrome de Cornelia de Lange\n",
      "Name: Enfermedad, dtype: object, 2864    Síndrome de Pitt Hopkins\n",
      "Name: Enfermedad, dtype: object, 2994    Síndrome de Wiedemann-Rautenstrauch\n",
      "Name: Enfermedad, dtype: object, 2995    Síndrome de Wiedemann-Steiner\n",
      "Name: Enfermedad, dtype: object, 2483    Síndrome asociado al gen SATB2 por una variant...\n",
      "Name: Enfermedad, dtype: object, 4148    Variante interhemisférica media de la holopros...\n",
      "Name: Enfermedad, dtype: object, 2997    Síndrome de Williams\n",
      "Name: Enfermedad, dtype: object, 1591    Holoprosencefalia alobar\n",
      "Name: Enfermedad, dtype: object, 1592    Holoprosencefalia lobar\n",
      "Name: Enfermedad, dtype: object, 3256    Síndrome de discapacidad intelectual por una m...\n",
      "Name: Enfermedad, dtype: object, 3001    Síndrome de Wolf-Hirschhorn\n",
      "Name: Enfermedad, dtype: object, 1594    Holoprosencefalia semilobar\n",
      "Name: Enfermedad, dtype: object, 3517    Síndrome de malformaciones cerebrales-anomalía...\n",
      "Name: Enfermedad, dtype: object, 2493    Síndrome cardio-facio-cutáneo\n",
      "Name: Enfermedad, dtype: object, 3269    Síndrome de discapacidad intelectual-crisis-ma...\n",
      "Name: Enfermedad, dtype: object, 2760    Síndrome de Koolen-De Vries por una mutación p...\n",
      "Name: Enfermedad, dtype: object, 3920    Síndrome neonatal de hipotonía-crisis-encefalo...\n",
      "Name: Enfermedad, dtype: object, 2388    Síndrome 48,XXYY\n",
      "Name: Enfermedad, dtype: object, 2900    Síndrome de Rubinstein-Taybi por haploinsufici...\n",
      "Name: Enfermedad, dtype: object, 2902    Síndrome de Rubinstein-Taybi por mutaciones en...\n",
      "Name: Enfermedad, dtype: object, 3288    Síndrome de discapacidad intelectual-retraso d...\n",
      "Name: Enfermedad, dtype: object, 3834    Síndrome de trastorno del neurodesarrollo-dism...\n",
      "Name: Enfermedad, dtype: object, 861    Displasia oculodentodigital\n",
      "Name: Enfermedad, dtype: object, 2655    Síndrome de Emanuel\n",
      "Name: Enfermedad, dtype: object, 3935    Síndrome oculocerebrorrenal de Lowe\n",
      "Name: Enfermedad, dtype: object, 2915    Síndrome de Schwartz-Jampel\n",
      "Name: Enfermedad, dtype: object, 2404    Síndrome CHARGE\n",
      "Name: Enfermedad, dtype: object, 3301    Síndrome de dismorfia facial-retraso del desar...\n",
      "Name: Enfermedad, dtype: object, 2534    Síndrome de Angelman por deleción materna 15q1...\n",
      "Name: Enfermedad, dtype: object, 3303    Síndrome de dismorfia facial-retraso del desar...\n",
      "Name: Enfermedad, dtype: object, 2791    Síndrome de Marden-Walker\n",
      "Name: Enfermedad, dtype: object, 489    Cutis laxa autosómica recesiva tipo 2, tipo cl...\n",
      "Name: Enfermedad, dtype: object, 3302    Síndrome de dismorfia facial-retraso del desar...\n",
      "Name: Enfermedad, dtype: object, 2533    Síndrome de Angelman\n",
      "Name: Enfermedad, dtype: object, 1133    Enfermedad de Pelizaeus-Merzbacher\n",
      "Name: Enfermedad, dtype: object, 3057    Síndrome de anomalías congénitas múltiples-hip...\n",
      "Name: Enfermedad, dtype: object, 2419    Síndrome FOXG1\n",
      "Name: Enfermedad, dtype: object, 3571    Síndrome de microdeleción 16p13.2\n",
      "Name: Enfermedad, dtype: object, 3575    Síndrome de microdeleción 17q21.31\n",
      "Name: Enfermedad, dtype: object, 2936    Síndrome de Smith-Lemli-Opitz\n",
      "Name: Enfermedad, dtype: object, 2937    Síndrome de Smith-Magenis\n",
      "Name: Enfermedad, dtype: object, 1402    Gangliosidosis GM1\n",
      "Name: Enfermedad, dtype: object, 2683    Síndrome de German\n",
      "Name: Enfermedad, dtype: object, 2815    Síndrome de Mowat-Wilson\n",
      "Name: Enfermedad, dtype: object]\n"
     ]
    }
   ],
   "source": [
    "print(saca_enfermedades (sintomas_comunes2,df_Enfermedades))"
   ]
  },
  {
   "cell_type": "code",
   "execution_count": 268,
   "id": "3d789c95",
   "metadata": {},
   "outputs": [
    {
     "data": {
      "text/html": [
       "<div>\n",
       "<style scoped>\n",
       "    .dataframe tbody tr th:only-of-type {\n",
       "        vertical-align: middle;\n",
       "    }\n",
       "\n",
       "    .dataframe tbody tr th {\n",
       "        vertical-align: top;\n",
       "    }\n",
       "\n",
       "    .dataframe thead th {\n",
       "        text-align: right;\n",
       "    }\n",
       "</style>\n",
       "<table border=\"1\" class=\"dataframe\">\n",
       "  <thead>\n",
       "    <tr style=\"text-align: right;\">\n",
       "      <th></th>\n",
       "      <th>Enfermedad</th>\n",
       "      <th>Sintoma</th>\n",
       "      <th>Frecuencia</th>\n",
       "    </tr>\n",
       "  </thead>\n",
       "  <tbody>\n",
       "  </tbody>\n",
       "</table>\n",
       "</div>"
      ],
      "text/plain": [
       "Empty DataFrame\n",
       "Columns: [Enfermedad, Sintoma, Frecuencia]\n",
       "Index: []"
      ]
     },
     "execution_count": 268,
     "metadata": {},
     "output_type": "execute_result"
    }
   ],
   "source": [
    "df_EnfeySinto_select[(df_EnfeySinto_select[\"Enfermedad\"]==\" Síndrome FOXG1\") &\n",
    "                     ((df_EnfeySinto_select[\"Sintoma\"]==\"Dysphagia\") | (df_EnfeySinto_select[\"Sintoma\"]==\"Gastroesophageal reflux\"))]"
   ]
  },
  {
   "cell_type": "code",
   "execution_count": null,
   "id": "3be1b91c",
   "metadata": {},
   "outputs": [],
   "source": []
  },
  {
   "cell_type": "code",
   "execution_count": null,
   "id": "9f2078a5",
   "metadata": {},
   "outputs": [],
   "source": []
  },
  {
   "cell_type": "code",
   "execution_count": null,
   "id": "09251fd3",
   "metadata": {},
   "outputs": [],
   "source": []
  },
  {
   "cell_type": "code",
   "execution_count": null,
   "id": "288b652c",
   "metadata": {},
   "outputs": [],
   "source": []
  },
  {
   "cell_type": "code",
   "execution_count": null,
   "id": "84ebaa6a",
   "metadata": {},
   "outputs": [],
   "source": []
  },
  {
   "cell_type": "code",
   "execution_count": null,
   "id": "6d24bd68",
   "metadata": {},
   "outputs": [],
   "source": []
  },
  {
   "cell_type": "code",
   "execution_count": null,
   "id": "67966fc9",
   "metadata": {},
   "outputs": [],
   "source": []
  },
  {
   "cell_type": "code",
   "execution_count": null,
   "id": "9ddbd257",
   "metadata": {},
   "outputs": [],
   "source": []
  },
  {
   "cell_type": "code",
   "execution_count": null,
   "id": "44e9eae0",
   "metadata": {},
   "outputs": [],
   "source": [
    "\n"
   ]
  },
  {
   "cell_type": "code",
   "execution_count": null,
   "id": "ed9aefad",
   "metadata": {},
   "outputs": [],
   "source": [
    "\n"
   ]
  },
  {
   "cell_type": "code",
   "execution_count": null,
   "id": "8fb950fb",
   "metadata": {},
   "outputs": [],
   "source": []
  },
  {
   "cell_type": "code",
   "execution_count": null,
   "id": "4ca3d230",
   "metadata": {},
   "outputs": [],
   "source": []
  },
  {
   "cell_type": "code",
   "execution_count": null,
   "id": "a18dba97",
   "metadata": {},
   "outputs": [],
   "source": []
  },
  {
   "cell_type": "code",
   "execution_count": null,
   "id": "cd233117",
   "metadata": {},
   "outputs": [],
   "source": []
  },
  {
   "cell_type": "code",
   "execution_count": null,
   "id": "b6df72b3",
   "metadata": {},
   "outputs": [],
   "source": []
  },
  {
   "cell_type": "code",
   "execution_count": null,
   "id": "d20d5e2f",
   "metadata": {},
   "outputs": [],
   "source": []
  },
  {
   "cell_type": "code",
   "execution_count": null,
   "id": "b20d1c1b",
   "metadata": {},
   "outputs": [],
   "source": []
  },
  {
   "cell_type": "code",
   "execution_count": null,
   "id": "62ce9203",
   "metadata": {},
   "outputs": [],
   "source": []
  },
  {
   "cell_type": "code",
   "execution_count": null,
   "id": "9ce3af4b",
   "metadata": {},
   "outputs": [],
   "source": []
  },
  {
   "cell_type": "code",
   "execution_count": null,
   "id": "53400582",
   "metadata": {},
   "outputs": [],
   "source": []
  },
  {
   "cell_type": "code",
   "execution_count": null,
   "id": "029f66d0",
   "metadata": {},
   "outputs": [],
   "source": []
  },
  {
   "cell_type": "code",
   "execution_count": null,
   "id": "46ca4ff5",
   "metadata": {},
   "outputs": [],
   "source": []
  },
  {
   "cell_type": "code",
   "execution_count": null,
   "id": "7b37503f",
   "metadata": {},
   "outputs": [],
   "source": []
  },
  {
   "cell_type": "code",
   "execution_count": null,
   "id": "da462a72",
   "metadata": {},
   "outputs": [],
   "source": []
  },
  {
   "cell_type": "code",
   "execution_count": null,
   "id": "46f9b949",
   "metadata": {},
   "outputs": [],
   "source": []
  },
  {
   "cell_type": "code",
   "execution_count": null,
   "id": "cb6275b7",
   "metadata": {},
   "outputs": [],
   "source": []
  },
  {
   "cell_type": "code",
   "execution_count": null,
   "id": "5797ca25",
   "metadata": {},
   "outputs": [],
   "source": []
  },
  {
   "cell_type": "code",
   "execution_count": null,
   "id": "3c3864bb",
   "metadata": {},
   "outputs": [],
   "source": []
  },
  {
   "cell_type": "code",
   "execution_count": null,
   "id": "4f7c3fc2",
   "metadata": {},
   "outputs": [],
   "source": []
  },
  {
   "cell_type": "code",
   "execution_count": null,
   "id": "a66f72b0",
   "metadata": {},
   "outputs": [],
   "source": []
  },
  {
   "cell_type": "code",
   "execution_count": null,
   "id": "f3d15ea0",
   "metadata": {},
   "outputs": [],
   "source": []
  },
  {
   "cell_type": "code",
   "execution_count": null,
   "id": "d34f7afb",
   "metadata": {},
   "outputs": [],
   "source": []
  },
  {
   "cell_type": "code",
   "execution_count": null,
   "id": "adeee6d7",
   "metadata": {},
   "outputs": [],
   "source": []
  },
  {
   "cell_type": "code",
   "execution_count": null,
   "id": "e51f7ccf",
   "metadata": {},
   "outputs": [],
   "source": []
  },
  {
   "cell_type": "code",
   "execution_count": null,
   "id": "68411ae3",
   "metadata": {},
   "outputs": [],
   "source": []
  },
  {
   "cell_type": "code",
   "execution_count": null,
   "id": "4f2127e8",
   "metadata": {},
   "outputs": [],
   "source": []
  },
  {
   "cell_type": "code",
   "execution_count": null,
   "id": "33e99beb",
   "metadata": {},
   "outputs": [],
   "source": []
  },
  {
   "cell_type": "code",
   "execution_count": null,
   "id": "9ac0ea71",
   "metadata": {},
   "outputs": [],
   "source": []
  },
  {
   "cell_type": "code",
   "execution_count": null,
   "id": "5267bbbf",
   "metadata": {},
   "outputs": [],
   "source": [
    "\n"
   ]
  },
  {
   "cell_type": "code",
   "execution_count": null,
   "id": "928ae750",
   "metadata": {},
   "outputs": [],
   "source": []
  },
  {
   "cell_type": "code",
   "execution_count": null,
   "id": "ddef92f2",
   "metadata": {},
   "outputs": [],
   "source": [
    "\n"
   ]
  },
  {
   "cell_type": "code",
   "execution_count": null,
   "id": "46c3ac35",
   "metadata": {},
   "outputs": [],
   "source": []
  },
  {
   "cell_type": "code",
   "execution_count": null,
   "id": "42d84ab0",
   "metadata": {},
   "outputs": [],
   "source": []
  },
  {
   "cell_type": "code",
   "execution_count": null,
   "id": "1ee172f8",
   "metadata": {},
   "outputs": [],
   "source": []
  },
  {
   "cell_type": "code",
   "execution_count": null,
   "id": "c658437f",
   "metadata": {},
   "outputs": [],
   "source": []
  },
  {
   "cell_type": "code",
   "execution_count": null,
   "id": "a7c8e4c0",
   "metadata": {},
   "outputs": [],
   "source": []
  },
  {
   "cell_type": "code",
   "execution_count": null,
   "id": "0b54f2ba",
   "metadata": {},
   "outputs": [],
   "source": []
  },
  {
   "cell_type": "code",
   "execution_count": null,
   "id": "3c4fc697",
   "metadata": {},
   "outputs": [],
   "source": []
  },
  {
   "cell_type": "code",
   "execution_count": null,
   "id": "5b675cf0",
   "metadata": {},
   "outputs": [],
   "source": []
  },
  {
   "cell_type": "code",
   "execution_count": null,
   "id": "60aa5ce3",
   "metadata": {},
   "outputs": [],
   "source": [
    "\n"
   ]
  },
  {
   "cell_type": "code",
   "execution_count": null,
   "id": "4a208c53",
   "metadata": {},
   "outputs": [],
   "source": []
  },
  {
   "cell_type": "code",
   "execution_count": null,
   "id": "e12be658",
   "metadata": {},
   "outputs": [],
   "source": []
  },
  {
   "cell_type": "code",
   "execution_count": null,
   "id": "8a2ef273",
   "metadata": {},
   "outputs": [],
   "source": []
  },
  {
   "cell_type": "code",
   "execution_count": null,
   "id": "ad929f23",
   "metadata": {},
   "outputs": [],
   "source": []
  },
  {
   "cell_type": "code",
   "execution_count": null,
   "id": "c97ab859",
   "metadata": {},
   "outputs": [],
   "source": []
  },
  {
   "cell_type": "code",
   "execution_count": null,
   "id": "a211ddcd",
   "metadata": {},
   "outputs": [],
   "source": []
  },
  {
   "cell_type": "code",
   "execution_count": null,
   "id": "5da5a145",
   "metadata": {},
   "outputs": [],
   "source": []
  },
  {
   "cell_type": "code",
   "execution_count": null,
   "id": "139d66ce",
   "metadata": {},
   "outputs": [],
   "source": []
  },
  {
   "cell_type": "code",
   "execution_count": null,
   "id": "51637286",
   "metadata": {},
   "outputs": [],
   "source": []
  },
  {
   "cell_type": "code",
   "execution_count": null,
   "id": "c07bf443",
   "metadata": {},
   "outputs": [],
   "source": []
  },
  {
   "cell_type": "code",
   "execution_count": null,
   "id": "abf247ec",
   "metadata": {},
   "outputs": [],
   "source": []
  },
  {
   "cell_type": "code",
   "execution_count": null,
   "id": "7b695d24",
   "metadata": {},
   "outputs": [],
   "source": []
  },
  {
   "cell_type": "code",
   "execution_count": null,
   "id": "d75568c8",
   "metadata": {},
   "outputs": [],
   "source": []
  },
  {
   "cell_type": "code",
   "execution_count": null,
   "id": "7f6e994c",
   "metadata": {},
   "outputs": [],
   "source": []
  },
  {
   "cell_type": "code",
   "execution_count": null,
   "id": "32c223b2",
   "metadata": {},
   "outputs": [],
   "source": []
  },
  {
   "cell_type": "code",
   "execution_count": null,
   "id": "badc9933",
   "metadata": {},
   "outputs": [],
   "source": []
  },
  {
   "cell_type": "code",
   "execution_count": null,
   "id": "81acc940",
   "metadata": {},
   "outputs": [],
   "source": []
  },
  {
   "cell_type": "code",
   "execution_count": null,
   "id": "7d7ce6b3",
   "metadata": {},
   "outputs": [],
   "source": []
  },
  {
   "cell_type": "code",
   "execution_count": null,
   "id": "c115678e",
   "metadata": {},
   "outputs": [],
   "source": []
  },
  {
   "cell_type": "code",
   "execution_count": null,
   "id": "023ac10f",
   "metadata": {},
   "outputs": [],
   "source": []
  },
  {
   "cell_type": "code",
   "execution_count": null,
   "id": "141e3396",
   "metadata": {},
   "outputs": [],
   "source": []
  },
  {
   "cell_type": "code",
   "execution_count": null,
   "id": "cd28c23f",
   "metadata": {},
   "outputs": [],
   "source": []
  },
  {
   "cell_type": "code",
   "execution_count": null,
   "id": "150672f4",
   "metadata": {},
   "outputs": [],
   "source": []
  },
  {
   "cell_type": "code",
   "execution_count": null,
   "id": "5c3dcac2",
   "metadata": {},
   "outputs": [],
   "source": []
  },
  {
   "cell_type": "code",
   "execution_count": null,
   "id": "b7dc5588",
   "metadata": {},
   "outputs": [],
   "source": []
  },
  {
   "cell_type": "code",
   "execution_count": null,
   "id": "d3b27455",
   "metadata": {},
   "outputs": [],
   "source": []
  },
  {
   "cell_type": "code",
   "execution_count": null,
   "id": "d76c2fd4",
   "metadata": {},
   "outputs": [],
   "source": []
  },
  {
   "cell_type": "code",
   "execution_count": null,
   "id": "63df4629",
   "metadata": {},
   "outputs": [],
   "source": []
  },
  {
   "cell_type": "code",
   "execution_count": null,
   "id": "dfe18911",
   "metadata": {},
   "outputs": [],
   "source": []
  },
  {
   "cell_type": "code",
   "execution_count": null,
   "id": "5be7e8f1",
   "metadata": {},
   "outputs": [],
   "source": []
  },
  {
   "cell_type": "code",
   "execution_count": null,
   "id": "166bcac5",
   "metadata": {},
   "outputs": [],
   "source": []
  },
  {
   "cell_type": "code",
   "execution_count": null,
   "id": "66a695e6",
   "metadata": {},
   "outputs": [],
   "source": []
  },
  {
   "cell_type": "code",
   "execution_count": null,
   "id": "b3070876",
   "metadata": {},
   "outputs": [],
   "source": []
  },
  {
   "cell_type": "code",
   "execution_count": null,
   "id": "32f0bf39",
   "metadata": {},
   "outputs": [],
   "source": []
  },
  {
   "cell_type": "code",
   "execution_count": null,
   "id": "e1382dc1",
   "metadata": {},
   "outputs": [],
   "source": []
  },
  {
   "cell_type": "code",
   "execution_count": null,
   "id": "2328edb2",
   "metadata": {},
   "outputs": [],
   "source": []
  },
  {
   "cell_type": "code",
   "execution_count": null,
   "id": "2c194657",
   "metadata": {},
   "outputs": [],
   "source": []
  },
  {
   "cell_type": "code",
   "execution_count": null,
   "id": "7fcc5577",
   "metadata": {},
   "outputs": [],
   "source": []
  },
  {
   "cell_type": "code",
   "execution_count": null,
   "id": "fb53cd47",
   "metadata": {},
   "outputs": [],
   "source": []
  },
  {
   "cell_type": "code",
   "execution_count": null,
   "id": "f2e6ce4c",
   "metadata": {},
   "outputs": [],
   "source": []
  },
  {
   "cell_type": "code",
   "execution_count": null,
   "id": "34085c55",
   "metadata": {},
   "outputs": [],
   "source": []
  },
  {
   "cell_type": "code",
   "execution_count": null,
   "id": "9103e125",
   "metadata": {},
   "outputs": [],
   "source": []
  },
  {
   "cell_type": "code",
   "execution_count": null,
   "id": "6726269c",
   "metadata": {},
   "outputs": [],
   "source": [
    "\n",
    "     "
   ]
  },
  {
   "cell_type": "code",
   "execution_count": null,
   "id": "f9fd46a1",
   "metadata": {},
   "outputs": [],
   "source": []
  },
  {
   "cell_type": "code",
   "execution_count": null,
   "id": "b28e3d89",
   "metadata": {},
   "outputs": [],
   "source": [
    "\n",
    "\n",
    "     "
   ]
  },
  {
   "cell_type": "code",
   "execution_count": null,
   "id": "49b33127",
   "metadata": {},
   "outputs": [],
   "source": [
    "\n"
   ]
  },
  {
   "cell_type": "code",
   "execution_count": null,
   "id": "e8e6c272",
   "metadata": {},
   "outputs": [],
   "source": []
  },
  {
   "cell_type": "code",
   "execution_count": null,
   "id": "267267b8",
   "metadata": {},
   "outputs": [],
   "source": []
  },
  {
   "cell_type": "code",
   "execution_count": null,
   "id": "97538c37",
   "metadata": {},
   "outputs": [],
   "source": []
  },
  {
   "cell_type": "code",
   "execution_count": null,
   "id": "4cf8a555",
   "metadata": {},
   "outputs": [],
   "source": []
  },
  {
   "cell_type": "code",
   "execution_count": null,
   "id": "17044078",
   "metadata": {},
   "outputs": [],
   "source": []
  },
  {
   "cell_type": "code",
   "execution_count": null,
   "id": "19051641",
   "metadata": {},
   "outputs": [],
   "source": []
  },
  {
   "cell_type": "code",
   "execution_count": null,
   "id": "5455b83c",
   "metadata": {},
   "outputs": [],
   "source": []
  },
  {
   "cell_type": "code",
   "execution_count": null,
   "id": "c9d920a3",
   "metadata": {},
   "outputs": [],
   "source": []
  },
  {
   "cell_type": "code",
   "execution_count": null,
   "id": "1d85e81f",
   "metadata": {},
   "outputs": [],
   "source": []
  },
  {
   "cell_type": "code",
   "execution_count": null,
   "id": "ac4644d7",
   "metadata": {},
   "outputs": [],
   "source": []
  },
  {
   "cell_type": "code",
   "execution_count": null,
   "id": "783e0f31",
   "metadata": {},
   "outputs": [],
   "source": []
  },
  {
   "cell_type": "code",
   "execution_count": null,
   "id": "38ca5fcf",
   "metadata": {},
   "outputs": [],
   "source": []
  },
  {
   "cell_type": "code",
   "execution_count": null,
   "id": "8223ec58",
   "metadata": {},
   "outputs": [],
   "source": []
  },
  {
   "cell_type": "code",
   "execution_count": null,
   "id": "87f50714",
   "metadata": {},
   "outputs": [],
   "source": []
  },
  {
   "cell_type": "code",
   "execution_count": null,
   "id": "18881ee7",
   "metadata": {},
   "outputs": [],
   "source": []
  },
  {
   "cell_type": "code",
   "execution_count": null,
   "id": "b4c750ea",
   "metadata": {},
   "outputs": [],
   "source": []
  },
  {
   "cell_type": "code",
   "execution_count": null,
   "id": "936dff9e",
   "metadata": {},
   "outputs": [],
   "source": [
    "\n"
   ]
  },
  {
   "cell_type": "code",
   "execution_count": null,
   "id": "36781410",
   "metadata": {},
   "outputs": [],
   "source": []
  },
  {
   "cell_type": "code",
   "execution_count": null,
   "id": "9cfcbb3a",
   "metadata": {},
   "outputs": [],
   "source": []
  },
  {
   "cell_type": "code",
   "execution_count": null,
   "id": "173d8b49",
   "metadata": {},
   "outputs": [],
   "source": []
  },
  {
   "cell_type": "code",
   "execution_count": null,
   "id": "78706084",
   "metadata": {},
   "outputs": [],
   "source": []
  },
  {
   "cell_type": "code",
   "execution_count": null,
   "id": "37e837cb",
   "metadata": {},
   "outputs": [],
   "source": []
  },
  {
   "cell_type": "code",
   "execution_count": null,
   "id": "81ef523a",
   "metadata": {},
   "outputs": [],
   "source": []
  },
  {
   "cell_type": "code",
   "execution_count": null,
   "id": "2d9f8459",
   "metadata": {},
   "outputs": [],
   "source": []
  },
  {
   "cell_type": "code",
   "execution_count": null,
   "id": "c8e87516",
   "metadata": {},
   "outputs": [],
   "source": []
  },
  {
   "cell_type": "code",
   "execution_count": null,
   "id": "59255e39",
   "metadata": {},
   "outputs": [],
   "source": []
  },
  {
   "cell_type": "code",
   "execution_count": null,
   "id": "0536f159",
   "metadata": {},
   "outputs": [],
   "source": []
  },
  {
   "cell_type": "code",
   "execution_count": null,
   "id": "8f89ad6c",
   "metadata": {},
   "outputs": [],
   "source": []
  },
  {
   "cell_type": "code",
   "execution_count": null,
   "id": "18e823b9",
   "metadata": {},
   "outputs": [],
   "source": []
  },
  {
   "cell_type": "code",
   "execution_count": null,
   "id": "c1e0b1b0",
   "metadata": {},
   "outputs": [],
   "source": []
  },
  {
   "cell_type": "code",
   "execution_count": null,
   "id": "9008a601",
   "metadata": {},
   "outputs": [],
   "source": []
  },
  {
   "cell_type": "code",
   "execution_count": null,
   "id": "f0e68dad",
   "metadata": {},
   "outputs": [],
   "source": []
  },
  {
   "cell_type": "code",
   "execution_count": null,
   "id": "e0e1cfca",
   "metadata": {},
   "outputs": [],
   "source": []
  },
  {
   "cell_type": "code",
   "execution_count": null,
   "id": "2a80f503",
   "metadata": {},
   "outputs": [],
   "source": []
  },
  {
   "cell_type": "code",
   "execution_count": null,
   "id": "cd46081a",
   "metadata": {},
   "outputs": [],
   "source": []
  },
  {
   "cell_type": "code",
   "execution_count": null,
   "id": "200b0760",
   "metadata": {},
   "outputs": [],
   "source": []
  },
  {
   "cell_type": "code",
   "execution_count": null,
   "id": "16ce5f17",
   "metadata": {},
   "outputs": [],
   "source": []
  },
  {
   "cell_type": "code",
   "execution_count": null,
   "id": "1ba31649",
   "metadata": {},
   "outputs": [],
   "source": []
  },
  {
   "cell_type": "code",
   "execution_count": null,
   "id": "992ce360",
   "metadata": {},
   "outputs": [],
   "source": []
  },
  {
   "cell_type": "code",
   "execution_count": null,
   "id": "76afdc9f",
   "metadata": {},
   "outputs": [],
   "source": []
  },
  {
   "cell_type": "code",
   "execution_count": null,
   "id": "add60b60",
   "metadata": {},
   "outputs": [],
   "source": []
  },
  {
   "cell_type": "code",
   "execution_count": null,
   "id": "94864a68",
   "metadata": {},
   "outputs": [],
   "source": []
  },
  {
   "cell_type": "code",
   "execution_count": null,
   "id": "5df91d34",
   "metadata": {},
   "outputs": [],
   "source": []
  },
  {
   "cell_type": "code",
   "execution_count": null,
   "id": "6740870f",
   "metadata": {},
   "outputs": [],
   "source": []
  },
  {
   "cell_type": "code",
   "execution_count": null,
   "id": "2fee7f48",
   "metadata": {},
   "outputs": [],
   "source": []
  },
  {
   "cell_type": "code",
   "execution_count": null,
   "id": "4c6eb964",
   "metadata": {},
   "outputs": [],
   "source": [
    "import pickle\n",
    "\n",
    "#pickle.dump(model,open(\"modelo19m.pickle\",\"wb\"))\n",
    "model2=pickle.load(open(\"modelo19m.pickle\",\"rb\"))"
   ]
  },
  {
   "cell_type": "code",
   "execution_count": null,
   "id": "2f6bcccc",
   "metadata": {},
   "outputs": [],
   "source": [
    "df_train_generated.to_csv(\"df_train_final.csv\", index=False)"
   ]
  },
  {
   "cell_type": "code",
   "execution_count": null,
   "id": "76dca18d",
   "metadata": {},
   "outputs": [],
   "source": [
    "from joblib import dump\n",
    "dump(model, 'modelo19m.joblib') "
   ]
  },
  {
   "cell_type": "code",
   "execution_count": null,
   "id": "46e36a81",
   "metadata": {},
   "outputs": [],
   "source": [
    "from joblib import load\n",
    "new_model = load('modelo19m.joblib')"
   ]
  },
  {
   "cell_type": "code",
   "execution_count": null,
   "id": "63db9e65",
   "metadata": {},
   "outputs": [],
   "source": [
    "evaluate (new_model, X_test, y_test)"
   ]
  },
  {
   "cell_type": "code",
   "execution_count": null,
   "id": "303bd1e0",
   "metadata": {},
   "outputs": [],
   "source": [
    "param_grid = { \n",
    "    'n_estimators': [200, 500],\n",
    "    'max_features': ['auto', 'sqrt', 'log2'],\n",
    "    'max_depth' : [4,5,6,7,8],\n",
    "    'criterion' :['gini', 'entropy']\n",
    "}"
   ]
  },
  {
   "cell_type": "code",
   "execution_count": null,
   "id": "5dbf0d15",
   "metadata": {},
   "outputs": [],
   "source": [
    "CV_rfc = GridSearchCV(estimator=model, param_grid=param_grid, cv= 5)\n",
    "CV_rfc.fit(X_train, y_train)"
   ]
  },
  {
   "cell_type": "code",
   "execution_count": null,
   "id": "2bf86c23",
   "metadata": {},
   "outputs": [],
   "source": []
  },
  {
   "cell_type": "code",
   "execution_count": null,
   "id": "63c90cbc",
   "metadata": {},
   "outputs": [],
   "source": [
    "CV_rfc.best_params_"
   ]
  },
  {
   "cell_type": "code",
   "execution_count": null,
   "id": "fe0b01a2",
   "metadata": {},
   "outputs": [],
   "source": [
    "X_test"
   ]
  },
  {
   "cell_type": "code",
   "execution_count": null,
   "id": "108964c6",
   "metadata": {},
   "outputs": [],
   "source": [
    "X_test.iloc[[1]]"
   ]
  },
  {
   "cell_type": "code",
   "execution_count": null,
   "id": "8a0b6343",
   "metadata": {},
   "outputs": [],
   "source": [
    "model.predict(X_test.iloc[[2]])"
   ]
  },
  {
   "cell_type": "code",
   "execution_count": null,
   "id": "59098881",
   "metadata": {},
   "outputs": [],
   "source": [
    "y_test.iloc[[2]]"
   ]
  },
  {
   "cell_type": "code",
   "execution_count": null,
   "id": "32d17c3b",
   "metadata": {},
   "outputs": [],
   "source": [
    "predicciones = model.predict_proba(X_test.iloc[[2]])\n",
    "predicciones.shape\n"
   ]
  },
  {
   "cell_type": "code",
   "execution_count": null,
   "id": "3a370224",
   "metadata": {},
   "outputs": [],
   "source": [
    "X_test.iloc[[2]]\n"
   ]
  },
  {
   "cell_type": "code",
   "execution_count": null,
   "id": "0360cb56",
   "metadata": {},
   "outputs": [],
   "source": [
    "a=df_train_generated.columns\n"
   ]
  },
  {
   "cell_type": "code",
   "execution_count": null,
   "id": "c84529bb",
   "metadata": {},
   "outputs": [],
   "source": [
    "b=a.to_list()\n",
    "b.remove('id_Enfermedad')\n",
    "b"
   ]
  },
  {
   "cell_type": "code",
   "execution_count": null,
   "id": "6dcde3ae",
   "metadata": {},
   "outputs": [],
   "source": [
    "df_train_generated.columns\n",
    "df_predicciones = pd.DataFrame(data=predicciones)\n",
    "#df_predicciones['clasificacion_default_0.5'] = np.where(df_predicciones['0'] > df_predicciones['1'], 0, 1)\n",
    "df_predicciones"
   ]
  },
  {
   "cell_type": "code",
   "execution_count": null,
   "id": "b7564f87",
   "metadata": {},
   "outputs": [],
   "source": [
    "df_predicciones2=df_predicciones.transpose()\n",
    "df_predicciones2"
   ]
  },
  {
   "cell_type": "code",
   "execution_count": null,
   "id": "06475b4b",
   "metadata": {},
   "outputs": [],
   "source": [
    "list_to_rank=df_predicciones2[df_predicciones2[0]>0]"
   ]
  },
  {
   "cell_type": "code",
   "execution_count": null,
   "id": "50f8299e",
   "metadata": {},
   "outputs": [],
   "source": [
    "rank = list_to_rank.sort_values(0,ascending=False)\n",
    "rank"
   ]
  },
  {
   "cell_type": "code",
   "execution_count": null,
   "id": "e0e3ad4b",
   "metadata": {},
   "outputs": [],
   "source": [
    "rank2=rank.reset_index()"
   ]
  },
  {
   "cell_type": "code",
   "execution_count": null,
   "id": "b5df6a67",
   "metadata": {},
   "outputs": [],
   "source": []
  },
  {
   "cell_type": "code",
   "execution_count": null,
   "id": "51f42b4c",
   "metadata": {},
   "outputs": [],
   "source": [
    "rank2=rank2.head(5)\n",
    "rank2"
   ]
  },
  {
   "cell_type": "code",
   "execution_count": null,
   "id": "3f24b08b",
   "metadata": {},
   "outputs": [],
   "source": [
    "rank2.merge (data)"
   ]
  },
  {
   "cell_type": "code",
   "execution_count": null,
   "id": "7e3eb1c9",
   "metadata": {},
   "outputs": [],
   "source": [
    "rank2[\"Enfermedad\"]= rank2.apply(lambda row:\n",
    "                                 data[data['Id_Enfermedad']==row[\"index\"]].iloc[0][0]\n",
    "                                 if data['Id_Enfermedad']==row[\"index\"]\n",
    "                                 else 0,\n",
    "                                 axis=1\n",
    "                                )"
   ]
  },
  {
   "cell_type": "code",
   "execution_count": null,
   "id": "5d198c78",
   "metadata": {},
   "outputs": [],
   "source": []
  },
  {
   "cell_type": "code",
   "execution_count": null,
   "id": "4cc45ec7",
   "metadata": {},
   "outputs": [],
   "source": [
    "data.iloc[0][0]"
   ]
  },
  {
   "cell_type": "code",
   "execution_count": null,
   "id": "26fa3cf4",
   "metadata": {},
   "outputs": [],
   "source": [
    "for i in range(1):\n",
    "    \n",
    "    a=data[data['Id_Enfermedad']==rank2[\"index\"][i]].iloc[0][0]\n",
    "    a"
   ]
  },
  {
   "cell_type": "code",
   "execution_count": null,
   "id": "2e79ece6",
   "metadata": {},
   "outputs": [],
   "source": []
  },
  {
   "cell_type": "code",
   "execution_count": null,
   "id": "07495491",
   "metadata": {},
   "outputs": [],
   "source": [
    "a"
   ]
  },
  {
   "cell_type": "code",
   "execution_count": null,
   "id": "06031cba",
   "metadata": {},
   "outputs": [],
   "source": [
    "a.iloc[0][0]"
   ]
  },
  {
   "cell_type": "code",
   "execution_count": null,
   "id": "d0707716",
   "metadata": {},
   "outputs": [],
   "source": [
    "list_rank=rank.to_numpy().tolist()\n",
    "list_rank\n"
   ]
  },
  {
   "cell_type": "code",
   "execution_count": null,
   "id": "0fc56788",
   "metadata": {},
   "outputs": [],
   "source": [
    "for i in range(5):\n",
    "    print (i)\n",
    "    print (lis)\n",
    "        "
   ]
  },
  {
   "cell_type": "code",
   "execution_count": null,
   "id": "2945556d",
   "metadata": {},
   "outputs": [],
   "source": [
    "data[data['Id_Enfermedad']==2389]"
   ]
  },
  {
   "cell_type": "code",
   "execution_count": null,
   "id": "93e701de",
   "metadata": {},
   "outputs": [],
   "source": []
  },
  {
   "cell_type": "code",
   "execution_count": null,
   "id": "2745cca8",
   "metadata": {},
   "outputs": [],
   "source": []
  },
  {
   "cell_type": "code",
   "execution_count": null,
   "id": "26065340",
   "metadata": {},
   "outputs": [],
   "source": []
  },
  {
   "cell_type": "code",
   "execution_count": null,
   "id": "db9d340a",
   "metadata": {},
   "outputs": [],
   "source": []
  },
  {
   "cell_type": "code",
   "execution_count": null,
   "id": "300c7959",
   "metadata": {},
   "outputs": [],
   "source": []
  },
  {
   "cell_type": "code",
   "execution_count": null,
   "id": "3452282c",
   "metadata": {},
   "outputs": [],
   "source": []
  },
  {
   "cell_type": "code",
   "execution_count": null,
   "id": "52085cc2",
   "metadata": {},
   "outputs": [],
   "source": []
  },
  {
   "cell_type": "code",
   "execution_count": null,
   "id": "27d3771e",
   "metadata": {},
   "outputs": [],
   "source": []
  },
  {
   "cell_type": "code",
   "execution_count": null,
   "id": "5f0ba742",
   "metadata": {},
   "outputs": [],
   "source": []
  },
  {
   "cell_type": "code",
   "execution_count": null,
   "id": "f7f759cc",
   "metadata": {},
   "outputs": [],
   "source": []
  },
  {
   "cell_type": "code",
   "execution_count": null,
   "id": "58b53230",
   "metadata": {},
   "outputs": [],
   "source": []
  },
  {
   "cell_type": "code",
   "execution_count": null,
   "id": "14b3014c",
   "metadata": {},
   "outputs": [],
   "source": []
  },
  {
   "cell_type": "code",
   "execution_count": null,
   "id": "9e7d448a",
   "metadata": {},
   "outputs": [],
   "source": []
  },
  {
   "cell_type": "code",
   "execution_count": null,
   "id": "19531462",
   "metadata": {},
   "outputs": [],
   "source": []
  },
  {
   "cell_type": "code",
   "execution_count": null,
   "id": "015ac772",
   "metadata": {},
   "outputs": [],
   "source": []
  },
  {
   "cell_type": "code",
   "execution_count": null,
   "id": "e496a776",
   "metadata": {},
   "outputs": [],
   "source": []
  },
  {
   "cell_type": "code",
   "execution_count": null,
   "id": "049f0a0c",
   "metadata": {},
   "outputs": [],
   "source": []
  },
  {
   "cell_type": "code",
   "execution_count": null,
   "id": "f13fa43e",
   "metadata": {},
   "outputs": [],
   "source": []
  },
  {
   "cell_type": "code",
   "execution_count": null,
   "id": "596c53cb",
   "metadata": {},
   "outputs": [],
   "source": []
  },
  {
   "cell_type": "code",
   "execution_count": null,
   "id": "bc28f558",
   "metadata": {},
   "outputs": [],
   "source": []
  },
  {
   "cell_type": "code",
   "execution_count": null,
   "id": "84f191d8",
   "metadata": {},
   "outputs": [],
   "source": []
  },
  {
   "cell_type": "code",
   "execution_count": null,
   "id": "0dfee2f7",
   "metadata": {},
   "outputs": [],
   "source": []
  },
  {
   "cell_type": "code",
   "execution_count": null,
   "id": "2b528a4f",
   "metadata": {},
   "outputs": [],
   "source": [
    "\n"
   ]
  },
  {
   "cell_type": "code",
   "execution_count": null,
   "id": "78dbb816",
   "metadata": {},
   "outputs": [],
   "source": []
  },
  {
   "cell_type": "code",
   "execution_count": null,
   "id": "c7aa14a4",
   "metadata": {},
   "outputs": [],
   "source": []
  },
  {
   "cell_type": "code",
   "execution_count": null,
   "id": "8c3c7b8b",
   "metadata": {},
   "outputs": [],
   "source": []
  },
  {
   "cell_type": "code",
   "execution_count": null,
   "id": "cd8611d2",
   "metadata": {},
   "outputs": [],
   "source": []
  },
  {
   "cell_type": "code",
   "execution_count": null,
   "id": "9c561952",
   "metadata": {},
   "outputs": [],
   "source": []
  },
  {
   "cell_type": "code",
   "execution_count": null,
   "id": "51951b7b",
   "metadata": {},
   "outputs": [],
   "source": []
  },
  {
   "cell_type": "code",
   "execution_count": null,
   "id": "b40c4efd",
   "metadata": {},
   "outputs": [],
   "source": []
  },
  {
   "cell_type": "code",
   "execution_count": null,
   "id": "2a4fdd5f",
   "metadata": {},
   "outputs": [],
   "source": []
  },
  {
   "cell_type": "code",
   "execution_count": null,
   "id": "5e6ac7e8",
   "metadata": {},
   "outputs": [],
   "source": []
  },
  {
   "cell_type": "code",
   "execution_count": null,
   "id": "c679b556",
   "metadata": {},
   "outputs": [],
   "source": []
  },
  {
   "cell_type": "code",
   "execution_count": null,
   "id": "c44a719b",
   "metadata": {},
   "outputs": [],
   "source": []
  },
  {
   "cell_type": "code",
   "execution_count": null,
   "id": "87c2e2a8",
   "metadata": {},
   "outputs": [],
   "source": []
  },
  {
   "cell_type": "code",
   "execution_count": null,
   "id": "f40e9129",
   "metadata": {},
   "outputs": [],
   "source": []
  },
  {
   "cell_type": "code",
   "execution_count": null,
   "id": "994e8366",
   "metadata": {},
   "outputs": [],
   "source": []
  },
  {
   "cell_type": "code",
   "execution_count": null,
   "id": "75086651",
   "metadata": {},
   "outputs": [],
   "source": []
  },
  {
   "cell_type": "code",
   "execution_count": null,
   "id": "7e39e638",
   "metadata": {},
   "outputs": [],
   "source": []
  },
  {
   "cell_type": "code",
   "execution_count": null,
   "id": "4549cfd8",
   "metadata": {},
   "outputs": [],
   "source": []
  },
  {
   "cell_type": "code",
   "execution_count": null,
   "id": "88b810c4",
   "metadata": {},
   "outputs": [],
   "source": [
    "\n"
   ]
  },
  {
   "cell_type": "code",
   "execution_count": null,
   "id": "2327cc23",
   "metadata": {},
   "outputs": [],
   "source": []
  },
  {
   "cell_type": "code",
   "execution_count": null,
   "id": "ea7f0749",
   "metadata": {},
   "outputs": [],
   "source": []
  },
  {
   "cell_type": "code",
   "execution_count": null,
   "id": "7f535947",
   "metadata": {},
   "outputs": [],
   "source": []
  },
  {
   "cell_type": "code",
   "execution_count": null,
   "id": "621875a4",
   "metadata": {},
   "outputs": [],
   "source": []
  },
  {
   "cell_type": "code",
   "execution_count": null,
   "id": "24b1f889",
   "metadata": {},
   "outputs": [],
   "source": []
  },
  {
   "cell_type": "code",
   "execution_count": null,
   "id": "577ee4f4",
   "metadata": {},
   "outputs": [],
   "source": []
  },
  {
   "cell_type": "code",
   "execution_count": null,
   "id": "ded24e90",
   "metadata": {},
   "outputs": [],
   "source": []
  },
  {
   "cell_type": "code",
   "execution_count": null,
   "id": "ecd18e53",
   "metadata": {},
   "outputs": [],
   "source": []
  },
  {
   "cell_type": "code",
   "execution_count": null,
   "id": "a69f0ca1",
   "metadata": {},
   "outputs": [],
   "source": []
  },
  {
   "cell_type": "code",
   "execution_count": null,
   "id": "d7a4ac9f",
   "metadata": {},
   "outputs": [],
   "source": []
  },
  {
   "cell_type": "code",
   "execution_count": null,
   "id": "aa2c78b8",
   "metadata": {},
   "outputs": [],
   "source": []
  },
  {
   "cell_type": "code",
   "execution_count": null,
   "id": "dcb7d983",
   "metadata": {},
   "outputs": [],
   "source": []
  },
  {
   "cell_type": "code",
   "execution_count": null,
   "id": "6e450b7b",
   "metadata": {},
   "outputs": [],
   "source": []
  },
  {
   "cell_type": "code",
   "execution_count": null,
   "id": "c60685bf",
   "metadata": {},
   "outputs": [],
   "source": [
    "\n"
   ]
  },
  {
   "cell_type": "code",
   "execution_count": null,
   "id": "d01789d3",
   "metadata": {},
   "outputs": [],
   "source": []
  },
  {
   "cell_type": "code",
   "execution_count": null,
   "id": "5c345bdc",
   "metadata": {},
   "outputs": [],
   "source": []
  },
  {
   "cell_type": "code",
   "execution_count": null,
   "id": "589341a4",
   "metadata": {},
   "outputs": [],
   "source": [
    "\n"
   ]
  },
  {
   "cell_type": "code",
   "execution_count": null,
   "id": "af7b2430",
   "metadata": {},
   "outputs": [],
   "source": []
  },
  {
   "cell_type": "code",
   "execution_count": null,
   "id": "7cd4cae0",
   "metadata": {},
   "outputs": [],
   "source": []
  },
  {
   "cell_type": "code",
   "execution_count": null,
   "id": "20c0ed35",
   "metadata": {},
   "outputs": [],
   "source": []
  },
  {
   "cell_type": "code",
   "execution_count": null,
   "id": "4a7adcc5",
   "metadata": {},
   "outputs": [],
   "source": []
  },
  {
   "cell_type": "code",
   "execution_count": null,
   "id": "8851eeec",
   "metadata": {},
   "outputs": [],
   "source": [
    "\n"
   ]
  },
  {
   "cell_type": "code",
   "execution_count": null,
   "id": "dd5a8b36",
   "metadata": {},
   "outputs": [],
   "source": [
    "\n"
   ]
  },
  {
   "cell_type": "code",
   "execution_count": null,
   "id": "4ed33270",
   "metadata": {},
   "outputs": [],
   "source": [
    "\n"
   ]
  },
  {
   "cell_type": "code",
   "execution_count": null,
   "id": "9c371fa1",
   "metadata": {},
   "outputs": [],
   "source": [
    "\n",
    "\n"
   ]
  },
  {
   "cell_type": "code",
   "execution_count": null,
   "id": "3a1aa7ea",
   "metadata": {},
   "outputs": [],
   "source": []
  },
  {
   "cell_type": "code",
   "execution_count": null,
   "id": "1b23461d",
   "metadata": {},
   "outputs": [],
   "source": []
  },
  {
   "cell_type": "code",
   "execution_count": null,
   "id": "220d0c59",
   "metadata": {},
   "outputs": [],
   "source": []
  },
  {
   "cell_type": "code",
   "execution_count": null,
   "id": "9f8ce2d4",
   "metadata": {},
   "outputs": [],
   "source": []
  },
  {
   "cell_type": "code",
   "execution_count": null,
   "id": "df4d6d0b",
   "metadata": {},
   "outputs": [],
   "source": []
  },
  {
   "cell_type": "code",
   "execution_count": null,
   "id": "2d14440c",
   "metadata": {},
   "outputs": [],
   "source": []
  },
  {
   "cell_type": "code",
   "execution_count": null,
   "id": "81a8f72e",
   "metadata": {},
   "outputs": [],
   "source": []
  },
  {
   "cell_type": "code",
   "execution_count": null,
   "id": "c61233cb",
   "metadata": {},
   "outputs": [],
   "source": []
  },
  {
   "cell_type": "code",
   "execution_count": null,
   "id": "25da1db5",
   "metadata": {},
   "outputs": [],
   "source": []
  },
  {
   "cell_type": "code",
   "execution_count": null,
   "id": "3581334c",
   "metadata": {},
   "outputs": [],
   "source": [
    "\n"
   ]
  },
  {
   "cell_type": "code",
   "execution_count": null,
   "id": "57094c01",
   "metadata": {},
   "outputs": [],
   "source": []
  },
  {
   "cell_type": "code",
   "execution_count": null,
   "id": "da7ee8e3",
   "metadata": {},
   "outputs": [],
   "source": []
  },
  {
   "cell_type": "code",
   "execution_count": null,
   "id": "683f074b",
   "metadata": {},
   "outputs": [],
   "source": []
  },
  {
   "cell_type": "code",
   "execution_count": null,
   "id": "07a6ac8b",
   "metadata": {},
   "outputs": [],
   "source": []
  },
  {
   "cell_type": "code",
   "execution_count": null,
   "id": "a05977ec",
   "metadata": {},
   "outputs": [],
   "source": []
  },
  {
   "cell_type": "code",
   "execution_count": null,
   "id": "552e9419",
   "metadata": {},
   "outputs": [],
   "source": []
  },
  {
   "cell_type": "code",
   "execution_count": null,
   "id": "f6f635ef",
   "metadata": {},
   "outputs": [],
   "source": []
  },
  {
   "cell_type": "code",
   "execution_count": null,
   "id": "98485235",
   "metadata": {},
   "outputs": [],
   "source": []
  },
  {
   "cell_type": "markdown",
   "id": "65f1ae66",
   "metadata": {},
   "source": [
    "#### "
   ]
  },
  {
   "cell_type": "code",
   "execution_count": null,
   "id": "a879cb4c",
   "metadata": {},
   "outputs": [],
   "source": []
  },
  {
   "cell_type": "code",
   "execution_count": null,
   "id": "13ea6fb2",
   "metadata": {},
   "outputs": [],
   "source": []
  },
  {
   "cell_type": "code",
   "execution_count": null,
   "id": "a004332b",
   "metadata": {},
   "outputs": [],
   "source": []
  },
  {
   "cell_type": "code",
   "execution_count": null,
   "id": "e247e16e",
   "metadata": {},
   "outputs": [],
   "source": []
  },
  {
   "cell_type": "code",
   "execution_count": null,
   "id": "afa51577",
   "metadata": {},
   "outputs": [],
   "source": []
  },
  {
   "cell_type": "code",
   "execution_count": null,
   "id": "2a6eae33",
   "metadata": {},
   "outputs": [],
   "source": []
  },
  {
   "cell_type": "code",
   "execution_count": null,
   "id": "d56870dd",
   "metadata": {},
   "outputs": [],
   "source": []
  },
  {
   "cell_type": "code",
   "execution_count": null,
   "id": "099ff457",
   "metadata": {},
   "outputs": [],
   "source": []
  },
  {
   "cell_type": "code",
   "execution_count": null,
   "id": "1b973bcc",
   "metadata": {},
   "outputs": [],
   "source": []
  },
  {
   "cell_type": "code",
   "execution_count": null,
   "id": "757b309b",
   "metadata": {},
   "outputs": [],
   "source": [
    "\n"
   ]
  },
  {
   "cell_type": "code",
   "execution_count": null,
   "id": "d90c431c",
   "metadata": {},
   "outputs": [],
   "source": []
  },
  {
   "cell_type": "code",
   "execution_count": null,
   "id": "20b035f9",
   "metadata": {},
   "outputs": [],
   "source": []
  },
  {
   "cell_type": "code",
   "execution_count": null,
   "id": "6f89a9e2",
   "metadata": {},
   "outputs": [],
   "source": []
  },
  {
   "cell_type": "code",
   "execution_count": null,
   "id": "77f02d9e",
   "metadata": {},
   "outputs": [],
   "source": []
  }
 ],
 "metadata": {
  "kernelspec": {
   "display_name": "Python 3 (ipykernel)",
   "language": "python",
   "name": "python3"
  },
  "language_info": {
   "codemirror_mode": {
    "name": "ipython",
    "version": 3
   },
   "file_extension": ".py",
   "mimetype": "text/x-python",
   "name": "python",
   "nbconvert_exporter": "python",
   "pygments_lexer": "ipython3",
   "version": "3.9.13"
  },
  "vscode": {
   "interpreter": {
    "hash": "2beab4f37da7cd4415782296c8eb22a3553443b6202cb34c77e531d87231817b"
   }
  }
 },
 "nbformat": 4,
 "nbformat_minor": 5
}
