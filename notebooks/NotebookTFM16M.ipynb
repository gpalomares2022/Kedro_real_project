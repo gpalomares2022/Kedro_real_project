{
 "cells": [
  {
   "cell_type": "markdown",
   "id": "1663e304",
   "metadata": {},
   "source": [
    "## Import Library"
   ]
  },
  {
   "cell_type": "code",
   "execution_count": 1,
   "id": "2acbb61b",
   "metadata": {},
   "outputs": [],
   "source": [
    "import logging\n",
    "from typing import Dict, Tuple\n",
    "import pandas as pd\n",
    "import numpy as np\n",
    "from sklearn.ensemble import RandomForestClassifier\n",
    "from sklearn.metrics import r2_score\n",
    "from sklearn.model_selection import train_test_split\n",
    "from lightgbm import LGBMRegressor\n",
    "import random\n",
    "from sklearn.metrics import f1_score, accuracy_score, roc_auc_score, roc_curve, precision_score\n",
    "from sklearn.model_selection import train_test_split\n",
    "from kedro.extras.datasets.pickle import PickleDataSet\n",
    "from sklearn.model_selection import GridSearchCV\n",
    "import xmltodict\n",
    "import pandas as pd\n",
    "import numpy as np\n",
    "from sklearn.metrics import mean_squared_error\n",
    "from sklearn.model_selection import train_test_split\n",
    "from sklearn.neighbors import NearestNeighbors\n",
    "import matplotlib.pyplot as plt\n",
    "import sklearn\n",
    "\n"
   ]
  },
  {
   "cell_type": "markdown",
   "id": "6df642bf",
   "metadata": {},
   "source": [
    "## Load/Save Data (XML/CSV)"
   ]
  },
  {
   "cell_type": "code",
   "execution_count": 2,
   "id": "ca0abbc8",
   "metadata": {},
   "outputs": [],
   "source": [
    "def _clean_name (cadena):\n",
    "    \n",
    "    cadena_str= str(cadena)\n",
    "    cadena_str=cadena_str[26:]\n",
    "    cadena_str = cadena_str.replace('}', '',1)\n",
    "    cadena_str = cadena_str.replace('\\'','')\n",
    "    \n",
    "    return cadena_str"
   ]
  },
  {
   "cell_type": "code",
   "execution_count": 3,
   "id": "2a963b35",
   "metadata": {},
   "outputs": [],
   "source": [
    "def load_from_xml (path):\n",
    "    xml=open(path, encoding='ISO-8859-1')\n",
    "    xmldict = xmltodict.parse(xml.read())\n",
    "    df_enfermedades = pd.DataFrame()\n",
    "    lista_enfer_sinto_prob=[]\n",
    "    first_tree=xmldict[\"JDBOR\"][\"HPODisorderSetStatusList\"][\"HPODisorderSetStatus\"]\n",
    "    id=0\n",
    "    for nodo in xmldict[\"JDBOR\"][\"HPODisorderSetStatusList\"][\"HPODisorderSetStatus\"]:\n",
    "     \n",
    "        enfermedad=_clean_name(nodo[\"Disorder\"][\"Name\"])\n",
    "        sec_tree= nodo[\"Disorder\"][\"HPODisorderAssociationList\"]\n",
    "        if (len(sec_tree)==2):\n",
    "            tam_sintomas=len(sec_tree[\"HPODisorderAssociation\"])\n",
    "            i=0\n",
    "            registro_enfer_sinto_prob=[]\n",
    "            while (i<tam_sintomas):\n",
    "                registro_enfer_sinto_prob.append(enfermedad)\n",
    "                registro_enfer_sinto_prob.append(id)\n",
    "                registro_enfer_sinto_prob.append(sec_tree[\"HPODisorderAssociation\"][i][\"HPO\"][\"HPOTerm\"])\n",
    "                frecuencia=_clean_name(sec_tree[\"HPODisorderAssociation\"][i][\"HPOFrequency\"][\"Name\"])\n",
    "                registro_enfer_sinto_prob.append(frecuencia)\n",
    "                lista_enfer_sinto_prob.append (registro_enfer_sinto_prob)\n",
    "                registro_enfer_sinto_prob=[]\n",
    "                i=i+1\n",
    "        id=id+1\n",
    "    df_enfermedades = pd.DataFrame(lista_enfer_sinto_prob)\n",
    "    df_enfermedades = df_enfermedades.rename(columns={0:'Enfermedad',1:'Id_Enfermedad', 2:'Sintoma', 3:\"Frecuencia\"})\n",
    "    \n",
    "    return df_enfermedades        "
   ]
  },
  {
   "cell_type": "code",
   "execution_count": 4,
   "id": "ad4b8f4d",
   "metadata": {},
   "outputs": [],
   "source": [
    "def save_to_csv (data, path):\n",
    "    data.to_csv(path, index=False)"
   ]
  },
  {
   "cell_type": "code",
   "execution_count": 5,
   "id": "773c6f6b",
   "metadata": {},
   "outputs": [],
   "source": [
    "def load_from_csv (path):\n",
    "    data=pd.read_csv(path)\n",
    "    return data   "
   ]
  },
  {
   "cell_type": "markdown",
   "id": "ffeffcef",
   "metadata": {},
   "source": [
    "## Exploratory Data Analysis (EDA)"
   ]
  },
  {
   "cell_type": "code",
   "execution_count": 275,
   "id": "136d05d1",
   "metadata": {},
   "outputs": [],
   "source": [
    "def clean_data(data): \n",
    "    \n",
    "    data=data.drop_duplicates()\n",
    "    data=data.dropna()\n",
    "    vc = data[\"Sintoma\"].value_counts()\n",
    "    vector=vc[vc < 50].index\n",
    "    for a in vector:\n",
    "        indexNames = data [ data[\"Sintoma\"] == a ].index\n",
    "        for b in indexNames:\n",
    "            data.drop(b , inplace=True, axis=0)\n",
    "  \n",
    "    return data "
   ]
  },
  {
   "cell_type": "markdown",
   "id": "245db642",
   "metadata": {},
   "source": [
    "## Feature Engineering "
   ]
  },
  {
   "cell_type": "code",
   "execution_count": 276,
   "id": "4dba0e5d",
   "metadata": {},
   "outputs": [],
   "source": [
    "def _cambiar_columnas(df):\n",
    "    \n",
    "    columnas=len(df.columns)\n",
    "    i=0\n",
    "    while (i<columnas):\n",
    "        df = df.rename(columns={df.columns[i]:i})\n",
    "        i=i+1\n",
    "        \n",
    "        \n",
    "    return df"
   ]
  },
  {
   "cell_type": "code",
   "execution_count": 409,
   "id": "3211473f",
   "metadata": {},
   "outputs": [],
   "source": [
    "def selection_and_preparation_data(data):\n",
    "    \n",
    "    #data=data[(data['Frecuencia']==\"Muy frecuente (99-80%)\")]\n",
    "    data=data[(data['Frecuencia']==\"Muy frecuente (99-80%)\") |\n",
    "              (data['Frecuencia']==\"Frecuente (79-30%)\") |\n",
    "              (data['Frecuencia']==\"Obligatorio (100%)\") |\n",
    "              (data['Frecuencia']==\"Ocasional (29-5%)\")\n",
    "              \n",
    "             ]\n",
    "    #data=data[(data['Frecuencia']==\"Frecuente (79-30%)\")]\n",
    "\n",
    "    \n",
    "        \n",
    "    return data\n"
   ]
  },
  {
   "cell_type": "code",
   "execution_count": 410,
   "id": "0f7ec4ba",
   "metadata": {},
   "outputs": [],
   "source": [
    "def generate_data_train (data, repeticiones):\n",
    "    \n",
    "    sintomas=data.iloc[:,1]\n",
    "    sintomas_sin_repe=sintomas.drop_duplicates()\n",
    "    sintomas_sin_repe=sintomas_sin_repe.sort_values(ascending\n",
    "                              = True)\n",
    "    df_train=pd.DataFrame(columns=sintomas_sin_repe)\n",
    "   # df_train.insert(0, 'Enfermedad', 0)\n",
    "    #df_train.insert(0, 'id_Enfermedad', 0)\n",
    " \n",
    "    \n",
    "    data_agrupado = (data.groupby(\"Enfermedad\")\n",
    "         .agg({\"Sintoma\": np.array, \"Frecuencia\": np.array})\n",
    "         .reset_index()\n",
    "         )\n",
    "    \n",
    "    z=0\n",
    "    j=0\n",
    "    while (z<repeticiones):\n",
    "    \n",
    "  #  print (\"entra\")\n",
    "        i=0\n",
    "        for a in data_agrupado[\"Enfermedad\"]:\n",
    "           # print (\"Enfermedad: \", a)\n",
    "        #vector_enfermedad.append(a)\n",
    "        #lista=[]\n",
    "            lst = [0] * ((len(sintomas_sin_repe)))\n",
    "           \n",
    "            df_train.loc[len(df_train)] = lst\n",
    "           # df_train[\"Enfermedad\"][j]=a\n",
    "            #df_train[\"id_Enfermedad\"][j]=(i)\n",
    "           \n",
    "            pos=0\n",
    "            for b in data_agrupado[\"Sintoma\"][i]:\n",
    "                valor_aleatorio = random.random()\n",
    "                frecuencia=data_agrupado[\"Frecuencia\"][i][pos]\n",
    "            #    print (\"frecuencia:\", frecuencia)\n",
    "                if (frecuencia==\"Muy frecuente (99-80%)\"):\n",
    "             #       print (b)\n",
    "              #      print (\"es muy frecuente\")\n",
    "                    #if (valor_aleatorio>0.4):\n",
    "                        valor_entero=3\n",
    "                    #else:\n",
    "                     #   valor_entero=0\n",
    "                elif (frecuencia==\"Frecuente (79-30%)\"):\n",
    "               #     print (b)\n",
    "                #    print (\"es frecuente\")\n",
    "                    #if (valor_aleatorio>0.6):\n",
    "                        valor_entero=2\n",
    "                    #else:\n",
    "                     #   valor_entero=0\n",
    "                         \n",
    "                elif (frecuencia==\"Obligatorio (100%)\"):\n",
    "                    valor_entero=4\n",
    "\n",
    "                elif (frecuencia==\"Ocasional (29-5%)\"):\n",
    "                    valor_entero=1\n",
    "                    \n",
    "                df_train[b][j]=valor_entero\n",
    "               \n",
    "                pos=pos+1\n",
    "            j=j+1\n",
    "            i=i+1\n",
    "        z=z+1\n",
    "        print (\"VUELTA: \", z)\n",
    "        print (\"Tamaño: \",j)\n",
    "    return df_train      "
   ]
  },
  {
   "cell_type": "code",
   "execution_count": null,
   "id": "709542ab",
   "metadata": {},
   "outputs": [],
   "source": []
  },
  {
   "cell_type": "markdown",
   "id": "eba84902",
   "metadata": {},
   "source": [
    "## Train Data and Predict"
   ]
  },
  {
   "cell_type": "code",
   "execution_count": 279,
   "id": "d6f545d9",
   "metadata": {},
   "outputs": [],
   "source": [
    "def train_data (df_train):\n",
    "    \n",
    "    target=df_train[\"id_Enfermedad\"]\n",
    "   # data=data.drop (['Enfermedad'], axis=1)\n",
    "    \n",
    "    X_train, X_test, y_train, y_test = train_test_split(df_train,target)\n",
    "    rf= RandomForestClassifier()\n",
    "    rf.fit (X_train,y_train)\n",
    "    #prediccion=rf.predict(X_test)\n",
    "    \n",
    "    return df_train,rf,target,X_test,y_test, X_train, y_train\n"
   ]
  },
  {
   "cell_type": "code",
   "execution_count": 280,
   "id": "0cf7cfbf",
   "metadata": {},
   "outputs": [],
   "source": [
    "def aparece_y_como (scoring_enfermedades,id_Sintoma, df_Enfermedades):\n",
    "    \n",
    "\n",
    "    \n",
    "    j=0\n",
    "    enfermedades=[]\n",
    "    while (j<len(scoring_enfermedades)):\n",
    "        enfermedad=[]\n",
    "        id_enfermedad=scoring_enfermedades[\"index\"][j]\n",
    "        scoring=scoring_enfermedades[id_Sintoma][j]\n",
    "        \n",
    "        enfermedad.append(id_enfermedad)\n",
    "       \n",
    "        enfermedad.append(df_Enfermedades[df_Enfermedades[\"index\"]==id_enfermedad][\"Enfermedad\"].values[0])\n",
    "   \n",
    "        enfermedad.append(scoring)\n",
    "        lista=df_EnfeySinto_select[df_EnfeySinto_select[\"Enfermedad\"]==\n",
    "                                   df_Enfermedades.loc[id_enfermedad][1]]\n",
    "        lista=lista.reset_index()\n",
    "        sintoma= df_Sintomas.loc[id_Sintoma].Sintoma\n",
    "        \n",
    "        i=0\n",
    "        while i<len(lista):\n",
    "         \n",
    "            if lista[\"Sintoma\"][i]==sintoma:\n",
    "                enfermedad.append(lista[\"Frecuencia\"][i])\n",
    "            \n",
    "            i=i+1  \n",
    "        j=j+1\n",
    "        enfermedades.append(enfermedad)\n",
    "    return enfermedades"
   ]
  },
  {
   "cell_type": "code",
   "execution_count": 281,
   "id": "1d4ba4a1",
   "metadata": {},
   "outputs": [],
   "source": [
    "def saca_enfermedades (vector,df_Enfermedades):\n",
    "    \n",
    "    enfermedades=[]\n",
    "    for j in vector:\n",
    "        enfermedades.append(df_Enfermedades[df_Enfermedades[\"index\"]==j][\"Enfermedad\"])\n",
    "        \n",
    "    return enfermedades"
   ]
  },
  {
   "cell_type": "code",
   "execution_count": 353,
   "id": "2c76eeb5",
   "metadata": {},
   "outputs": [],
   "source": [
    "\n",
    "\n",
    "#common = set(first).intersection(second)\n",
    "##HACE INTERSECCIÓN DE VARIOS SINTOMAS\n",
    "def trata_sintomas (sintomas,df_transpuesta):\n",
    "    comunes=[]\n",
    "    primera_iter=True\n",
    "    for i in sintomas:\n",
    "        vector=[]\n",
    "        lista,vector=predict_similitud_entre_usuarios_by_pearson(df_transpuesta,i,20)\n",
    "        \n",
    "        v=vector.reset_index()\n",
    "        \n",
    "        sintoma=v[\"index\"]\n",
    "        sintoma=list(sintoma)\n",
    "      \n",
    "        if primera_iter:\n",
    "            comunes=sintoma\n",
    "            primera_iter=False\n",
    "\n",
    "        else:            \n",
    "            comunes = set(comunes).intersection(sintoma)\n",
    "        \n",
    "    return comunes\n"
   ]
  },
  {
   "cell_type": "code",
   "execution_count": 303,
   "id": "9379c47c",
   "metadata": {},
   "outputs": [],
   "source": [
    "def predict_collaborative_filtering_ser_based(ratings, sintoma, elementos):\n",
    " \n",
    "    id_sintoma = df_Sintomas[df_Sintomas['Sintoma'] == sintoma].index.values[0]\n",
    "\n",
    "    ratings_train, ratings_test = train_test_split(ratings, test_size = 0.2, shuffle=False, random_state=42)\n",
    "    print (ratings_train.shape)\n",
    "    print (ratings_test.shape)\n",
    "    sim_matrix = 1 - sklearn.metrics.pairwise.cosine_distances(ratings)\n",
    "    \n",
    "    #Matriz de similitud entre los usuarios (distancia del coseno -vectores-).\n",
    "    #Predecir la valoración desconocida de un ítem i para un usuario activo u basandonos en la suma ponderada de\n",
    "    #todas las valoraciones del resto de usuarios para dicho ítem.\n",
    "    #Recomendaremos los nuevos ítems a los usuarios según lo establecido en los pasos anteriores.\n",
    "    #separar las filas y columnas de train y test\n",
    "    sim_matrix_train = sim_matrix[0:386,0:386]\n",
    "    sim_matrix_test = sim_matrix[386:483,386:483]\n",
    "    \n",
    "    users_predictions = sim_matrix_train.dot(ratings_train) / np.array([np.abs(sim_matrix_train).sum(axis=1)]).T\n",
    "    \n",
    "    \n",
    "    \n",
    "    #Predicciones (las recomendaciones!)\n",
    "    \n",
    "    user0=users_predictions.argsort()[id_sintoma]\n",
    "    vector_id_enfermedad_scoring=[]\n",
    "    for i, aRepo in enumerate(user0[-elementos:]):\n",
    "        v=[]\n",
    "        selRepo = df_Enfermedades[df_Enfermedades[\"index\"]==aRepo]\n",
    "  \n",
    "       # print('Enfermedad:', selRepo[\"Enfermedad\"] , 'scoring:', users_predictions[sintoma_ver][aRepo])\n",
    "        v.append (aRepo)\n",
    "        v.append (users_predictions[id_sintoma][aRepo])\n",
    "        vector_id_enfermedad_scoring.append(v)\n",
    "        \n",
    "    vector_id_enfermedad_scoring=pd.DataFrame(vector_id_enfermedad_scoring)\n",
    "    vector_id_enfermedad_scoring = vector_id_enfermedad_scoring.rename(columns={1:id_sintoma, 0:\"index\"})\n",
    "    \n",
    "    listado_completo=aparece_y_como (vector_id_enfermedad_scoring,id_sintoma, df_Enfermedades)\n",
    "    #listado_completo= list(reserved(listado_completo))\n",
    "    return listado_completo,users_predictions,ratings_train, ratings_test, sim_matrix"
   ]
  },
  {
   "cell_type": "code",
   "execution_count": 445,
   "id": "d817d2db",
   "metadata": {},
   "outputs": [],
   "source": [
    "def predict_similitud_entre_usuarios_by_pearson (df_train_generated,sintoma,elementos):\n",
    "    \n",
    "    id_sintoma = df_Sintomas[df_Sintomas['Sintoma'] == sintoma].index.values[0]\n",
    "\n",
    "    \n",
    "    df_transpuesta=df_train_generated\n",
    "    correlaciones = df_transpuesta.corr(method='pearson')\n",
    "    #correlaciones[34].sort_values(ascending=False)\n",
    "    #Top = 3\n",
    "    # Top relaciones positivas\n",
    "    #correlaciones[0].sort_values(ascending=False)[1:].head(Top)\n",
    "    #correlaciones[0].sort_values(ascending=True).head(Top)\n",
    "    MediasUsers = df_transpuesta.mean(numeric_only=True,skipna=True)\n",
    "    DesviacionesUsers = df_transpuesta.std(numeric_only=True,skipna=True)\n",
    "    df_ValoracionesNorm = df_transpuesta[MediasUsers.index].sub(MediasUsers, axis='columns')\n",
    "   # df_ValoracionesNorm.sort_values(0).head(10)\n",
    "    df_ValoracionesNorm = df_ValoracionesNorm.div(DesviacionesUsers, axis='columns')\n",
    "    #df_ValoracionesNorm.sort_values(0).head(10)\n",
    "    Numerador = df_ValoracionesNorm.dot(correlaciones)\n",
    "    Numerador.sort_values(0,ascending=False)\n",
    "    Denominador = correlaciones.abs().sum()\n",
    "    Cociente = Numerador.div(Denominador, axis='columns')\n",
    "   # Cociente.sort_values(0,ascending=False)\n",
    "    Valoraciones = Cociente.mul(DesviacionesUsers,axis='columns').add(MediasUsers, axis='columns')\n",
    "    #Valoraciones.sort_values(0,ascending=False)\n",
    "    a=Valoraciones[id_sintoma].sort_values(ascending=False).head(elementos)\n",
    "    vector=pd.DataFrame(a)\n",
    "    vector=vector.reset_index()\n",
    "    lista=aparece_y_como (vector,id_sintoma, df_Enfermedades)\n",
    "    k = 5\n",
    "    neighbors = NearestNeighbors(n_neighbors=k, metric='cosine')\n",
    "    neighbors.fit(Valoraciones)\n",
    "    top_k_distances, top_k_users = model.kneighbors(Valoraciones, return_distance=True)\n",
    " #top_k_distances.shape\n",
    "    res = top_k_users[id_sintoma]\n",
    "    \n",
    "    #return lista,a,sintoma_ver,vector\n",
    "    \n",
    "    return lista,a, res"
   ]
  },
  {
   "cell_type": "code",
   "execution_count": 285,
   "id": "f7913fce",
   "metadata": {},
   "outputs": [],
   "source": [
    "#def rank (df_train,rf,X_test):\n",
    "  #  predicciones = rf.predict_proba(X_test)\n",
    "   # predicciones[:5, :]\n",
    "   # df_rank = pd.DataFrame(data=predicciones, columns=['0', '1','2','3','4', '5', '6', '7', '8'])\n",
    "   # df_rank['clasificacion_default_0.5'] = np.where(df_predicciones['0'] > df_predicciones['1'], 0, 1)\n",
    "   # return df_rank\n",
    "    "
   ]
  },
  {
   "cell_type": "markdown",
   "id": "69c6283b",
   "metadata": {},
   "source": [
    "## Evaluate"
   ]
  },
  {
   "cell_type": "code",
   "execution_count": 286,
   "id": "522f65fe",
   "metadata": {},
   "outputs": [],
   "source": [
    "\n",
    "def get_mse(preds, actuals):\n",
    "    if preds.shape[1] != actuals.shape[1]:\n",
    "        actuals = actuals.T\n",
    "    preds = preds[actuals.nonzero()].flatten()\n",
    "    actuals = actuals[actuals.nonzero()].flatten()\n",
    "    return mean_squared_error(preds, actuals)\n",
    " \n"
   ]
  },
  {
   "cell_type": "code",
   "execution_count": 287,
   "id": "3614f414",
   "metadata": {},
   "outputs": [],
   "source": [
    "def evaluate (classifier, X_test, y_test):\n",
    "\n",
    "    y_pred=classifier.predict(X_test)\n",
    "    probs=classifier.predict_proba(X_test) [:, 1]\n",
    "    \n",
    "    acc = accuracy_score(y_test, y_pred)\n",
    "    pres= precision_score (y_test, y_pred, average='micro')\n",
    "    f1 = f1_score(y_test, y_pred, average='micro')\n",
    "    \n",
    "   # roc_auc = roc_auc_score(y_test,probs, multi_class='ovr')\n",
    "    #auc = roc_auc_score(y_test, probs)\n",
    "    print (\"Accurancy: \", acc)\n",
    "    print (\"Precision: \", pres)\n",
    "    print (\"f1: \", f1)\n",
    "    #print (\"auc: \", auc)\n",
    "    \n",
    "   # fpr, tpr, threshols = roc_curve(y_test, probs)\n",
    "   # plt.plot(fpr,tpr)\n",
    "   # plt.xlabel('False positives rate')\n",
    "   # plt.ylabel('True positives rate')\n",
    "   # plt.gcf().set_size_inches(8,6)\n",
    "   "
   ]
  },
  {
   "cell_type": "code",
   "execution_count": null,
   "id": "825746ad",
   "metadata": {},
   "outputs": [],
   "source": []
  },
  {
   "cell_type": "markdown",
   "id": "d027c06e",
   "metadata": {},
   "source": [
    "## Notebook Main: Carga de Datos de DataFrames"
   ]
  },
  {
   "cell_type": "code",
   "execution_count": 288,
   "id": "66433999",
   "metadata": {},
   "outputs": [],
   "source": [
    "df_EnfeySinto=load_from_xml(\"../data/01_raw/enfermedades.xml\")"
   ]
  },
  {
   "cell_type": "code",
   "execution_count": 289,
   "id": "d1b7b07b",
   "metadata": {},
   "outputs": [
    {
     "data": {
      "text/plain": [
       "array(['Muy frecuente (99-80%)', 'Frecuente (79-30%)',\n",
       "       'Ocasional (29-5%)', 'Muy poco frecuente (4-1%)',\n",
       "       'Excluyente (0%)', 'Obligatorio (100%)'], dtype=object)"
      ]
     },
     "execution_count": 289,
     "metadata": {},
     "output_type": "execute_result"
    }
   ],
   "source": [
    "df_EnfeySinto[\"Frecuencia\"].unique()"
   ]
  },
  {
   "cell_type": "code",
   "execution_count": 290,
   "id": "995f4af1",
   "metadata": {},
   "outputs": [
    {
     "name": "stdout",
     "output_type": "stream",
     "text": [
      "Después de filtrado por sintomas filas\n",
      "Enfermedades:  4262\n",
      "Sintomas:  8303\n",
      "Frecuencias:  6\n"
     ]
    }
   ],
   "source": [
    "print (\"Después de filtrado por sintomas filas\")\n",
    "print (\"Enfermedades: \", df_EnfeySinto[\"Enfermedad\"].nunique())\n",
    "print (\"Sintomas: \", df_EnfeySinto[\"Sintoma\"].nunique())\n",
    "print (\"Frecuencias: \", df_EnfeySinto[\"Frecuencia\"].nunique())  "
   ]
  },
  {
   "cell_type": "code",
   "execution_count": 291,
   "id": "8b6a9cd4",
   "metadata": {},
   "outputs": [],
   "source": [
    "df_EnfeySinto_cleaned=clean_data(df_EnfeySinto)"
   ]
  },
  {
   "cell_type": "code",
   "execution_count": 292,
   "id": "a221a462",
   "metadata": {},
   "outputs": [
    {
     "name": "stdout",
     "output_type": "stream",
     "text": [
      "Después de filtrado por sintomas filas\n",
      "Enfermedades:  4187\n",
      "Sintomas:  483\n",
      "Frecuencias:  6\n"
     ]
    }
   ],
   "source": [
    "print (\"Después de filtrado por sintomas filas\")\n",
    "print (\"Enfermedades: \", df_EnfeySinto_cleaned[\"Enfermedad\"].nunique())\n",
    "print (\"Sintomas: \", df_EnfeySinto_cleaned[\"Sintoma\"].nunique())\n",
    "print (\"Frecuencias: \", df_EnfeySinto_cleaned[\"Frecuencia\"].nunique())  "
   ]
  },
  {
   "cell_type": "code",
   "execution_count": 411,
   "id": "3973a5a4",
   "metadata": {},
   "outputs": [
    {
     "data": {
      "text/html": [
       "<div>\n",
       "<style scoped>\n",
       "    .dataframe tbody tr th:only-of-type {\n",
       "        vertical-align: middle;\n",
       "    }\n",
       "\n",
       "    .dataframe tbody tr th {\n",
       "        vertical-align: top;\n",
       "    }\n",
       "\n",
       "    .dataframe thead th {\n",
       "        text-align: right;\n",
       "    }\n",
       "</style>\n",
       "<table border=\"1\" class=\"dataframe\">\n",
       "  <thead>\n",
       "    <tr style=\"text-align: right;\">\n",
       "      <th></th>\n",
       "      <th>Enfermedad</th>\n",
       "      <th>Id_Enfermedad</th>\n",
       "      <th>Sintoma</th>\n",
       "      <th>Frecuencia</th>\n",
       "    </tr>\n",
       "  </thead>\n",
       "  <tbody>\n",
       "    <tr>\n",
       "      <th>0</th>\n",
       "      <td>Enfermedad de Alexander</td>\n",
       "      <td>0</td>\n",
       "      <td>Macrocephaly</td>\n",
       "      <td>Muy frecuente (99-80%)</td>\n",
       "    </tr>\n",
       "    <tr>\n",
       "      <th>1</th>\n",
       "      <td>Enfermedad de Alexander</td>\n",
       "      <td>0</td>\n",
       "      <td>Intellectual disability</td>\n",
       "      <td>Muy frecuente (99-80%)</td>\n",
       "    </tr>\n",
       "    <tr>\n",
       "      <th>2</th>\n",
       "      <td>Enfermedad de Alexander</td>\n",
       "      <td>0</td>\n",
       "      <td>Seizure</td>\n",
       "      <td>Muy frecuente (99-80%)</td>\n",
       "    </tr>\n",
       "    <tr>\n",
       "      <th>3</th>\n",
       "      <td>Enfermedad de Alexander</td>\n",
       "      <td>0</td>\n",
       "      <td>Spasticity</td>\n",
       "      <td>Muy frecuente (99-80%)</td>\n",
       "    </tr>\n",
       "    <tr>\n",
       "      <th>4</th>\n",
       "      <td>Enfermedad de Alexander</td>\n",
       "      <td>0</td>\n",
       "      <td>Agenesis of corpus callosum</td>\n",
       "      <td>Muy frecuente (99-80%)</td>\n",
       "    </tr>\n",
       "    <tr>\n",
       "      <th>...</th>\n",
       "      <td>...</td>\n",
       "      <td>...</td>\n",
       "      <td>...</td>\n",
       "      <td>...</td>\n",
       "    </tr>\n",
       "    <tr>\n",
       "      <th>112669</th>\n",
       "      <td>Artrogriposis múltiple congénita miogénica aut...</td>\n",
       "      <td>4262</td>\n",
       "      <td>Depressed nasal bridge</td>\n",
       "      <td>Ocasional (29-5%)</td>\n",
       "    </tr>\n",
       "    <tr>\n",
       "      <th>112671</th>\n",
       "      <td>Artrogriposis múltiple congénita miogénica aut...</td>\n",
       "      <td>4262</td>\n",
       "      <td>Postnatal growth retardation</td>\n",
       "      <td>Ocasional (29-5%)</td>\n",
       "    </tr>\n",
       "    <tr>\n",
       "      <th>112672</th>\n",
       "      <td>Artrogriposis múltiple congénita miogénica aut...</td>\n",
       "      <td>4262</td>\n",
       "      <td>Gastrostomy tube feeding in infancy</td>\n",
       "      <td>Ocasional (29-5%)</td>\n",
       "    </tr>\n",
       "    <tr>\n",
       "      <th>112679</th>\n",
       "      <td>Nevo de cabello lanoso</td>\n",
       "      <td>4263</td>\n",
       "      <td>Fine hair</td>\n",
       "      <td>Muy frecuente (99-80%)</td>\n",
       "    </tr>\n",
       "    <tr>\n",
       "      <th>112684</th>\n",
       "      <td>Nevo de cabello lanoso</td>\n",
       "      <td>4263</td>\n",
       "      <td>Brachydactyly</td>\n",
       "      <td>Ocasional (29-5%)</td>\n",
       "    </tr>\n",
       "  </tbody>\n",
       "</table>\n",
       "<p>55977 rows × 4 columns</p>\n",
       "</div>"
      ],
      "text/plain": [
       "                                               Enfermedad  Id_Enfermedad  \\\n",
       "0                                 Enfermedad de Alexander              0   \n",
       "1                                 Enfermedad de Alexander              0   \n",
       "2                                 Enfermedad de Alexander              0   \n",
       "3                                 Enfermedad de Alexander              0   \n",
       "4                                 Enfermedad de Alexander              0   \n",
       "...                                                   ...            ...   \n",
       "112669  Artrogriposis múltiple congénita miogénica aut...           4262   \n",
       "112671  Artrogriposis múltiple congénita miogénica aut...           4262   \n",
       "112672  Artrogriposis múltiple congénita miogénica aut...           4262   \n",
       "112679                             Nevo de cabello lanoso           4263   \n",
       "112684                             Nevo de cabello lanoso           4263   \n",
       "\n",
       "                                    Sintoma              Frecuencia  \n",
       "0                              Macrocephaly  Muy frecuente (99-80%)  \n",
       "1                   Intellectual disability  Muy frecuente (99-80%)  \n",
       "2                                   Seizure  Muy frecuente (99-80%)  \n",
       "3                                Spasticity  Muy frecuente (99-80%)  \n",
       "4               Agenesis of corpus callosum  Muy frecuente (99-80%)  \n",
       "...                                     ...                     ...  \n",
       "112669               Depressed nasal bridge       Ocasional (29-5%)  \n",
       "112671         Postnatal growth retardation       Ocasional (29-5%)  \n",
       "112672  Gastrostomy tube feeding in infancy       Ocasional (29-5%)  \n",
       "112679                            Fine hair  Muy frecuente (99-80%)  \n",
       "112684                        Brachydactyly       Ocasional (29-5%)  \n",
       "\n",
       "[55977 rows x 4 columns]"
      ]
     },
     "execution_count": 411,
     "metadata": {},
     "output_type": "execute_result"
    }
   ],
   "source": [
    "df_EnfeySinto_select=selection_and_preparation_data(df_EnfeySinto_cleaned)\n",
    "df_EnfeySinto_select"
   ]
  },
  {
   "cell_type": "code",
   "execution_count": 412,
   "id": "2bd473c6",
   "metadata": {},
   "outputs": [
    {
     "name": "stdout",
     "output_type": "stream",
     "text": [
      "Después de borrado filas, duplicates y NAN\n",
      "Enfermedades:  4173\n",
      "Sintomas:  483\n",
      "Frecuencias:  4\n"
     ]
    }
   ],
   "source": [
    "  print (\"Después de borrado filas, duplicates y NAN\")\n",
    "  print (\"Enfermedades: \", df_EnfeySinto_select[\"Enfermedad\"].nunique())\n",
    "  print (\"Sintomas: \", df_EnfeySinto_select[\"Sintoma\"].nunique())\n",
    "  print (\"Frecuencias: \", df_EnfeySinto_select[\"Frecuencia\"].nunique())  \n"
   ]
  },
  {
   "cell_type": "code",
   "execution_count": 413,
   "id": "630df42e",
   "metadata": {},
   "outputs": [
    {
     "data": {
      "text/html": [
       "<div>\n",
       "<style scoped>\n",
       "    .dataframe tbody tr th:only-of-type {\n",
       "        vertical-align: middle;\n",
       "    }\n",
       "\n",
       "    .dataframe tbody tr th {\n",
       "        vertical-align: top;\n",
       "    }\n",
       "\n",
       "    .dataframe thead th {\n",
       "        text-align: right;\n",
       "    }\n",
       "</style>\n",
       "<table border=\"1\" class=\"dataframe\">\n",
       "  <thead>\n",
       "    <tr style=\"text-align: right;\">\n",
       "      <th></th>\n",
       "      <th>Enfermedad</th>\n",
       "      <th>Sintoma</th>\n",
       "      <th>Frecuencia</th>\n",
       "    </tr>\n",
       "  </thead>\n",
       "  <tbody>\n",
       "    <tr>\n",
       "      <th>0</th>\n",
       "      <td>Enfermedad de Alexander</td>\n",
       "      <td>Macrocephaly</td>\n",
       "      <td>Muy frecuente (99-80%)</td>\n",
       "    </tr>\n",
       "    <tr>\n",
       "      <th>1</th>\n",
       "      <td>Enfermedad de Alexander</td>\n",
       "      <td>Intellectual disability</td>\n",
       "      <td>Muy frecuente (99-80%)</td>\n",
       "    </tr>\n",
       "    <tr>\n",
       "      <th>2</th>\n",
       "      <td>Enfermedad de Alexander</td>\n",
       "      <td>Seizure</td>\n",
       "      <td>Muy frecuente (99-80%)</td>\n",
       "    </tr>\n",
       "    <tr>\n",
       "      <th>3</th>\n",
       "      <td>Enfermedad de Alexander</td>\n",
       "      <td>Spasticity</td>\n",
       "      <td>Muy frecuente (99-80%)</td>\n",
       "    </tr>\n",
       "    <tr>\n",
       "      <th>4</th>\n",
       "      <td>Enfermedad de Alexander</td>\n",
       "      <td>Agenesis of corpus callosum</td>\n",
       "      <td>Muy frecuente (99-80%)</td>\n",
       "    </tr>\n",
       "    <tr>\n",
       "      <th>...</th>\n",
       "      <td>...</td>\n",
       "      <td>...</td>\n",
       "      <td>...</td>\n",
       "    </tr>\n",
       "    <tr>\n",
       "      <th>112669</th>\n",
       "      <td>Artrogriposis múltiple congénita miogénica aut...</td>\n",
       "      <td>Depressed nasal bridge</td>\n",
       "      <td>Ocasional (29-5%)</td>\n",
       "    </tr>\n",
       "    <tr>\n",
       "      <th>112671</th>\n",
       "      <td>Artrogriposis múltiple congénita miogénica aut...</td>\n",
       "      <td>Postnatal growth retardation</td>\n",
       "      <td>Ocasional (29-5%)</td>\n",
       "    </tr>\n",
       "    <tr>\n",
       "      <th>112672</th>\n",
       "      <td>Artrogriposis múltiple congénita miogénica aut...</td>\n",
       "      <td>Gastrostomy tube feeding in infancy</td>\n",
       "      <td>Ocasional (29-5%)</td>\n",
       "    </tr>\n",
       "    <tr>\n",
       "      <th>112679</th>\n",
       "      <td>Nevo de cabello lanoso</td>\n",
       "      <td>Fine hair</td>\n",
       "      <td>Muy frecuente (99-80%)</td>\n",
       "    </tr>\n",
       "    <tr>\n",
       "      <th>112684</th>\n",
       "      <td>Nevo de cabello lanoso</td>\n",
       "      <td>Brachydactyly</td>\n",
       "      <td>Ocasional (29-5%)</td>\n",
       "    </tr>\n",
       "  </tbody>\n",
       "</table>\n",
       "<p>55977 rows × 3 columns</p>\n",
       "</div>"
      ],
      "text/plain": [
       "                                               Enfermedad  \\\n",
       "0                                 Enfermedad de Alexander   \n",
       "1                                 Enfermedad de Alexander   \n",
       "2                                 Enfermedad de Alexander   \n",
       "3                                 Enfermedad de Alexander   \n",
       "4                                 Enfermedad de Alexander   \n",
       "...                                                   ...   \n",
       "112669  Artrogriposis múltiple congénita miogénica aut...   \n",
       "112671  Artrogriposis múltiple congénita miogénica aut...   \n",
       "112672  Artrogriposis múltiple congénita miogénica aut...   \n",
       "112679                             Nevo de cabello lanoso   \n",
       "112684                             Nevo de cabello lanoso   \n",
       "\n",
       "                                    Sintoma              Frecuencia  \n",
       "0                              Macrocephaly  Muy frecuente (99-80%)  \n",
       "1                   Intellectual disability  Muy frecuente (99-80%)  \n",
       "2                                   Seizure  Muy frecuente (99-80%)  \n",
       "3                                Spasticity  Muy frecuente (99-80%)  \n",
       "4               Agenesis of corpus callosum  Muy frecuente (99-80%)  \n",
       "...                                     ...                     ...  \n",
       "112669               Depressed nasal bridge       Ocasional (29-5%)  \n",
       "112671         Postnatal growth retardation       Ocasional (29-5%)  \n",
       "112672  Gastrostomy tube feeding in infancy       Ocasional (29-5%)  \n",
       "112679                            Fine hair  Muy frecuente (99-80%)  \n",
       "112684                        Brachydactyly       Ocasional (29-5%)  \n",
       "\n",
       "[55977 rows x 3 columns]"
      ]
     },
     "execution_count": 413,
     "metadata": {},
     "output_type": "execute_result"
    }
   ],
   "source": [
    "df_EnfeySinto_select=df_EnfeySinto_select.drop(\"Id_Enfermedad\", axis=1)\n",
    "df_EnfeySinto_select"
   ]
  },
  {
   "cell_type": "code",
   "execution_count": 414,
   "id": "9f2c3933",
   "metadata": {},
   "outputs": [
    {
     "data": {
      "text/html": [
       "<div>\n",
       "<style scoped>\n",
       "    .dataframe tbody tr th:only-of-type {\n",
       "        vertical-align: middle;\n",
       "    }\n",
       "\n",
       "    .dataframe tbody tr th {\n",
       "        vertical-align: top;\n",
       "    }\n",
       "\n",
       "    .dataframe thead th {\n",
       "        text-align: right;\n",
       "    }\n",
       "</style>\n",
       "<table border=\"1\" class=\"dataframe\">\n",
       "  <thead>\n",
       "    <tr style=\"text-align: right;\">\n",
       "      <th></th>\n",
       "      <th>Sintoma</th>\n",
       "    </tr>\n",
       "  </thead>\n",
       "  <tbody>\n",
       "    <tr>\n",
       "      <th>0</th>\n",
       "      <td>Abdominal distention</td>\n",
       "    </tr>\n",
       "    <tr>\n",
       "      <th>1</th>\n",
       "      <td>Abdominal pain</td>\n",
       "    </tr>\n",
       "    <tr>\n",
       "      <th>2</th>\n",
       "      <td>Abnormal bleeding</td>\n",
       "    </tr>\n",
       "    <tr>\n",
       "      <th>3</th>\n",
       "      <td>Abnormal blistering of the skin</td>\n",
       "    </tr>\n",
       "    <tr>\n",
       "      <th>4</th>\n",
       "      <td>Abnormal cardiac septum morphology</td>\n",
       "    </tr>\n",
       "    <tr>\n",
       "      <th>...</th>\n",
       "      <td>...</td>\n",
       "    </tr>\n",
       "    <tr>\n",
       "      <th>478</th>\n",
       "      <td>Weight loss</td>\n",
       "    </tr>\n",
       "    <tr>\n",
       "      <th>479</th>\n",
       "      <td>Wide intermamillary distance</td>\n",
       "    </tr>\n",
       "    <tr>\n",
       "      <th>480</th>\n",
       "      <td>Wide mouth</td>\n",
       "    </tr>\n",
       "    <tr>\n",
       "      <th>481</th>\n",
       "      <td>Wide nasal bridge</td>\n",
       "    </tr>\n",
       "    <tr>\n",
       "      <th>482</th>\n",
       "      <td>Wide nose</td>\n",
       "    </tr>\n",
       "  </tbody>\n",
       "</table>\n",
       "<p>483 rows × 1 columns</p>\n",
       "</div>"
      ],
      "text/plain": [
       "                                Sintoma\n",
       "0                  Abdominal distention\n",
       "1                        Abdominal pain\n",
       "2                     Abnormal bleeding\n",
       "3       Abnormal blistering of the skin\n",
       "4    Abnormal cardiac septum morphology\n",
       "..                                  ...\n",
       "478                         Weight loss\n",
       "479        Wide intermamillary distance\n",
       "480                          Wide mouth\n",
       "481                   Wide nasal bridge\n",
       "482                           Wide nose\n",
       "\n",
       "[483 rows x 1 columns]"
      ]
     },
     "execution_count": 414,
     "metadata": {},
     "output_type": "execute_result"
    }
   ],
   "source": [
    "df_Sintomas=df_EnfeySinto_select.groupby ([\"Sintoma\"]).count().reset_index()\n",
    "df_Sintomas=df_Sintomas.drop([\"Enfermedad\",\"Frecuencia\"], axis=1)\n",
    "df_Sintomas"
   ]
  },
  {
   "cell_type": "code",
   "execution_count": 415,
   "id": "ef803ecb",
   "metadata": {},
   "outputs": [
    {
     "data": {
      "text/html": [
       "<div>\n",
       "<style scoped>\n",
       "    .dataframe tbody tr th:only-of-type {\n",
       "        vertical-align: middle;\n",
       "    }\n",
       "\n",
       "    .dataframe tbody tr th {\n",
       "        vertical-align: top;\n",
       "    }\n",
       "\n",
       "    .dataframe thead th {\n",
       "        text-align: right;\n",
       "    }\n",
       "</style>\n",
       "<table border=\"1\" class=\"dataframe\">\n",
       "  <thead>\n",
       "    <tr style=\"text-align: right;\">\n",
       "      <th></th>\n",
       "      <th>index</th>\n",
       "      <th>Enfermedad</th>\n",
       "    </tr>\n",
       "  </thead>\n",
       "  <tbody>\n",
       "    <tr>\n",
       "      <th>0</th>\n",
       "      <td>0</td>\n",
       "      <td>AICA ribosiduria</td>\n",
       "    </tr>\n",
       "    <tr>\n",
       "      <th>1</th>\n",
       "      <td>1</td>\n",
       "      <td>ALG1-CDG</td>\n",
       "    </tr>\n",
       "    <tr>\n",
       "      <th>2</th>\n",
       "      <td>2</td>\n",
       "      <td>ALG11-CDG</td>\n",
       "    </tr>\n",
       "    <tr>\n",
       "      <th>3</th>\n",
       "      <td>3</td>\n",
       "      <td>ALG12-CDG</td>\n",
       "    </tr>\n",
       "    <tr>\n",
       "      <th>4</th>\n",
       "      <td>4</td>\n",
       "      <td>ALG13-CDG</td>\n",
       "    </tr>\n",
       "    <tr>\n",
       "      <th>...</th>\n",
       "      <td>...</td>\n",
       "      <td>...</td>\n",
       "    </tr>\n",
       "    <tr>\n",
       "      <th>4168</th>\n",
       "      <td>4168</td>\n",
       "      <td>Xeroderma pigmentoso</td>\n",
       "    </tr>\n",
       "    <tr>\n",
       "      <th>4169</th>\n",
       "      <td>4169</td>\n",
       "      <td>Xeroderma pigmentoso tipo variante</td>\n",
       "    </tr>\n",
       "    <tr>\n",
       "      <th>4170</th>\n",
       "      <td>4170</td>\n",
       "      <td>Zigomicosis</td>\n",
       "    </tr>\n",
       "    <tr>\n",
       "      <th>4171</th>\n",
       "      <td>4171</td>\n",
       "      <td>síndrome de talla baja-sordera-disfunción neut...</td>\n",
       "    </tr>\n",
       "    <tr>\n",
       "      <th>4172</th>\n",
       "      <td>4172</td>\n",
       "      <td>Úvula bífida</td>\n",
       "    </tr>\n",
       "  </tbody>\n",
       "</table>\n",
       "<p>4173 rows × 2 columns</p>\n",
       "</div>"
      ],
      "text/plain": [
       "      index                                         Enfermedad\n",
       "0         0                                   AICA ribosiduria\n",
       "1         1                                           ALG1-CDG\n",
       "2         2                                          ALG11-CDG\n",
       "3         3                                          ALG12-CDG\n",
       "4         4                                          ALG13-CDG\n",
       "...     ...                                                ...\n",
       "4168   4168                               Xeroderma pigmentoso\n",
       "4169   4169                 Xeroderma pigmentoso tipo variante\n",
       "4170   4170                                        Zigomicosis\n",
       "4171   4171  síndrome de talla baja-sordera-disfunción neut...\n",
       "4172   4172                                       Úvula bífida\n",
       "\n",
       "[4173 rows x 2 columns]"
      ]
     },
     "execution_count": 415,
     "metadata": {},
     "output_type": "execute_result"
    }
   ],
   "source": [
    "df_Enfermedades=df_EnfeySinto_select.groupby ([\"Enfermedad\"]).count().reset_index()\n",
    "df_Enfermedades=df_Enfermedades.drop([\"Sintoma\",\"Frecuencia\"], axis=1)\n",
    "df_Enfermedades=df_Enfermedades.reset_index()\n",
    "df_Enfermedades"
   ]
  },
  {
   "cell_type": "markdown",
   "id": "ee2b273e",
   "metadata": {},
   "source": [
    "## Datos Entrenamiento y Matrix"
   ]
  },
  {
   "cell_type": "code",
   "execution_count": 416,
   "id": "76167759",
   "metadata": {},
   "outputs": [
    {
     "name": "stdout",
     "output_type": "stream",
     "text": [
      "VUELTA:  1\n",
      "Tamaño:  4173\n",
      "CPU times: user 6.22 s, sys: 42.9 ms, total: 6.26 s\n",
      "Wall time: 6.26 s\n"
     ]
    }
   ],
   "source": [
    "%%time\n",
    "df_train_generated=generate_data_train (df_EnfeySinto_select, 1)"
   ]
  },
  {
   "cell_type": "code",
   "execution_count": 417,
   "id": "652f38a2",
   "metadata": {},
   "outputs": [
    {
     "data": {
      "text/html": [
       "<div>\n",
       "<style scoped>\n",
       "    .dataframe tbody tr th:only-of-type {\n",
       "        vertical-align: middle;\n",
       "    }\n",
       "\n",
       "    .dataframe tbody tr th {\n",
       "        vertical-align: top;\n",
       "    }\n",
       "\n",
       "    .dataframe thead th {\n",
       "        text-align: right;\n",
       "    }\n",
       "</style>\n",
       "<table border=\"1\" class=\"dataframe\">\n",
       "  <thead>\n",
       "    <tr style=\"text-align: right;\">\n",
       "      <th>Sintoma</th>\n",
       "      <th>Abdominal distention</th>\n",
       "      <th>Abdominal pain</th>\n",
       "      <th>Abnormal bleeding</th>\n",
       "      <th>Abnormal blistering of the skin</th>\n",
       "      <th>Abnormal cardiac septum morphology</th>\n",
       "      <th>Abnormal cerebral white matter morphology</th>\n",
       "      <th>Abnormal dermatoglyphics</th>\n",
       "      <th>Abnormal enzyme/coenzyme activity</th>\n",
       "      <th>Abnormal facial shape</th>\n",
       "      <th>Abnormal fingernail morphology</th>\n",
       "      <th>...</th>\n",
       "      <th>Visual impairment</th>\n",
       "      <th>Visual loss</th>\n",
       "      <th>Vomiting</th>\n",
       "      <th>Waddling gait</th>\n",
       "      <th>Webbed neck</th>\n",
       "      <th>Weight loss</th>\n",
       "      <th>Wide intermamillary distance</th>\n",
       "      <th>Wide mouth</th>\n",
       "      <th>Wide nasal bridge</th>\n",
       "      <th>Wide nose</th>\n",
       "    </tr>\n",
       "  </thead>\n",
       "  <tbody>\n",
       "    <tr>\n",
       "      <th>0</th>\n",
       "      <td>0</td>\n",
       "      <td>0</td>\n",
       "      <td>0</td>\n",
       "      <td>0</td>\n",
       "      <td>0</td>\n",
       "      <td>0</td>\n",
       "      <td>0</td>\n",
       "      <td>0</td>\n",
       "      <td>0</td>\n",
       "      <td>0</td>\n",
       "      <td>...</td>\n",
       "      <td>0</td>\n",
       "      <td>0</td>\n",
       "      <td>0</td>\n",
       "      <td>0</td>\n",
       "      <td>0</td>\n",
       "      <td>0</td>\n",
       "      <td>0</td>\n",
       "      <td>3</td>\n",
       "      <td>0</td>\n",
       "      <td>0</td>\n",
       "    </tr>\n",
       "    <tr>\n",
       "      <th>1</th>\n",
       "      <td>0</td>\n",
       "      <td>0</td>\n",
       "      <td>0</td>\n",
       "      <td>0</td>\n",
       "      <td>0</td>\n",
       "      <td>0</td>\n",
       "      <td>0</td>\n",
       "      <td>0</td>\n",
       "      <td>2</td>\n",
       "      <td>0</td>\n",
       "      <td>...</td>\n",
       "      <td>0</td>\n",
       "      <td>0</td>\n",
       "      <td>0</td>\n",
       "      <td>0</td>\n",
       "      <td>0</td>\n",
       "      <td>0</td>\n",
       "      <td>0</td>\n",
       "      <td>0</td>\n",
       "      <td>0</td>\n",
       "      <td>0</td>\n",
       "    </tr>\n",
       "    <tr>\n",
       "      <th>2</th>\n",
       "      <td>0</td>\n",
       "      <td>0</td>\n",
       "      <td>0</td>\n",
       "      <td>0</td>\n",
       "      <td>0</td>\n",
       "      <td>1</td>\n",
       "      <td>0</td>\n",
       "      <td>0</td>\n",
       "      <td>2</td>\n",
       "      <td>0</td>\n",
       "      <td>...</td>\n",
       "      <td>0</td>\n",
       "      <td>0</td>\n",
       "      <td>0</td>\n",
       "      <td>0</td>\n",
       "      <td>0</td>\n",
       "      <td>0</td>\n",
       "      <td>0</td>\n",
       "      <td>0</td>\n",
       "      <td>0</td>\n",
       "      <td>0</td>\n",
       "    </tr>\n",
       "    <tr>\n",
       "      <th>3</th>\n",
       "      <td>0</td>\n",
       "      <td>0</td>\n",
       "      <td>0</td>\n",
       "      <td>0</td>\n",
       "      <td>0</td>\n",
       "      <td>0</td>\n",
       "      <td>0</td>\n",
       "      <td>4</td>\n",
       "      <td>1</td>\n",
       "      <td>0</td>\n",
       "      <td>...</td>\n",
       "      <td>0</td>\n",
       "      <td>0</td>\n",
       "      <td>0</td>\n",
       "      <td>0</td>\n",
       "      <td>0</td>\n",
       "      <td>0</td>\n",
       "      <td>0</td>\n",
       "      <td>0</td>\n",
       "      <td>0</td>\n",
       "      <td>1</td>\n",
       "    </tr>\n",
       "    <tr>\n",
       "      <th>4</th>\n",
       "      <td>0</td>\n",
       "      <td>0</td>\n",
       "      <td>0</td>\n",
       "      <td>0</td>\n",
       "      <td>0</td>\n",
       "      <td>0</td>\n",
       "      <td>0</td>\n",
       "      <td>0</td>\n",
       "      <td>0</td>\n",
       "      <td>0</td>\n",
       "      <td>...</td>\n",
       "      <td>0</td>\n",
       "      <td>0</td>\n",
       "      <td>0</td>\n",
       "      <td>0</td>\n",
       "      <td>0</td>\n",
       "      <td>0</td>\n",
       "      <td>0</td>\n",
       "      <td>0</td>\n",
       "      <td>0</td>\n",
       "      <td>0</td>\n",
       "    </tr>\n",
       "    <tr>\n",
       "      <th>...</th>\n",
       "      <td>...</td>\n",
       "      <td>...</td>\n",
       "      <td>...</td>\n",
       "      <td>...</td>\n",
       "      <td>...</td>\n",
       "      <td>...</td>\n",
       "      <td>...</td>\n",
       "      <td>...</td>\n",
       "      <td>...</td>\n",
       "      <td>...</td>\n",
       "      <td>...</td>\n",
       "      <td>...</td>\n",
       "      <td>...</td>\n",
       "      <td>...</td>\n",
       "      <td>...</td>\n",
       "      <td>...</td>\n",
       "      <td>...</td>\n",
       "      <td>...</td>\n",
       "      <td>...</td>\n",
       "      <td>...</td>\n",
       "      <td>...</td>\n",
       "    </tr>\n",
       "    <tr>\n",
       "      <th>4168</th>\n",
       "      <td>0</td>\n",
       "      <td>0</td>\n",
       "      <td>0</td>\n",
       "      <td>0</td>\n",
       "      <td>0</td>\n",
       "      <td>0</td>\n",
       "      <td>0</td>\n",
       "      <td>0</td>\n",
       "      <td>0</td>\n",
       "      <td>0</td>\n",
       "      <td>...</td>\n",
       "      <td>0</td>\n",
       "      <td>0</td>\n",
       "      <td>0</td>\n",
       "      <td>0</td>\n",
       "      <td>0</td>\n",
       "      <td>0</td>\n",
       "      <td>0</td>\n",
       "      <td>0</td>\n",
       "      <td>0</td>\n",
       "      <td>0</td>\n",
       "    </tr>\n",
       "    <tr>\n",
       "      <th>4169</th>\n",
       "      <td>0</td>\n",
       "      <td>0</td>\n",
       "      <td>0</td>\n",
       "      <td>0</td>\n",
       "      <td>0</td>\n",
       "      <td>0</td>\n",
       "      <td>0</td>\n",
       "      <td>0</td>\n",
       "      <td>0</td>\n",
       "      <td>0</td>\n",
       "      <td>...</td>\n",
       "      <td>0</td>\n",
       "      <td>0</td>\n",
       "      <td>0</td>\n",
       "      <td>0</td>\n",
       "      <td>0</td>\n",
       "      <td>0</td>\n",
       "      <td>0</td>\n",
       "      <td>0</td>\n",
       "      <td>0</td>\n",
       "      <td>0</td>\n",
       "    </tr>\n",
       "    <tr>\n",
       "      <th>4170</th>\n",
       "      <td>0</td>\n",
       "      <td>1</td>\n",
       "      <td>0</td>\n",
       "      <td>1</td>\n",
       "      <td>0</td>\n",
       "      <td>0</td>\n",
       "      <td>0</td>\n",
       "      <td>0</td>\n",
       "      <td>0</td>\n",
       "      <td>0</td>\n",
       "      <td>...</td>\n",
       "      <td>0</td>\n",
       "      <td>1</td>\n",
       "      <td>1</td>\n",
       "      <td>0</td>\n",
       "      <td>0</td>\n",
       "      <td>0</td>\n",
       "      <td>0</td>\n",
       "      <td>0</td>\n",
       "      <td>0</td>\n",
       "      <td>0</td>\n",
       "    </tr>\n",
       "    <tr>\n",
       "      <th>4171</th>\n",
       "      <td>0</td>\n",
       "      <td>0</td>\n",
       "      <td>0</td>\n",
       "      <td>0</td>\n",
       "      <td>0</td>\n",
       "      <td>0</td>\n",
       "      <td>0</td>\n",
       "      <td>0</td>\n",
       "      <td>0</td>\n",
       "      <td>0</td>\n",
       "      <td>...</td>\n",
       "      <td>0</td>\n",
       "      <td>0</td>\n",
       "      <td>0</td>\n",
       "      <td>0</td>\n",
       "      <td>0</td>\n",
       "      <td>0</td>\n",
       "      <td>0</td>\n",
       "      <td>0</td>\n",
       "      <td>0</td>\n",
       "      <td>0</td>\n",
       "    </tr>\n",
       "    <tr>\n",
       "      <th>4172</th>\n",
       "      <td>0</td>\n",
       "      <td>0</td>\n",
       "      <td>0</td>\n",
       "      <td>0</td>\n",
       "      <td>0</td>\n",
       "      <td>0</td>\n",
       "      <td>0</td>\n",
       "      <td>0</td>\n",
       "      <td>0</td>\n",
       "      <td>0</td>\n",
       "      <td>...</td>\n",
       "      <td>0</td>\n",
       "      <td>0</td>\n",
       "      <td>0</td>\n",
       "      <td>0</td>\n",
       "      <td>0</td>\n",
       "      <td>0</td>\n",
       "      <td>0</td>\n",
       "      <td>0</td>\n",
       "      <td>0</td>\n",
       "      <td>0</td>\n",
       "    </tr>\n",
       "  </tbody>\n",
       "</table>\n",
       "<p>4173 rows × 483 columns</p>\n",
       "</div>"
      ],
      "text/plain": [
       "Sintoma  Abdominal distention  Abdominal pain  Abnormal bleeding  \\\n",
       "0                           0               0                  0   \n",
       "1                           0               0                  0   \n",
       "2                           0               0                  0   \n",
       "3                           0               0                  0   \n",
       "4                           0               0                  0   \n",
       "...                       ...             ...                ...   \n",
       "4168                        0               0                  0   \n",
       "4169                        0               0                  0   \n",
       "4170                        0               1                  0   \n",
       "4171                        0               0                  0   \n",
       "4172                        0               0                  0   \n",
       "\n",
       "Sintoma  Abnormal blistering of the skin  Abnormal cardiac septum morphology  \\\n",
       "0                                      0                                   0   \n",
       "1                                      0                                   0   \n",
       "2                                      0                                   0   \n",
       "3                                      0                                   0   \n",
       "4                                      0                                   0   \n",
       "...                                  ...                                 ...   \n",
       "4168                                   0                                   0   \n",
       "4169                                   0                                   0   \n",
       "4170                                   1                                   0   \n",
       "4171                                   0                                   0   \n",
       "4172                                   0                                   0   \n",
       "\n",
       "Sintoma  Abnormal cerebral white matter morphology  Abnormal dermatoglyphics  \\\n",
       "0                                                0                         0   \n",
       "1                                                0                         0   \n",
       "2                                                1                         0   \n",
       "3                                                0                         0   \n",
       "4                                                0                         0   \n",
       "...                                            ...                       ...   \n",
       "4168                                             0                         0   \n",
       "4169                                             0                         0   \n",
       "4170                                             0                         0   \n",
       "4171                                             0                         0   \n",
       "4172                                             0                         0   \n",
       "\n",
       "Sintoma  Abnormal enzyme/coenzyme activity  Abnormal facial shape  \\\n",
       "0                                        0                      0   \n",
       "1                                        0                      2   \n",
       "2                                        0                      2   \n",
       "3                                        4                      1   \n",
       "4                                        0                      0   \n",
       "...                                    ...                    ...   \n",
       "4168                                     0                      0   \n",
       "4169                                     0                      0   \n",
       "4170                                     0                      0   \n",
       "4171                                     0                      0   \n",
       "4172                                     0                      0   \n",
       "\n",
       "Sintoma  Abnormal fingernail morphology  ...  Visual impairment  Visual loss  \\\n",
       "0                                     0  ...                  0            0   \n",
       "1                                     0  ...                  0            0   \n",
       "2                                     0  ...                  0            0   \n",
       "3                                     0  ...                  0            0   \n",
       "4                                     0  ...                  0            0   \n",
       "...                                 ...  ...                ...          ...   \n",
       "4168                                  0  ...                  0            0   \n",
       "4169                                  0  ...                  0            0   \n",
       "4170                                  0  ...                  0            1   \n",
       "4171                                  0  ...                  0            0   \n",
       "4172                                  0  ...                  0            0   \n",
       "\n",
       "Sintoma  Vomiting  Waddling gait  Webbed neck  Weight loss  \\\n",
       "0               0              0            0            0   \n",
       "1               0              0            0            0   \n",
       "2               0              0            0            0   \n",
       "3               0              0            0            0   \n",
       "4               0              0            0            0   \n",
       "...           ...            ...          ...          ...   \n",
       "4168            0              0            0            0   \n",
       "4169            0              0            0            0   \n",
       "4170            1              0            0            0   \n",
       "4171            0              0            0            0   \n",
       "4172            0              0            0            0   \n",
       "\n",
       "Sintoma  Wide intermamillary distance  Wide mouth  Wide nasal bridge  \\\n",
       "0                                   0           3                  0   \n",
       "1                                   0           0                  0   \n",
       "2                                   0           0                  0   \n",
       "3                                   0           0                  0   \n",
       "4                                   0           0                  0   \n",
       "...                               ...         ...                ...   \n",
       "4168                                0           0                  0   \n",
       "4169                                0           0                  0   \n",
       "4170                                0           0                  0   \n",
       "4171                                0           0                  0   \n",
       "4172                                0           0                  0   \n",
       "\n",
       "Sintoma  Wide nose  \n",
       "0                0  \n",
       "1                0  \n",
       "2                0  \n",
       "3                1  \n",
       "4                0  \n",
       "...            ...  \n",
       "4168             0  \n",
       "4169             0  \n",
       "4170             0  \n",
       "4171             0  \n",
       "4172             0  \n",
       "\n",
       "[4173 rows x 483 columns]"
      ]
     },
     "execution_count": 417,
     "metadata": {},
     "output_type": "execute_result"
    }
   ],
   "source": [
    "df_train_generated"
   ]
  },
  {
   "cell_type": "code",
   "execution_count": 418,
   "id": "6833a24f",
   "metadata": {},
   "outputs": [
    {
     "data": {
      "text/html": [
       "<div>\n",
       "<style scoped>\n",
       "    .dataframe tbody tr th:only-of-type {\n",
       "        vertical-align: middle;\n",
       "    }\n",
       "\n",
       "    .dataframe tbody tr th {\n",
       "        vertical-align: top;\n",
       "    }\n",
       "\n",
       "    .dataframe thead th {\n",
       "        text-align: right;\n",
       "    }\n",
       "</style>\n",
       "<table border=\"1\" class=\"dataframe\">\n",
       "  <thead>\n",
       "    <tr style=\"text-align: right;\">\n",
       "      <th>Sintoma</th>\n",
       "      <th>0</th>\n",
       "      <th>1</th>\n",
       "      <th>2</th>\n",
       "      <th>3</th>\n",
       "      <th>4</th>\n",
       "      <th>5</th>\n",
       "      <th>6</th>\n",
       "      <th>7</th>\n",
       "      <th>8</th>\n",
       "      <th>9</th>\n",
       "      <th>...</th>\n",
       "      <th>473</th>\n",
       "      <th>474</th>\n",
       "      <th>475</th>\n",
       "      <th>476</th>\n",
       "      <th>477</th>\n",
       "      <th>478</th>\n",
       "      <th>479</th>\n",
       "      <th>480</th>\n",
       "      <th>481</th>\n",
       "      <th>482</th>\n",
       "    </tr>\n",
       "  </thead>\n",
       "  <tbody>\n",
       "    <tr>\n",
       "      <th>0</th>\n",
       "      <td>0</td>\n",
       "      <td>0</td>\n",
       "      <td>0</td>\n",
       "      <td>0</td>\n",
       "      <td>0</td>\n",
       "      <td>0</td>\n",
       "      <td>0</td>\n",
       "      <td>0</td>\n",
       "      <td>0</td>\n",
       "      <td>0</td>\n",
       "      <td>...</td>\n",
       "      <td>0</td>\n",
       "      <td>0</td>\n",
       "      <td>0</td>\n",
       "      <td>0</td>\n",
       "      <td>0</td>\n",
       "      <td>0</td>\n",
       "      <td>0</td>\n",
       "      <td>3</td>\n",
       "      <td>0</td>\n",
       "      <td>0</td>\n",
       "    </tr>\n",
       "    <tr>\n",
       "      <th>1</th>\n",
       "      <td>0</td>\n",
       "      <td>0</td>\n",
       "      <td>0</td>\n",
       "      <td>0</td>\n",
       "      <td>0</td>\n",
       "      <td>0</td>\n",
       "      <td>0</td>\n",
       "      <td>0</td>\n",
       "      <td>2</td>\n",
       "      <td>0</td>\n",
       "      <td>...</td>\n",
       "      <td>0</td>\n",
       "      <td>0</td>\n",
       "      <td>0</td>\n",
       "      <td>0</td>\n",
       "      <td>0</td>\n",
       "      <td>0</td>\n",
       "      <td>0</td>\n",
       "      <td>0</td>\n",
       "      <td>0</td>\n",
       "      <td>0</td>\n",
       "    </tr>\n",
       "    <tr>\n",
       "      <th>2</th>\n",
       "      <td>0</td>\n",
       "      <td>0</td>\n",
       "      <td>0</td>\n",
       "      <td>0</td>\n",
       "      <td>0</td>\n",
       "      <td>1</td>\n",
       "      <td>0</td>\n",
       "      <td>0</td>\n",
       "      <td>2</td>\n",
       "      <td>0</td>\n",
       "      <td>...</td>\n",
       "      <td>0</td>\n",
       "      <td>0</td>\n",
       "      <td>0</td>\n",
       "      <td>0</td>\n",
       "      <td>0</td>\n",
       "      <td>0</td>\n",
       "      <td>0</td>\n",
       "      <td>0</td>\n",
       "      <td>0</td>\n",
       "      <td>0</td>\n",
       "    </tr>\n",
       "    <tr>\n",
       "      <th>3</th>\n",
       "      <td>0</td>\n",
       "      <td>0</td>\n",
       "      <td>0</td>\n",
       "      <td>0</td>\n",
       "      <td>0</td>\n",
       "      <td>0</td>\n",
       "      <td>0</td>\n",
       "      <td>4</td>\n",
       "      <td>1</td>\n",
       "      <td>0</td>\n",
       "      <td>...</td>\n",
       "      <td>0</td>\n",
       "      <td>0</td>\n",
       "      <td>0</td>\n",
       "      <td>0</td>\n",
       "      <td>0</td>\n",
       "      <td>0</td>\n",
       "      <td>0</td>\n",
       "      <td>0</td>\n",
       "      <td>0</td>\n",
       "      <td>1</td>\n",
       "    </tr>\n",
       "    <tr>\n",
       "      <th>4</th>\n",
       "      <td>0</td>\n",
       "      <td>0</td>\n",
       "      <td>0</td>\n",
       "      <td>0</td>\n",
       "      <td>0</td>\n",
       "      <td>0</td>\n",
       "      <td>0</td>\n",
       "      <td>0</td>\n",
       "      <td>0</td>\n",
       "      <td>0</td>\n",
       "      <td>...</td>\n",
       "      <td>0</td>\n",
       "      <td>0</td>\n",
       "      <td>0</td>\n",
       "      <td>0</td>\n",
       "      <td>0</td>\n",
       "      <td>0</td>\n",
       "      <td>0</td>\n",
       "      <td>0</td>\n",
       "      <td>0</td>\n",
       "      <td>0</td>\n",
       "    </tr>\n",
       "    <tr>\n",
       "      <th>...</th>\n",
       "      <td>...</td>\n",
       "      <td>...</td>\n",
       "      <td>...</td>\n",
       "      <td>...</td>\n",
       "      <td>...</td>\n",
       "      <td>...</td>\n",
       "      <td>...</td>\n",
       "      <td>...</td>\n",
       "      <td>...</td>\n",
       "      <td>...</td>\n",
       "      <td>...</td>\n",
       "      <td>...</td>\n",
       "      <td>...</td>\n",
       "      <td>...</td>\n",
       "      <td>...</td>\n",
       "      <td>...</td>\n",
       "      <td>...</td>\n",
       "      <td>...</td>\n",
       "      <td>...</td>\n",
       "      <td>...</td>\n",
       "      <td>...</td>\n",
       "    </tr>\n",
       "    <tr>\n",
       "      <th>4168</th>\n",
       "      <td>0</td>\n",
       "      <td>0</td>\n",
       "      <td>0</td>\n",
       "      <td>0</td>\n",
       "      <td>0</td>\n",
       "      <td>0</td>\n",
       "      <td>0</td>\n",
       "      <td>0</td>\n",
       "      <td>0</td>\n",
       "      <td>0</td>\n",
       "      <td>...</td>\n",
       "      <td>0</td>\n",
       "      <td>0</td>\n",
       "      <td>0</td>\n",
       "      <td>0</td>\n",
       "      <td>0</td>\n",
       "      <td>0</td>\n",
       "      <td>0</td>\n",
       "      <td>0</td>\n",
       "      <td>0</td>\n",
       "      <td>0</td>\n",
       "    </tr>\n",
       "    <tr>\n",
       "      <th>4169</th>\n",
       "      <td>0</td>\n",
       "      <td>0</td>\n",
       "      <td>0</td>\n",
       "      <td>0</td>\n",
       "      <td>0</td>\n",
       "      <td>0</td>\n",
       "      <td>0</td>\n",
       "      <td>0</td>\n",
       "      <td>0</td>\n",
       "      <td>0</td>\n",
       "      <td>...</td>\n",
       "      <td>0</td>\n",
       "      <td>0</td>\n",
       "      <td>0</td>\n",
       "      <td>0</td>\n",
       "      <td>0</td>\n",
       "      <td>0</td>\n",
       "      <td>0</td>\n",
       "      <td>0</td>\n",
       "      <td>0</td>\n",
       "      <td>0</td>\n",
       "    </tr>\n",
       "    <tr>\n",
       "      <th>4170</th>\n",
       "      <td>0</td>\n",
       "      <td>1</td>\n",
       "      <td>0</td>\n",
       "      <td>1</td>\n",
       "      <td>0</td>\n",
       "      <td>0</td>\n",
       "      <td>0</td>\n",
       "      <td>0</td>\n",
       "      <td>0</td>\n",
       "      <td>0</td>\n",
       "      <td>...</td>\n",
       "      <td>0</td>\n",
       "      <td>1</td>\n",
       "      <td>1</td>\n",
       "      <td>0</td>\n",
       "      <td>0</td>\n",
       "      <td>0</td>\n",
       "      <td>0</td>\n",
       "      <td>0</td>\n",
       "      <td>0</td>\n",
       "      <td>0</td>\n",
       "    </tr>\n",
       "    <tr>\n",
       "      <th>4171</th>\n",
       "      <td>0</td>\n",
       "      <td>0</td>\n",
       "      <td>0</td>\n",
       "      <td>0</td>\n",
       "      <td>0</td>\n",
       "      <td>0</td>\n",
       "      <td>0</td>\n",
       "      <td>0</td>\n",
       "      <td>0</td>\n",
       "      <td>0</td>\n",
       "      <td>...</td>\n",
       "      <td>0</td>\n",
       "      <td>0</td>\n",
       "      <td>0</td>\n",
       "      <td>0</td>\n",
       "      <td>0</td>\n",
       "      <td>0</td>\n",
       "      <td>0</td>\n",
       "      <td>0</td>\n",
       "      <td>0</td>\n",
       "      <td>0</td>\n",
       "    </tr>\n",
       "    <tr>\n",
       "      <th>4172</th>\n",
       "      <td>0</td>\n",
       "      <td>0</td>\n",
       "      <td>0</td>\n",
       "      <td>0</td>\n",
       "      <td>0</td>\n",
       "      <td>0</td>\n",
       "      <td>0</td>\n",
       "      <td>0</td>\n",
       "      <td>0</td>\n",
       "      <td>0</td>\n",
       "      <td>...</td>\n",
       "      <td>0</td>\n",
       "      <td>0</td>\n",
       "      <td>0</td>\n",
       "      <td>0</td>\n",
       "      <td>0</td>\n",
       "      <td>0</td>\n",
       "      <td>0</td>\n",
       "      <td>0</td>\n",
       "      <td>0</td>\n",
       "      <td>0</td>\n",
       "    </tr>\n",
       "  </tbody>\n",
       "</table>\n",
       "<p>4173 rows × 483 columns</p>\n",
       "</div>"
      ],
      "text/plain": [
       "Sintoma  0    1    2    3    4    5    6    7    8    9    ...  473  474  475  \\\n",
       "0          0    0    0    0    0    0    0    0    0    0  ...    0    0    0   \n",
       "1          0    0    0    0    0    0    0    0    2    0  ...    0    0    0   \n",
       "2          0    0    0    0    0    1    0    0    2    0  ...    0    0    0   \n",
       "3          0    0    0    0    0    0    0    4    1    0  ...    0    0    0   \n",
       "4          0    0    0    0    0    0    0    0    0    0  ...    0    0    0   \n",
       "...      ...  ...  ...  ...  ...  ...  ...  ...  ...  ...  ...  ...  ...  ...   \n",
       "4168       0    0    0    0    0    0    0    0    0    0  ...    0    0    0   \n",
       "4169       0    0    0    0    0    0    0    0    0    0  ...    0    0    0   \n",
       "4170       0    1    0    1    0    0    0    0    0    0  ...    0    1    1   \n",
       "4171       0    0    0    0    0    0    0    0    0    0  ...    0    0    0   \n",
       "4172       0    0    0    0    0    0    0    0    0    0  ...    0    0    0   \n",
       "\n",
       "Sintoma  476  477  478  479  480  481  482  \n",
       "0          0    0    0    0    3    0    0  \n",
       "1          0    0    0    0    0    0    0  \n",
       "2          0    0    0    0    0    0    0  \n",
       "3          0    0    0    0    0    0    1  \n",
       "4          0    0    0    0    0    0    0  \n",
       "...      ...  ...  ...  ...  ...  ...  ...  \n",
       "4168       0    0    0    0    0    0    0  \n",
       "4169       0    0    0    0    0    0    0  \n",
       "4170       0    0    0    0    0    0    0  \n",
       "4171       0    0    0    0    0    0    0  \n",
       "4172       0    0    0    0    0    0    0  \n",
       "\n",
       "[4173 rows x 483 columns]"
      ]
     },
     "execution_count": 418,
     "metadata": {},
     "output_type": "execute_result"
    }
   ],
   "source": [
    "df_train_generated=_cambiar_columnas(df_train_generated)\n",
    "df_train_generated"
   ]
  },
  {
   "cell_type": "code",
   "execution_count": 419,
   "id": "aa4864e6",
   "metadata": {},
   "outputs": [
    {
     "data": {
      "text/html": [
       "<div>\n",
       "<style scoped>\n",
       "    .dataframe tbody tr th:only-of-type {\n",
       "        vertical-align: middle;\n",
       "    }\n",
       "\n",
       "    .dataframe tbody tr th {\n",
       "        vertical-align: top;\n",
       "    }\n",
       "\n",
       "    .dataframe thead th {\n",
       "        text-align: right;\n",
       "    }\n",
       "</style>\n",
       "<table border=\"1\" class=\"dataframe\">\n",
       "  <thead>\n",
       "    <tr style=\"text-align: right;\">\n",
       "      <th></th>\n",
       "      <th>0</th>\n",
       "      <th>1</th>\n",
       "      <th>2</th>\n",
       "      <th>3</th>\n",
       "      <th>4</th>\n",
       "      <th>5</th>\n",
       "      <th>6</th>\n",
       "      <th>7</th>\n",
       "      <th>8</th>\n",
       "      <th>9</th>\n",
       "      <th>...</th>\n",
       "      <th>4163</th>\n",
       "      <th>4164</th>\n",
       "      <th>4165</th>\n",
       "      <th>4166</th>\n",
       "      <th>4167</th>\n",
       "      <th>4168</th>\n",
       "      <th>4169</th>\n",
       "      <th>4170</th>\n",
       "      <th>4171</th>\n",
       "      <th>4172</th>\n",
       "    </tr>\n",
       "    <tr>\n",
       "      <th>Sintoma</th>\n",
       "      <th></th>\n",
       "      <th></th>\n",
       "      <th></th>\n",
       "      <th></th>\n",
       "      <th></th>\n",
       "      <th></th>\n",
       "      <th></th>\n",
       "      <th></th>\n",
       "      <th></th>\n",
       "      <th></th>\n",
       "      <th></th>\n",
       "      <th></th>\n",
       "      <th></th>\n",
       "      <th></th>\n",
       "      <th></th>\n",
       "      <th></th>\n",
       "      <th></th>\n",
       "      <th></th>\n",
       "      <th></th>\n",
       "      <th></th>\n",
       "      <th></th>\n",
       "    </tr>\n",
       "  </thead>\n",
       "  <tbody>\n",
       "    <tr>\n",
       "      <th>0</th>\n",
       "      <td>0</td>\n",
       "      <td>0</td>\n",
       "      <td>0</td>\n",
       "      <td>0</td>\n",
       "      <td>0</td>\n",
       "      <td>0</td>\n",
       "      <td>0</td>\n",
       "      <td>0</td>\n",
       "      <td>0</td>\n",
       "      <td>0</td>\n",
       "      <td>...</td>\n",
       "      <td>0</td>\n",
       "      <td>0</td>\n",
       "      <td>0</td>\n",
       "      <td>0</td>\n",
       "      <td>0</td>\n",
       "      <td>0</td>\n",
       "      <td>0</td>\n",
       "      <td>0</td>\n",
       "      <td>0</td>\n",
       "      <td>0</td>\n",
       "    </tr>\n",
       "    <tr>\n",
       "      <th>1</th>\n",
       "      <td>0</td>\n",
       "      <td>0</td>\n",
       "      <td>0</td>\n",
       "      <td>0</td>\n",
       "      <td>0</td>\n",
       "      <td>0</td>\n",
       "      <td>0</td>\n",
       "      <td>0</td>\n",
       "      <td>0</td>\n",
       "      <td>0</td>\n",
       "      <td>...</td>\n",
       "      <td>0</td>\n",
       "      <td>0</td>\n",
       "      <td>0</td>\n",
       "      <td>0</td>\n",
       "      <td>0</td>\n",
       "      <td>0</td>\n",
       "      <td>0</td>\n",
       "      <td>1</td>\n",
       "      <td>0</td>\n",
       "      <td>0</td>\n",
       "    </tr>\n",
       "    <tr>\n",
       "      <th>2</th>\n",
       "      <td>0</td>\n",
       "      <td>0</td>\n",
       "      <td>0</td>\n",
       "      <td>0</td>\n",
       "      <td>0</td>\n",
       "      <td>0</td>\n",
       "      <td>0</td>\n",
       "      <td>0</td>\n",
       "      <td>0</td>\n",
       "      <td>0</td>\n",
       "      <td>...</td>\n",
       "      <td>0</td>\n",
       "      <td>0</td>\n",
       "      <td>0</td>\n",
       "      <td>0</td>\n",
       "      <td>0</td>\n",
       "      <td>0</td>\n",
       "      <td>0</td>\n",
       "      <td>0</td>\n",
       "      <td>0</td>\n",
       "      <td>0</td>\n",
       "    </tr>\n",
       "    <tr>\n",
       "      <th>3</th>\n",
       "      <td>0</td>\n",
       "      <td>0</td>\n",
       "      <td>0</td>\n",
       "      <td>0</td>\n",
       "      <td>0</td>\n",
       "      <td>0</td>\n",
       "      <td>0</td>\n",
       "      <td>0</td>\n",
       "      <td>0</td>\n",
       "      <td>0</td>\n",
       "      <td>...</td>\n",
       "      <td>0</td>\n",
       "      <td>0</td>\n",
       "      <td>0</td>\n",
       "      <td>0</td>\n",
       "      <td>0</td>\n",
       "      <td>0</td>\n",
       "      <td>0</td>\n",
       "      <td>1</td>\n",
       "      <td>0</td>\n",
       "      <td>0</td>\n",
       "    </tr>\n",
       "    <tr>\n",
       "      <th>4</th>\n",
       "      <td>0</td>\n",
       "      <td>0</td>\n",
       "      <td>0</td>\n",
       "      <td>0</td>\n",
       "      <td>0</td>\n",
       "      <td>0</td>\n",
       "      <td>0</td>\n",
       "      <td>0</td>\n",
       "      <td>0</td>\n",
       "      <td>0</td>\n",
       "      <td>...</td>\n",
       "      <td>0</td>\n",
       "      <td>0</td>\n",
       "      <td>0</td>\n",
       "      <td>0</td>\n",
       "      <td>0</td>\n",
       "      <td>0</td>\n",
       "      <td>0</td>\n",
       "      <td>0</td>\n",
       "      <td>0</td>\n",
       "      <td>0</td>\n",
       "    </tr>\n",
       "    <tr>\n",
       "      <th>...</th>\n",
       "      <td>...</td>\n",
       "      <td>...</td>\n",
       "      <td>...</td>\n",
       "      <td>...</td>\n",
       "      <td>...</td>\n",
       "      <td>...</td>\n",
       "      <td>...</td>\n",
       "      <td>...</td>\n",
       "      <td>...</td>\n",
       "      <td>...</td>\n",
       "      <td>...</td>\n",
       "      <td>...</td>\n",
       "      <td>...</td>\n",
       "      <td>...</td>\n",
       "      <td>...</td>\n",
       "      <td>...</td>\n",
       "      <td>...</td>\n",
       "      <td>...</td>\n",
       "      <td>...</td>\n",
       "      <td>...</td>\n",
       "      <td>...</td>\n",
       "    </tr>\n",
       "    <tr>\n",
       "      <th>478</th>\n",
       "      <td>0</td>\n",
       "      <td>0</td>\n",
       "      <td>0</td>\n",
       "      <td>0</td>\n",
       "      <td>0</td>\n",
       "      <td>0</td>\n",
       "      <td>0</td>\n",
       "      <td>0</td>\n",
       "      <td>0</td>\n",
       "      <td>0</td>\n",
       "      <td>...</td>\n",
       "      <td>0</td>\n",
       "      <td>0</td>\n",
       "      <td>0</td>\n",
       "      <td>0</td>\n",
       "      <td>0</td>\n",
       "      <td>0</td>\n",
       "      <td>0</td>\n",
       "      <td>0</td>\n",
       "      <td>0</td>\n",
       "      <td>0</td>\n",
       "    </tr>\n",
       "    <tr>\n",
       "      <th>479</th>\n",
       "      <td>0</td>\n",
       "      <td>0</td>\n",
       "      <td>0</td>\n",
       "      <td>0</td>\n",
       "      <td>0</td>\n",
       "      <td>0</td>\n",
       "      <td>0</td>\n",
       "      <td>0</td>\n",
       "      <td>0</td>\n",
       "      <td>0</td>\n",
       "      <td>...</td>\n",
       "      <td>0</td>\n",
       "      <td>0</td>\n",
       "      <td>0</td>\n",
       "      <td>0</td>\n",
       "      <td>0</td>\n",
       "      <td>0</td>\n",
       "      <td>0</td>\n",
       "      <td>0</td>\n",
       "      <td>0</td>\n",
       "      <td>0</td>\n",
       "    </tr>\n",
       "    <tr>\n",
       "      <th>480</th>\n",
       "      <td>3</td>\n",
       "      <td>0</td>\n",
       "      <td>0</td>\n",
       "      <td>0</td>\n",
       "      <td>0</td>\n",
       "      <td>0</td>\n",
       "      <td>0</td>\n",
       "      <td>0</td>\n",
       "      <td>0</td>\n",
       "      <td>1</td>\n",
       "      <td>...</td>\n",
       "      <td>0</td>\n",
       "      <td>0</td>\n",
       "      <td>0</td>\n",
       "      <td>0</td>\n",
       "      <td>0</td>\n",
       "      <td>0</td>\n",
       "      <td>0</td>\n",
       "      <td>0</td>\n",
       "      <td>0</td>\n",
       "      <td>0</td>\n",
       "    </tr>\n",
       "    <tr>\n",
       "      <th>481</th>\n",
       "      <td>0</td>\n",
       "      <td>0</td>\n",
       "      <td>0</td>\n",
       "      <td>0</td>\n",
       "      <td>0</td>\n",
       "      <td>2</td>\n",
       "      <td>0</td>\n",
       "      <td>0</td>\n",
       "      <td>0</td>\n",
       "      <td>0</td>\n",
       "      <td>...</td>\n",
       "      <td>0</td>\n",
       "      <td>0</td>\n",
       "      <td>0</td>\n",
       "      <td>0</td>\n",
       "      <td>0</td>\n",
       "      <td>0</td>\n",
       "      <td>0</td>\n",
       "      <td>0</td>\n",
       "      <td>0</td>\n",
       "      <td>0</td>\n",
       "    </tr>\n",
       "    <tr>\n",
       "      <th>482</th>\n",
       "      <td>0</td>\n",
       "      <td>0</td>\n",
       "      <td>0</td>\n",
       "      <td>1</td>\n",
       "      <td>0</td>\n",
       "      <td>0</td>\n",
       "      <td>0</td>\n",
       "      <td>0</td>\n",
       "      <td>0</td>\n",
       "      <td>0</td>\n",
       "      <td>...</td>\n",
       "      <td>0</td>\n",
       "      <td>0</td>\n",
       "      <td>0</td>\n",
       "      <td>0</td>\n",
       "      <td>0</td>\n",
       "      <td>0</td>\n",
       "      <td>0</td>\n",
       "      <td>0</td>\n",
       "      <td>0</td>\n",
       "      <td>0</td>\n",
       "    </tr>\n",
       "  </tbody>\n",
       "</table>\n",
       "<p>483 rows × 4173 columns</p>\n",
       "</div>"
      ],
      "text/plain": [
       "         0     1     2     3     4     5     6     7     8     9     ...  \\\n",
       "Sintoma                                                              ...   \n",
       "0           0     0     0     0     0     0     0     0     0     0  ...   \n",
       "1           0     0     0     0     0     0     0     0     0     0  ...   \n",
       "2           0     0     0     0     0     0     0     0     0     0  ...   \n",
       "3           0     0     0     0     0     0     0     0     0     0  ...   \n",
       "4           0     0     0     0     0     0     0     0     0     0  ...   \n",
       "...       ...   ...   ...   ...   ...   ...   ...   ...   ...   ...  ...   \n",
       "478         0     0     0     0     0     0     0     0     0     0  ...   \n",
       "479         0     0     0     0     0     0     0     0     0     0  ...   \n",
       "480         3     0     0     0     0     0     0     0     0     1  ...   \n",
       "481         0     0     0     0     0     2     0     0     0     0  ...   \n",
       "482         0     0     0     1     0     0     0     0     0     0  ...   \n",
       "\n",
       "         4163  4164  4165  4166  4167  4168  4169  4170  4171  4172  \n",
       "Sintoma                                                              \n",
       "0           0     0     0     0     0     0     0     0     0     0  \n",
       "1           0     0     0     0     0     0     0     1     0     0  \n",
       "2           0     0     0     0     0     0     0     0     0     0  \n",
       "3           0     0     0     0     0     0     0     1     0     0  \n",
       "4           0     0     0     0     0     0     0     0     0     0  \n",
       "...       ...   ...   ...   ...   ...   ...   ...   ...   ...   ...  \n",
       "478         0     0     0     0     0     0     0     0     0     0  \n",
       "479         0     0     0     0     0     0     0     0     0     0  \n",
       "480         0     0     0     0     0     0     0     0     0     0  \n",
       "481         0     0     0     0     0     0     0     0     0     0  \n",
       "482         0     0     0     0     0     0     0     0     0     0  \n",
       "\n",
       "[483 rows x 4173 columns]"
      ]
     },
     "execution_count": 419,
     "metadata": {},
     "output_type": "execute_result"
    }
   ],
   "source": [
    "df_matrix=df_train_generated.transpose()\n",
    "df_matrix"
   ]
  },
  {
   "cell_type": "markdown",
   "id": "faf962ba",
   "metadata": {},
   "source": [
    "## Collaborative Filtering: User based"
   ]
  },
  {
   "cell_type": "code",
   "execution_count": 420,
   "id": "5eb67d26",
   "metadata": {},
   "outputs": [
    {
     "name": "stdout",
     "output_type": "stream",
     "text": [
      "(386, 4173)\n",
      "(97, 4173)\n"
     ]
    }
   ],
   "source": [
    "listado_completo,users_predictions,ratings_train, ratings_test, sim_matrix=predict_collaborative_filtering_ser_based(\n",
    "    df_matrix.values, \"Photophobia\",10)"
   ]
  },
  {
   "cell_type": "code",
   "execution_count": 421,
   "id": "10577550",
   "metadata": {},
   "outputs": [
    {
     "data": {
      "text/plain": [
       "[[2724, 'Síndrome de Jalili', 0.553900622368422, 'Muy frecuente (99-80%)'],\n",
       " [96,\n",
       "  'Albinismo oculocutáneo tipo 1A',\n",
       "  0.5563920640894137,\n",
       "  'Muy frecuente (99-80%)'],\n",
       " [423, 'Cistinosis', 0.5585931757971797, 'Muy frecuente (99-80%)'],\n",
       " [94, 'Albinismo oculo-cutáneo', 0.5710903650989095, 'Muy frecuente (99-80%)'],\n",
       " [1939, 'Mucolipidosis tipo IV', 0.5811981856261854, 'Muy frecuente (99-80%)'],\n",
       " [2708,\n",
       "  'Síndrome de Hermansky-Pudlak',\n",
       "  0.5838646553679144,\n",
       "  'Frecuente (79-30%)'],\n",
       " [101,\n",
       "  'Albinismo oculocutáneo tipo 5',\n",
       "  0.6180678664196122,\n",
       "  'Obligatorio (100%)'],\n",
       " [2324, 'Retinosis pigmentaria', 0.655322038459253, 'Muy frecuente (99-80%)'],\n",
       " [3470,\n",
       "  'Síndrome de ictiosis folicular-alopecia-fotofobia',\n",
       "  0.6916799958704494,\n",
       "  'Muy frecuente (99-80%)'],\n",
       " [1044, 'Enfermedad de Behçet', 0.7292557908579722, 'Muy frecuente (99-80%)']]"
      ]
     },
     "execution_count": 421,
     "metadata": {},
     "output_type": "execute_result"
    }
   ],
   "source": [
    "listado_completo"
   ]
  },
  {
   "cell_type": "code",
   "execution_count": 422,
   "id": "c10bcc5f",
   "metadata": {},
   "outputs": [
    {
     "data": {
      "text/plain": [
       "3.0554792369867765"
      ]
     },
     "execution_count": 422,
     "metadata": {},
     "output_type": "execute_result"
    }
   ],
   "source": [
    "get_mse(users_predictions, ratings_train)"
   ]
  },
  {
   "cell_type": "code",
   "execution_count": 423,
   "id": "830537f5",
   "metadata": {},
   "outputs": [
    {
     "data": {
      "text/plain": [
       "3.098369946008622"
      ]
     },
     "execution_count": 423,
     "metadata": {},
     "output_type": "execute_result"
    }
   ],
   "source": [
    "# Realizo las predicciones para el test set\n",
    "users_predictions_test = sim_matrix.dot(df_matrix.values) / np.array([np.abs(sim_matrix).sum(axis=1)]).T\n",
    "users_predictions_test = users_predictions_test[386:483,:]\n",
    " \n",
    "get_mse(users_predictions_test, ratings_test)"
   ]
  },
  {
   "cell_type": "code",
   "execution_count": 425,
   "id": "0643c34c",
   "metadata": {},
   "outputs": [
    {
     "data": {
      "text/html": [
       "<div>\n",
       "<style scoped>\n",
       "    .dataframe tbody tr th:only-of-type {\n",
       "        vertical-align: middle;\n",
       "    }\n",
       "\n",
       "    .dataframe tbody tr th {\n",
       "        vertical-align: top;\n",
       "    }\n",
       "\n",
       "    .dataframe thead th {\n",
       "        text-align: right;\n",
       "    }\n",
       "</style>\n",
       "<table border=\"1\" class=\"dataframe\">\n",
       "  <thead>\n",
       "    <tr style=\"text-align: right;\">\n",
       "      <th></th>\n",
       "      <th>Enfermedad</th>\n",
       "      <th>Sintoma</th>\n",
       "      <th>Frecuencia</th>\n",
       "    </tr>\n",
       "  </thead>\n",
       "  <tbody>\n",
       "    <tr>\n",
       "      <th>30096</th>\n",
       "      <td>Albinismo oculocutáneo tipo 1A</td>\n",
       "      <td>Visual impairment</td>\n",
       "      <td>Frecuente (79-30%)</td>\n",
       "    </tr>\n",
       "    <tr>\n",
       "      <th>30098</th>\n",
       "      <td>Albinismo oculocutáneo tipo 1A</td>\n",
       "      <td>Photophobia</td>\n",
       "      <td>Muy frecuente (99-80%)</td>\n",
       "    </tr>\n",
       "    <tr>\n",
       "      <th>30099</th>\n",
       "      <td>Albinismo oculocutáneo tipo 1A</td>\n",
       "      <td>Nystagmus</td>\n",
       "      <td>Muy frecuente (99-80%)</td>\n",
       "    </tr>\n",
       "    <tr>\n",
       "      <th>30101</th>\n",
       "      <td>Albinismo oculocutáneo tipo 1A</td>\n",
       "      <td>Hyperkeratosis</td>\n",
       "      <td>Ocasional (29-5%)</td>\n",
       "    </tr>\n",
       "    <tr>\n",
       "      <th>30102</th>\n",
       "      <td>Albinismo oculocutáneo tipo 1A</td>\n",
       "      <td>Hypopigmentation of the skin</td>\n",
       "      <td>Muy frecuente (99-80%)</td>\n",
       "    </tr>\n",
       "    <tr>\n",
       "      <th>30104</th>\n",
       "      <td>Albinismo oculocutáneo tipo 1A</td>\n",
       "      <td>Thickened skin</td>\n",
       "      <td>Ocasional (29-5%)</td>\n",
       "    </tr>\n",
       "    <tr>\n",
       "      <th>30108</th>\n",
       "      <td>Albinismo oculocutáneo tipo 1A</td>\n",
       "      <td>Hypopigmentation of hair</td>\n",
       "      <td>Muy frecuente (99-80%)</td>\n",
       "    </tr>\n",
       "  </tbody>\n",
       "</table>\n",
       "</div>"
      ],
      "text/plain": [
       "                           Enfermedad                       Sintoma  \\\n",
       "30096  Albinismo oculocutáneo tipo 1A             Visual impairment   \n",
       "30098  Albinismo oculocutáneo tipo 1A                   Photophobia   \n",
       "30099  Albinismo oculocutáneo tipo 1A                     Nystagmus   \n",
       "30101  Albinismo oculocutáneo tipo 1A                Hyperkeratosis   \n",
       "30102  Albinismo oculocutáneo tipo 1A  Hypopigmentation of the skin   \n",
       "30104  Albinismo oculocutáneo tipo 1A                Thickened skin   \n",
       "30108  Albinismo oculocutáneo tipo 1A      Hypopigmentation of hair   \n",
       "\n",
       "                   Frecuencia  \n",
       "30096      Frecuente (79-30%)  \n",
       "30098  Muy frecuente (99-80%)  \n",
       "30099  Muy frecuente (99-80%)  \n",
       "30101       Ocasional (29-5%)  \n",
       "30102  Muy frecuente (99-80%)  \n",
       "30104       Ocasional (29-5%)  \n",
       "30108  Muy frecuente (99-80%)  "
      ]
     },
     "execution_count": 425,
     "metadata": {},
     "output_type": "execute_result"
    }
   ],
   "source": [
    "df_EnfeySinto_select[df_EnfeySinto_select[\"Enfermedad\"]==\"Albinismo oculocutáneo tipo 1A\"]"
   ]
  },
  {
   "cell_type": "markdown",
   "id": "2bf60821",
   "metadata": {},
   "source": [
    "mean squared error"
   ]
  },
  {
   "cell_type": "code",
   "execution_count": null,
   "id": "63d7b1ef",
   "metadata": {},
   "outputs": [],
   "source": [
    "\n"
   ]
  },
  {
   "cell_type": "markdown",
   "id": "82284045",
   "metadata": {},
   "source": [
    "## Similitud entre Usuarios: Correlación de Pearson"
   ]
  },
  {
   "cell_type": "markdown",
   "id": "be0bdd30",
   "metadata": {},
   "source": [
    "SOLO UN SINTOMA"
   ]
  },
  {
   "cell_type": "code",
   "execution_count": 446,
   "id": "a44436f0",
   "metadata": {},
   "outputs": [],
   "source": [
    "listado_completo, vector_enfermedades_scoring, model=predict_similitud_entre_usuarios_by_pearson(\n",
    "    df_train_generated,\"Photophobia\", 10)\n"
   ]
  },
  {
   "cell_type": "code",
   "execution_count": 447,
   "id": "602316d5",
   "metadata": {},
   "outputs": [
    {
     "data": {
      "text/plain": [
       "[[101,\n",
       "  'Albinismo oculocutáneo tipo 5',\n",
       "  0.5845658288799815,\n",
       "  'Obligatorio (100%)'],\n",
       " [94, 'Albinismo oculo-cutáneo', 0.5725874709713061, 'Muy frecuente (99-80%)'],\n",
       " [1044, 'Enfermedad de Behçet', 0.5455766773484193, 'Muy frecuente (99-80%)'],\n",
       " [95,\n",
       "  'Albinismo oculocutáneo tipo 1',\n",
       "  0.5274315437182189,\n",
       "  'Muy frecuente (99-80%)'],\n",
       " [96,\n",
       "  'Albinismo oculocutáneo tipo 1A',\n",
       "  0.5017100124867448,\n",
       "  'Muy frecuente (99-80%)'],\n",
       " [2593,\n",
       "  'Síndrome de Chédiak-Higashi',\n",
       "  0.48872445367614276,\n",
       "  'Frecuente (79-30%)'],\n",
       " [2708,\n",
       "  'Síndrome de Hermansky-Pudlak',\n",
       "  0.48553495038836814,\n",
       "  'Frecuente (79-30%)'],\n",
       " [2324, 'Retinosis pigmentaria', 0.4847117510401041, 'Muy frecuente (99-80%)'],\n",
       " [100,\n",
       "  'Albinismo oculocutáneo tipo 4',\n",
       "  0.4745922978532195,\n",
       "  'Frecuente (79-30%)'],\n",
       " [2724, 'Síndrome de Jalili', 0.4723351533743384, 'Muy frecuente (99-80%)']]"
      ]
     },
     "execution_count": 447,
     "metadata": {},
     "output_type": "execute_result"
    }
   ],
   "source": [
    "listado_completo"
   ]
  },
  {
   "cell_type": "code",
   "execution_count": 448,
   "id": "90f733c2",
   "metadata": {},
   "outputs": [
    {
     "data": {
      "text/plain": [
       "101     0.584566\n",
       "94      0.572587\n",
       "1044    0.545577\n",
       "95      0.527432\n",
       "96      0.501710\n",
       "2593    0.488724\n",
       "2708    0.485535\n",
       "2324    0.484712\n",
       "100     0.474592\n",
       "2724    0.472335\n",
       "Name: 360, dtype: float64"
      ]
     },
     "execution_count": 448,
     "metadata": {},
     "output_type": "execute_result"
    }
   ],
   "source": [
    "vector_enfermedades_scoring"
   ]
  },
  {
   "cell_type": "code",
   "execution_count": null,
   "id": "54bf65d3",
   "metadata": {},
   "outputs": [],
   "source": []
  },
  {
   "cell_type": "code",
   "execution_count": 433,
   "id": "2ff80ca1",
   "metadata": {},
   "outputs": [
    {
     "data": {
      "text/html": [
       "<div>\n",
       "<style scoped>\n",
       "    .dataframe tbody tr th:only-of-type {\n",
       "        vertical-align: middle;\n",
       "    }\n",
       "\n",
       "    .dataframe tbody tr th {\n",
       "        vertical-align: top;\n",
       "    }\n",
       "\n",
       "    .dataframe thead th {\n",
       "        text-align: right;\n",
       "    }\n",
       "</style>\n",
       "<table border=\"1\" class=\"dataframe\">\n",
       "  <thead>\n",
       "    <tr style=\"text-align: right;\">\n",
       "      <th></th>\n",
       "      <th>Enfermedad</th>\n",
       "      <th>Sintoma</th>\n",
       "      <th>Frecuencia</th>\n",
       "    </tr>\n",
       "  </thead>\n",
       "  <tbody>\n",
       "    <tr>\n",
       "      <th>32720</th>\n",
       "      <td>Linfoma de Hodgkin</td>\n",
       "      <td>Hyperhidrosis</td>\n",
       "      <td>Frecuente (79-30%)</td>\n",
       "    </tr>\n",
       "    <tr>\n",
       "      <th>32721</th>\n",
       "      <td>Linfoma de Hodgkin</td>\n",
       "      <td>Pruritus</td>\n",
       "      <td>Frecuente (79-30%)</td>\n",
       "    </tr>\n",
       "    <tr>\n",
       "      <th>32722</th>\n",
       "      <td>Linfoma de Hodgkin</td>\n",
       "      <td>Ataxia</td>\n",
       "      <td>Ocasional (29-5%)</td>\n",
       "    </tr>\n",
       "    <tr>\n",
       "      <th>32723</th>\n",
       "      <td>Linfoma de Hodgkin</td>\n",
       "      <td>Splenomegaly</td>\n",
       "      <td>Ocasional (29-5%)</td>\n",
       "    </tr>\n",
       "    <tr>\n",
       "      <th>32724</th>\n",
       "      <td>Linfoma de Hodgkin</td>\n",
       "      <td>Weight loss</td>\n",
       "      <td>Frecuente (79-30%)</td>\n",
       "    </tr>\n",
       "    <tr>\n",
       "      <th>32726</th>\n",
       "      <td>Linfoma de Hodgkin</td>\n",
       "      <td>Fever</td>\n",
       "      <td>Frecuente (79-30%)</td>\n",
       "    </tr>\n",
       "    <tr>\n",
       "      <th>32727</th>\n",
       "      <td>Linfoma de Hodgkin</td>\n",
       "      <td>Anorexia</td>\n",
       "      <td>Frecuente (79-30%)</td>\n",
       "    </tr>\n",
       "    <tr>\n",
       "      <th>32728</th>\n",
       "      <td>Linfoma de Hodgkin</td>\n",
       "      <td>Dyspnea</td>\n",
       "      <td>Ocasional (29-5%)</td>\n",
       "    </tr>\n",
       "    <tr>\n",
       "      <th>32729</th>\n",
       "      <td>Linfoma de Hodgkin</td>\n",
       "      <td>Hemoptysis</td>\n",
       "      <td>Ocasional (29-5%)</td>\n",
       "    </tr>\n",
       "    <tr>\n",
       "      <th>32730</th>\n",
       "      <td>Linfoma de Hodgkin</td>\n",
       "      <td>Hepatomegaly</td>\n",
       "      <td>Ocasional (29-5%)</td>\n",
       "    </tr>\n",
       "    <tr>\n",
       "      <th>32731</th>\n",
       "      <td>Linfoma de Hodgkin</td>\n",
       "      <td>Headache</td>\n",
       "      <td>Ocasional (29-5%)</td>\n",
       "    </tr>\n",
       "    <tr>\n",
       "      <th>32732</th>\n",
       "      <td>Linfoma de Hodgkin</td>\n",
       "      <td>Bone pain</td>\n",
       "      <td>Ocasional (29-5%)</td>\n",
       "    </tr>\n",
       "    <tr>\n",
       "      <th>32733</th>\n",
       "      <td>Linfoma de Hodgkin</td>\n",
       "      <td>Neoplasm</td>\n",
       "      <td>Ocasional (29-5%)</td>\n",
       "    </tr>\n",
       "    <tr>\n",
       "      <th>32735</th>\n",
       "      <td>Linfoma de Hodgkin</td>\n",
       "      <td>Lymphadenopathy</td>\n",
       "      <td>Muy frecuente (99-80%)</td>\n",
       "    </tr>\n",
       "    <tr>\n",
       "      <th>32736</th>\n",
       "      <td>Linfoma de Hodgkin</td>\n",
       "      <td>Immunodeficiency</td>\n",
       "      <td>Muy frecuente (99-80%)</td>\n",
       "    </tr>\n",
       "    <tr>\n",
       "      <th>32737</th>\n",
       "      <td>Linfoma de Hodgkin</td>\n",
       "      <td>Peripheral neuropathy</td>\n",
       "      <td>Ocasional (29-5%)</td>\n",
       "    </tr>\n",
       "    <tr>\n",
       "      <th>32738</th>\n",
       "      <td>Linfoma de Hodgkin</td>\n",
       "      <td>Fatigue</td>\n",
       "      <td>Muy frecuente (99-80%)</td>\n",
       "    </tr>\n",
       "    <tr>\n",
       "      <th>32739</th>\n",
       "      <td>Linfoma de Hodgkin</td>\n",
       "      <td>Cough</td>\n",
       "      <td>Frecuente (79-30%)</td>\n",
       "    </tr>\n",
       "    <tr>\n",
       "      <th>32740</th>\n",
       "      <td>Linfoma de Hodgkin</td>\n",
       "      <td>Chest pain</td>\n",
       "      <td>Frecuente (79-30%)</td>\n",
       "    </tr>\n",
       "  </tbody>\n",
       "</table>\n",
       "</div>"
      ],
      "text/plain": [
       "               Enfermedad                Sintoma              Frecuencia\n",
       "32720  Linfoma de Hodgkin          Hyperhidrosis      Frecuente (79-30%)\n",
       "32721  Linfoma de Hodgkin               Pruritus      Frecuente (79-30%)\n",
       "32722  Linfoma de Hodgkin                 Ataxia       Ocasional (29-5%)\n",
       "32723  Linfoma de Hodgkin           Splenomegaly       Ocasional (29-5%)\n",
       "32724  Linfoma de Hodgkin            Weight loss      Frecuente (79-30%)\n",
       "32726  Linfoma de Hodgkin                  Fever      Frecuente (79-30%)\n",
       "32727  Linfoma de Hodgkin               Anorexia      Frecuente (79-30%)\n",
       "32728  Linfoma de Hodgkin                Dyspnea       Ocasional (29-5%)\n",
       "32729  Linfoma de Hodgkin             Hemoptysis       Ocasional (29-5%)\n",
       "32730  Linfoma de Hodgkin           Hepatomegaly       Ocasional (29-5%)\n",
       "32731  Linfoma de Hodgkin               Headache       Ocasional (29-5%)\n",
       "32732  Linfoma de Hodgkin              Bone pain       Ocasional (29-5%)\n",
       "32733  Linfoma de Hodgkin               Neoplasm       Ocasional (29-5%)\n",
       "32735  Linfoma de Hodgkin        Lymphadenopathy  Muy frecuente (99-80%)\n",
       "32736  Linfoma de Hodgkin       Immunodeficiency  Muy frecuente (99-80%)\n",
       "32737  Linfoma de Hodgkin  Peripheral neuropathy       Ocasional (29-5%)\n",
       "32738  Linfoma de Hodgkin                Fatigue  Muy frecuente (99-80%)\n",
       "32739  Linfoma de Hodgkin                  Cough      Frecuente (79-30%)\n",
       "32740  Linfoma de Hodgkin             Chest pain      Frecuente (79-30%)"
      ]
     },
     "execution_count": 433,
     "metadata": {},
     "output_type": "execute_result"
    }
   ],
   "source": [
    "df_EnfeySinto_select[(df_EnfeySinto_select[\"Enfermedad\"]==\"Linfoma de Hodgkin\")]"
   ]
  },
  {
   "cell_type": "code",
   "execution_count": null,
   "id": "e9c74efa",
   "metadata": {},
   "outputs": [],
   "source": []
  },
  {
   "cell_type": "code",
   "execution_count": null,
   "id": "587a7a33",
   "metadata": {},
   "outputs": [],
   "source": []
  },
  {
   "cell_type": "markdown",
   "id": "b77edfac",
   "metadata": {},
   "source": [
    "VAMOS CON MULTI-SINTOMA"
   ]
  },
  {
   "cell_type": "code",
   "execution_count": 428,
   "id": "f5883573",
   "metadata": {},
   "outputs": [],
   "source": [
    "SINTOMAS_EJEMPLO = ['Chest pain','Weight loss','Cough']"
   ]
  },
  {
   "cell_type": "code",
   "execution_count": 429,
   "id": "103bc956",
   "metadata": {},
   "outputs": [
    {
     "data": {
      "text/plain": [
       "{1421, 1696, 1697}"
      ]
     },
     "execution_count": 429,
     "metadata": {},
     "output_type": "execute_result"
    }
   ],
   "source": [
    "sintomas_comunes=trata_sintomas (SINTOMAS_EJEMPLO,df_train_generated)\n",
    "sintomas_comunes"
   ]
  },
  {
   "cell_type": "code",
   "execution_count": 430,
   "id": "d1c1abec",
   "metadata": {},
   "outputs": [
    {
     "name": "stdout",
     "output_type": "stream",
     "text": [
      "[1696    Linfoma de Hodgkin\n",
      "Name: Enfermedad, dtype: object, 1697    Linfoma de Hodgkin clásico\n",
      "Name: Enfermedad, dtype: object, 1421    Granulomatosis con poliangeítis\n",
      "Name: Enfermedad, dtype: object]\n"
     ]
    }
   ],
   "source": [
    "print(saca_enfermedades (sintomas_comunes,df_Enfermedades))"
   ]
  },
  {
   "cell_type": "code",
   "execution_count": null,
   "id": "a539bd93",
   "metadata": {},
   "outputs": [],
   "source": []
  },
  {
   "cell_type": "code",
   "execution_count": null,
   "id": "1531ed44",
   "metadata": {},
   "outputs": [],
   "source": []
  },
  {
   "cell_type": "code",
   "execution_count": null,
   "id": "3d789c95",
   "metadata": {},
   "outputs": [],
   "source": []
  },
  {
   "cell_type": "code",
   "execution_count": 399,
   "id": "84ba48c8",
   "metadata": {},
   "outputs": [],
   "source": [
    "sintoma=\"Photophobia\""
   ]
  },
  {
   "cell_type": "code",
   "execution_count": 400,
   "id": "61460b8e",
   "metadata": {},
   "outputs": [
    {
     "data": {
      "text/plain": [
       "360"
      ]
     },
     "execution_count": 400,
     "metadata": {},
     "output_type": "execute_result"
    }
   ],
   "source": [
    "id_sintoma = df_Sintomas[df_Sintomas['Sintoma'] == sintoma].index.values[0]\n",
    "id_sintoma"
   ]
  },
  {
   "cell_type": "code",
   "execution_count": 401,
   "id": "ed61fcab",
   "metadata": {},
   "outputs": [
    {
     "data": {
      "text/plain": [
       "NearestNeighbors(metric='cosine')"
      ]
     },
     "execution_count": 401,
     "metadata": {},
     "output_type": "execute_result"
    }
   ],
   "source": []
  },
  {
   "cell_type": "code",
   "execution_count": 438,
   "id": "6971de92",
   "metadata": {},
   "outputs": [
    {
     "ename": "ValueError",
     "evalue": "X has 4173 features, but NearestNeighbors is expecting 483 features as input.",
     "output_type": "error",
     "traceback": [
      "\u001b[0;31m---------------------------------------------------------------------------\u001b[0m",
      "\u001b[0;31mValueError\u001b[0m                                Traceback (most recent call last)",
      "Cell \u001b[0;32mIn[438], line 1\u001b[0m\n\u001b[0;32m----> 1\u001b[0m top_k_distances, top_k_users \u001b[38;5;241m=\u001b[39m \u001b[43mmodel\u001b[49m\u001b[38;5;241;43m.\u001b[39;49m\u001b[43mkneighbors\u001b[49m\u001b[43m(\u001b[49m\u001b[43mratings_train\u001b[49m\u001b[43m,\u001b[49m\u001b[43m \u001b[49m\u001b[43mreturn_distance\u001b[49m\u001b[38;5;241;43m=\u001b[39;49m\u001b[38;5;28;43;01mTrue\u001b[39;49;00m\u001b[43m)\u001b[49m\n\u001b[1;32m      2\u001b[0m top_k_distances\u001b[38;5;241m.\u001b[39mshape\n",
      "File \u001b[0;32m/opt/anaconda3/lib/python3.9/site-packages/sklearn/neighbors/_base.py:717\u001b[0m, in \u001b[0;36mKNeighborsMixin.kneighbors\u001b[0;34m(self, X, n_neighbors, return_distance)\u001b[0m\n\u001b[1;32m    715\u001b[0m         X \u001b[38;5;241m=\u001b[39m _check_precomputed(X)\n\u001b[1;32m    716\u001b[0m     \u001b[38;5;28;01melse\u001b[39;00m:\n\u001b[0;32m--> 717\u001b[0m         X \u001b[38;5;241m=\u001b[39m \u001b[38;5;28;43mself\u001b[39;49m\u001b[38;5;241;43m.\u001b[39;49m\u001b[43m_validate_data\u001b[49m\u001b[43m(\u001b[49m\u001b[43mX\u001b[49m\u001b[43m,\u001b[49m\u001b[43m \u001b[49m\u001b[43maccept_sparse\u001b[49m\u001b[38;5;241;43m=\u001b[39;49m\u001b[38;5;124;43m\"\u001b[39;49m\u001b[38;5;124;43mcsr\u001b[39;49m\u001b[38;5;124;43m\"\u001b[39;49m\u001b[43m,\u001b[49m\u001b[43m \u001b[49m\u001b[43mreset\u001b[49m\u001b[38;5;241;43m=\u001b[39;49m\u001b[38;5;28;43;01mFalse\u001b[39;49;00m\u001b[43m)\u001b[49m\n\u001b[1;32m    718\u001b[0m \u001b[38;5;28;01melse\u001b[39;00m:\n\u001b[1;32m    719\u001b[0m     query_is_train \u001b[38;5;241m=\u001b[39m \u001b[38;5;28;01mTrue\u001b[39;00m\n",
      "File \u001b[0;32m/opt/anaconda3/lib/python3.9/site-packages/sklearn/base.py:585\u001b[0m, in \u001b[0;36mBaseEstimator._validate_data\u001b[0;34m(self, X, y, reset, validate_separately, **check_params)\u001b[0m\n\u001b[1;32m    582\u001b[0m     out \u001b[38;5;241m=\u001b[39m X, y\n\u001b[1;32m    584\u001b[0m \u001b[38;5;28;01mif\u001b[39;00m \u001b[38;5;129;01mnot\u001b[39;00m no_val_X \u001b[38;5;129;01mand\u001b[39;00m check_params\u001b[38;5;241m.\u001b[39mget(\u001b[38;5;124m\"\u001b[39m\u001b[38;5;124mensure_2d\u001b[39m\u001b[38;5;124m\"\u001b[39m, \u001b[38;5;28;01mTrue\u001b[39;00m):\n\u001b[0;32m--> 585\u001b[0m     \u001b[38;5;28;43mself\u001b[39;49m\u001b[38;5;241;43m.\u001b[39;49m\u001b[43m_check_n_features\u001b[49m\u001b[43m(\u001b[49m\u001b[43mX\u001b[49m\u001b[43m,\u001b[49m\u001b[43m \u001b[49m\u001b[43mreset\u001b[49m\u001b[38;5;241;43m=\u001b[39;49m\u001b[43mreset\u001b[49m\u001b[43m)\u001b[49m\n\u001b[1;32m    587\u001b[0m \u001b[38;5;28;01mreturn\u001b[39;00m out\n",
      "File \u001b[0;32m/opt/anaconda3/lib/python3.9/site-packages/sklearn/base.py:400\u001b[0m, in \u001b[0;36mBaseEstimator._check_n_features\u001b[0;34m(self, X, reset)\u001b[0m\n\u001b[1;32m    397\u001b[0m     \u001b[38;5;28;01mreturn\u001b[39;00m\n\u001b[1;32m    399\u001b[0m \u001b[38;5;28;01mif\u001b[39;00m n_features \u001b[38;5;241m!=\u001b[39m \u001b[38;5;28mself\u001b[39m\u001b[38;5;241m.\u001b[39mn_features_in_:\n\u001b[0;32m--> 400\u001b[0m     \u001b[38;5;28;01mraise\u001b[39;00m \u001b[38;5;167;01mValueError\u001b[39;00m(\n\u001b[1;32m    401\u001b[0m         \u001b[38;5;124mf\u001b[39m\u001b[38;5;124m\"\u001b[39m\u001b[38;5;124mX has \u001b[39m\u001b[38;5;132;01m{\u001b[39;00mn_features\u001b[38;5;132;01m}\u001b[39;00m\u001b[38;5;124m features, but \u001b[39m\u001b[38;5;132;01m{\u001b[39;00m\u001b[38;5;28mself\u001b[39m\u001b[38;5;241m.\u001b[39m\u001b[38;5;18m__class__\u001b[39m\u001b[38;5;241m.\u001b[39m\u001b[38;5;18m__name__\u001b[39m\u001b[38;5;132;01m}\u001b[39;00m\u001b[38;5;124m \u001b[39m\u001b[38;5;124m\"\u001b[39m\n\u001b[1;32m    402\u001b[0m         \u001b[38;5;124mf\u001b[39m\u001b[38;5;124m\"\u001b[39m\u001b[38;5;124mis expecting \u001b[39m\u001b[38;5;132;01m{\u001b[39;00m\u001b[38;5;28mself\u001b[39m\u001b[38;5;241m.\u001b[39mn_features_in_\u001b[38;5;132;01m}\u001b[39;00m\u001b[38;5;124m features as input.\u001b[39m\u001b[38;5;124m\"\u001b[39m\n\u001b[1;32m    403\u001b[0m     )\n",
      "\u001b[0;31mValueError\u001b[0m: X has 4173 features, but NearestNeighbors is expecting 483 features as input."
     ]
    }
   ],
   "source": [
    "top_k_distances, top_k_users = model.kneighbors(ratings_train, return_distance=True)\n",
    "top_k_distances.shape"
   ]
  },
  {
   "cell_type": "code",
   "execution_count": 403,
   "id": "6d183c12",
   "metadata": {},
   "outputs": [
    {
     "data": {
      "text/plain": [
       "array([0.        , 0.77884975, 0.85882109, 0.86390533, 0.86512184])"
      ]
     },
     "execution_count": 403,
     "metadata": {},
     "output_type": "execute_result"
    }
   ],
   "source": [
    "top_k_distances[id_sintoma]\n"
   ]
  },
  {
   "cell_type": "code",
   "execution_count": 404,
   "id": "70b705a5",
   "metadata": {},
   "outputs": [
    {
     "data": {
      "text/plain": [
       "(386, 5)"
      ]
     },
     "execution_count": 404,
     "metadata": {},
     "output_type": "execute_result"
    }
   ],
   "source": [
    "top_k_users.shape"
   ]
  },
  {
   "cell_type": "code",
   "execution_count": 405,
   "id": "6b949513",
   "metadata": {},
   "outputs": [
    {
     "data": {
      "text/plain": [
       "array([360, 333, 244,  21, 119])"
      ]
     },
     "execution_count": 405,
     "metadata": {},
     "output_type": "execute_result"
    }
   ],
   "source": [
    "res = top_k_users[id_sintoma]\n",
    "res"
   ]
  },
  {
   "cell_type": "code",
   "execution_count": 406,
   "id": "4e490106",
   "metadata": {},
   "outputs": [],
   "source": [
    "users_predicts_k = np.zeros(ratings_train.shape)\n",
    "for i in range(ratings_train.shape[0]):# para cada usuario del conjunto de entrenamiento\n",
    "    users_predicts_k[i,:] = top_k_distances[i].T.dot(ratings_train[top_k_users][i]) / np.array([np.abs(top_k_distances[i].T).sum(axis=0)]).T\n",
    "     "
   ]
  },
  {
   "cell_type": "code",
   "execution_count": 407,
   "id": "ca25ceea",
   "metadata": {},
   "outputs": [
    {
     "name": "stdout",
     "output_type": "stream",
     "text": [
      "96    Albinismo oculocutáneo tipo 4\n",
      "Name: Enfermedad, dtype: object puntaje: 1.2309780199455262\n",
      "90    Albinismo oculo-cutáneo\n",
      "Name: Enfermedad, dtype: object puntaje: 1.2317006933688752\n",
      "2879    Síndrome de Vici\n",
      "Name: Enfermedad, dtype: object puntaje: 1.2547316616150224\n",
      "93    Albinismo oculocutáneo tipo 1B\n",
      "Name: Enfermedad, dtype: object puntaje: 1.2547316616150224\n"
     ]
    }
   ],
   "source": [
    "user0=users_predicts_k.argsort()[id_sintoma]\n",
    "# los tres con mayor puntaje en la predic para este usuario\n",
    "# agrego 4 puesto que uno es mi propio repositorio\n",
    "for aRepo in (user0[-4:]):\n",
    "    selRepo = df_Enfermedades[df_Enfermedades['index'] == aRepo]\n",
    "    print(selRepo['Enfermedad'], 'puntaje:', users_predicts_k[id_sintoma][aRepo])"
   ]
  },
  {
   "cell_type": "code",
   "execution_count": null,
   "id": "664b7e6d",
   "metadata": {},
   "outputs": [],
   "source": [
    " user0=users_predictions.argsort()[id_sintoma]\n",
    "    vector_id_enfermedad_scoring=[]\n",
    "    for i, aRepo in enumerate(user0[-elementos:]):\n",
    "        v=[]\n",
    "        selRepo = df_Enfermedades[df_Enfermedades[\"index\"]==aRepo]\n",
    "  \n",
    "       # print('Enfermedad:', selRepo[\"Enfermedad\"] , 'scoring:', users_predictions[sintoma_ver][aRepo])\n",
    "        v.append (aRepo)\n",
    "        v.append (users_predictions[id_sintoma][aRepo])\n",
    "        vector_id_enfermedad_scoring.append(v)"
   ]
  },
  {
   "cell_type": "code",
   "execution_count": 396,
   "id": "5f0e0d92",
   "metadata": {},
   "outputs": [
    {
     "data": {
      "text/plain": [
       "1.475195256059977"
      ]
     },
     "execution_count": 396,
     "metadata": {},
     "output_type": "execute_result"
    }
   ],
   "source": [
    "get_mse(users_predicts_k, ratings_train)\n",
    "     "
   ]
  },
  {
   "cell_type": "code",
   "execution_count": 397,
   "id": "838c6532",
   "metadata": {},
   "outputs": [
    {
     "data": {
      "text/plain": [
       "2.1039563748166334"
      ]
     },
     "execution_count": 397,
     "metadata": {},
     "output_type": "execute_result"
    }
   ],
   "source": [
    "get_mse(users_predicts_k, ratings_test)\n"
   ]
  },
  {
   "cell_type": "code",
   "execution_count": 408,
   "id": "6af151bb",
   "metadata": {},
   "outputs": [
    {
     "data": {
      "text/html": [
       "<div>\n",
       "<style scoped>\n",
       "    .dataframe tbody tr th:only-of-type {\n",
       "        vertical-align: middle;\n",
       "    }\n",
       "\n",
       "    .dataframe tbody tr th {\n",
       "        vertical-align: top;\n",
       "    }\n",
       "\n",
       "    .dataframe thead th {\n",
       "        text-align: right;\n",
       "    }\n",
       "</style>\n",
       "<table border=\"1\" class=\"dataframe\">\n",
       "  <thead>\n",
       "    <tr style=\"text-align: right;\">\n",
       "      <th></th>\n",
       "      <th>Enfermedad</th>\n",
       "      <th>Sintoma</th>\n",
       "      <th>Frecuencia</th>\n",
       "    </tr>\n",
       "  </thead>\n",
       "  <tbody>\n",
       "    <tr>\n",
       "      <th>15418</th>\n",
       "      <td>Síndrome de Vici</td>\n",
       "      <td>High palate</td>\n",
       "      <td>Frecuente (79-30%)</td>\n",
       "    </tr>\n",
       "    <tr>\n",
       "      <th>15422</th>\n",
       "      <td>Síndrome de Vici</td>\n",
       "      <td>Cataract</td>\n",
       "      <td>Frecuente (79-30%)</td>\n",
       "    </tr>\n",
       "    <tr>\n",
       "      <th>15424</th>\n",
       "      <td>Síndrome de Vici</td>\n",
       "      <td>Nystagmus</td>\n",
       "      <td>Frecuente (79-30%)</td>\n",
       "    </tr>\n",
       "    <tr>\n",
       "      <th>15425</th>\n",
       "      <td>Síndrome de Vici</td>\n",
       "      <td>Optic atrophy</td>\n",
       "      <td>Frecuente (79-30%)</td>\n",
       "    </tr>\n",
       "    <tr>\n",
       "      <th>15426</th>\n",
       "      <td>Síndrome de Vici</td>\n",
       "      <td>Hypopigmentation of the skin</td>\n",
       "      <td>Muy frecuente (99-80%)</td>\n",
       "    </tr>\n",
       "    <tr>\n",
       "      <th>15428</th>\n",
       "      <td>Síndrome de Vici</td>\n",
       "      <td>Intellectual disability</td>\n",
       "      <td>Muy frecuente (99-80%)</td>\n",
       "    </tr>\n",
       "    <tr>\n",
       "      <th>15429</th>\n",
       "      <td>Síndrome de Vici</td>\n",
       "      <td>Seizure</td>\n",
       "      <td>Frecuente (79-30%)</td>\n",
       "    </tr>\n",
       "    <tr>\n",
       "      <th>15430</th>\n",
       "      <td>Síndrome de Vici</td>\n",
       "      <td>Hypotonia</td>\n",
       "      <td>Muy frecuente (99-80%)</td>\n",
       "    </tr>\n",
       "    <tr>\n",
       "      <th>15431</th>\n",
       "      <td>Síndrome de Vici</td>\n",
       "      <td>Global developmental delay</td>\n",
       "      <td>Muy frecuente (99-80%)</td>\n",
       "    </tr>\n",
       "    <tr>\n",
       "      <th>15432</th>\n",
       "      <td>Síndrome de Vici</td>\n",
       "      <td>Agenesis of corpus callosum</td>\n",
       "      <td>Muy frecuente (99-80%)</td>\n",
       "    </tr>\n",
       "    <tr>\n",
       "      <th>15433</th>\n",
       "      <td>Síndrome de Vici</td>\n",
       "      <td>Cerebellar hypoplasia</td>\n",
       "      <td>Frecuente (79-30%)</td>\n",
       "    </tr>\n",
       "    <tr>\n",
       "      <th>15435</th>\n",
       "      <td>Síndrome de Vici</td>\n",
       "      <td>Death in infancy</td>\n",
       "      <td>Muy frecuente (99-80%)</td>\n",
       "    </tr>\n",
       "    <tr>\n",
       "      <th>15436</th>\n",
       "      <td>Síndrome de Vici</td>\n",
       "      <td>Cardiomyopathy</td>\n",
       "      <td>Muy frecuente (99-80%)</td>\n",
       "    </tr>\n",
       "    <tr>\n",
       "      <th>15439</th>\n",
       "      <td>Síndrome de Vici</td>\n",
       "      <td>Recurrent respiratory infections</td>\n",
       "      <td>Muy frecuente (99-80%)</td>\n",
       "    </tr>\n",
       "    <tr>\n",
       "      <th>15440</th>\n",
       "      <td>Síndrome de Vici</td>\n",
       "      <td>EEG abnormality</td>\n",
       "      <td>Muy frecuente (99-80%)</td>\n",
       "    </tr>\n",
       "    <tr>\n",
       "      <th>15442</th>\n",
       "      <td>Síndrome de Vici</td>\n",
       "      <td>Recurrent infections</td>\n",
       "      <td>Muy frecuente (99-80%)</td>\n",
       "    </tr>\n",
       "    <tr>\n",
       "      <th>15444</th>\n",
       "      <td>Síndrome de Vici</td>\n",
       "      <td>Short stature</td>\n",
       "      <td>Muy frecuente (99-80%)</td>\n",
       "    </tr>\n",
       "    <tr>\n",
       "      <th>15448</th>\n",
       "      <td>Síndrome de Vici</td>\n",
       "      <td>Abnormality of retinal pigmentation</td>\n",
       "      <td>Muy frecuente (99-80%)</td>\n",
       "    </tr>\n",
       "  </tbody>\n",
       "</table>\n",
       "</div>"
      ],
      "text/plain": [
       "             Enfermedad                              Sintoma  \\\n",
       "15418  Síndrome de Vici                          High palate   \n",
       "15422  Síndrome de Vici                             Cataract   \n",
       "15424  Síndrome de Vici                            Nystagmus   \n",
       "15425  Síndrome de Vici                        Optic atrophy   \n",
       "15426  Síndrome de Vici         Hypopigmentation of the skin   \n",
       "15428  Síndrome de Vici              Intellectual disability   \n",
       "15429  Síndrome de Vici                              Seizure   \n",
       "15430  Síndrome de Vici                            Hypotonia   \n",
       "15431  Síndrome de Vici           Global developmental delay   \n",
       "15432  Síndrome de Vici          Agenesis of corpus callosum   \n",
       "15433  Síndrome de Vici                Cerebellar hypoplasia   \n",
       "15435  Síndrome de Vici                     Death in infancy   \n",
       "15436  Síndrome de Vici                       Cardiomyopathy   \n",
       "15439  Síndrome de Vici     Recurrent respiratory infections   \n",
       "15440  Síndrome de Vici                      EEG abnormality   \n",
       "15442  Síndrome de Vici                 Recurrent infections   \n",
       "15444  Síndrome de Vici                        Short stature   \n",
       "15448  Síndrome de Vici  Abnormality of retinal pigmentation   \n",
       "\n",
       "                   Frecuencia  \n",
       "15418      Frecuente (79-30%)  \n",
       "15422      Frecuente (79-30%)  \n",
       "15424      Frecuente (79-30%)  \n",
       "15425      Frecuente (79-30%)  \n",
       "15426  Muy frecuente (99-80%)  \n",
       "15428  Muy frecuente (99-80%)  \n",
       "15429      Frecuente (79-30%)  \n",
       "15430  Muy frecuente (99-80%)  \n",
       "15431  Muy frecuente (99-80%)  \n",
       "15432  Muy frecuente (99-80%)  \n",
       "15433      Frecuente (79-30%)  \n",
       "15435  Muy frecuente (99-80%)  \n",
       "15436  Muy frecuente (99-80%)  \n",
       "15439  Muy frecuente (99-80%)  \n",
       "15440  Muy frecuente (99-80%)  \n",
       "15442  Muy frecuente (99-80%)  \n",
       "15444  Muy frecuente (99-80%)  \n",
       "15448  Muy frecuente (99-80%)  "
      ]
     },
     "execution_count": 408,
     "metadata": {},
     "output_type": "execute_result"
    }
   ],
   "source": [
    "df_EnfeySinto_select[(df_EnfeySinto_select[\"Enfermedad\"]==\"Síndrome de Vici\")]"
   ]
  },
  {
   "cell_type": "code",
   "execution_count": null,
   "id": "44e9eae0",
   "metadata": {},
   "outputs": [],
   "source": [
    "\n"
   ]
  },
  {
   "cell_type": "code",
   "execution_count": null,
   "id": "ed9aefad",
   "metadata": {},
   "outputs": [],
   "source": [
    "\n"
   ]
  },
  {
   "cell_type": "code",
   "execution_count": null,
   "id": "8fb950fb",
   "metadata": {},
   "outputs": [],
   "source": []
  },
  {
   "cell_type": "code",
   "execution_count": null,
   "id": "4ca3d230",
   "metadata": {},
   "outputs": [],
   "source": []
  },
  {
   "cell_type": "code",
   "execution_count": null,
   "id": "a18dba97",
   "metadata": {},
   "outputs": [],
   "source": []
  },
  {
   "cell_type": "code",
   "execution_count": null,
   "id": "cd233117",
   "metadata": {},
   "outputs": [],
   "source": []
  },
  {
   "cell_type": "code",
   "execution_count": null,
   "id": "b6df72b3",
   "metadata": {},
   "outputs": [],
   "source": []
  },
  {
   "cell_type": "code",
   "execution_count": null,
   "id": "d20d5e2f",
   "metadata": {},
   "outputs": [],
   "source": []
  },
  {
   "cell_type": "code",
   "execution_count": null,
   "id": "b20d1c1b",
   "metadata": {},
   "outputs": [],
   "source": []
  },
  {
   "cell_type": "code",
   "execution_count": null,
   "id": "62ce9203",
   "metadata": {},
   "outputs": [],
   "source": []
  },
  {
   "cell_type": "code",
   "execution_count": null,
   "id": "9ce3af4b",
   "metadata": {},
   "outputs": [],
   "source": []
  },
  {
   "cell_type": "code",
   "execution_count": null,
   "id": "53400582",
   "metadata": {},
   "outputs": [],
   "source": []
  },
  {
   "cell_type": "code",
   "execution_count": null,
   "id": "029f66d0",
   "metadata": {},
   "outputs": [],
   "source": []
  },
  {
   "cell_type": "code",
   "execution_count": null,
   "id": "46ca4ff5",
   "metadata": {},
   "outputs": [],
   "source": []
  },
  {
   "cell_type": "code",
   "execution_count": null,
   "id": "7b37503f",
   "metadata": {},
   "outputs": [],
   "source": []
  },
  {
   "cell_type": "code",
   "execution_count": null,
   "id": "da462a72",
   "metadata": {},
   "outputs": [],
   "source": []
  },
  {
   "cell_type": "code",
   "execution_count": null,
   "id": "46f9b949",
   "metadata": {},
   "outputs": [],
   "source": []
  },
  {
   "cell_type": "code",
   "execution_count": null,
   "id": "cb6275b7",
   "metadata": {},
   "outputs": [],
   "source": []
  },
  {
   "cell_type": "code",
   "execution_count": null,
   "id": "5797ca25",
   "metadata": {},
   "outputs": [],
   "source": []
  },
  {
   "cell_type": "code",
   "execution_count": null,
   "id": "3c3864bb",
   "metadata": {},
   "outputs": [],
   "source": []
  },
  {
   "cell_type": "code",
   "execution_count": null,
   "id": "4f7c3fc2",
   "metadata": {},
   "outputs": [],
   "source": []
  },
  {
   "cell_type": "code",
   "execution_count": null,
   "id": "a66f72b0",
   "metadata": {},
   "outputs": [],
   "source": []
  },
  {
   "cell_type": "code",
   "execution_count": null,
   "id": "f3d15ea0",
   "metadata": {},
   "outputs": [],
   "source": []
  },
  {
   "cell_type": "code",
   "execution_count": null,
   "id": "d34f7afb",
   "metadata": {},
   "outputs": [],
   "source": []
  },
  {
   "cell_type": "code",
   "execution_count": null,
   "id": "adeee6d7",
   "metadata": {},
   "outputs": [],
   "source": []
  },
  {
   "cell_type": "code",
   "execution_count": null,
   "id": "e51f7ccf",
   "metadata": {},
   "outputs": [],
   "source": []
  },
  {
   "cell_type": "code",
   "execution_count": null,
   "id": "68411ae3",
   "metadata": {},
   "outputs": [],
   "source": []
  },
  {
   "cell_type": "code",
   "execution_count": null,
   "id": "4f2127e8",
   "metadata": {},
   "outputs": [],
   "source": []
  },
  {
   "cell_type": "code",
   "execution_count": null,
   "id": "33e99beb",
   "metadata": {},
   "outputs": [],
   "source": []
  },
  {
   "cell_type": "code",
   "execution_count": null,
   "id": "9ac0ea71",
   "metadata": {},
   "outputs": [],
   "source": []
  },
  {
   "cell_type": "code",
   "execution_count": null,
   "id": "5267bbbf",
   "metadata": {},
   "outputs": [],
   "source": [
    "\n"
   ]
  },
  {
   "cell_type": "code",
   "execution_count": null,
   "id": "928ae750",
   "metadata": {},
   "outputs": [],
   "source": []
  },
  {
   "cell_type": "code",
   "execution_count": null,
   "id": "ddef92f2",
   "metadata": {},
   "outputs": [],
   "source": [
    "\n"
   ]
  },
  {
   "cell_type": "code",
   "execution_count": null,
   "id": "46c3ac35",
   "metadata": {},
   "outputs": [],
   "source": []
  },
  {
   "cell_type": "code",
   "execution_count": null,
   "id": "42d84ab0",
   "metadata": {},
   "outputs": [],
   "source": []
  },
  {
   "cell_type": "code",
   "execution_count": null,
   "id": "1ee172f8",
   "metadata": {},
   "outputs": [],
   "source": []
  },
  {
   "cell_type": "code",
   "execution_count": null,
   "id": "c658437f",
   "metadata": {},
   "outputs": [],
   "source": []
  },
  {
   "cell_type": "code",
   "execution_count": null,
   "id": "a7c8e4c0",
   "metadata": {},
   "outputs": [],
   "source": []
  },
  {
   "cell_type": "code",
   "execution_count": null,
   "id": "0b54f2ba",
   "metadata": {},
   "outputs": [],
   "source": []
  },
  {
   "cell_type": "code",
   "execution_count": null,
   "id": "3c4fc697",
   "metadata": {},
   "outputs": [],
   "source": []
  },
  {
   "cell_type": "code",
   "execution_count": null,
   "id": "5b675cf0",
   "metadata": {},
   "outputs": [],
   "source": []
  },
  {
   "cell_type": "code",
   "execution_count": null,
   "id": "60aa5ce3",
   "metadata": {},
   "outputs": [],
   "source": [
    "\n"
   ]
  },
  {
   "cell_type": "code",
   "execution_count": null,
   "id": "4a208c53",
   "metadata": {},
   "outputs": [],
   "source": []
  },
  {
   "cell_type": "code",
   "execution_count": null,
   "id": "e12be658",
   "metadata": {},
   "outputs": [],
   "source": []
  },
  {
   "cell_type": "code",
   "execution_count": null,
   "id": "8a2ef273",
   "metadata": {},
   "outputs": [],
   "source": []
  },
  {
   "cell_type": "code",
   "execution_count": null,
   "id": "ad929f23",
   "metadata": {},
   "outputs": [],
   "source": []
  },
  {
   "cell_type": "code",
   "execution_count": null,
   "id": "c97ab859",
   "metadata": {},
   "outputs": [],
   "source": []
  },
  {
   "cell_type": "code",
   "execution_count": null,
   "id": "a211ddcd",
   "metadata": {},
   "outputs": [],
   "source": []
  },
  {
   "cell_type": "code",
   "execution_count": null,
   "id": "5da5a145",
   "metadata": {},
   "outputs": [],
   "source": []
  },
  {
   "cell_type": "code",
   "execution_count": null,
   "id": "139d66ce",
   "metadata": {},
   "outputs": [],
   "source": []
  },
  {
   "cell_type": "code",
   "execution_count": null,
   "id": "51637286",
   "metadata": {},
   "outputs": [],
   "source": []
  },
  {
   "cell_type": "code",
   "execution_count": null,
   "id": "c07bf443",
   "metadata": {},
   "outputs": [],
   "source": []
  },
  {
   "cell_type": "code",
   "execution_count": null,
   "id": "abf247ec",
   "metadata": {},
   "outputs": [],
   "source": []
  },
  {
   "cell_type": "code",
   "execution_count": null,
   "id": "7b695d24",
   "metadata": {},
   "outputs": [],
   "source": []
  },
  {
   "cell_type": "code",
   "execution_count": null,
   "id": "d75568c8",
   "metadata": {},
   "outputs": [],
   "source": []
  },
  {
   "cell_type": "code",
   "execution_count": null,
   "id": "7f6e994c",
   "metadata": {},
   "outputs": [],
   "source": []
  },
  {
   "cell_type": "code",
   "execution_count": null,
   "id": "32c223b2",
   "metadata": {},
   "outputs": [],
   "source": []
  },
  {
   "cell_type": "code",
   "execution_count": null,
   "id": "badc9933",
   "metadata": {},
   "outputs": [],
   "source": []
  },
  {
   "cell_type": "code",
   "execution_count": null,
   "id": "81acc940",
   "metadata": {},
   "outputs": [],
   "source": []
  },
  {
   "cell_type": "code",
   "execution_count": null,
   "id": "7d7ce6b3",
   "metadata": {},
   "outputs": [],
   "source": []
  },
  {
   "cell_type": "code",
   "execution_count": null,
   "id": "c115678e",
   "metadata": {},
   "outputs": [],
   "source": []
  },
  {
   "cell_type": "code",
   "execution_count": null,
   "id": "023ac10f",
   "metadata": {},
   "outputs": [],
   "source": []
  },
  {
   "cell_type": "code",
   "execution_count": null,
   "id": "141e3396",
   "metadata": {},
   "outputs": [],
   "source": []
  },
  {
   "cell_type": "code",
   "execution_count": null,
   "id": "cd28c23f",
   "metadata": {},
   "outputs": [],
   "source": []
  },
  {
   "cell_type": "code",
   "execution_count": null,
   "id": "150672f4",
   "metadata": {},
   "outputs": [],
   "source": []
  },
  {
   "cell_type": "code",
   "execution_count": null,
   "id": "5c3dcac2",
   "metadata": {},
   "outputs": [],
   "source": []
  },
  {
   "cell_type": "code",
   "execution_count": null,
   "id": "b7dc5588",
   "metadata": {},
   "outputs": [],
   "source": []
  },
  {
   "cell_type": "code",
   "execution_count": null,
   "id": "d3b27455",
   "metadata": {},
   "outputs": [],
   "source": []
  },
  {
   "cell_type": "code",
   "execution_count": null,
   "id": "d76c2fd4",
   "metadata": {},
   "outputs": [],
   "source": []
  },
  {
   "cell_type": "code",
   "execution_count": null,
   "id": "63df4629",
   "metadata": {},
   "outputs": [],
   "source": []
  },
  {
   "cell_type": "code",
   "execution_count": null,
   "id": "dfe18911",
   "metadata": {},
   "outputs": [],
   "source": []
  },
  {
   "cell_type": "code",
   "execution_count": null,
   "id": "5be7e8f1",
   "metadata": {},
   "outputs": [],
   "source": []
  },
  {
   "cell_type": "code",
   "execution_count": null,
   "id": "166bcac5",
   "metadata": {},
   "outputs": [],
   "source": []
  },
  {
   "cell_type": "code",
   "execution_count": null,
   "id": "66a695e6",
   "metadata": {},
   "outputs": [],
   "source": []
  },
  {
   "cell_type": "code",
   "execution_count": null,
   "id": "b3070876",
   "metadata": {},
   "outputs": [],
   "source": []
  },
  {
   "cell_type": "code",
   "execution_count": null,
   "id": "32f0bf39",
   "metadata": {},
   "outputs": [],
   "source": []
  },
  {
   "cell_type": "code",
   "execution_count": null,
   "id": "e1382dc1",
   "metadata": {},
   "outputs": [],
   "source": []
  },
  {
   "cell_type": "code",
   "execution_count": null,
   "id": "2328edb2",
   "metadata": {},
   "outputs": [],
   "source": []
  },
  {
   "cell_type": "code",
   "execution_count": null,
   "id": "2c194657",
   "metadata": {},
   "outputs": [],
   "source": []
  },
  {
   "cell_type": "code",
   "execution_count": null,
   "id": "7fcc5577",
   "metadata": {},
   "outputs": [],
   "source": []
  },
  {
   "cell_type": "code",
   "execution_count": null,
   "id": "fb53cd47",
   "metadata": {},
   "outputs": [],
   "source": []
  },
  {
   "cell_type": "code",
   "execution_count": null,
   "id": "f2e6ce4c",
   "metadata": {},
   "outputs": [],
   "source": []
  },
  {
   "cell_type": "code",
   "execution_count": null,
   "id": "34085c55",
   "metadata": {},
   "outputs": [],
   "source": []
  },
  {
   "cell_type": "code",
   "execution_count": null,
   "id": "9103e125",
   "metadata": {},
   "outputs": [],
   "source": []
  },
  {
   "cell_type": "code",
   "execution_count": null,
   "id": "6726269c",
   "metadata": {},
   "outputs": [],
   "source": [
    "\n",
    "     "
   ]
  },
  {
   "cell_type": "code",
   "execution_count": null,
   "id": "f9fd46a1",
   "metadata": {},
   "outputs": [],
   "source": []
  },
  {
   "cell_type": "code",
   "execution_count": null,
   "id": "b28e3d89",
   "metadata": {},
   "outputs": [],
   "source": [
    "\n",
    "\n",
    "     "
   ]
  },
  {
   "cell_type": "code",
   "execution_count": null,
   "id": "49b33127",
   "metadata": {},
   "outputs": [],
   "source": [
    "\n"
   ]
  },
  {
   "cell_type": "code",
   "execution_count": null,
   "id": "e8e6c272",
   "metadata": {},
   "outputs": [],
   "source": []
  },
  {
   "cell_type": "code",
   "execution_count": null,
   "id": "267267b8",
   "metadata": {},
   "outputs": [],
   "source": []
  },
  {
   "cell_type": "code",
   "execution_count": null,
   "id": "97538c37",
   "metadata": {},
   "outputs": [],
   "source": []
  },
  {
   "cell_type": "code",
   "execution_count": null,
   "id": "4cf8a555",
   "metadata": {},
   "outputs": [],
   "source": []
  },
  {
   "cell_type": "code",
   "execution_count": null,
   "id": "17044078",
   "metadata": {},
   "outputs": [],
   "source": []
  },
  {
   "cell_type": "code",
   "execution_count": null,
   "id": "19051641",
   "metadata": {},
   "outputs": [],
   "source": []
  },
  {
   "cell_type": "code",
   "execution_count": null,
   "id": "5455b83c",
   "metadata": {},
   "outputs": [],
   "source": []
  },
  {
   "cell_type": "code",
   "execution_count": null,
   "id": "c9d920a3",
   "metadata": {},
   "outputs": [],
   "source": []
  },
  {
   "cell_type": "code",
   "execution_count": null,
   "id": "1d85e81f",
   "metadata": {},
   "outputs": [],
   "source": []
  },
  {
   "cell_type": "code",
   "execution_count": null,
   "id": "ac4644d7",
   "metadata": {},
   "outputs": [],
   "source": []
  },
  {
   "cell_type": "code",
   "execution_count": null,
   "id": "783e0f31",
   "metadata": {},
   "outputs": [],
   "source": []
  },
  {
   "cell_type": "code",
   "execution_count": null,
   "id": "38ca5fcf",
   "metadata": {},
   "outputs": [],
   "source": []
  },
  {
   "cell_type": "code",
   "execution_count": null,
   "id": "8223ec58",
   "metadata": {},
   "outputs": [],
   "source": []
  },
  {
   "cell_type": "code",
   "execution_count": null,
   "id": "87f50714",
   "metadata": {},
   "outputs": [],
   "source": []
  },
  {
   "cell_type": "code",
   "execution_count": null,
   "id": "18881ee7",
   "metadata": {},
   "outputs": [],
   "source": []
  },
  {
   "cell_type": "code",
   "execution_count": null,
   "id": "b4c750ea",
   "metadata": {},
   "outputs": [],
   "source": []
  },
  {
   "cell_type": "code",
   "execution_count": null,
   "id": "936dff9e",
   "metadata": {},
   "outputs": [],
   "source": [
    "\n"
   ]
  },
  {
   "cell_type": "code",
   "execution_count": null,
   "id": "36781410",
   "metadata": {},
   "outputs": [],
   "source": []
  },
  {
   "cell_type": "code",
   "execution_count": null,
   "id": "9cfcbb3a",
   "metadata": {},
   "outputs": [],
   "source": []
  },
  {
   "cell_type": "code",
   "execution_count": null,
   "id": "173d8b49",
   "metadata": {},
   "outputs": [],
   "source": []
  },
  {
   "cell_type": "code",
   "execution_count": null,
   "id": "78706084",
   "metadata": {},
   "outputs": [],
   "source": []
  },
  {
   "cell_type": "code",
   "execution_count": null,
   "id": "37e837cb",
   "metadata": {},
   "outputs": [],
   "source": []
  },
  {
   "cell_type": "code",
   "execution_count": null,
   "id": "81ef523a",
   "metadata": {},
   "outputs": [],
   "source": []
  },
  {
   "cell_type": "code",
   "execution_count": null,
   "id": "2d9f8459",
   "metadata": {},
   "outputs": [],
   "source": []
  },
  {
   "cell_type": "code",
   "execution_count": null,
   "id": "c8e87516",
   "metadata": {},
   "outputs": [],
   "source": []
  },
  {
   "cell_type": "code",
   "execution_count": null,
   "id": "59255e39",
   "metadata": {},
   "outputs": [],
   "source": []
  },
  {
   "cell_type": "code",
   "execution_count": null,
   "id": "0536f159",
   "metadata": {},
   "outputs": [],
   "source": []
  },
  {
   "cell_type": "code",
   "execution_count": null,
   "id": "8f89ad6c",
   "metadata": {},
   "outputs": [],
   "source": []
  },
  {
   "cell_type": "code",
   "execution_count": null,
   "id": "18e823b9",
   "metadata": {},
   "outputs": [],
   "source": []
  },
  {
   "cell_type": "code",
   "execution_count": null,
   "id": "c1e0b1b0",
   "metadata": {},
   "outputs": [],
   "source": []
  },
  {
   "cell_type": "code",
   "execution_count": null,
   "id": "9008a601",
   "metadata": {},
   "outputs": [],
   "source": []
  },
  {
   "cell_type": "code",
   "execution_count": null,
   "id": "f0e68dad",
   "metadata": {},
   "outputs": [],
   "source": []
  },
  {
   "cell_type": "code",
   "execution_count": null,
   "id": "e0e1cfca",
   "metadata": {},
   "outputs": [],
   "source": []
  },
  {
   "cell_type": "code",
   "execution_count": null,
   "id": "2a80f503",
   "metadata": {},
   "outputs": [],
   "source": []
  },
  {
   "cell_type": "code",
   "execution_count": null,
   "id": "cd46081a",
   "metadata": {},
   "outputs": [],
   "source": []
  },
  {
   "cell_type": "code",
   "execution_count": null,
   "id": "200b0760",
   "metadata": {},
   "outputs": [],
   "source": []
  },
  {
   "cell_type": "code",
   "execution_count": null,
   "id": "16ce5f17",
   "metadata": {},
   "outputs": [],
   "source": []
  },
  {
   "cell_type": "code",
   "execution_count": null,
   "id": "1ba31649",
   "metadata": {},
   "outputs": [],
   "source": []
  },
  {
   "cell_type": "code",
   "execution_count": null,
   "id": "992ce360",
   "metadata": {},
   "outputs": [],
   "source": []
  },
  {
   "cell_type": "code",
   "execution_count": null,
   "id": "76afdc9f",
   "metadata": {},
   "outputs": [],
   "source": []
  },
  {
   "cell_type": "code",
   "execution_count": null,
   "id": "add60b60",
   "metadata": {},
   "outputs": [],
   "source": []
  },
  {
   "cell_type": "code",
   "execution_count": null,
   "id": "94864a68",
   "metadata": {},
   "outputs": [],
   "source": []
  },
  {
   "cell_type": "code",
   "execution_count": null,
   "id": "5df91d34",
   "metadata": {},
   "outputs": [],
   "source": []
  },
  {
   "cell_type": "code",
   "execution_count": null,
   "id": "6740870f",
   "metadata": {},
   "outputs": [],
   "source": []
  },
  {
   "cell_type": "code",
   "execution_count": null,
   "id": "2fee7f48",
   "metadata": {},
   "outputs": [],
   "source": []
  },
  {
   "cell_type": "code",
   "execution_count": null,
   "id": "4c6eb964",
   "metadata": {},
   "outputs": [],
   "source": [
    "import pickle\n",
    "\n",
    "#pickle.dump(model,open(\"modelo19m.pickle\",\"wb\"))\n",
    "model2=pickle.load(open(\"modelo19m.pickle\",\"rb\"))"
   ]
  },
  {
   "cell_type": "code",
   "execution_count": null,
   "id": "2f6bcccc",
   "metadata": {},
   "outputs": [],
   "source": [
    "df_train_generated.to_csv(\"df_train_final.csv\", index=False)"
   ]
  },
  {
   "cell_type": "code",
   "execution_count": null,
   "id": "76dca18d",
   "metadata": {},
   "outputs": [],
   "source": [
    "from joblib import dump\n",
    "dump(model, 'modelo19m.joblib') "
   ]
  },
  {
   "cell_type": "code",
   "execution_count": null,
   "id": "46e36a81",
   "metadata": {},
   "outputs": [],
   "source": [
    "from joblib import load\n",
    "new_model = load('modelo19m.joblib')"
   ]
  },
  {
   "cell_type": "code",
   "execution_count": null,
   "id": "63db9e65",
   "metadata": {},
   "outputs": [],
   "source": [
    "evaluate (new_model, X_test, y_test)"
   ]
  },
  {
   "cell_type": "code",
   "execution_count": null,
   "id": "303bd1e0",
   "metadata": {},
   "outputs": [],
   "source": [
    "param_grid = { \n",
    "    'n_estimators': [200, 500],\n",
    "    'max_features': ['auto', 'sqrt', 'log2'],\n",
    "    'max_depth' : [4,5,6,7,8],\n",
    "    'criterion' :['gini', 'entropy']\n",
    "}"
   ]
  },
  {
   "cell_type": "code",
   "execution_count": null,
   "id": "5dbf0d15",
   "metadata": {},
   "outputs": [],
   "source": [
    "CV_rfc = GridSearchCV(estimator=model, param_grid=param_grid, cv= 5)\n",
    "CV_rfc.fit(X_train, y_train)"
   ]
  },
  {
   "cell_type": "code",
   "execution_count": null,
   "id": "2bf86c23",
   "metadata": {},
   "outputs": [],
   "source": []
  },
  {
   "cell_type": "code",
   "execution_count": null,
   "id": "63c90cbc",
   "metadata": {},
   "outputs": [],
   "source": [
    "CV_rfc.best_params_"
   ]
  },
  {
   "cell_type": "code",
   "execution_count": null,
   "id": "fe0b01a2",
   "metadata": {},
   "outputs": [],
   "source": [
    "X_test"
   ]
  },
  {
   "cell_type": "code",
   "execution_count": null,
   "id": "108964c6",
   "metadata": {},
   "outputs": [],
   "source": [
    "X_test.iloc[[1]]"
   ]
  },
  {
   "cell_type": "code",
   "execution_count": null,
   "id": "8a0b6343",
   "metadata": {},
   "outputs": [],
   "source": [
    "model.predict(X_test.iloc[[2]])"
   ]
  },
  {
   "cell_type": "code",
   "execution_count": null,
   "id": "59098881",
   "metadata": {},
   "outputs": [],
   "source": [
    "y_test.iloc[[2]]"
   ]
  },
  {
   "cell_type": "code",
   "execution_count": null,
   "id": "32d17c3b",
   "metadata": {},
   "outputs": [],
   "source": [
    "predicciones = model.predict_proba(X_test.iloc[[2]])\n",
    "predicciones.shape\n"
   ]
  },
  {
   "cell_type": "code",
   "execution_count": null,
   "id": "3a370224",
   "metadata": {},
   "outputs": [],
   "source": [
    "X_test.iloc[[2]]\n"
   ]
  },
  {
   "cell_type": "code",
   "execution_count": null,
   "id": "0360cb56",
   "metadata": {},
   "outputs": [],
   "source": [
    "a=df_train_generated.columns\n"
   ]
  },
  {
   "cell_type": "code",
   "execution_count": null,
   "id": "c84529bb",
   "metadata": {},
   "outputs": [],
   "source": [
    "b=a.to_list()\n",
    "b.remove('id_Enfermedad')\n",
    "b"
   ]
  },
  {
   "cell_type": "code",
   "execution_count": null,
   "id": "6dcde3ae",
   "metadata": {},
   "outputs": [],
   "source": [
    "df_train_generated.columns\n",
    "df_predicciones = pd.DataFrame(data=predicciones)\n",
    "#df_predicciones['clasificacion_default_0.5'] = np.where(df_predicciones['0'] > df_predicciones['1'], 0, 1)\n",
    "df_predicciones"
   ]
  },
  {
   "cell_type": "code",
   "execution_count": null,
   "id": "b7564f87",
   "metadata": {},
   "outputs": [],
   "source": [
    "df_predicciones2=df_predicciones.transpose()\n",
    "df_predicciones2"
   ]
  },
  {
   "cell_type": "code",
   "execution_count": null,
   "id": "06475b4b",
   "metadata": {},
   "outputs": [],
   "source": [
    "list_to_rank=df_predicciones2[df_predicciones2[0]>0]"
   ]
  },
  {
   "cell_type": "code",
   "execution_count": null,
   "id": "50f8299e",
   "metadata": {},
   "outputs": [],
   "source": [
    "rank = list_to_rank.sort_values(0,ascending=False)\n",
    "rank"
   ]
  },
  {
   "cell_type": "code",
   "execution_count": null,
   "id": "e0e3ad4b",
   "metadata": {},
   "outputs": [],
   "source": [
    "rank2=rank.reset_index()"
   ]
  },
  {
   "cell_type": "code",
   "execution_count": null,
   "id": "b5df6a67",
   "metadata": {},
   "outputs": [],
   "source": []
  },
  {
   "cell_type": "code",
   "execution_count": null,
   "id": "51f42b4c",
   "metadata": {},
   "outputs": [],
   "source": [
    "rank2=rank2.head(5)\n",
    "rank2"
   ]
  },
  {
   "cell_type": "code",
   "execution_count": null,
   "id": "3f24b08b",
   "metadata": {},
   "outputs": [],
   "source": [
    "rank2.merge (data)"
   ]
  },
  {
   "cell_type": "code",
   "execution_count": null,
   "id": "7e3eb1c9",
   "metadata": {},
   "outputs": [],
   "source": [
    "rank2[\"Enfermedad\"]= rank2.apply(lambda row:\n",
    "                                 data[data['Id_Enfermedad']==row[\"index\"]].iloc[0][0]\n",
    "                                 if data['Id_Enfermedad']==row[\"index\"]\n",
    "                                 else 0,\n",
    "                                 axis=1\n",
    "                                )"
   ]
  },
  {
   "cell_type": "code",
   "execution_count": null,
   "id": "5d198c78",
   "metadata": {},
   "outputs": [],
   "source": []
  },
  {
   "cell_type": "code",
   "execution_count": null,
   "id": "4cc45ec7",
   "metadata": {},
   "outputs": [],
   "source": [
    "data.iloc[0][0]"
   ]
  },
  {
   "cell_type": "code",
   "execution_count": null,
   "id": "26fa3cf4",
   "metadata": {},
   "outputs": [],
   "source": [
    "for i in range(1):\n",
    "    \n",
    "    a=data[data['Id_Enfermedad']==rank2[\"index\"][i]].iloc[0][0]\n",
    "    a"
   ]
  },
  {
   "cell_type": "code",
   "execution_count": null,
   "id": "2e79ece6",
   "metadata": {},
   "outputs": [],
   "source": []
  },
  {
   "cell_type": "code",
   "execution_count": null,
   "id": "07495491",
   "metadata": {},
   "outputs": [],
   "source": [
    "a"
   ]
  },
  {
   "cell_type": "code",
   "execution_count": null,
   "id": "06031cba",
   "metadata": {},
   "outputs": [],
   "source": [
    "a.iloc[0][0]"
   ]
  },
  {
   "cell_type": "code",
   "execution_count": null,
   "id": "d0707716",
   "metadata": {},
   "outputs": [],
   "source": [
    "list_rank=rank.to_numpy().tolist()\n",
    "list_rank\n"
   ]
  },
  {
   "cell_type": "code",
   "execution_count": null,
   "id": "0fc56788",
   "metadata": {},
   "outputs": [],
   "source": [
    "for i in range(5):\n",
    "    print (i)\n",
    "    print (lis)\n",
    "        "
   ]
  },
  {
   "cell_type": "code",
   "execution_count": null,
   "id": "2945556d",
   "metadata": {},
   "outputs": [],
   "source": [
    "data[data['Id_Enfermedad']==2389]"
   ]
  },
  {
   "cell_type": "code",
   "execution_count": null,
   "id": "93e701de",
   "metadata": {},
   "outputs": [],
   "source": []
  },
  {
   "cell_type": "code",
   "execution_count": null,
   "id": "2745cca8",
   "metadata": {},
   "outputs": [],
   "source": []
  },
  {
   "cell_type": "code",
   "execution_count": null,
   "id": "26065340",
   "metadata": {},
   "outputs": [],
   "source": []
  },
  {
   "cell_type": "code",
   "execution_count": null,
   "id": "db9d340a",
   "metadata": {},
   "outputs": [],
   "source": []
  },
  {
   "cell_type": "code",
   "execution_count": null,
   "id": "300c7959",
   "metadata": {},
   "outputs": [],
   "source": []
  },
  {
   "cell_type": "code",
   "execution_count": null,
   "id": "3452282c",
   "metadata": {},
   "outputs": [],
   "source": []
  },
  {
   "cell_type": "code",
   "execution_count": null,
   "id": "52085cc2",
   "metadata": {},
   "outputs": [],
   "source": []
  },
  {
   "cell_type": "code",
   "execution_count": null,
   "id": "27d3771e",
   "metadata": {},
   "outputs": [],
   "source": []
  },
  {
   "cell_type": "code",
   "execution_count": null,
   "id": "5f0ba742",
   "metadata": {},
   "outputs": [],
   "source": []
  },
  {
   "cell_type": "code",
   "execution_count": null,
   "id": "f7f759cc",
   "metadata": {},
   "outputs": [],
   "source": []
  },
  {
   "cell_type": "code",
   "execution_count": null,
   "id": "58b53230",
   "metadata": {},
   "outputs": [],
   "source": []
  },
  {
   "cell_type": "code",
   "execution_count": null,
   "id": "14b3014c",
   "metadata": {},
   "outputs": [],
   "source": []
  },
  {
   "cell_type": "code",
   "execution_count": null,
   "id": "9e7d448a",
   "metadata": {},
   "outputs": [],
   "source": []
  },
  {
   "cell_type": "code",
   "execution_count": null,
   "id": "19531462",
   "metadata": {},
   "outputs": [],
   "source": []
  },
  {
   "cell_type": "code",
   "execution_count": null,
   "id": "015ac772",
   "metadata": {},
   "outputs": [],
   "source": []
  },
  {
   "cell_type": "code",
   "execution_count": null,
   "id": "e496a776",
   "metadata": {},
   "outputs": [],
   "source": []
  },
  {
   "cell_type": "code",
   "execution_count": null,
   "id": "049f0a0c",
   "metadata": {},
   "outputs": [],
   "source": []
  },
  {
   "cell_type": "code",
   "execution_count": null,
   "id": "f13fa43e",
   "metadata": {},
   "outputs": [],
   "source": []
  },
  {
   "cell_type": "code",
   "execution_count": null,
   "id": "596c53cb",
   "metadata": {},
   "outputs": [],
   "source": []
  },
  {
   "cell_type": "code",
   "execution_count": null,
   "id": "bc28f558",
   "metadata": {},
   "outputs": [],
   "source": []
  },
  {
   "cell_type": "code",
   "execution_count": null,
   "id": "84f191d8",
   "metadata": {},
   "outputs": [],
   "source": []
  },
  {
   "cell_type": "code",
   "execution_count": null,
   "id": "0dfee2f7",
   "metadata": {},
   "outputs": [],
   "source": []
  },
  {
   "cell_type": "code",
   "execution_count": null,
   "id": "2b528a4f",
   "metadata": {},
   "outputs": [],
   "source": [
    "\n"
   ]
  },
  {
   "cell_type": "code",
   "execution_count": null,
   "id": "78dbb816",
   "metadata": {},
   "outputs": [],
   "source": []
  },
  {
   "cell_type": "code",
   "execution_count": null,
   "id": "c7aa14a4",
   "metadata": {},
   "outputs": [],
   "source": []
  },
  {
   "cell_type": "code",
   "execution_count": null,
   "id": "8c3c7b8b",
   "metadata": {},
   "outputs": [],
   "source": []
  },
  {
   "cell_type": "code",
   "execution_count": null,
   "id": "cd8611d2",
   "metadata": {},
   "outputs": [],
   "source": []
  },
  {
   "cell_type": "code",
   "execution_count": null,
   "id": "9c561952",
   "metadata": {},
   "outputs": [],
   "source": []
  },
  {
   "cell_type": "code",
   "execution_count": null,
   "id": "51951b7b",
   "metadata": {},
   "outputs": [],
   "source": []
  },
  {
   "cell_type": "code",
   "execution_count": null,
   "id": "b40c4efd",
   "metadata": {},
   "outputs": [],
   "source": []
  },
  {
   "cell_type": "code",
   "execution_count": null,
   "id": "2a4fdd5f",
   "metadata": {},
   "outputs": [],
   "source": []
  },
  {
   "cell_type": "code",
   "execution_count": null,
   "id": "5e6ac7e8",
   "metadata": {},
   "outputs": [],
   "source": []
  },
  {
   "cell_type": "code",
   "execution_count": null,
   "id": "c679b556",
   "metadata": {},
   "outputs": [],
   "source": []
  },
  {
   "cell_type": "code",
   "execution_count": null,
   "id": "c44a719b",
   "metadata": {},
   "outputs": [],
   "source": []
  },
  {
   "cell_type": "code",
   "execution_count": null,
   "id": "87c2e2a8",
   "metadata": {},
   "outputs": [],
   "source": []
  },
  {
   "cell_type": "code",
   "execution_count": null,
   "id": "f40e9129",
   "metadata": {},
   "outputs": [],
   "source": []
  },
  {
   "cell_type": "code",
   "execution_count": null,
   "id": "994e8366",
   "metadata": {},
   "outputs": [],
   "source": []
  },
  {
   "cell_type": "code",
   "execution_count": null,
   "id": "75086651",
   "metadata": {},
   "outputs": [],
   "source": []
  },
  {
   "cell_type": "code",
   "execution_count": null,
   "id": "7e39e638",
   "metadata": {},
   "outputs": [],
   "source": []
  },
  {
   "cell_type": "code",
   "execution_count": null,
   "id": "4549cfd8",
   "metadata": {},
   "outputs": [],
   "source": []
  },
  {
   "cell_type": "code",
   "execution_count": null,
   "id": "88b810c4",
   "metadata": {},
   "outputs": [],
   "source": [
    "\n"
   ]
  },
  {
   "cell_type": "code",
   "execution_count": null,
   "id": "2327cc23",
   "metadata": {},
   "outputs": [],
   "source": []
  },
  {
   "cell_type": "code",
   "execution_count": null,
   "id": "ea7f0749",
   "metadata": {},
   "outputs": [],
   "source": []
  },
  {
   "cell_type": "code",
   "execution_count": null,
   "id": "7f535947",
   "metadata": {},
   "outputs": [],
   "source": []
  },
  {
   "cell_type": "code",
   "execution_count": null,
   "id": "621875a4",
   "metadata": {},
   "outputs": [],
   "source": []
  },
  {
   "cell_type": "code",
   "execution_count": null,
   "id": "24b1f889",
   "metadata": {},
   "outputs": [],
   "source": []
  },
  {
   "cell_type": "code",
   "execution_count": null,
   "id": "577ee4f4",
   "metadata": {},
   "outputs": [],
   "source": []
  },
  {
   "cell_type": "code",
   "execution_count": null,
   "id": "ded24e90",
   "metadata": {},
   "outputs": [],
   "source": []
  },
  {
   "cell_type": "code",
   "execution_count": null,
   "id": "ecd18e53",
   "metadata": {},
   "outputs": [],
   "source": []
  },
  {
   "cell_type": "code",
   "execution_count": null,
   "id": "a69f0ca1",
   "metadata": {},
   "outputs": [],
   "source": []
  },
  {
   "cell_type": "code",
   "execution_count": null,
   "id": "d7a4ac9f",
   "metadata": {},
   "outputs": [],
   "source": []
  },
  {
   "cell_type": "code",
   "execution_count": null,
   "id": "aa2c78b8",
   "metadata": {},
   "outputs": [],
   "source": []
  },
  {
   "cell_type": "code",
   "execution_count": null,
   "id": "dcb7d983",
   "metadata": {},
   "outputs": [],
   "source": []
  },
  {
   "cell_type": "code",
   "execution_count": null,
   "id": "6e450b7b",
   "metadata": {},
   "outputs": [],
   "source": []
  },
  {
   "cell_type": "code",
   "execution_count": null,
   "id": "c60685bf",
   "metadata": {},
   "outputs": [],
   "source": [
    "\n"
   ]
  },
  {
   "cell_type": "code",
   "execution_count": null,
   "id": "d01789d3",
   "metadata": {},
   "outputs": [],
   "source": []
  },
  {
   "cell_type": "code",
   "execution_count": null,
   "id": "5c345bdc",
   "metadata": {},
   "outputs": [],
   "source": []
  },
  {
   "cell_type": "code",
   "execution_count": null,
   "id": "589341a4",
   "metadata": {},
   "outputs": [],
   "source": [
    "\n"
   ]
  },
  {
   "cell_type": "code",
   "execution_count": null,
   "id": "af7b2430",
   "metadata": {},
   "outputs": [],
   "source": []
  },
  {
   "cell_type": "code",
   "execution_count": null,
   "id": "7cd4cae0",
   "metadata": {},
   "outputs": [],
   "source": []
  },
  {
   "cell_type": "code",
   "execution_count": null,
   "id": "20c0ed35",
   "metadata": {},
   "outputs": [],
   "source": []
  },
  {
   "cell_type": "code",
   "execution_count": null,
   "id": "4a7adcc5",
   "metadata": {},
   "outputs": [],
   "source": []
  },
  {
   "cell_type": "code",
   "execution_count": null,
   "id": "8851eeec",
   "metadata": {},
   "outputs": [],
   "source": [
    "\n"
   ]
  },
  {
   "cell_type": "code",
   "execution_count": null,
   "id": "dd5a8b36",
   "metadata": {},
   "outputs": [],
   "source": [
    "\n"
   ]
  },
  {
   "cell_type": "code",
   "execution_count": null,
   "id": "4ed33270",
   "metadata": {},
   "outputs": [],
   "source": [
    "\n"
   ]
  },
  {
   "cell_type": "code",
   "execution_count": null,
   "id": "9c371fa1",
   "metadata": {},
   "outputs": [],
   "source": [
    "\n",
    "\n"
   ]
  },
  {
   "cell_type": "code",
   "execution_count": null,
   "id": "3a1aa7ea",
   "metadata": {},
   "outputs": [],
   "source": []
  },
  {
   "cell_type": "code",
   "execution_count": null,
   "id": "1b23461d",
   "metadata": {},
   "outputs": [],
   "source": []
  },
  {
   "cell_type": "code",
   "execution_count": null,
   "id": "220d0c59",
   "metadata": {},
   "outputs": [],
   "source": []
  },
  {
   "cell_type": "code",
   "execution_count": null,
   "id": "9f8ce2d4",
   "metadata": {},
   "outputs": [],
   "source": []
  },
  {
   "cell_type": "code",
   "execution_count": null,
   "id": "df4d6d0b",
   "metadata": {},
   "outputs": [],
   "source": []
  },
  {
   "cell_type": "code",
   "execution_count": null,
   "id": "2d14440c",
   "metadata": {},
   "outputs": [],
   "source": []
  },
  {
   "cell_type": "code",
   "execution_count": null,
   "id": "81a8f72e",
   "metadata": {},
   "outputs": [],
   "source": []
  },
  {
   "cell_type": "code",
   "execution_count": null,
   "id": "c61233cb",
   "metadata": {},
   "outputs": [],
   "source": []
  },
  {
   "cell_type": "code",
   "execution_count": null,
   "id": "25da1db5",
   "metadata": {},
   "outputs": [],
   "source": []
  },
  {
   "cell_type": "code",
   "execution_count": null,
   "id": "3581334c",
   "metadata": {},
   "outputs": [],
   "source": [
    "\n"
   ]
  },
  {
   "cell_type": "code",
   "execution_count": null,
   "id": "57094c01",
   "metadata": {},
   "outputs": [],
   "source": []
  },
  {
   "cell_type": "code",
   "execution_count": null,
   "id": "da7ee8e3",
   "metadata": {},
   "outputs": [],
   "source": []
  },
  {
   "cell_type": "code",
   "execution_count": null,
   "id": "683f074b",
   "metadata": {},
   "outputs": [],
   "source": []
  },
  {
   "cell_type": "code",
   "execution_count": null,
   "id": "07a6ac8b",
   "metadata": {},
   "outputs": [],
   "source": []
  },
  {
   "cell_type": "code",
   "execution_count": null,
   "id": "a05977ec",
   "metadata": {},
   "outputs": [],
   "source": []
  },
  {
   "cell_type": "code",
   "execution_count": null,
   "id": "552e9419",
   "metadata": {},
   "outputs": [],
   "source": []
  },
  {
   "cell_type": "code",
   "execution_count": null,
   "id": "f6f635ef",
   "metadata": {},
   "outputs": [],
   "source": []
  },
  {
   "cell_type": "code",
   "execution_count": null,
   "id": "98485235",
   "metadata": {},
   "outputs": [],
   "source": []
  },
  {
   "cell_type": "markdown",
   "id": "65f1ae66",
   "metadata": {},
   "source": [
    "#### "
   ]
  },
  {
   "cell_type": "code",
   "execution_count": null,
   "id": "a879cb4c",
   "metadata": {},
   "outputs": [],
   "source": []
  },
  {
   "cell_type": "code",
   "execution_count": null,
   "id": "13ea6fb2",
   "metadata": {},
   "outputs": [],
   "source": []
  },
  {
   "cell_type": "code",
   "execution_count": null,
   "id": "a004332b",
   "metadata": {},
   "outputs": [],
   "source": []
  },
  {
   "cell_type": "code",
   "execution_count": null,
   "id": "e247e16e",
   "metadata": {},
   "outputs": [],
   "source": []
  },
  {
   "cell_type": "code",
   "execution_count": null,
   "id": "afa51577",
   "metadata": {},
   "outputs": [],
   "source": []
  },
  {
   "cell_type": "code",
   "execution_count": null,
   "id": "2a6eae33",
   "metadata": {},
   "outputs": [],
   "source": []
  },
  {
   "cell_type": "code",
   "execution_count": null,
   "id": "d56870dd",
   "metadata": {},
   "outputs": [],
   "source": []
  },
  {
   "cell_type": "code",
   "execution_count": null,
   "id": "099ff457",
   "metadata": {},
   "outputs": [],
   "source": []
  },
  {
   "cell_type": "code",
   "execution_count": null,
   "id": "1b973bcc",
   "metadata": {},
   "outputs": [],
   "source": []
  },
  {
   "cell_type": "code",
   "execution_count": null,
   "id": "757b309b",
   "metadata": {},
   "outputs": [],
   "source": [
    "\n"
   ]
  },
  {
   "cell_type": "code",
   "execution_count": null,
   "id": "d90c431c",
   "metadata": {},
   "outputs": [],
   "source": []
  },
  {
   "cell_type": "code",
   "execution_count": null,
   "id": "20b035f9",
   "metadata": {},
   "outputs": [],
   "source": []
  },
  {
   "cell_type": "code",
   "execution_count": null,
   "id": "6f89a9e2",
   "metadata": {},
   "outputs": [],
   "source": []
  },
  {
   "cell_type": "code",
   "execution_count": null,
   "id": "77f02d9e",
   "metadata": {},
   "outputs": [],
   "source": []
  }
 ],
 "metadata": {
  "kernelspec": {
   "display_name": "Python 3 (ipykernel)",
   "language": "python",
   "name": "python3"
  },
  "language_info": {
   "codemirror_mode": {
    "name": "ipython",
    "version": 3
   },
   "file_extension": ".py",
   "mimetype": "text/x-python",
   "name": "python",
   "nbconvert_exporter": "python",
   "pygments_lexer": "ipython3",
   "version": "3.9.13"
  }
 },
 "nbformat": 4,
 "nbformat_minor": 5
}
