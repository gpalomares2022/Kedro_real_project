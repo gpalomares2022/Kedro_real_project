{
 "cells": [
  {
   "cell_type": "markdown",
   "id": "1663e304",
   "metadata": {},
   "source": [
    "# Import Library\n",
    "Se importan todas las librerías necesarias para trabajar en el presente Notebook"
   ]
  },
  {
   "cell_type": "code",
   "execution_count": 309,
   "id": "2acbb61b",
   "metadata": {},
   "outputs": [],
   "source": [
    "import xmltodict\n",
    "import pandas as pd\n",
    "import numpy as np\n",
    "import random\n",
    "from sklearn.model_selection import train_test_split\n",
    "from sklearn.ensemble import RandomForestClassifier\n",
    "from sklearn.metrics import f1_score, accuracy_score, roc_auc_score, roc_curve, precision_score\n",
    "import sklearn\n",
    "import sqlite3\n"
   ]
  },
  {
   "cell_type": "markdown",
   "id": "7e96b74e",
   "metadata": {},
   "source": [
    "# Load Data (XML) function\n",
    "\n",
    "load_from_xml: Función que extrae en un dataframe los datos de Enfermedades-Síntomas-Frecuencias del XML de Orphadata  (almacenado en una ruta concreta). Es llamada únicamente al principio para trabajar, pues luego se continua trabajando con dataframes y csvs"
   ]
  },
  {
   "cell_type": "code",
   "execution_count": 17,
   "id": "2a963b35",
   "metadata": {},
   "outputs": [],
   "source": [
    "def load_from_xml (path):\n",
    "    xml=open(path, encoding='ISO-8859-1')\n",
    "    xmldict = xmltodict.parse(xml.read())\n",
    "    df_enfermedades = pd.DataFrame()\n",
    "    lista_enfer_sinto_prob=[]\n",
    "    first_tree=xmldict[\"JDBOR\"][\"HPODisorderSetStatusList\"][\"HPODisorderSetStatus\"]\n",
    "    id=0\n",
    "    for nodo in xmldict[\"JDBOR\"][\"HPODisorderSetStatusList\"][\"HPODisorderSetStatus\"]:\n",
    "     \n",
    "        enfermedad=_clean_name(nodo[\"Disorder\"][\"Name\"])\n",
    "        sec_tree= nodo[\"Disorder\"][\"HPODisorderAssociationList\"]\n",
    "        if (len(sec_tree)==2):\n",
    "            tam_sintomas=len(sec_tree[\"HPODisorderAssociation\"])\n",
    "            i=0\n",
    "            registro_enfer_sinto_prob=[]\n",
    "            while (i<tam_sintomas):\n",
    "                registro_enfer_sinto_prob.append(id)\n",
    "                registro_enfer_sinto_prob.append(enfermedad)\n",
    "                registro_enfer_sinto_prob.append(sec_tree[\"HPODisorderAssociation\"][i][\"HPO\"][\"HPOTerm\"])\n",
    "                frecuencia=_clean_name(sec_tree[\"HPODisorderAssociation\"][i][\"HPOFrequency\"][\"Name\"])\n",
    "                registro_enfer_sinto_prob.append(frecuencia)\n",
    "                lista_enfer_sinto_prob.append (registro_enfer_sinto_prob)\n",
    "                registro_enfer_sinto_prob=[]\n",
    "                i=i+1\n",
    "        id=id+1\n",
    "    df_enfermedades = pd.DataFrame(lista_enfer_sinto_prob)\n",
    "    df_enfermedades = df_enfermedades.rename(columns={0:'Id_Enfermedad',1:'Enfermedad', 2:'Sintoma', 3:\"Frecuencia\"})\n",
    "    \n",
    "    return df_enfermedades        "
   ]
  },
  {
   "cell_type": "markdown",
   "id": "e6119543",
   "metadata": {},
   "source": [
    "_clean_name: Función privada, que usa load_from_xml, para eliminar carácteres innecesarios en los nombres encontrados (para enfermedades y frecuencias) "
   ]
  },
  {
   "cell_type": "code",
   "execution_count": 18,
   "id": "ca0abbc8",
   "metadata": {},
   "outputs": [],
   "source": [
    "def _clean_name (cadena):\n",
    "    \n",
    "    cadena_str= str(cadena)\n",
    "    cadena_str=cadena_str[26:]\n",
    "    cadena_str = cadena_str.replace('}', '',1)\n",
    "    cadena_str = cadena_str.replace('\\'','')\n",
    "    \n",
    "    return cadena_str"
   ]
  },
  {
   "cell_type": "markdown",
   "id": "ffeffcef",
   "metadata": {},
   "source": [
    "# Exploratory Data Analysis (EDA) & Feature Engineering functions\n",
    "\n",
    "eda_data: Función que dado un dataframe de entrada, aplica Exploratory Data Analysis. En concreto: elimina registros duplicados, los nulos, y los registros que contienen síntomas que sólo aparecen menos de 50 veces en nuestra muestra"
   ]
  },
  {
   "cell_type": "code",
   "execution_count": 19,
   "id": "136d05d1",
   "metadata": {},
   "outputs": [],
   "source": [
    "def eda_data(data): \n",
    "    \n",
    "    data=data.drop_duplicates()\n",
    "    data=data.dropna()\n",
    "    vc = data[\"Sintoma\"].value_counts()\n",
    "    vector=vc[vc < 50].index\n",
    "    for a in vector:\n",
    "        indexNames = data [ data[\"Sintoma\"] == a ].index\n",
    "        for b in indexNames:\n",
    "            data.drop(b , inplace=True, axis=0)\n",
    "  \n",
    "    return data "
   ]
  },
  {
   "cell_type": "markdown",
   "id": "f3d45a1c",
   "metadata": {},
   "source": [
    "selection_data: Función que dado un dataframe de entrada, se queda con los registros de Enfermedad-Sintoma-Frecuencia que tengan una frecuencia \"Muy frecuente\", \"Frecuente\", \"Obligatorio\" y \"Ocasional\". Elimina pues los registros con frecuencia Muy poco frecuente y Excluyente."
   ]
  },
  {
   "cell_type": "code",
   "execution_count": 23,
   "id": "3211473f",
   "metadata": {},
   "outputs": [],
   "source": [
    "def selection_data_by_frecuency(data):\n",
    "    \n",
    "   \n",
    "    data=data[(data['Frecuencia']==\"Muy frecuente (99-80%)\") |\n",
    "              (data['Frecuencia']==\"Frecuente (79-30%)\") |\n",
    "              (data['Frecuencia']==\"Obligatorio (100%)\") |\n",
    "              (data['Frecuencia']==\"Ocasional (29-5%)\")\n",
    "              \n",
    "             ]\n",
    "        \n",
    "    return data\n"
   ]
  },
  {
   "cell_type": "code",
   "execution_count": 126,
   "id": "5b7d8631",
   "metadata": {},
   "outputs": [],
   "source": [
    "\n",
    "# shift column 'Name' to first position\n",
    "first_column = df_EnfeySinto_select.pop('Enfermedad')\n",
    "  \n",
    "# insert column using insert(position,column_name,\n",
    "# first_column) function\n",
    "df_EnfeySinto_select.insert(0, 'Enfermedad', first_column)"
   ]
  },
  {
   "cell_type": "markdown",
   "id": "ddb7fbe8",
   "metadata": {},
   "source": [
    "# Test/Experiment 1: Classifier functions"
   ]
  },
  {
   "cell_type": "markdown",
   "id": "8a9afc76",
   "metadata": {},
   "source": [
    "### Train Data Generation\n",
    "generate_data_train_for_classifier: Función que dado un dataframe de entrada (con todas los registros existentes entre enfermedades, sus síntomas y la frecuencia de aparición), genera una matriz de enfermedades x sintomas, con valores en celdas donde el síntoma concreto a aparezca en la enfermedad. El valor que tendrá dependerá de la frecuencia de aparición de dicho síntoma en la enfermedad y del valor aleatorio que se calcule (0 a 1)"
   ]
  },
  {
   "cell_type": "code",
   "execution_count": 282,
   "id": "8c0b844c",
   "metadata": {},
   "outputs": [],
   "source": [
    "def generate_data_train_for_classifier (data, repeticiones):\n",
    "   \n",
    "\n",
    "\n",
    "    sintomas=data.iloc[:,2]\n",
    "    sintomas_sin_repe=sintomas.drop_duplicates()\n",
    "    sintomas_sin_repe=sintomas_sin_repe.sort_values(ascending\n",
    "                              = True)\n",
    "    df_train=pd.DataFrame(columns=sintomas_sin_repe)\n",
    "   # df_train.insert(0, 'Enfermedad', 0)\n",
    "    df_train.insert(0, 'id_Enfermedad', 0)\n",
    "    data_agrupado = (data.groupby(\"Enfermedad\")\n",
    "         .agg({\"Sintoma\": np.array, \"Frecuencia\": np.array})\n",
    "         .reset_index()\n",
    "         )\n",
    "    \n",
    "    z=0\n",
    "    j=0\n",
    " \n",
    "    \n",
    "    while (z<repeticiones):\n",
    "    \n",
    "  #  print (\"entra\")\n",
    "        i=0\n",
    "        for a in data_agrupado[\"Enfermedad\"]:\n",
    "           # print (\"Enfermedad: \", a)\n",
    "\n",
    "            lst = [0] * ((len(sintomas_sin_repe))+1)\n",
    "            df_train.loc[len(df_train)] = lst\n",
    "           # df_train[\"Enfermedad\"][j]=a\n",
    "            #df_train[\"id_Enfermedad\"][j]=(i+1)\n",
    "            #df_train.loc[:, ('id_Enfermedad', j)] = (i)\n",
    "            df_train['id_Enfermedad'][j]=i\n",
    "\n",
    "            \n",
    "           \n",
    "           \n",
    "            pos=0\n",
    "            for b in data_agrupado[\"Sintoma\"][i]:\n",
    "                valor_aleatorio = random.random()\n",
    "                frecuencia=data_agrupado[\"Frecuencia\"][i][pos]\n",
    "  \n",
    "                if (frecuencia==\"Muy frecuente (99-80%)\"):\n",
    "             #       print (b)\n",
    "              #      print (\"es muy frecuente\")\n",
    "                    if (valor_aleatorio>0.4):\n",
    "                        valor_entero=1\n",
    "                    else:\n",
    "                        valor_entero=0\n",
    "                elif (frecuencia==\"Frecuente (79-30%)\"):\n",
    "               #     print (b)\n",
    "                #    print (\"es frecuente\")\n",
    "                    if (valor_aleatorio>0.6):\n",
    "                        valor_entero=1\n",
    "                    else:\n",
    "                        valor_entero=0\n",
    "                elif (frecuencia==\"Obligatorio (100%)\"):\n",
    "               #     print (b)\n",
    "                #    print (\"es frecuente\")\n",
    "                    \n",
    "                        valor_entero=1\n",
    "                elif (frecuencia==\"Ocasional (29-5%)\"):\n",
    "               #     print (b)\n",
    "                #    print (\"es frecuente\")\n",
    "                    if (valor_aleatorio>0.8):\n",
    "                        valor_entero=1\n",
    "                    else:\n",
    "                        valor_entero=0     \n",
    "                df_train[b][j]=valor_entero\n",
    "               \n",
    "                pos=pos+1\n",
    "            j=j+1\n",
    "            i=i+1\n",
    "        z=z+1\n",
    "        print (\"VUELTA: \", z)\n",
    "        print (\"Tamaño: \",j)\n",
    "    return df_train     "
   ]
  },
  {
   "cell_type": "code",
   "execution_count": null,
   "id": "707aa2c6",
   "metadata": {},
   "outputs": [],
   "source": []
  },
  {
   "cell_type": "code",
   "execution_count": null,
   "id": "0e4a2111",
   "metadata": {},
   "outputs": [],
   "source": []
  },
  {
   "cell_type": "code",
   "execution_count": null,
   "id": "69369701",
   "metadata": {},
   "outputs": [],
   "source": []
  },
  {
   "cell_type": "code",
   "execution_count": null,
   "id": "55adbfe5",
   "metadata": {},
   "outputs": [],
   "source": []
  },
  {
   "cell_type": "markdown",
   "id": "3e73bf30",
   "metadata": {},
   "source": [
    "### Train Data\n",
    "train_data_classifier: Función que obtiene los datos de entrentamiento y de test de un Dataframe de entrenamiento. Y entrena con RandomForestClassifier"
   ]
  },
  {
   "cell_type": "code",
   "execution_count": 287,
   "id": "d6f545d9",
   "metadata": {},
   "outputs": [],
   "source": [
    "def train_data_classifier (df_train):\n",
    "    \n",
    "    target=df_train[\"id_Enfermedad\"]\n",
    "   # data=data.drop (['Enfermedad'], axis=1)\n",
    "    \n",
    "    X_train, X_test, y_train, y_test = train_test_split(df_train,target)\n",
    "    rf= RandomForestClassifier()\n",
    "    rf.fit (X_train,y_train)\n",
    "\n",
    "    \n",
    "    return df_train,rf,target,X_test,y_test, X_train, y_train\n"
   ]
  },
  {
   "cell_type": "markdown",
   "id": "5c229efa",
   "metadata": {},
   "source": [
    "### Predict and Evaluate\n",
    "predict_and_evaluate_classifier: Función que predice con el modelo ya entrenado y devuelve la Accuracy, Precisión y F1 score de la predición vs el valor y_test"
   ]
  },
  {
   "cell_type": "code",
   "execution_count": 26,
   "id": "3614f414",
   "metadata": {},
   "outputs": [],
   "source": [
    "def evaluate_classifier (classifier, X_test, y_test):\n",
    "\n",
    "    y_pred=classifier.predict(X_test)\n",
    "    probs=classifier.predict_proba(X_test) [:, 1]\n",
    "    \n",
    "    acc = accuracy_score(y_test, y_pred)\n",
    "    pres= precision_score (y_test, y_pred, average='micro')\n",
    "    f1 = f1_score(y_test, y_pred, average='micro')\n",
    "    \n",
    "   # roc_auc = roc_auc_score(y_test,probs, multi_class='ovr')\n",
    "    #auc = roc_auc_score(y_test, probs)\n",
    "    print (\"Accurancy: \", acc)\n",
    "    print (\"Precision: \", pres)\n",
    "    print (\"f1: \", f1)\n",
    "    #print (\"auc: \", auc)\n",
    "    \n",
    "   # fpr, tpr, threshols = roc_curve(y_test, probs)\n",
    "   # plt.plot(fpr,tpr)\n",
    "   # plt.xlabel('False positives rate')\n",
    "   # plt.ylabel('True positives rate')\n",
    "   # plt.gcf().set_size_inches(8,6)\n",
    "   "
   ]
  },
  {
   "cell_type": "code",
   "execution_count": null,
   "id": "ad4b8f4d",
   "metadata": {},
   "outputs": [],
   "source": []
  },
  {
   "cell_type": "markdown",
   "id": "50756aed",
   "metadata": {},
   "source": [
    "# Test/Experiment 2: Recomendation functions"
   ]
  },
  {
   "cell_type": "code",
   "execution_count": 95,
   "id": "0f7ec4ba",
   "metadata": {},
   "outputs": [],
   "source": [
    "def generate_data_matrix_ratings (data, repeticiones):\n",
    "    \n",
    "    sintomas=data.iloc[:,1]\n",
    "    sintomas_sin_repe=sintomas.drop_duplicates()\n",
    "    sintomas_sin_repe=sintomas_sin_repe.sort_values(ascending\n",
    "                              = True)\n",
    "    df_train=pd.DataFrame(columns=sintomas_sin_repe)\n",
    "  \n",
    "    data_agrupado = (data.groupby(\"Enfermedad\")\n",
    "         .agg({\"Sintoma\": np.array, \"Frecuencia\": np.array})\n",
    "         .reset_index()\n",
    "         )\n",
    "    \n",
    "    z=0\n",
    "    j=0\n",
    "    while (z<repeticiones):\n",
    "    \n",
    "  #  print (\"entra\")\n",
    "        i=0\n",
    "        for a in data_agrupado[\"Enfermedad\"]:\n",
    "           # print (\"Enfermedad: \", a)\n",
    "\n",
    "            lst = [0] * ((len(sintomas_sin_repe)))\n",
    "           \n",
    "            df_train.loc[len(df_train)] = lst\n",
    "           \n",
    "\n",
    "           \n",
    "            pos=0\n",
    "            for b in data_agrupado[\"Sintoma\"][i]:\n",
    "                valor_aleatorio = random.random()\n",
    "                frecuencia=data_agrupado[\"Frecuencia\"][i][pos]\n",
    "  \n",
    "                if (frecuencia==\"Muy frecuente (99-80%)\"):\n",
    "\n",
    "                        valor_entero=3\n",
    " \n",
    "                elif (frecuencia==\"Frecuente (79-30%)\"):\n",
    "\n",
    "                        valor_entero=2\n",
    "\n",
    "                         \n",
    "                elif (frecuencia==\"Obligatorio (100%)\"):\n",
    "                    valor_entero=4\n",
    "\n",
    "                elif (frecuencia==\"Ocasional (29-5%)\"):\n",
    "                    valor_entero=1\n",
    "                    \n",
    "                df_train[b][j]=valor_entero\n",
    "               \n",
    "                pos=pos+1\n",
    "            j=j+1\n",
    "            i=i+1\n",
    "        z=z+1\n",
    "        print (\"VUELTA: \", z)\n",
    "        print (\"Tamaño: \",j)\n",
    "    return df_train      "
   ]
  },
  {
   "cell_type": "code",
   "execution_count": null,
   "id": "709542ab",
   "metadata": {},
   "outputs": [],
   "source": []
  },
  {
   "cell_type": "code",
   "execution_count": 314,
   "id": "0cf7cfbf",
   "metadata": {},
   "outputs": [],
   "source": [
    "def _aparece_y_como (scoring_enfermedades,id_Sintoma, df_Enfermedades):\n",
    "    \n",
    "\n",
    "    \n",
    "    j=0\n",
    "    enfermedades=[]\n",
    "    while (j<len(scoring_enfermedades)):\n",
    "        enfermedad=[]\n",
    "        id_enfermedad=scoring_enfermedades[\"index\"][j]\n",
    "        scoring=scoring_enfermedades[id_Sintoma][j]\n",
    "        \n",
    "        enfermedad.append(id_enfermedad)\n",
    "       \n",
    "        enfermedad.append(df_Enfermedades[df_Enfermedades[\"index\"]==id_enfermedad][\"Enfermedad\"].values[0])\n",
    "   \n",
    "        enfermedad.append(scoring)\n",
    "        lista=df_EnfeySinto_select[df_EnfeySinto_select[\"Enfermedad\"]==\n",
    "                                   df_Enfermedades.loc[id_enfermedad][1]]\n",
    "        lista=lista.reset_index()\n",
    "        sintoma= df_Sintomas.loc[id_Sintoma].Sintoma\n",
    "        \n",
    "        i=0\n",
    "        while i<len(lista):\n",
    "         \n",
    "            if lista[\"Sintoma\"][i]==sintoma:\n",
    "                enfermedad.append(lista[\"Frecuencia\"][i])\n",
    "            \n",
    "            i=i+1  \n",
    "        j=j+1\n",
    "        enfermedades.append(enfermedad)\n",
    "    return enfermedades"
   ]
  },
  {
   "cell_type": "code",
   "execution_count": 326,
   "id": "1d4ba4a1",
   "metadata": {},
   "outputs": [],
   "source": [
    "def _saca_enfermedades (vector,df_Enfermedades):\n",
    "    \n",
    "    enfermedades=[]\n",
    "    for j in vector:\n",
    "        enfermedades.append(df_Enfermedades[df_Enfermedades[\"index\"]==j][\"Enfermedad\"])\n",
    "        \n",
    "    return enfermedades"
   ]
  },
  {
   "cell_type": "markdown",
   "id": "eba84902",
   "metadata": {},
   "source": []
  },
  {
   "cell_type": "code",
   "execution_count": 299,
   "id": "4dba0e5d",
   "metadata": {},
   "outputs": [],
   "source": [
    "def _rename_col(df):\n",
    "    \n",
    "    df.rename(columns={'Sintoma':'Enfermedades'},\n",
    "               inplace=True)\n",
    "    columnas=len(df.columns)\n",
    "    i=0\n",
    "    while (i<columnas):\n",
    "        df = df.rename(columns={df.columns[i]:i})\n",
    "        i=i+1\n",
    "        \n",
    "        \n",
    "    return df"
   ]
  },
  {
   "cell_type": "code",
   "execution_count": null,
   "id": "f7913fce",
   "metadata": {},
   "outputs": [],
   "source": [
    "\n",
    "    "
   ]
  },
  {
   "cell_type": "code",
   "execution_count": null,
   "id": "986703ec",
   "metadata": {},
   "outputs": [],
   "source": []
  },
  {
   "cell_type": "code",
   "execution_count": null,
   "id": "4fc230fe",
   "metadata": {},
   "outputs": [],
   "source": []
  },
  {
   "cell_type": "code",
   "execution_count": null,
   "id": "522f65fe",
   "metadata": {},
   "outputs": [],
   "source": [
    "\n",
    "\n"
   ]
  },
  {
   "cell_type": "code",
   "execution_count": null,
   "id": "825746ad",
   "metadata": {},
   "outputs": [],
   "source": []
  },
  {
   "cell_type": "markdown",
   "id": "d027c06e",
   "metadata": {},
   "source": [
    "# Notebook Main: Common Tasks"
   ]
  },
  {
   "cell_type": "code",
   "execution_count": 241,
   "id": "66433999",
   "metadata": {},
   "outputs": [],
   "source": [
    "df_EnfeySinto=load_from_xml(\"../data/01_raw/enfermedades.xml\")"
   ]
  },
  {
   "cell_type": "code",
   "execution_count": 242,
   "id": "d1b7b07b",
   "metadata": {},
   "outputs": [
    {
     "data": {
      "text/plain": [
       "array(['Muy frecuente (99-80%)', 'Frecuente (79-30%)',\n",
       "       'Ocasional (29-5%)', 'Muy poco frecuente (4-1%)',\n",
       "       'Excluyente (0%)', 'Obligatorio (100%)'], dtype=object)"
      ]
     },
     "execution_count": 242,
     "metadata": {},
     "output_type": "execute_result"
    }
   ],
   "source": [
    "df_EnfeySinto[\"Frecuencia\"].unique()"
   ]
  },
  {
   "cell_type": "code",
   "execution_count": 243,
   "id": "995f4af1",
   "metadata": {},
   "outputs": [
    {
     "name": "stdout",
     "output_type": "stream",
     "text": [
      "Después de filtrado por sintomas filas\n",
      "Enfermedades:  4262\n",
      "Sintomas:  8303\n",
      "Frecuencias:  6\n"
     ]
    }
   ],
   "source": [
    "print (\"Después de filtrado por sintomas filas\")\n",
    "print (\"Enfermedades: \", df_EnfeySinto[\"Enfermedad\"].nunique())\n",
    "print (\"Sintomas: \", df_EnfeySinto[\"Sintoma\"].nunique())\n",
    "print (\"Frecuencias: \", df_EnfeySinto[\"Frecuencia\"].nunique())  "
   ]
  },
  {
   "cell_type": "code",
   "execution_count": 244,
   "id": "8b6a9cd4",
   "metadata": {},
   "outputs": [],
   "source": [
    "df_EnfeySinto_cleaned=eda_data(df_EnfeySinto)"
   ]
  },
  {
   "cell_type": "code",
   "execution_count": 245,
   "id": "a221a462",
   "metadata": {},
   "outputs": [
    {
     "name": "stdout",
     "output_type": "stream",
     "text": [
      "Después de clean\n",
      "Enfermedades:  4187\n",
      "Sintomas:  483\n",
      "Frecuencias:  6\n"
     ]
    }
   ],
   "source": [
    "print (\"Después de clean\")\n",
    "print (\"Enfermedades: \", df_EnfeySinto_cleaned[\"Enfermedad\"].nunique())\n",
    "print (\"Sintomas: \", df_EnfeySinto_cleaned[\"Sintoma\"].nunique())\n",
    "print (\"Frecuencias: \", df_EnfeySinto_cleaned[\"Frecuencia\"].nunique())  "
   ]
  },
  {
   "cell_type": "code",
   "execution_count": 246,
   "id": "3973a5a4",
   "metadata": {},
   "outputs": [],
   "source": [
    "df_EnfeySinto_select=selection_data(df_EnfeySinto_cleaned)\n"
   ]
  },
  {
   "cell_type": "code",
   "execution_count": 247,
   "id": "68a4ed09",
   "metadata": {},
   "outputs": [
    {
     "data": {
      "text/html": [
       "<div>\n",
       "<style scoped>\n",
       "    .dataframe tbody tr th:only-of-type {\n",
       "        vertical-align: middle;\n",
       "    }\n",
       "\n",
       "    .dataframe tbody tr th {\n",
       "        vertical-align: top;\n",
       "    }\n",
       "\n",
       "    .dataframe thead th {\n",
       "        text-align: right;\n",
       "    }\n",
       "</style>\n",
       "<table border=\"1\" class=\"dataframe\">\n",
       "  <thead>\n",
       "    <tr style=\"text-align: right;\">\n",
       "      <th></th>\n",
       "      <th>Id_Enfermedad</th>\n",
       "      <th>Enfermedad</th>\n",
       "      <th>Sintoma</th>\n",
       "      <th>Frecuencia</th>\n",
       "    </tr>\n",
       "  </thead>\n",
       "  <tbody>\n",
       "    <tr>\n",
       "      <th>0</th>\n",
       "      <td>0</td>\n",
       "      <td>Enfermedad de Alexander</td>\n",
       "      <td>Macrocephaly</td>\n",
       "      <td>Muy frecuente (99-80%)</td>\n",
       "    </tr>\n",
       "    <tr>\n",
       "      <th>1</th>\n",
       "      <td>0</td>\n",
       "      <td>Enfermedad de Alexander</td>\n",
       "      <td>Intellectual disability</td>\n",
       "      <td>Muy frecuente (99-80%)</td>\n",
       "    </tr>\n",
       "    <tr>\n",
       "      <th>2</th>\n",
       "      <td>0</td>\n",
       "      <td>Enfermedad de Alexander</td>\n",
       "      <td>Seizure</td>\n",
       "      <td>Muy frecuente (99-80%)</td>\n",
       "    </tr>\n",
       "    <tr>\n",
       "      <th>3</th>\n",
       "      <td>0</td>\n",
       "      <td>Enfermedad de Alexander</td>\n",
       "      <td>Spasticity</td>\n",
       "      <td>Muy frecuente (99-80%)</td>\n",
       "    </tr>\n",
       "    <tr>\n",
       "      <th>4</th>\n",
       "      <td>0</td>\n",
       "      <td>Enfermedad de Alexander</td>\n",
       "      <td>Agenesis of corpus callosum</td>\n",
       "      <td>Muy frecuente (99-80%)</td>\n",
       "    </tr>\n",
       "    <tr>\n",
       "      <th>...</th>\n",
       "      <td>...</td>\n",
       "      <td>...</td>\n",
       "      <td>...</td>\n",
       "      <td>...</td>\n",
       "    </tr>\n",
       "    <tr>\n",
       "      <th>112669</th>\n",
       "      <td>4262</td>\n",
       "      <td>Artrogriposis múltiple congénita miogénica aut...</td>\n",
       "      <td>Depressed nasal bridge</td>\n",
       "      <td>Ocasional (29-5%)</td>\n",
       "    </tr>\n",
       "    <tr>\n",
       "      <th>112671</th>\n",
       "      <td>4262</td>\n",
       "      <td>Artrogriposis múltiple congénita miogénica aut...</td>\n",
       "      <td>Postnatal growth retardation</td>\n",
       "      <td>Ocasional (29-5%)</td>\n",
       "    </tr>\n",
       "    <tr>\n",
       "      <th>112672</th>\n",
       "      <td>4262</td>\n",
       "      <td>Artrogriposis múltiple congénita miogénica aut...</td>\n",
       "      <td>Gastrostomy tube feeding in infancy</td>\n",
       "      <td>Ocasional (29-5%)</td>\n",
       "    </tr>\n",
       "    <tr>\n",
       "      <th>112679</th>\n",
       "      <td>4263</td>\n",
       "      <td>Nevo de cabello lanoso</td>\n",
       "      <td>Fine hair</td>\n",
       "      <td>Muy frecuente (99-80%)</td>\n",
       "    </tr>\n",
       "    <tr>\n",
       "      <th>112684</th>\n",
       "      <td>4263</td>\n",
       "      <td>Nevo de cabello lanoso</td>\n",
       "      <td>Brachydactyly</td>\n",
       "      <td>Ocasional (29-5%)</td>\n",
       "    </tr>\n",
       "  </tbody>\n",
       "</table>\n",
       "<p>55977 rows × 4 columns</p>\n",
       "</div>"
      ],
      "text/plain": [
       "        Id_Enfermedad                                         Enfermedad  \\\n",
       "0                   0                            Enfermedad de Alexander   \n",
       "1                   0                            Enfermedad de Alexander   \n",
       "2                   0                            Enfermedad de Alexander   \n",
       "3                   0                            Enfermedad de Alexander   \n",
       "4                   0                            Enfermedad de Alexander   \n",
       "...               ...                                                ...   \n",
       "112669           4262  Artrogriposis múltiple congénita miogénica aut...   \n",
       "112671           4262  Artrogriposis múltiple congénita miogénica aut...   \n",
       "112672           4262  Artrogriposis múltiple congénita miogénica aut...   \n",
       "112679           4263                             Nevo de cabello lanoso   \n",
       "112684           4263                             Nevo de cabello lanoso   \n",
       "\n",
       "                                    Sintoma              Frecuencia  \n",
       "0                              Macrocephaly  Muy frecuente (99-80%)  \n",
       "1                   Intellectual disability  Muy frecuente (99-80%)  \n",
       "2                                   Seizure  Muy frecuente (99-80%)  \n",
       "3                                Spasticity  Muy frecuente (99-80%)  \n",
       "4               Agenesis of corpus callosum  Muy frecuente (99-80%)  \n",
       "...                                     ...                     ...  \n",
       "112669               Depressed nasal bridge       Ocasional (29-5%)  \n",
       "112671         Postnatal growth retardation       Ocasional (29-5%)  \n",
       "112672  Gastrostomy tube feeding in infancy       Ocasional (29-5%)  \n",
       "112679                            Fine hair  Muy frecuente (99-80%)  \n",
       "112684                        Brachydactyly       Ocasional (29-5%)  \n",
       "\n",
       "[55977 rows x 4 columns]"
      ]
     },
     "execution_count": 247,
     "metadata": {},
     "output_type": "execute_result"
    }
   ],
   "source": [
    "df_EnfeySinto_select"
   ]
  },
  {
   "cell_type": "code",
   "execution_count": 248,
   "id": "2bd473c6",
   "metadata": {},
   "outputs": [
    {
     "name": "stdout",
     "output_type": "stream",
     "text": [
      "Después de clean\n",
      "Enfermedades:  4173\n",
      "Sintomas:  483\n",
      "Frecuencias:  4\n"
     ]
    }
   ],
   "source": [
    "  print (\"Después de clean\")\n",
    "  print (\"Enfermedades: \", df_EnfeySinto_select[\"Enfermedad\"].nunique())\n",
    "  print (\"Sintomas: \", df_EnfeySinto_select[\"Sintoma\"].nunique())\n",
    "  print (\"Frecuencias: \", df_EnfeySinto_select[\"Frecuencia\"].nunique())  \n"
   ]
  },
  {
   "cell_type": "markdown",
   "id": "ccb7c7f7",
   "metadata": {},
   "source": [
    "# Notebook Main: Classifier"
   ]
  },
  {
   "cell_type": "code",
   "execution_count": null,
   "id": "230ac6ab",
   "metadata": {},
   "outputs": [
    {
     "name": "stdout",
     "output_type": "stream",
     "text": [
      "VUELTA:  1\n",
      "Tamaño:  4173\n",
      "VUELTA:  2\n",
      "Tamaño:  8346\n",
      "VUELTA:  3\n",
      "Tamaño:  12519\n",
      "VUELTA:  4\n",
      "Tamaño:  16692\n",
      "VUELTA:  5\n",
      "Tamaño:  20865\n",
      "VUELTA:  6\n",
      "Tamaño:  25038\n",
      "VUELTA:  7\n",
      "Tamaño:  29211\n",
      "VUELTA:  8\n",
      "Tamaño:  33384\n"
     ]
    }
   ],
   "source": [
    "df_train_classifier=generate_data_train_for_classifier (df_EnfeySinto_select,10)"
   ]
  },
  {
   "cell_type": "code",
   "execution_count": null,
   "id": "7d3fe0d7",
   "metadata": {},
   "outputs": [],
   "source": [
    "\n"
   ]
  },
  {
   "cell_type": "code",
   "execution_count": null,
   "id": "11907092",
   "metadata": {},
   "outputs": [],
   "source": [
    "df_train_classifier"
   ]
  },
  {
   "cell_type": "code",
   "execution_count": null,
   "id": "cd6a3d60",
   "metadata": {},
   "outputs": [],
   "source": [
    "df_train,rf,target,X_test,y_test, X_train, y_train=train_data_classifier(df_train_classifier)"
   ]
  },
  {
   "cell_type": "code",
   "execution_count": null,
   "id": "34056eeb",
   "metadata": {},
   "outputs": [],
   "source": [
    "rf"
   ]
  },
  {
   "cell_type": "code",
   "execution_count": null,
   "id": "52e852dc",
   "metadata": {},
   "outputs": [],
   "source": [
    "evaluate_classifier (rf, X_test, y_test)\n"
   ]
  },
  {
   "cell_type": "markdown",
   "id": "6de28ccd",
   "metadata": {},
   "source": [
    "# Notebook Main: Recomendator"
   ]
  },
  {
   "cell_type": "markdown",
   "id": "ee2b273e",
   "metadata": {},
   "source": [
    "## Datos Ratings Matrix"
   ]
  },
  {
   "cell_type": "code",
   "execution_count": 292,
   "id": "630df42e",
   "metadata": {},
   "outputs": [
    {
     "data": {
      "text/html": [
       "<div>\n",
       "<style scoped>\n",
       "    .dataframe tbody tr th:only-of-type {\n",
       "        vertical-align: middle;\n",
       "    }\n",
       "\n",
       "    .dataframe tbody tr th {\n",
       "        vertical-align: top;\n",
       "    }\n",
       "\n",
       "    .dataframe thead th {\n",
       "        text-align: right;\n",
       "    }\n",
       "</style>\n",
       "<table border=\"1\" class=\"dataframe\">\n",
       "  <thead>\n",
       "    <tr style=\"text-align: right;\">\n",
       "      <th></th>\n",
       "      <th>Enfermedad</th>\n",
       "      <th>Sintoma</th>\n",
       "      <th>Frecuencia</th>\n",
       "    </tr>\n",
       "  </thead>\n",
       "  <tbody>\n",
       "    <tr>\n",
       "      <th>0</th>\n",
       "      <td>Enfermedad de Alexander</td>\n",
       "      <td>Macrocephaly</td>\n",
       "      <td>Muy frecuente (99-80%)</td>\n",
       "    </tr>\n",
       "    <tr>\n",
       "      <th>1</th>\n",
       "      <td>Enfermedad de Alexander</td>\n",
       "      <td>Intellectual disability</td>\n",
       "      <td>Muy frecuente (99-80%)</td>\n",
       "    </tr>\n",
       "    <tr>\n",
       "      <th>2</th>\n",
       "      <td>Enfermedad de Alexander</td>\n",
       "      <td>Seizure</td>\n",
       "      <td>Muy frecuente (99-80%)</td>\n",
       "    </tr>\n",
       "    <tr>\n",
       "      <th>3</th>\n",
       "      <td>Enfermedad de Alexander</td>\n",
       "      <td>Spasticity</td>\n",
       "      <td>Muy frecuente (99-80%)</td>\n",
       "    </tr>\n",
       "    <tr>\n",
       "      <th>4</th>\n",
       "      <td>Enfermedad de Alexander</td>\n",
       "      <td>Agenesis of corpus callosum</td>\n",
       "      <td>Muy frecuente (99-80%)</td>\n",
       "    </tr>\n",
       "    <tr>\n",
       "      <th>...</th>\n",
       "      <td>...</td>\n",
       "      <td>...</td>\n",
       "      <td>...</td>\n",
       "    </tr>\n",
       "    <tr>\n",
       "      <th>112669</th>\n",
       "      <td>Artrogriposis múltiple congénita miogénica aut...</td>\n",
       "      <td>Depressed nasal bridge</td>\n",
       "      <td>Ocasional (29-5%)</td>\n",
       "    </tr>\n",
       "    <tr>\n",
       "      <th>112671</th>\n",
       "      <td>Artrogriposis múltiple congénita miogénica aut...</td>\n",
       "      <td>Postnatal growth retardation</td>\n",
       "      <td>Ocasional (29-5%)</td>\n",
       "    </tr>\n",
       "    <tr>\n",
       "      <th>112672</th>\n",
       "      <td>Artrogriposis múltiple congénita miogénica aut...</td>\n",
       "      <td>Gastrostomy tube feeding in infancy</td>\n",
       "      <td>Ocasional (29-5%)</td>\n",
       "    </tr>\n",
       "    <tr>\n",
       "      <th>112679</th>\n",
       "      <td>Nevo de cabello lanoso</td>\n",
       "      <td>Fine hair</td>\n",
       "      <td>Muy frecuente (99-80%)</td>\n",
       "    </tr>\n",
       "    <tr>\n",
       "      <th>112684</th>\n",
       "      <td>Nevo de cabello lanoso</td>\n",
       "      <td>Brachydactyly</td>\n",
       "      <td>Ocasional (29-5%)</td>\n",
       "    </tr>\n",
       "  </tbody>\n",
       "</table>\n",
       "<p>55977 rows × 3 columns</p>\n",
       "</div>"
      ],
      "text/plain": [
       "                                               Enfermedad  \\\n",
       "0                                 Enfermedad de Alexander   \n",
       "1                                 Enfermedad de Alexander   \n",
       "2                                 Enfermedad de Alexander   \n",
       "3                                 Enfermedad de Alexander   \n",
       "4                                 Enfermedad de Alexander   \n",
       "...                                                   ...   \n",
       "112669  Artrogriposis múltiple congénita miogénica aut...   \n",
       "112671  Artrogriposis múltiple congénita miogénica aut...   \n",
       "112672  Artrogriposis múltiple congénita miogénica aut...   \n",
       "112679                             Nevo de cabello lanoso   \n",
       "112684                             Nevo de cabello lanoso   \n",
       "\n",
       "                                    Sintoma              Frecuencia  \n",
       "0                              Macrocephaly  Muy frecuente (99-80%)  \n",
       "1                   Intellectual disability  Muy frecuente (99-80%)  \n",
       "2                                   Seizure  Muy frecuente (99-80%)  \n",
       "3                                Spasticity  Muy frecuente (99-80%)  \n",
       "4               Agenesis of corpus callosum  Muy frecuente (99-80%)  \n",
       "...                                     ...                     ...  \n",
       "112669               Depressed nasal bridge       Ocasional (29-5%)  \n",
       "112671         Postnatal growth retardation       Ocasional (29-5%)  \n",
       "112672  Gastrostomy tube feeding in infancy       Ocasional (29-5%)  \n",
       "112679                            Fine hair  Muy frecuente (99-80%)  \n",
       "112684                        Brachydactyly       Ocasional (29-5%)  \n",
       "\n",
       "[55977 rows x 3 columns]"
      ]
     },
     "execution_count": 292,
     "metadata": {},
     "output_type": "execute_result"
    }
   ],
   "source": [
    "df_EnfeySinto_select_no_id=df_EnfeySinto_select.drop(\"Id_Enfermedad\", axis=1)\n",
    "df_EnfeySinto_select_no_id"
   ]
  },
  {
   "cell_type": "code",
   "execution_count": null,
   "id": "5dcd16ab",
   "metadata": {},
   "outputs": [],
   "source": []
  },
  {
   "cell_type": "code",
   "execution_count": 293,
   "id": "ef803ecb",
   "metadata": {},
   "outputs": [
    {
     "data": {
      "text/html": [
       "<div>\n",
       "<style scoped>\n",
       "    .dataframe tbody tr th:only-of-type {\n",
       "        vertical-align: middle;\n",
       "    }\n",
       "\n",
       "    .dataframe tbody tr th {\n",
       "        vertical-align: top;\n",
       "    }\n",
       "\n",
       "    .dataframe thead th {\n",
       "        text-align: right;\n",
       "    }\n",
       "</style>\n",
       "<table border=\"1\" class=\"dataframe\">\n",
       "  <thead>\n",
       "    <tr style=\"text-align: right;\">\n",
       "      <th></th>\n",
       "      <th>index</th>\n",
       "      <th>Enfermedad</th>\n",
       "    </tr>\n",
       "  </thead>\n",
       "  <tbody>\n",
       "    <tr>\n",
       "      <th>0</th>\n",
       "      <td>0</td>\n",
       "      <td>AICA ribosiduria</td>\n",
       "    </tr>\n",
       "    <tr>\n",
       "      <th>1</th>\n",
       "      <td>1</td>\n",
       "      <td>ALG1-CDG</td>\n",
       "    </tr>\n",
       "    <tr>\n",
       "      <th>2</th>\n",
       "      <td>2</td>\n",
       "      <td>ALG11-CDG</td>\n",
       "    </tr>\n",
       "    <tr>\n",
       "      <th>3</th>\n",
       "      <td>3</td>\n",
       "      <td>ALG12-CDG</td>\n",
       "    </tr>\n",
       "    <tr>\n",
       "      <th>4</th>\n",
       "      <td>4</td>\n",
       "      <td>ALG13-CDG</td>\n",
       "    </tr>\n",
       "    <tr>\n",
       "      <th>...</th>\n",
       "      <td>...</td>\n",
       "      <td>...</td>\n",
       "    </tr>\n",
       "    <tr>\n",
       "      <th>4168</th>\n",
       "      <td>4168</td>\n",
       "      <td>Xeroderma pigmentoso</td>\n",
       "    </tr>\n",
       "    <tr>\n",
       "      <th>4169</th>\n",
       "      <td>4169</td>\n",
       "      <td>Xeroderma pigmentoso tipo variante</td>\n",
       "    </tr>\n",
       "    <tr>\n",
       "      <th>4170</th>\n",
       "      <td>4170</td>\n",
       "      <td>Zigomicosis</td>\n",
       "    </tr>\n",
       "    <tr>\n",
       "      <th>4171</th>\n",
       "      <td>4171</td>\n",
       "      <td>síndrome de talla baja-sordera-disfunción neut...</td>\n",
       "    </tr>\n",
       "    <tr>\n",
       "      <th>4172</th>\n",
       "      <td>4172</td>\n",
       "      <td>Úvula bífida</td>\n",
       "    </tr>\n",
       "  </tbody>\n",
       "</table>\n",
       "<p>4173 rows × 2 columns</p>\n",
       "</div>"
      ],
      "text/plain": [
       "      index                                         Enfermedad\n",
       "0         0                                   AICA ribosiduria\n",
       "1         1                                           ALG1-CDG\n",
       "2         2                                          ALG11-CDG\n",
       "3         3                                          ALG12-CDG\n",
       "4         4                                          ALG13-CDG\n",
       "...     ...                                                ...\n",
       "4168   4168                               Xeroderma pigmentoso\n",
       "4169   4169                 Xeroderma pigmentoso tipo variante\n",
       "4170   4170                                        Zigomicosis\n",
       "4171   4171  síndrome de talla baja-sordera-disfunción neut...\n",
       "4172   4172                                       Úvula bífida\n",
       "\n",
       "[4173 rows x 2 columns]"
      ]
     },
     "execution_count": 293,
     "metadata": {},
     "output_type": "execute_result"
    }
   ],
   "source": [
    "df_Enfermedades=df_EnfeySinto_select_no_id.groupby ([\"Enfermedad\"]).count().reset_index()\n",
    "df_Enfermedades=df_Enfermedades.drop([\"Sintoma\",\"Frecuencia\"], axis=1)\n",
    "df_Enfermedades=df_Enfermedades.reset_index()\n",
    "df_Enfermedades"
   ]
  },
  {
   "cell_type": "code",
   "execution_count": 294,
   "id": "9f2c3933",
   "metadata": {},
   "outputs": [
    {
     "data": {
      "text/html": [
       "<div>\n",
       "<style scoped>\n",
       "    .dataframe tbody tr th:only-of-type {\n",
       "        vertical-align: middle;\n",
       "    }\n",
       "\n",
       "    .dataframe tbody tr th {\n",
       "        vertical-align: top;\n",
       "    }\n",
       "\n",
       "    .dataframe thead th {\n",
       "        text-align: right;\n",
       "    }\n",
       "</style>\n",
       "<table border=\"1\" class=\"dataframe\">\n",
       "  <thead>\n",
       "    <tr style=\"text-align: right;\">\n",
       "      <th></th>\n",
       "      <th>Sintoma</th>\n",
       "    </tr>\n",
       "  </thead>\n",
       "  <tbody>\n",
       "    <tr>\n",
       "      <th>0</th>\n",
       "      <td>Abdominal distention</td>\n",
       "    </tr>\n",
       "    <tr>\n",
       "      <th>1</th>\n",
       "      <td>Abdominal pain</td>\n",
       "    </tr>\n",
       "    <tr>\n",
       "      <th>2</th>\n",
       "      <td>Abnormal bleeding</td>\n",
       "    </tr>\n",
       "    <tr>\n",
       "      <th>3</th>\n",
       "      <td>Abnormal blistering of the skin</td>\n",
       "    </tr>\n",
       "    <tr>\n",
       "      <th>4</th>\n",
       "      <td>Abnormal cardiac septum morphology</td>\n",
       "    </tr>\n",
       "    <tr>\n",
       "      <th>...</th>\n",
       "      <td>...</td>\n",
       "    </tr>\n",
       "    <tr>\n",
       "      <th>478</th>\n",
       "      <td>Weight loss</td>\n",
       "    </tr>\n",
       "    <tr>\n",
       "      <th>479</th>\n",
       "      <td>Wide intermamillary distance</td>\n",
       "    </tr>\n",
       "    <tr>\n",
       "      <th>480</th>\n",
       "      <td>Wide mouth</td>\n",
       "    </tr>\n",
       "    <tr>\n",
       "      <th>481</th>\n",
       "      <td>Wide nasal bridge</td>\n",
       "    </tr>\n",
       "    <tr>\n",
       "      <th>482</th>\n",
       "      <td>Wide nose</td>\n",
       "    </tr>\n",
       "  </tbody>\n",
       "</table>\n",
       "<p>483 rows × 1 columns</p>\n",
       "</div>"
      ],
      "text/plain": [
       "                                Sintoma\n",
       "0                  Abdominal distention\n",
       "1                        Abdominal pain\n",
       "2                     Abnormal bleeding\n",
       "3       Abnormal blistering of the skin\n",
       "4    Abnormal cardiac septum morphology\n",
       "..                                  ...\n",
       "478                         Weight loss\n",
       "479        Wide intermamillary distance\n",
       "480                          Wide mouth\n",
       "481                   Wide nasal bridge\n",
       "482                           Wide nose\n",
       "\n",
       "[483 rows x 1 columns]"
      ]
     },
     "execution_count": 294,
     "metadata": {},
     "output_type": "execute_result"
    }
   ],
   "source": [
    "df_Sintomas=df_EnfeySinto_select_no_id.groupby ([\"Sintoma\"]).count().reset_index()\n",
    "df_Sintomas=df_Sintomas.drop([\"Enfermedad\",\"Frecuencia\"], axis=1)\n",
    "df_Sintomas"
   ]
  },
  {
   "cell_type": "code",
   "execution_count": null,
   "id": "26a35b2a",
   "metadata": {},
   "outputs": [],
   "source": []
  },
  {
   "cell_type": "code",
   "execution_count": null,
   "id": "77ef69f3",
   "metadata": {},
   "outputs": [],
   "source": []
  },
  {
   "cell_type": "code",
   "execution_count": 296,
   "id": "76167759",
   "metadata": {},
   "outputs": [
    {
     "name": "stdout",
     "output_type": "stream",
     "text": [
      "VUELTA:  1\n",
      "Tamaño:  4173\n",
      "CPU times: user 6.46 s, sys: 693 ms, total: 7.15 s\n",
      "Wall time: 7.17 s\n"
     ]
    }
   ],
   "source": [
    "%%time\n",
    "df_train_generated=generate_data_matrix_ratings (df_EnfeySinto_select_no_id, 1)"
   ]
  },
  {
   "cell_type": "code",
   "execution_count": 297,
   "id": "652f38a2",
   "metadata": {},
   "outputs": [
    {
     "data": {
      "text/html": [
       "<div>\n",
       "<style scoped>\n",
       "    .dataframe tbody tr th:only-of-type {\n",
       "        vertical-align: middle;\n",
       "    }\n",
       "\n",
       "    .dataframe tbody tr th {\n",
       "        vertical-align: top;\n",
       "    }\n",
       "\n",
       "    .dataframe thead th {\n",
       "        text-align: right;\n",
       "    }\n",
       "</style>\n",
       "<table border=\"1\" class=\"dataframe\">\n",
       "  <thead>\n",
       "    <tr style=\"text-align: right;\">\n",
       "      <th>Sintoma</th>\n",
       "      <th>Abdominal distention</th>\n",
       "      <th>Abdominal pain</th>\n",
       "      <th>Abnormal bleeding</th>\n",
       "      <th>Abnormal blistering of the skin</th>\n",
       "      <th>Abnormal cardiac septum morphology</th>\n",
       "      <th>Abnormal cerebral white matter morphology</th>\n",
       "      <th>Abnormal dermatoglyphics</th>\n",
       "      <th>Abnormal enzyme/coenzyme activity</th>\n",
       "      <th>Abnormal facial shape</th>\n",
       "      <th>Abnormal fingernail morphology</th>\n",
       "      <th>...</th>\n",
       "      <th>Visual impairment</th>\n",
       "      <th>Visual loss</th>\n",
       "      <th>Vomiting</th>\n",
       "      <th>Waddling gait</th>\n",
       "      <th>Webbed neck</th>\n",
       "      <th>Weight loss</th>\n",
       "      <th>Wide intermamillary distance</th>\n",
       "      <th>Wide mouth</th>\n",
       "      <th>Wide nasal bridge</th>\n",
       "      <th>Wide nose</th>\n",
       "    </tr>\n",
       "  </thead>\n",
       "  <tbody>\n",
       "    <tr>\n",
       "      <th>0</th>\n",
       "      <td>0</td>\n",
       "      <td>0</td>\n",
       "      <td>0</td>\n",
       "      <td>0</td>\n",
       "      <td>0</td>\n",
       "      <td>0</td>\n",
       "      <td>0</td>\n",
       "      <td>0</td>\n",
       "      <td>0</td>\n",
       "      <td>0</td>\n",
       "      <td>...</td>\n",
       "      <td>0</td>\n",
       "      <td>0</td>\n",
       "      <td>0</td>\n",
       "      <td>0</td>\n",
       "      <td>0</td>\n",
       "      <td>0</td>\n",
       "      <td>0</td>\n",
       "      <td>3</td>\n",
       "      <td>0</td>\n",
       "      <td>0</td>\n",
       "    </tr>\n",
       "    <tr>\n",
       "      <th>1</th>\n",
       "      <td>0</td>\n",
       "      <td>0</td>\n",
       "      <td>0</td>\n",
       "      <td>0</td>\n",
       "      <td>0</td>\n",
       "      <td>0</td>\n",
       "      <td>0</td>\n",
       "      <td>0</td>\n",
       "      <td>2</td>\n",
       "      <td>0</td>\n",
       "      <td>...</td>\n",
       "      <td>0</td>\n",
       "      <td>0</td>\n",
       "      <td>0</td>\n",
       "      <td>0</td>\n",
       "      <td>0</td>\n",
       "      <td>0</td>\n",
       "      <td>0</td>\n",
       "      <td>0</td>\n",
       "      <td>0</td>\n",
       "      <td>0</td>\n",
       "    </tr>\n",
       "    <tr>\n",
       "      <th>2</th>\n",
       "      <td>0</td>\n",
       "      <td>0</td>\n",
       "      <td>0</td>\n",
       "      <td>0</td>\n",
       "      <td>0</td>\n",
       "      <td>1</td>\n",
       "      <td>0</td>\n",
       "      <td>0</td>\n",
       "      <td>2</td>\n",
       "      <td>0</td>\n",
       "      <td>...</td>\n",
       "      <td>0</td>\n",
       "      <td>0</td>\n",
       "      <td>0</td>\n",
       "      <td>0</td>\n",
       "      <td>0</td>\n",
       "      <td>0</td>\n",
       "      <td>0</td>\n",
       "      <td>0</td>\n",
       "      <td>0</td>\n",
       "      <td>0</td>\n",
       "    </tr>\n",
       "    <tr>\n",
       "      <th>3</th>\n",
       "      <td>0</td>\n",
       "      <td>0</td>\n",
       "      <td>0</td>\n",
       "      <td>0</td>\n",
       "      <td>0</td>\n",
       "      <td>0</td>\n",
       "      <td>0</td>\n",
       "      <td>4</td>\n",
       "      <td>1</td>\n",
       "      <td>0</td>\n",
       "      <td>...</td>\n",
       "      <td>0</td>\n",
       "      <td>0</td>\n",
       "      <td>0</td>\n",
       "      <td>0</td>\n",
       "      <td>0</td>\n",
       "      <td>0</td>\n",
       "      <td>0</td>\n",
       "      <td>0</td>\n",
       "      <td>0</td>\n",
       "      <td>1</td>\n",
       "    </tr>\n",
       "    <tr>\n",
       "      <th>4</th>\n",
       "      <td>0</td>\n",
       "      <td>0</td>\n",
       "      <td>0</td>\n",
       "      <td>0</td>\n",
       "      <td>0</td>\n",
       "      <td>0</td>\n",
       "      <td>0</td>\n",
       "      <td>0</td>\n",
       "      <td>0</td>\n",
       "      <td>0</td>\n",
       "      <td>...</td>\n",
       "      <td>0</td>\n",
       "      <td>0</td>\n",
       "      <td>0</td>\n",
       "      <td>0</td>\n",
       "      <td>0</td>\n",
       "      <td>0</td>\n",
       "      <td>0</td>\n",
       "      <td>0</td>\n",
       "      <td>0</td>\n",
       "      <td>0</td>\n",
       "    </tr>\n",
       "    <tr>\n",
       "      <th>...</th>\n",
       "      <td>...</td>\n",
       "      <td>...</td>\n",
       "      <td>...</td>\n",
       "      <td>...</td>\n",
       "      <td>...</td>\n",
       "      <td>...</td>\n",
       "      <td>...</td>\n",
       "      <td>...</td>\n",
       "      <td>...</td>\n",
       "      <td>...</td>\n",
       "      <td>...</td>\n",
       "      <td>...</td>\n",
       "      <td>...</td>\n",
       "      <td>...</td>\n",
       "      <td>...</td>\n",
       "      <td>...</td>\n",
       "      <td>...</td>\n",
       "      <td>...</td>\n",
       "      <td>...</td>\n",
       "      <td>...</td>\n",
       "      <td>...</td>\n",
       "    </tr>\n",
       "    <tr>\n",
       "      <th>4168</th>\n",
       "      <td>0</td>\n",
       "      <td>0</td>\n",
       "      <td>0</td>\n",
       "      <td>0</td>\n",
       "      <td>0</td>\n",
       "      <td>0</td>\n",
       "      <td>0</td>\n",
       "      <td>0</td>\n",
       "      <td>0</td>\n",
       "      <td>0</td>\n",
       "      <td>...</td>\n",
       "      <td>0</td>\n",
       "      <td>0</td>\n",
       "      <td>0</td>\n",
       "      <td>0</td>\n",
       "      <td>0</td>\n",
       "      <td>0</td>\n",
       "      <td>0</td>\n",
       "      <td>0</td>\n",
       "      <td>0</td>\n",
       "      <td>0</td>\n",
       "    </tr>\n",
       "    <tr>\n",
       "      <th>4169</th>\n",
       "      <td>0</td>\n",
       "      <td>0</td>\n",
       "      <td>0</td>\n",
       "      <td>0</td>\n",
       "      <td>0</td>\n",
       "      <td>0</td>\n",
       "      <td>0</td>\n",
       "      <td>0</td>\n",
       "      <td>0</td>\n",
       "      <td>0</td>\n",
       "      <td>...</td>\n",
       "      <td>0</td>\n",
       "      <td>0</td>\n",
       "      <td>0</td>\n",
       "      <td>0</td>\n",
       "      <td>0</td>\n",
       "      <td>0</td>\n",
       "      <td>0</td>\n",
       "      <td>0</td>\n",
       "      <td>0</td>\n",
       "      <td>0</td>\n",
       "    </tr>\n",
       "    <tr>\n",
       "      <th>4170</th>\n",
       "      <td>0</td>\n",
       "      <td>1</td>\n",
       "      <td>0</td>\n",
       "      <td>1</td>\n",
       "      <td>0</td>\n",
       "      <td>0</td>\n",
       "      <td>0</td>\n",
       "      <td>0</td>\n",
       "      <td>0</td>\n",
       "      <td>0</td>\n",
       "      <td>...</td>\n",
       "      <td>0</td>\n",
       "      <td>1</td>\n",
       "      <td>1</td>\n",
       "      <td>0</td>\n",
       "      <td>0</td>\n",
       "      <td>0</td>\n",
       "      <td>0</td>\n",
       "      <td>0</td>\n",
       "      <td>0</td>\n",
       "      <td>0</td>\n",
       "    </tr>\n",
       "    <tr>\n",
       "      <th>4171</th>\n",
       "      <td>0</td>\n",
       "      <td>0</td>\n",
       "      <td>0</td>\n",
       "      <td>0</td>\n",
       "      <td>0</td>\n",
       "      <td>0</td>\n",
       "      <td>0</td>\n",
       "      <td>0</td>\n",
       "      <td>0</td>\n",
       "      <td>0</td>\n",
       "      <td>...</td>\n",
       "      <td>0</td>\n",
       "      <td>0</td>\n",
       "      <td>0</td>\n",
       "      <td>0</td>\n",
       "      <td>0</td>\n",
       "      <td>0</td>\n",
       "      <td>0</td>\n",
       "      <td>0</td>\n",
       "      <td>0</td>\n",
       "      <td>0</td>\n",
       "    </tr>\n",
       "    <tr>\n",
       "      <th>4172</th>\n",
       "      <td>0</td>\n",
       "      <td>0</td>\n",
       "      <td>0</td>\n",
       "      <td>0</td>\n",
       "      <td>0</td>\n",
       "      <td>0</td>\n",
       "      <td>0</td>\n",
       "      <td>0</td>\n",
       "      <td>0</td>\n",
       "      <td>0</td>\n",
       "      <td>...</td>\n",
       "      <td>0</td>\n",
       "      <td>0</td>\n",
       "      <td>0</td>\n",
       "      <td>0</td>\n",
       "      <td>0</td>\n",
       "      <td>0</td>\n",
       "      <td>0</td>\n",
       "      <td>0</td>\n",
       "      <td>0</td>\n",
       "      <td>0</td>\n",
       "    </tr>\n",
       "  </tbody>\n",
       "</table>\n",
       "<p>4173 rows × 483 columns</p>\n",
       "</div>"
      ],
      "text/plain": [
       "Sintoma  Abdominal distention  Abdominal pain  Abnormal bleeding  \\\n",
       "0                           0               0                  0   \n",
       "1                           0               0                  0   \n",
       "2                           0               0                  0   \n",
       "3                           0               0                  0   \n",
       "4                           0               0                  0   \n",
       "...                       ...             ...                ...   \n",
       "4168                        0               0                  0   \n",
       "4169                        0               0                  0   \n",
       "4170                        0               1                  0   \n",
       "4171                        0               0                  0   \n",
       "4172                        0               0                  0   \n",
       "\n",
       "Sintoma  Abnormal blistering of the skin  Abnormal cardiac septum morphology  \\\n",
       "0                                      0                                   0   \n",
       "1                                      0                                   0   \n",
       "2                                      0                                   0   \n",
       "3                                      0                                   0   \n",
       "4                                      0                                   0   \n",
       "...                                  ...                                 ...   \n",
       "4168                                   0                                   0   \n",
       "4169                                   0                                   0   \n",
       "4170                                   1                                   0   \n",
       "4171                                   0                                   0   \n",
       "4172                                   0                                   0   \n",
       "\n",
       "Sintoma  Abnormal cerebral white matter morphology  Abnormal dermatoglyphics  \\\n",
       "0                                                0                         0   \n",
       "1                                                0                         0   \n",
       "2                                                1                         0   \n",
       "3                                                0                         0   \n",
       "4                                                0                         0   \n",
       "...                                            ...                       ...   \n",
       "4168                                             0                         0   \n",
       "4169                                             0                         0   \n",
       "4170                                             0                         0   \n",
       "4171                                             0                         0   \n",
       "4172                                             0                         0   \n",
       "\n",
       "Sintoma  Abnormal enzyme/coenzyme activity  Abnormal facial shape  \\\n",
       "0                                        0                      0   \n",
       "1                                        0                      2   \n",
       "2                                        0                      2   \n",
       "3                                        4                      1   \n",
       "4                                        0                      0   \n",
       "...                                    ...                    ...   \n",
       "4168                                     0                      0   \n",
       "4169                                     0                      0   \n",
       "4170                                     0                      0   \n",
       "4171                                     0                      0   \n",
       "4172                                     0                      0   \n",
       "\n",
       "Sintoma  Abnormal fingernail morphology  ...  Visual impairment  Visual loss  \\\n",
       "0                                     0  ...                  0            0   \n",
       "1                                     0  ...                  0            0   \n",
       "2                                     0  ...                  0            0   \n",
       "3                                     0  ...                  0            0   \n",
       "4                                     0  ...                  0            0   \n",
       "...                                 ...  ...                ...          ...   \n",
       "4168                                  0  ...                  0            0   \n",
       "4169                                  0  ...                  0            0   \n",
       "4170                                  0  ...                  0            1   \n",
       "4171                                  0  ...                  0            0   \n",
       "4172                                  0  ...                  0            0   \n",
       "\n",
       "Sintoma  Vomiting  Waddling gait  Webbed neck  Weight loss  \\\n",
       "0               0              0            0            0   \n",
       "1               0              0            0            0   \n",
       "2               0              0            0            0   \n",
       "3               0              0            0            0   \n",
       "4               0              0            0            0   \n",
       "...           ...            ...          ...          ...   \n",
       "4168            0              0            0            0   \n",
       "4169            0              0            0            0   \n",
       "4170            1              0            0            0   \n",
       "4171            0              0            0            0   \n",
       "4172            0              0            0            0   \n",
       "\n",
       "Sintoma  Wide intermamillary distance  Wide mouth  Wide nasal bridge  \\\n",
       "0                                   0           3                  0   \n",
       "1                                   0           0                  0   \n",
       "2                                   0           0                  0   \n",
       "3                                   0           0                  0   \n",
       "4                                   0           0                  0   \n",
       "...                               ...         ...                ...   \n",
       "4168                                0           0                  0   \n",
       "4169                                0           0                  0   \n",
       "4170                                0           0                  0   \n",
       "4171                                0           0                  0   \n",
       "4172                                0           0                  0   \n",
       "\n",
       "Sintoma  Wide nose  \n",
       "0                0  \n",
       "1                0  \n",
       "2                0  \n",
       "3                1  \n",
       "4                0  \n",
       "...            ...  \n",
       "4168             0  \n",
       "4169             0  \n",
       "4170             0  \n",
       "4171             0  \n",
       "4172             0  \n",
       "\n",
       "[4173 rows x 483 columns]"
      ]
     },
     "execution_count": 297,
     "metadata": {},
     "output_type": "execute_result"
    }
   ],
   "source": [
    "df_train_generated"
   ]
  },
  {
   "cell_type": "code",
   "execution_count": 300,
   "id": "6833a24f",
   "metadata": {},
   "outputs": [
    {
     "data": {
      "text/html": [
       "<div>\n",
       "<style scoped>\n",
       "    .dataframe tbody tr th:only-of-type {\n",
       "        vertical-align: middle;\n",
       "    }\n",
       "\n",
       "    .dataframe tbody tr th {\n",
       "        vertical-align: top;\n",
       "    }\n",
       "\n",
       "    .dataframe thead th {\n",
       "        text-align: right;\n",
       "    }\n",
       "</style>\n",
       "<table border=\"1\" class=\"dataframe\">\n",
       "  <thead>\n",
       "    <tr style=\"text-align: right;\">\n",
       "      <th>Sintoma</th>\n",
       "      <th>0</th>\n",
       "      <th>1</th>\n",
       "      <th>2</th>\n",
       "      <th>3</th>\n",
       "      <th>4</th>\n",
       "      <th>5</th>\n",
       "      <th>6</th>\n",
       "      <th>7</th>\n",
       "      <th>8</th>\n",
       "      <th>9</th>\n",
       "      <th>...</th>\n",
       "      <th>473</th>\n",
       "      <th>474</th>\n",
       "      <th>475</th>\n",
       "      <th>476</th>\n",
       "      <th>477</th>\n",
       "      <th>478</th>\n",
       "      <th>479</th>\n",
       "      <th>480</th>\n",
       "      <th>481</th>\n",
       "      <th>482</th>\n",
       "    </tr>\n",
       "  </thead>\n",
       "  <tbody>\n",
       "    <tr>\n",
       "      <th>0</th>\n",
       "      <td>0</td>\n",
       "      <td>0</td>\n",
       "      <td>0</td>\n",
       "      <td>0</td>\n",
       "      <td>0</td>\n",
       "      <td>0</td>\n",
       "      <td>0</td>\n",
       "      <td>0</td>\n",
       "      <td>0</td>\n",
       "      <td>0</td>\n",
       "      <td>...</td>\n",
       "      <td>0</td>\n",
       "      <td>0</td>\n",
       "      <td>0</td>\n",
       "      <td>0</td>\n",
       "      <td>0</td>\n",
       "      <td>0</td>\n",
       "      <td>0</td>\n",
       "      <td>3</td>\n",
       "      <td>0</td>\n",
       "      <td>0</td>\n",
       "    </tr>\n",
       "    <tr>\n",
       "      <th>1</th>\n",
       "      <td>0</td>\n",
       "      <td>0</td>\n",
       "      <td>0</td>\n",
       "      <td>0</td>\n",
       "      <td>0</td>\n",
       "      <td>0</td>\n",
       "      <td>0</td>\n",
       "      <td>0</td>\n",
       "      <td>2</td>\n",
       "      <td>0</td>\n",
       "      <td>...</td>\n",
       "      <td>0</td>\n",
       "      <td>0</td>\n",
       "      <td>0</td>\n",
       "      <td>0</td>\n",
       "      <td>0</td>\n",
       "      <td>0</td>\n",
       "      <td>0</td>\n",
       "      <td>0</td>\n",
       "      <td>0</td>\n",
       "      <td>0</td>\n",
       "    </tr>\n",
       "    <tr>\n",
       "      <th>2</th>\n",
       "      <td>0</td>\n",
       "      <td>0</td>\n",
       "      <td>0</td>\n",
       "      <td>0</td>\n",
       "      <td>0</td>\n",
       "      <td>1</td>\n",
       "      <td>0</td>\n",
       "      <td>0</td>\n",
       "      <td>2</td>\n",
       "      <td>0</td>\n",
       "      <td>...</td>\n",
       "      <td>0</td>\n",
       "      <td>0</td>\n",
       "      <td>0</td>\n",
       "      <td>0</td>\n",
       "      <td>0</td>\n",
       "      <td>0</td>\n",
       "      <td>0</td>\n",
       "      <td>0</td>\n",
       "      <td>0</td>\n",
       "      <td>0</td>\n",
       "    </tr>\n",
       "    <tr>\n",
       "      <th>3</th>\n",
       "      <td>0</td>\n",
       "      <td>0</td>\n",
       "      <td>0</td>\n",
       "      <td>0</td>\n",
       "      <td>0</td>\n",
       "      <td>0</td>\n",
       "      <td>0</td>\n",
       "      <td>4</td>\n",
       "      <td>1</td>\n",
       "      <td>0</td>\n",
       "      <td>...</td>\n",
       "      <td>0</td>\n",
       "      <td>0</td>\n",
       "      <td>0</td>\n",
       "      <td>0</td>\n",
       "      <td>0</td>\n",
       "      <td>0</td>\n",
       "      <td>0</td>\n",
       "      <td>0</td>\n",
       "      <td>0</td>\n",
       "      <td>1</td>\n",
       "    </tr>\n",
       "    <tr>\n",
       "      <th>4</th>\n",
       "      <td>0</td>\n",
       "      <td>0</td>\n",
       "      <td>0</td>\n",
       "      <td>0</td>\n",
       "      <td>0</td>\n",
       "      <td>0</td>\n",
       "      <td>0</td>\n",
       "      <td>0</td>\n",
       "      <td>0</td>\n",
       "      <td>0</td>\n",
       "      <td>...</td>\n",
       "      <td>0</td>\n",
       "      <td>0</td>\n",
       "      <td>0</td>\n",
       "      <td>0</td>\n",
       "      <td>0</td>\n",
       "      <td>0</td>\n",
       "      <td>0</td>\n",
       "      <td>0</td>\n",
       "      <td>0</td>\n",
       "      <td>0</td>\n",
       "    </tr>\n",
       "    <tr>\n",
       "      <th>...</th>\n",
       "      <td>...</td>\n",
       "      <td>...</td>\n",
       "      <td>...</td>\n",
       "      <td>...</td>\n",
       "      <td>...</td>\n",
       "      <td>...</td>\n",
       "      <td>...</td>\n",
       "      <td>...</td>\n",
       "      <td>...</td>\n",
       "      <td>...</td>\n",
       "      <td>...</td>\n",
       "      <td>...</td>\n",
       "      <td>...</td>\n",
       "      <td>...</td>\n",
       "      <td>...</td>\n",
       "      <td>...</td>\n",
       "      <td>...</td>\n",
       "      <td>...</td>\n",
       "      <td>...</td>\n",
       "      <td>...</td>\n",
       "      <td>...</td>\n",
       "    </tr>\n",
       "    <tr>\n",
       "      <th>4168</th>\n",
       "      <td>0</td>\n",
       "      <td>0</td>\n",
       "      <td>0</td>\n",
       "      <td>0</td>\n",
       "      <td>0</td>\n",
       "      <td>0</td>\n",
       "      <td>0</td>\n",
       "      <td>0</td>\n",
       "      <td>0</td>\n",
       "      <td>0</td>\n",
       "      <td>...</td>\n",
       "      <td>0</td>\n",
       "      <td>0</td>\n",
       "      <td>0</td>\n",
       "      <td>0</td>\n",
       "      <td>0</td>\n",
       "      <td>0</td>\n",
       "      <td>0</td>\n",
       "      <td>0</td>\n",
       "      <td>0</td>\n",
       "      <td>0</td>\n",
       "    </tr>\n",
       "    <tr>\n",
       "      <th>4169</th>\n",
       "      <td>0</td>\n",
       "      <td>0</td>\n",
       "      <td>0</td>\n",
       "      <td>0</td>\n",
       "      <td>0</td>\n",
       "      <td>0</td>\n",
       "      <td>0</td>\n",
       "      <td>0</td>\n",
       "      <td>0</td>\n",
       "      <td>0</td>\n",
       "      <td>...</td>\n",
       "      <td>0</td>\n",
       "      <td>0</td>\n",
       "      <td>0</td>\n",
       "      <td>0</td>\n",
       "      <td>0</td>\n",
       "      <td>0</td>\n",
       "      <td>0</td>\n",
       "      <td>0</td>\n",
       "      <td>0</td>\n",
       "      <td>0</td>\n",
       "    </tr>\n",
       "    <tr>\n",
       "      <th>4170</th>\n",
       "      <td>0</td>\n",
       "      <td>1</td>\n",
       "      <td>0</td>\n",
       "      <td>1</td>\n",
       "      <td>0</td>\n",
       "      <td>0</td>\n",
       "      <td>0</td>\n",
       "      <td>0</td>\n",
       "      <td>0</td>\n",
       "      <td>0</td>\n",
       "      <td>...</td>\n",
       "      <td>0</td>\n",
       "      <td>1</td>\n",
       "      <td>1</td>\n",
       "      <td>0</td>\n",
       "      <td>0</td>\n",
       "      <td>0</td>\n",
       "      <td>0</td>\n",
       "      <td>0</td>\n",
       "      <td>0</td>\n",
       "      <td>0</td>\n",
       "    </tr>\n",
       "    <tr>\n",
       "      <th>4171</th>\n",
       "      <td>0</td>\n",
       "      <td>0</td>\n",
       "      <td>0</td>\n",
       "      <td>0</td>\n",
       "      <td>0</td>\n",
       "      <td>0</td>\n",
       "      <td>0</td>\n",
       "      <td>0</td>\n",
       "      <td>0</td>\n",
       "      <td>0</td>\n",
       "      <td>...</td>\n",
       "      <td>0</td>\n",
       "      <td>0</td>\n",
       "      <td>0</td>\n",
       "      <td>0</td>\n",
       "      <td>0</td>\n",
       "      <td>0</td>\n",
       "      <td>0</td>\n",
       "      <td>0</td>\n",
       "      <td>0</td>\n",
       "      <td>0</td>\n",
       "    </tr>\n",
       "    <tr>\n",
       "      <th>4172</th>\n",
       "      <td>0</td>\n",
       "      <td>0</td>\n",
       "      <td>0</td>\n",
       "      <td>0</td>\n",
       "      <td>0</td>\n",
       "      <td>0</td>\n",
       "      <td>0</td>\n",
       "      <td>0</td>\n",
       "      <td>0</td>\n",
       "      <td>0</td>\n",
       "      <td>...</td>\n",
       "      <td>0</td>\n",
       "      <td>0</td>\n",
       "      <td>0</td>\n",
       "      <td>0</td>\n",
       "      <td>0</td>\n",
       "      <td>0</td>\n",
       "      <td>0</td>\n",
       "      <td>0</td>\n",
       "      <td>0</td>\n",
       "      <td>0</td>\n",
       "    </tr>\n",
       "  </tbody>\n",
       "</table>\n",
       "<p>4173 rows × 483 columns</p>\n",
       "</div>"
      ],
      "text/plain": [
       "Sintoma  0    1    2    3    4    5    6    7    8    9    ...  473  474  475  \\\n",
       "0          0    0    0    0    0    0    0    0    0    0  ...    0    0    0   \n",
       "1          0    0    0    0    0    0    0    0    2    0  ...    0    0    0   \n",
       "2          0    0    0    0    0    1    0    0    2    0  ...    0    0    0   \n",
       "3          0    0    0    0    0    0    0    4    1    0  ...    0    0    0   \n",
       "4          0    0    0    0    0    0    0    0    0    0  ...    0    0    0   \n",
       "...      ...  ...  ...  ...  ...  ...  ...  ...  ...  ...  ...  ...  ...  ...   \n",
       "4168       0    0    0    0    0    0    0    0    0    0  ...    0    0    0   \n",
       "4169       0    0    0    0    0    0    0    0    0    0  ...    0    0    0   \n",
       "4170       0    1    0    1    0    0    0    0    0    0  ...    0    1    1   \n",
       "4171       0    0    0    0    0    0    0    0    0    0  ...    0    0    0   \n",
       "4172       0    0    0    0    0    0    0    0    0    0  ...    0    0    0   \n",
       "\n",
       "Sintoma  476  477  478  479  480  481  482  \n",
       "0          0    0    0    0    3    0    0  \n",
       "1          0    0    0    0    0    0    0  \n",
       "2          0    0    0    0    0    0    0  \n",
       "3          0    0    0    0    0    0    1  \n",
       "4          0    0    0    0    0    0    0  \n",
       "...      ...  ...  ...  ...  ...  ...  ...  \n",
       "4168       0    0    0    0    0    0    0  \n",
       "4169       0    0    0    0    0    0    0  \n",
       "4170       0    0    0    0    0    0    0  \n",
       "4171       0    0    0    0    0    0    0  \n",
       "4172       0    0    0    0    0    0    0  \n",
       "\n",
       "[4173 rows x 483 columns]"
      ]
     },
     "execution_count": 300,
     "metadata": {},
     "output_type": "execute_result"
    }
   ],
   "source": [
    "df_train_generated=_rename_col(df_train_generated)\n",
    "df_train_generated\n",
    "\n"
   ]
  },
  {
   "cell_type": "code",
   "execution_count": 301,
   "id": "aa4864e6",
   "metadata": {},
   "outputs": [
    {
     "data": {
      "text/html": [
       "<div>\n",
       "<style scoped>\n",
       "    .dataframe tbody tr th:only-of-type {\n",
       "        vertical-align: middle;\n",
       "    }\n",
       "\n",
       "    .dataframe tbody tr th {\n",
       "        vertical-align: top;\n",
       "    }\n",
       "\n",
       "    .dataframe thead th {\n",
       "        text-align: right;\n",
       "    }\n",
       "</style>\n",
       "<table border=\"1\" class=\"dataframe\">\n",
       "  <thead>\n",
       "    <tr style=\"text-align: right;\">\n",
       "      <th></th>\n",
       "      <th>0</th>\n",
       "      <th>1</th>\n",
       "      <th>2</th>\n",
       "      <th>3</th>\n",
       "      <th>4</th>\n",
       "      <th>5</th>\n",
       "      <th>6</th>\n",
       "      <th>7</th>\n",
       "      <th>8</th>\n",
       "      <th>9</th>\n",
       "      <th>...</th>\n",
       "      <th>4163</th>\n",
       "      <th>4164</th>\n",
       "      <th>4165</th>\n",
       "      <th>4166</th>\n",
       "      <th>4167</th>\n",
       "      <th>4168</th>\n",
       "      <th>4169</th>\n",
       "      <th>4170</th>\n",
       "      <th>4171</th>\n",
       "      <th>4172</th>\n",
       "    </tr>\n",
       "    <tr>\n",
       "      <th>Sintoma</th>\n",
       "      <th></th>\n",
       "      <th></th>\n",
       "      <th></th>\n",
       "      <th></th>\n",
       "      <th></th>\n",
       "      <th></th>\n",
       "      <th></th>\n",
       "      <th></th>\n",
       "      <th></th>\n",
       "      <th></th>\n",
       "      <th></th>\n",
       "      <th></th>\n",
       "      <th></th>\n",
       "      <th></th>\n",
       "      <th></th>\n",
       "      <th></th>\n",
       "      <th></th>\n",
       "      <th></th>\n",
       "      <th></th>\n",
       "      <th></th>\n",
       "      <th></th>\n",
       "    </tr>\n",
       "  </thead>\n",
       "  <tbody>\n",
       "    <tr>\n",
       "      <th>0</th>\n",
       "      <td>0</td>\n",
       "      <td>0</td>\n",
       "      <td>0</td>\n",
       "      <td>0</td>\n",
       "      <td>0</td>\n",
       "      <td>0</td>\n",
       "      <td>0</td>\n",
       "      <td>0</td>\n",
       "      <td>0</td>\n",
       "      <td>0</td>\n",
       "      <td>...</td>\n",
       "      <td>0</td>\n",
       "      <td>0</td>\n",
       "      <td>0</td>\n",
       "      <td>0</td>\n",
       "      <td>0</td>\n",
       "      <td>0</td>\n",
       "      <td>0</td>\n",
       "      <td>0</td>\n",
       "      <td>0</td>\n",
       "      <td>0</td>\n",
       "    </tr>\n",
       "    <tr>\n",
       "      <th>1</th>\n",
       "      <td>0</td>\n",
       "      <td>0</td>\n",
       "      <td>0</td>\n",
       "      <td>0</td>\n",
       "      <td>0</td>\n",
       "      <td>0</td>\n",
       "      <td>0</td>\n",
       "      <td>0</td>\n",
       "      <td>0</td>\n",
       "      <td>0</td>\n",
       "      <td>...</td>\n",
       "      <td>0</td>\n",
       "      <td>0</td>\n",
       "      <td>0</td>\n",
       "      <td>0</td>\n",
       "      <td>0</td>\n",
       "      <td>0</td>\n",
       "      <td>0</td>\n",
       "      <td>1</td>\n",
       "      <td>0</td>\n",
       "      <td>0</td>\n",
       "    </tr>\n",
       "    <tr>\n",
       "      <th>2</th>\n",
       "      <td>0</td>\n",
       "      <td>0</td>\n",
       "      <td>0</td>\n",
       "      <td>0</td>\n",
       "      <td>0</td>\n",
       "      <td>0</td>\n",
       "      <td>0</td>\n",
       "      <td>0</td>\n",
       "      <td>0</td>\n",
       "      <td>0</td>\n",
       "      <td>...</td>\n",
       "      <td>0</td>\n",
       "      <td>0</td>\n",
       "      <td>0</td>\n",
       "      <td>0</td>\n",
       "      <td>0</td>\n",
       "      <td>0</td>\n",
       "      <td>0</td>\n",
       "      <td>0</td>\n",
       "      <td>0</td>\n",
       "      <td>0</td>\n",
       "    </tr>\n",
       "    <tr>\n",
       "      <th>3</th>\n",
       "      <td>0</td>\n",
       "      <td>0</td>\n",
       "      <td>0</td>\n",
       "      <td>0</td>\n",
       "      <td>0</td>\n",
       "      <td>0</td>\n",
       "      <td>0</td>\n",
       "      <td>0</td>\n",
       "      <td>0</td>\n",
       "      <td>0</td>\n",
       "      <td>...</td>\n",
       "      <td>0</td>\n",
       "      <td>0</td>\n",
       "      <td>0</td>\n",
       "      <td>0</td>\n",
       "      <td>0</td>\n",
       "      <td>0</td>\n",
       "      <td>0</td>\n",
       "      <td>1</td>\n",
       "      <td>0</td>\n",
       "      <td>0</td>\n",
       "    </tr>\n",
       "    <tr>\n",
       "      <th>4</th>\n",
       "      <td>0</td>\n",
       "      <td>0</td>\n",
       "      <td>0</td>\n",
       "      <td>0</td>\n",
       "      <td>0</td>\n",
       "      <td>0</td>\n",
       "      <td>0</td>\n",
       "      <td>0</td>\n",
       "      <td>0</td>\n",
       "      <td>0</td>\n",
       "      <td>...</td>\n",
       "      <td>0</td>\n",
       "      <td>0</td>\n",
       "      <td>0</td>\n",
       "      <td>0</td>\n",
       "      <td>0</td>\n",
       "      <td>0</td>\n",
       "      <td>0</td>\n",
       "      <td>0</td>\n",
       "      <td>0</td>\n",
       "      <td>0</td>\n",
       "    </tr>\n",
       "    <tr>\n",
       "      <th>...</th>\n",
       "      <td>...</td>\n",
       "      <td>...</td>\n",
       "      <td>...</td>\n",
       "      <td>...</td>\n",
       "      <td>...</td>\n",
       "      <td>...</td>\n",
       "      <td>...</td>\n",
       "      <td>...</td>\n",
       "      <td>...</td>\n",
       "      <td>...</td>\n",
       "      <td>...</td>\n",
       "      <td>...</td>\n",
       "      <td>...</td>\n",
       "      <td>...</td>\n",
       "      <td>...</td>\n",
       "      <td>...</td>\n",
       "      <td>...</td>\n",
       "      <td>...</td>\n",
       "      <td>...</td>\n",
       "      <td>...</td>\n",
       "      <td>...</td>\n",
       "    </tr>\n",
       "    <tr>\n",
       "      <th>478</th>\n",
       "      <td>0</td>\n",
       "      <td>0</td>\n",
       "      <td>0</td>\n",
       "      <td>0</td>\n",
       "      <td>0</td>\n",
       "      <td>0</td>\n",
       "      <td>0</td>\n",
       "      <td>0</td>\n",
       "      <td>0</td>\n",
       "      <td>0</td>\n",
       "      <td>...</td>\n",
       "      <td>0</td>\n",
       "      <td>0</td>\n",
       "      <td>0</td>\n",
       "      <td>0</td>\n",
       "      <td>0</td>\n",
       "      <td>0</td>\n",
       "      <td>0</td>\n",
       "      <td>0</td>\n",
       "      <td>0</td>\n",
       "      <td>0</td>\n",
       "    </tr>\n",
       "    <tr>\n",
       "      <th>479</th>\n",
       "      <td>0</td>\n",
       "      <td>0</td>\n",
       "      <td>0</td>\n",
       "      <td>0</td>\n",
       "      <td>0</td>\n",
       "      <td>0</td>\n",
       "      <td>0</td>\n",
       "      <td>0</td>\n",
       "      <td>0</td>\n",
       "      <td>0</td>\n",
       "      <td>...</td>\n",
       "      <td>0</td>\n",
       "      <td>0</td>\n",
       "      <td>0</td>\n",
       "      <td>0</td>\n",
       "      <td>0</td>\n",
       "      <td>0</td>\n",
       "      <td>0</td>\n",
       "      <td>0</td>\n",
       "      <td>0</td>\n",
       "      <td>0</td>\n",
       "    </tr>\n",
       "    <tr>\n",
       "      <th>480</th>\n",
       "      <td>3</td>\n",
       "      <td>0</td>\n",
       "      <td>0</td>\n",
       "      <td>0</td>\n",
       "      <td>0</td>\n",
       "      <td>0</td>\n",
       "      <td>0</td>\n",
       "      <td>0</td>\n",
       "      <td>0</td>\n",
       "      <td>1</td>\n",
       "      <td>...</td>\n",
       "      <td>0</td>\n",
       "      <td>0</td>\n",
       "      <td>0</td>\n",
       "      <td>0</td>\n",
       "      <td>0</td>\n",
       "      <td>0</td>\n",
       "      <td>0</td>\n",
       "      <td>0</td>\n",
       "      <td>0</td>\n",
       "      <td>0</td>\n",
       "    </tr>\n",
       "    <tr>\n",
       "      <th>481</th>\n",
       "      <td>0</td>\n",
       "      <td>0</td>\n",
       "      <td>0</td>\n",
       "      <td>0</td>\n",
       "      <td>0</td>\n",
       "      <td>2</td>\n",
       "      <td>0</td>\n",
       "      <td>0</td>\n",
       "      <td>0</td>\n",
       "      <td>0</td>\n",
       "      <td>...</td>\n",
       "      <td>0</td>\n",
       "      <td>0</td>\n",
       "      <td>0</td>\n",
       "      <td>0</td>\n",
       "      <td>0</td>\n",
       "      <td>0</td>\n",
       "      <td>0</td>\n",
       "      <td>0</td>\n",
       "      <td>0</td>\n",
       "      <td>0</td>\n",
       "    </tr>\n",
       "    <tr>\n",
       "      <th>482</th>\n",
       "      <td>0</td>\n",
       "      <td>0</td>\n",
       "      <td>0</td>\n",
       "      <td>1</td>\n",
       "      <td>0</td>\n",
       "      <td>0</td>\n",
       "      <td>0</td>\n",
       "      <td>0</td>\n",
       "      <td>0</td>\n",
       "      <td>0</td>\n",
       "      <td>...</td>\n",
       "      <td>0</td>\n",
       "      <td>0</td>\n",
       "      <td>0</td>\n",
       "      <td>0</td>\n",
       "      <td>0</td>\n",
       "      <td>0</td>\n",
       "      <td>0</td>\n",
       "      <td>0</td>\n",
       "      <td>0</td>\n",
       "      <td>0</td>\n",
       "    </tr>\n",
       "  </tbody>\n",
       "</table>\n",
       "<p>483 rows × 4173 columns</p>\n",
       "</div>"
      ],
      "text/plain": [
       "         0     1     2     3     4     5     6     7     8     9     ...  \\\n",
       "Sintoma                                                              ...   \n",
       "0           0     0     0     0     0     0     0     0     0     0  ...   \n",
       "1           0     0     0     0     0     0     0     0     0     0  ...   \n",
       "2           0     0     0     0     0     0     0     0     0     0  ...   \n",
       "3           0     0     0     0     0     0     0     0     0     0  ...   \n",
       "4           0     0     0     0     0     0     0     0     0     0  ...   \n",
       "...       ...   ...   ...   ...   ...   ...   ...   ...   ...   ...  ...   \n",
       "478         0     0     0     0     0     0     0     0     0     0  ...   \n",
       "479         0     0     0     0     0     0     0     0     0     0  ...   \n",
       "480         3     0     0     0     0     0     0     0     0     1  ...   \n",
       "481         0     0     0     0     0     2     0     0     0     0  ...   \n",
       "482         0     0     0     1     0     0     0     0     0     0  ...   \n",
       "\n",
       "         4163  4164  4165  4166  4167  4168  4169  4170  4171  4172  \n",
       "Sintoma                                                              \n",
       "0           0     0     0     0     0     0     0     0     0     0  \n",
       "1           0     0     0     0     0     0     0     1     0     0  \n",
       "2           0     0     0     0     0     0     0     0     0     0  \n",
       "3           0     0     0     0     0     0     0     1     0     0  \n",
       "4           0     0     0     0     0     0     0     0     0     0  \n",
       "...       ...   ...   ...   ...   ...   ...   ...   ...   ...   ...  \n",
       "478         0     0     0     0     0     0     0     0     0     0  \n",
       "479         0     0     0     0     0     0     0     0     0     0  \n",
       "480         0     0     0     0     0     0     0     0     0     0  \n",
       "481         0     0     0     0     0     0     0     0     0     0  \n",
       "482         0     0     0     0     0     0     0     0     0     0  \n",
       "\n",
       "[483 rows x 4173 columns]"
      ]
     },
     "execution_count": 301,
     "metadata": {},
     "output_type": "execute_result"
    }
   ],
   "source": [
    "df_matrix=df_train_generated.transpose()\n",
    "df_matrix"
   ]
  },
  {
   "cell_type": "code",
   "execution_count": null,
   "id": "07fcc400",
   "metadata": {},
   "outputs": [],
   "source": []
  },
  {
   "cell_type": "code",
   "execution_count": null,
   "id": "1aaebff8",
   "metadata": {},
   "outputs": [],
   "source": []
  },
  {
   "cell_type": "code",
   "execution_count": null,
   "id": "8f9e2c12",
   "metadata": {},
   "outputs": [],
   "source": []
  },
  {
   "cell_type": "code",
   "execution_count": null,
   "id": "9acf027c",
   "metadata": {},
   "outputs": [],
   "source": []
  },
  {
   "cell_type": "code",
   "execution_count": null,
   "id": "b1350cca",
   "metadata": {},
   "outputs": [],
   "source": []
  },
  {
   "cell_type": "code",
   "execution_count": null,
   "id": "5577e47d",
   "metadata": {},
   "outputs": [],
   "source": []
  },
  {
   "cell_type": "code",
   "execution_count": null,
   "id": "8c55fa4a",
   "metadata": {},
   "outputs": [],
   "source": [
    "\n",
    "   "
   ]
  },
  {
   "cell_type": "markdown",
   "id": "46f1ea8c",
   "metadata": {},
   "source": [
    "## KNearest\n"
   ]
  },
  {
   "cell_type": "code",
   "execution_count": null,
   "id": "6f375fa4",
   "metadata": {},
   "outputs": [],
   "source": [
    "matriz=predict_KNearest(df_matrix.values,\"Dysphagia\",10,21)"
   ]
  },
  {
   "cell_type": "code",
   "execution_count": null,
   "id": "0643c34c",
   "metadata": {},
   "outputs": [],
   "source": [
    "df_EnfeySinto_select[df_EnfeySinto_select[\"Enfermedad\"]==\"Botulismo intestinal\"]"
   ]
  },
  {
   "cell_type": "code",
   "execution_count": null,
   "id": "274dc998",
   "metadata": {},
   "outputs": [],
   "source": []
  },
  {
   "cell_type": "markdown",
   "id": "faf962ba",
   "metadata": {},
   "source": [
    "## Collaborative Filtering: User based"
   ]
  },
  {
   "cell_type": "code",
   "execution_count": 306,
   "id": "950c7bb2",
   "metadata": {},
   "outputs": [],
   "source": [
    "def init_collaborative_filtering_user_based (ratings):\n",
    "    \n",
    "    #sim_matrix = 1 - sklearn.metrics.pairwise.cosine_distances(ratings)\n",
    "    sim_matrix= sklearn.metrics.pairwise.cosine_similarity(ratings)\n",
    "    sintomas_k = sim_matrix.dot(ratings) / np.array([np.abs(sim_matrix).sum(axis=1)]).T\n",
    "  \n",
    "\n",
    "\n",
    "    conn = sqlite3.connect('test_database')\n",
    "    c = conn.cursor()\n",
    "\n",
    "\n",
    "    df = pd.DataFrame(sintomas_k)\n",
    "    df=df.transpose()\n",
    "    df.to_sql('scorings_tfm', conn, if_exists='replace', index = False)\n",
    " \n",
    "   \n",
    "\n",
    "\n",
    "    "
   ]
  },
  {
   "cell_type": "code",
   "execution_count": 307,
   "id": "9379c47c",
   "metadata": {},
   "outputs": [],
   "source": [
    "def predict_collaborative_filtering_user_based(sintoma, elementos):\n",
    " \n",
    " \n",
    "    id_sintoma = df_Sintomas[df_Sintomas['Sintoma'] == sintoma].index.values[0]\n",
    "    \n",
    "    \n",
    "    conn = sqlite3.connect('test_database')\n",
    "    c = conn.cursor()\n",
    "    c.execute('''  SELECT * FROM scorings_new\n",
    "          ''')\n",
    "    #Predicciones (las recomendaciones!)\n",
    "    sintomas_k = pd.DataFrame(c.fetchall())  \n",
    "    sintomas_k=sintomas_k.transpose()\n",
    "    #print (sintomas_k)\n",
    "    sintomas_k=sintomas_k.to_numpy()\n",
    "       \n",
    "    \n",
    "    \n",
    "    #Predicciones (las recomendaciones!)\n",
    "    \n",
    "    sintoma_scoring=sintomas_k.argsort()[id_sintoma]\n",
    "    vector_id_enfermedad_scoring=[]\n",
    "    for i, enfermedad_id in enumerate(sintoma_scoring[-elementos:]):\n",
    "        v=[]\n",
    "        v.append (enfermedad_id)\n",
    "        v.append (sintomas_k[id_sintoma][enfermedad_id])\n",
    "        vector_id_enfermedad_scoring.append(v)\n",
    "        \n",
    "    vector_id_enfermedad_scoring=pd.DataFrame(vector_id_enfermedad_scoring)\n",
    "    vector_id_enfermedad_scoring = vector_id_enfermedad_scoring.rename(columns={1:id_sintoma, 0:\"index\"})\n",
    "    \n",
    "    listado_completo=_aparece_y_como (vector_id_enfermedad_scoring,id_sintoma, df_Enfermedades)\n",
    "    \n",
    "\n",
    "    \n",
    "\n",
    "    return listado_completo,sintomas_k, vector_id_enfermedad_scoring"
   ]
  },
  {
   "cell_type": "code",
   "execution_count": 310,
   "id": "d1bcbabe",
   "metadata": {},
   "outputs": [],
   "source": [
    "init_collaborative_filtering_user_based (df_matrix.values)"
   ]
  },
  {
   "cell_type": "code",
   "execution_count": 315,
   "id": "5eb67d26",
   "metadata": {},
   "outputs": [],
   "source": [
    "listado_completo,users_predictions,v=predict_collaborative_filtering_user_based(\"Cough\",10)"
   ]
  },
  {
   "cell_type": "code",
   "execution_count": 316,
   "id": "10577550",
   "metadata": {},
   "outputs": [
    {
     "data": {
      "text/plain": [
       "[[2207, 'Polimiositis', 0.63671479525537, 'Muy frecuente (99-80%)'],\n",
       " [1423, 'Gripe aviar', 0.6382757844473661, 'Muy frecuente (99-80%)'],\n",
       " [2480,\n",
       "  'Síndrome antisintetasa',\n",
       "  0.6524342127715518,\n",
       "  'Muy frecuente (99-80%)'],\n",
       " [1689,\n",
       "  'Linfangioleiomiomatosis',\n",
       "  0.6527724664337454,\n",
       "  'Muy frecuente (99-80%)'],\n",
       " [4029, 'Tifus de las malezas', 0.6612850581965117, 'Muy frecuente (99-80%)'],\n",
       " [1207,\n",
       "  'Enfermedad por anticuerpos anti-membrana basal glomerular',\n",
       "  0.6746039663251943,\n",
       "  'Muy frecuente (99-80%)'],\n",
       " [1189,\n",
       "  'Enfermedad de los legionarios',\n",
       "  0.7470164299505365,\n",
       "  'Muy frecuente (99-80%)'],\n",
       " [1972,\n",
       "  'Neumonía necrotizante estafilocócica',\n",
       "  0.7474481267629826,\n",
       "  'Muy frecuente (99-80%)'],\n",
       " [2715,\n",
       "  'Síndrome de Hughes-Stovin',\n",
       "  0.772552060870626,\n",
       "  'Muy frecuente (99-80%)'],\n",
       " [1421,\n",
       "  'Granulomatosis con poliangeítis',\n",
       "  0.8535007869582255,\n",
       "  'Frecuente (79-30%)']]"
      ]
     },
     "execution_count": 316,
     "metadata": {},
     "output_type": "execute_result"
    }
   ],
   "source": [
    "listado_completo"
   ]
  },
  {
   "cell_type": "markdown",
   "id": "82284045",
   "metadata": {},
   "source": [
    "## Similitud entre Usuarios: Correlación de Pearson"
   ]
  },
  {
   "cell_type": "markdown",
   "id": "be0bdd30",
   "metadata": {},
   "source": [
    "SOLO UN SINTOMA"
   ]
  },
  {
   "cell_type": "code",
   "execution_count": 317,
   "id": "d817d2db",
   "metadata": {},
   "outputs": [],
   "source": [
    "def predict_similitud_entre_usuarios_by_pearson (df_train_generated,sintoma,elementos):\n",
    "    \n",
    "    id_sintoma = df_Sintomas[df_Sintomas['Sintoma'] == sintoma].index.values[0]\n",
    "\n",
    "    \n",
    "    df_transpuesta=df_train_generated\n",
    "    correlaciones = df_transpuesta.corr(method='pearson')\n",
    "\n",
    "    MediasUsers = df_transpuesta.mean(numeric_only=True,skipna=True)\n",
    "    DesviacionesUsers = df_transpuesta.std(numeric_only=True,skipna=True)\n",
    "    df_ValoracionesNorm = df_transpuesta[MediasUsers.index].sub(MediasUsers, axis='columns')\n",
    "\n",
    "    df_ValoracionesNorm = df_ValoracionesNorm.div(DesviacionesUsers, axis='columns')\n",
    "\n",
    "    Numerador = df_ValoracionesNorm.dot(correlaciones)\n",
    "    Numerador.sort_values(0,ascending=False)\n",
    "    Denominador = correlaciones.abs().sum()\n",
    "    Cociente = Numerador.div(Denominador, axis='columns')\n",
    "\n",
    "    Valoraciones = Cociente.mul(DesviacionesUsers,axis='columns').add(MediasUsers, axis='columns')\n",
    "\n",
    "    a=Valoraciones[id_sintoma].sort_values(ascending=False).head(elementos)\n",
    "    \n",
    "    \n",
    "    \n",
    "    \n",
    "    \n",
    "    vector=pd.DataFrame(a)\n",
    "    vector=vector.reset_index()\n",
    "    lista=_aparece_y_como (vector,id_sintoma, df_Enfermedades)\n",
    "    \n",
    "    \n",
    " \n",
    "    \n",
    "    return lista,a"
   ]
  },
  {
   "cell_type": "code",
   "execution_count": 318,
   "id": "a44436f0",
   "metadata": {},
   "outputs": [],
   "source": [
    "listado_completo, vector_enfermedades_scoring=predict_similitud_entre_usuarios_by_pearson(\n",
    "    df_train_generated,\"Cough\", 10)\n"
   ]
  },
  {
   "cell_type": "code",
   "execution_count": 319,
   "id": "602316d5",
   "metadata": {},
   "outputs": [
    {
     "data": {
      "text/plain": [
       "[[2715,\n",
       "  'Síndrome de Hughes-Stovin',\n",
       "  0.6900752891765587,\n",
       "  'Muy frecuente (99-80%)'],\n",
       " [1972,\n",
       "  'Neumonía necrotizante estafilocócica',\n",
       "  0.6590546575580434,\n",
       "  'Muy frecuente (99-80%)'],\n",
       " [1421,\n",
       "  'Granulomatosis con poliangeítis',\n",
       "  0.646718690748427,\n",
       "  'Frecuente (79-30%)'],\n",
       " [1207,\n",
       "  'Enfermedad por anticuerpos anti-membrana basal glomerular',\n",
       "  0.6285446552044739,\n",
       "  'Muy frecuente (99-80%)'],\n",
       " [345, 'Blastoma pulmonar', 0.6040833380603052, 'Muy frecuente (99-80%)'],\n",
       " [1189,\n",
       "  'Enfermedad de los legionarios',\n",
       "  0.5865656810364697,\n",
       "  'Muy frecuente (99-80%)'],\n",
       " [1689,\n",
       "  'Linfangioleiomiomatosis',\n",
       "  0.5565176790671993,\n",
       "  'Muy frecuente (99-80%)'],\n",
       " [215, 'Aspergilosis', 0.5408371321960674, 'Muy frecuente (99-80%)'],\n",
       " [4155,\n",
       "  'Vasculitis urticarial hipocomplementémica',\n",
       "  0.5121208314395282,\n",
       "  'Frecuente (79-30%)'],\n",
       " [2480,\n",
       "  'Síndrome antisintetasa',\n",
       "  0.5036944902150464,\n",
       "  'Muy frecuente (99-80%)']]"
      ]
     },
     "execution_count": 319,
     "metadata": {},
     "output_type": "execute_result"
    }
   ],
   "source": [
    "listado_completo"
   ]
  },
  {
   "cell_type": "code",
   "execution_count": null,
   "id": "90f733c2",
   "metadata": {},
   "outputs": [],
   "source": [
    "vector_enfermedades_scoring"
   ]
  },
  {
   "cell_type": "code",
   "execution_count": null,
   "id": "54bf65d3",
   "metadata": {},
   "outputs": [],
   "source": []
  },
  {
   "cell_type": "code",
   "execution_count": 320,
   "id": "2ff80ca1",
   "metadata": {},
   "outputs": [
    {
     "data": {
      "text/html": [
       "<div>\n",
       "<style scoped>\n",
       "    .dataframe tbody tr th:only-of-type {\n",
       "        vertical-align: middle;\n",
       "    }\n",
       "\n",
       "    .dataframe tbody tr th {\n",
       "        vertical-align: top;\n",
       "    }\n",
       "\n",
       "    .dataframe thead th {\n",
       "        text-align: right;\n",
       "    }\n",
       "</style>\n",
       "<table border=\"1\" class=\"dataframe\">\n",
       "  <thead>\n",
       "    <tr style=\"text-align: right;\">\n",
       "      <th></th>\n",
       "      <th>Id_Enfermedad</th>\n",
       "      <th>Enfermedad</th>\n",
       "      <th>Sintoma</th>\n",
       "      <th>Frecuencia</th>\n",
       "    </tr>\n",
       "  </thead>\n",
       "  <tbody>\n",
       "    <tr>\n",
       "      <th>94850</th>\n",
       "      <td>3797</td>\n",
       "      <td>Brucelosis</td>\n",
       "      <td>Hyperhidrosis</td>\n",
       "      <td>Frecuente (79-30%)</td>\n",
       "    </tr>\n",
       "    <tr>\n",
       "      <th>94851</th>\n",
       "      <td>3797</td>\n",
       "      <td>Brucelosis</td>\n",
       "      <td>Arthritis</td>\n",
       "      <td>Frecuente (79-30%)</td>\n",
       "    </tr>\n",
       "    <tr>\n",
       "      <th>94852</th>\n",
       "      <td>3797</td>\n",
       "      <td>Brucelosis</td>\n",
       "      <td>Splenomegaly</td>\n",
       "      <td>Frecuente (79-30%)</td>\n",
       "    </tr>\n",
       "    <tr>\n",
       "      <th>94853</th>\n",
       "      <td>3797</td>\n",
       "      <td>Brucelosis</td>\n",
       "      <td>Weight loss</td>\n",
       "      <td>Frecuente (79-30%)</td>\n",
       "    </tr>\n",
       "    <tr>\n",
       "      <th>94855</th>\n",
       "      <td>3797</td>\n",
       "      <td>Brucelosis</td>\n",
       "      <td>Anemia</td>\n",
       "      <td>Frecuente (79-30%)</td>\n",
       "    </tr>\n",
       "    <tr>\n",
       "      <th>94856</th>\n",
       "      <td>3797</td>\n",
       "      <td>Brucelosis</td>\n",
       "      <td>Fever</td>\n",
       "      <td>Frecuente (79-30%)</td>\n",
       "    </tr>\n",
       "    <tr>\n",
       "      <th>94857</th>\n",
       "      <td>3797</td>\n",
       "      <td>Brucelosis</td>\n",
       "      <td>Nausea</td>\n",
       "      <td>Frecuente (79-30%)</td>\n",
       "    </tr>\n",
       "    <tr>\n",
       "      <th>94858</th>\n",
       "      <td>3797</td>\n",
       "      <td>Brucelosis</td>\n",
       "      <td>Anorexia</td>\n",
       "      <td>Frecuente (79-30%)</td>\n",
       "    </tr>\n",
       "    <tr>\n",
       "      <th>94859</th>\n",
       "      <td>3797</td>\n",
       "      <td>Brucelosis</td>\n",
       "      <td>Hepatomegaly</td>\n",
       "      <td>Frecuente (79-30%)</td>\n",
       "    </tr>\n",
       "    <tr>\n",
       "      <th>94860</th>\n",
       "      <td>3797</td>\n",
       "      <td>Brucelosis</td>\n",
       "      <td>Arthralgia</td>\n",
       "      <td>Frecuente (79-30%)</td>\n",
       "    </tr>\n",
       "    <tr>\n",
       "      <th>94866</th>\n",
       "      <td>3797</td>\n",
       "      <td>Brucelosis</td>\n",
       "      <td>Fatigue</td>\n",
       "      <td>Frecuente (79-30%)</td>\n",
       "    </tr>\n",
       "    <tr>\n",
       "      <th>94872</th>\n",
       "      <td>3797</td>\n",
       "      <td>Brucelosis</td>\n",
       "      <td>Abnormality of the nervous system</td>\n",
       "      <td>Ocasional (29-5%)</td>\n",
       "    </tr>\n",
       "    <tr>\n",
       "      <th>94873</th>\n",
       "      <td>3797</td>\n",
       "      <td>Brucelosis</td>\n",
       "      <td>Depression</td>\n",
       "      <td>Ocasional (29-5%)</td>\n",
       "    </tr>\n",
       "    <tr>\n",
       "      <th>94876</th>\n",
       "      <td>3797</td>\n",
       "      <td>Brucelosis</td>\n",
       "      <td>Failure to thrive</td>\n",
       "      <td>Ocasional (29-5%)</td>\n",
       "    </tr>\n",
       "    <tr>\n",
       "      <th>94877</th>\n",
       "      <td>3797</td>\n",
       "      <td>Brucelosis</td>\n",
       "      <td>Small for gestational age</td>\n",
       "      <td>Ocasional (29-5%)</td>\n",
       "    </tr>\n",
       "    <tr>\n",
       "      <th>94878</th>\n",
       "      <td>3797</td>\n",
       "      <td>Brucelosis</td>\n",
       "      <td>Premature birth</td>\n",
       "      <td>Ocasional (29-5%)</td>\n",
       "    </tr>\n",
       "    <tr>\n",
       "      <th>94879</th>\n",
       "      <td>3797</td>\n",
       "      <td>Brucelosis</td>\n",
       "      <td>Thrombocytopenia</td>\n",
       "      <td>Ocasional (29-5%)</td>\n",
       "    </tr>\n",
       "    <tr>\n",
       "      <th>94881</th>\n",
       "      <td>3797</td>\n",
       "      <td>Brucelosis</td>\n",
       "      <td>Leukocytosis</td>\n",
       "      <td>Ocasional (29-5%)</td>\n",
       "    </tr>\n",
       "    <tr>\n",
       "      <th>94883</th>\n",
       "      <td>3797</td>\n",
       "      <td>Brucelosis</td>\n",
       "      <td>Vomiting</td>\n",
       "      <td>Ocasional (29-5%)</td>\n",
       "    </tr>\n",
       "    <tr>\n",
       "      <th>94884</th>\n",
       "      <td>3797</td>\n",
       "      <td>Brucelosis</td>\n",
       "      <td>Abdominal pain</td>\n",
       "      <td>Ocasional (29-5%)</td>\n",
       "    </tr>\n",
       "    <tr>\n",
       "      <th>94885</th>\n",
       "      <td>3797</td>\n",
       "      <td>Brucelosis</td>\n",
       "      <td>Pneumonia</td>\n",
       "      <td>Ocasional (29-5%)</td>\n",
       "    </tr>\n",
       "    <tr>\n",
       "      <th>94886</th>\n",
       "      <td>3797</td>\n",
       "      <td>Brucelosis</td>\n",
       "      <td>Pleural effusion</td>\n",
       "      <td>Ocasional (29-5%)</td>\n",
       "    </tr>\n",
       "    <tr>\n",
       "      <th>94887</th>\n",
       "      <td>3797</td>\n",
       "      <td>Brucelosis</td>\n",
       "      <td>Headache</td>\n",
       "      <td>Ocasional (29-5%)</td>\n",
       "    </tr>\n",
       "    <tr>\n",
       "      <th>94888</th>\n",
       "      <td>3797</td>\n",
       "      <td>Brucelosis</td>\n",
       "      <td>Lymphadenopathy</td>\n",
       "      <td>Ocasional (29-5%)</td>\n",
       "    </tr>\n",
       "    <tr>\n",
       "      <th>94896</th>\n",
       "      <td>3797</td>\n",
       "      <td>Brucelosis</td>\n",
       "      <td>Peripheral neuropathy</td>\n",
       "      <td>Ocasional (29-5%)</td>\n",
       "    </tr>\n",
       "  </tbody>\n",
       "</table>\n",
       "</div>"
      ],
      "text/plain": [
       "       Id_Enfermedad  Enfermedad                            Sintoma  \\\n",
       "94850           3797  Brucelosis                      Hyperhidrosis   \n",
       "94851           3797  Brucelosis                          Arthritis   \n",
       "94852           3797  Brucelosis                       Splenomegaly   \n",
       "94853           3797  Brucelosis                        Weight loss   \n",
       "94855           3797  Brucelosis                             Anemia   \n",
       "94856           3797  Brucelosis                              Fever   \n",
       "94857           3797  Brucelosis                             Nausea   \n",
       "94858           3797  Brucelosis                           Anorexia   \n",
       "94859           3797  Brucelosis                       Hepatomegaly   \n",
       "94860           3797  Brucelosis                         Arthralgia   \n",
       "94866           3797  Brucelosis                            Fatigue   \n",
       "94872           3797  Brucelosis  Abnormality of the nervous system   \n",
       "94873           3797  Brucelosis                         Depression   \n",
       "94876           3797  Brucelosis                  Failure to thrive   \n",
       "94877           3797  Brucelosis          Small for gestational age   \n",
       "94878           3797  Brucelosis                    Premature birth   \n",
       "94879           3797  Brucelosis                   Thrombocytopenia   \n",
       "94881           3797  Brucelosis                       Leukocytosis   \n",
       "94883           3797  Brucelosis                           Vomiting   \n",
       "94884           3797  Brucelosis                     Abdominal pain   \n",
       "94885           3797  Brucelosis                          Pneumonia   \n",
       "94886           3797  Brucelosis                   Pleural effusion   \n",
       "94887           3797  Brucelosis                           Headache   \n",
       "94888           3797  Brucelosis                    Lymphadenopathy   \n",
       "94896           3797  Brucelosis              Peripheral neuropathy   \n",
       "\n",
       "               Frecuencia  \n",
       "94850  Frecuente (79-30%)  \n",
       "94851  Frecuente (79-30%)  \n",
       "94852  Frecuente (79-30%)  \n",
       "94853  Frecuente (79-30%)  \n",
       "94855  Frecuente (79-30%)  \n",
       "94856  Frecuente (79-30%)  \n",
       "94857  Frecuente (79-30%)  \n",
       "94858  Frecuente (79-30%)  \n",
       "94859  Frecuente (79-30%)  \n",
       "94860  Frecuente (79-30%)  \n",
       "94866  Frecuente (79-30%)  \n",
       "94872   Ocasional (29-5%)  \n",
       "94873   Ocasional (29-5%)  \n",
       "94876   Ocasional (29-5%)  \n",
       "94877   Ocasional (29-5%)  \n",
       "94878   Ocasional (29-5%)  \n",
       "94879   Ocasional (29-5%)  \n",
       "94881   Ocasional (29-5%)  \n",
       "94883   Ocasional (29-5%)  \n",
       "94884   Ocasional (29-5%)  \n",
       "94885   Ocasional (29-5%)  \n",
       "94886   Ocasional (29-5%)  \n",
       "94887   Ocasional (29-5%)  \n",
       "94888   Ocasional (29-5%)  \n",
       "94896   Ocasional (29-5%)  "
      ]
     },
     "execution_count": 320,
     "metadata": {},
     "output_type": "execute_result"
    }
   ],
   "source": [
    "df_EnfeySinto_select[(df_EnfeySinto_select[\"Enfermedad\"]==\"Brucelosis\")]"
   ]
  },
  {
   "cell_type": "code",
   "execution_count": null,
   "id": "e9c74efa",
   "metadata": {},
   "outputs": [],
   "source": []
  },
  {
   "cell_type": "code",
   "execution_count": null,
   "id": "587a7a33",
   "metadata": {},
   "outputs": [],
   "source": []
  },
  {
   "cell_type": "code",
   "execution_count": null,
   "id": "f659022c",
   "metadata": {},
   "outputs": [],
   "source": []
  },
  {
   "cell_type": "markdown",
   "id": "b77edfac",
   "metadata": {},
   "source": [
    " CON MULTI-SINTOMA"
   ]
  },
  {
   "cell_type": "code",
   "execution_count": 321,
   "id": "f5883573",
   "metadata": {},
   "outputs": [],
   "source": [
    "SINTOMAS_EJEMPLO = ['Cough','Dysphagia']"
   ]
  },
  {
   "cell_type": "code",
   "execution_count": 322,
   "id": "d4caeded",
   "metadata": {},
   "outputs": [],
   "source": [
    "\n",
    "\n",
    "#common = set(first).intersection(second)\n",
    "##HACE INTERSECCIÓN DE VARIOS SINTOMAS\n",
    "def trata_sintomas1 (sintomas,df_transpuesta):\n",
    "    comunes=[]\n",
    "    primera_iter=True\n",
    "\n",
    "\n",
    "    for i in sintomas:\n",
    "        vector=[]\n",
    "        lista,vector=predict_similitud_entre_usuarios_by_pearson(df_transpuesta,i,200)\n",
    "        #listado_completo,users_predictions,ratings_train, ratings_test, sim_matrix, v=predict_collaborative_filtering_ser_based(\n",
    "    #df_matrix.values, i,10)\n",
    "        v=vector.reset_index()\n",
    "        \n",
    "        sintoma=v[\"index\"]\n",
    "        sintoma=list(sintoma)\n",
    "      \n",
    "        if primera_iter:\n",
    "            comunes=sintoma\n",
    "            primera_iter=False\n",
    "\n",
    "        else:            \n",
    "            comunes = set(comunes).intersection(sintoma)\n",
    "        \n",
    "    return comunes"
   ]
  },
  {
   "cell_type": "code",
   "execution_count": 323,
   "id": "2c76eeb5",
   "metadata": {},
   "outputs": [],
   "source": [
    "\n",
    "\n",
    "#common = set(first).intersection(second)\n",
    "##HACE INTERSECCIÓN DE VARIOS SINTOMAS\n",
    "def trata_sintomas2 (sintomas,df_transpuesta):\n",
    "    comunes=[]\n",
    "    primera_iter=True\n",
    "    df_matrix=df_transpuesta.transpose()\n",
    "    \n",
    "    init_collaborative_filtering_user_based (df_matrix.values)\n",
    "    \n",
    "    for i in sintomas:\n",
    "        vector=[]\n",
    "        #lista,vector=predict_similitud_entre_usuarios_by_pearson(df_transpuesta,i,20)\n",
    "        listado_completo,users_predictions, v=predict_collaborative_filtering_user_based(i,200)\n",
    "        #v=vector.reset_index()\n",
    "        \n",
    "        sintoma=v[\"index\"]\n",
    "        sintoma=list(sintoma)\n",
    "        #print(sintoma)\n",
    "      \n",
    "        if primera_iter:\n",
    "            comunes=sintoma\n",
    "            primera_iter=False\n",
    "\n",
    "        else:            \n",
    "            comunes = set(comunes).intersection(sintoma)\n",
    "            \n",
    "    return comunes\n"
   ]
  },
  {
   "cell_type": "code",
   "execution_count": 324,
   "id": "103bc956",
   "metadata": {},
   "outputs": [
    {
     "data": {
      "text/plain": [
       "{11, 394, 399, 1090, 1306, 1360, 1369, 1422, 1956, 2005, 2211, 2529, 2940}"
      ]
     },
     "execution_count": 324,
     "metadata": {},
     "output_type": "execute_result"
    }
   ],
   "source": [
    "sintomas_comunes1=trata_sintomas1 (SINTOMAS_EJEMPLO,df_train_generated)\n",
    "sintomas_comunes1"
   ]
  },
  {
   "cell_type": "code",
   "execution_count": 327,
   "id": "d1c1abec",
   "metadata": {},
   "outputs": [
    {
     "name": "stdout",
     "output_type": "stream",
     "text": [
      "[2529    Síndrome de Alport ligado al cromosoma X-leiom...\n",
      "Name: Enfermedad, dtype: object, 1090    Enfermedad de Gaucher tipo 2\n",
      "Name: Enfermedad, dtype: object, 2211    Poliomielitis\n",
      "Name: Enfermedad, dtype: object, 1956    Necrólisis epidérmica tóxica\n",
      "Name: Enfermedad, dtype: object, 394    Carcinoma anaplásico de tiroides\n",
      "Name: Enfermedad, dtype: object, 11    Acalasia idiopática\n",
      "Name: Enfermedad, dtype: object, 1422    Granulomatosis eosinofílica con poliangeítis\n",
      "Name: Enfermedad, dtype: object, 399    Carcinoma de esófago\n",
      "Name: Enfermedad, dtype: object, 1360    Fiebre de Lassa\n",
      "Name: Enfermedad, dtype: object, 2005    Neuropatía sensitivo-motora hereditaria, tipo ...\n",
      "Name: Enfermedad, dtype: object, 1369    Fiebre hemorrágica del virus Ébola\n",
      "Name: Enfermedad, dtype: object, 1306    Esclerosis sistémica cutánea difusa\n",
      "Name: Enfermedad, dtype: object, 2940    Síndrome de Stevens-Johnson\n",
      "Name: Enfermedad, dtype: object]\n"
     ]
    }
   ],
   "source": [
    "print(_saca_enfermedades (sintomas_comunes1,df_Enfermedades))"
   ]
  },
  {
   "cell_type": "code",
   "execution_count": 328,
   "id": "a539bd93",
   "metadata": {},
   "outputs": [
    {
     "data": {
      "text/plain": [
       "{399,\n",
       " 493,\n",
       " 645,\n",
       " 1088,\n",
       " 1090,\n",
       " 1155,\n",
       " 1156,\n",
       " 1306,\n",
       " 1369,\n",
       " 1422,\n",
       " 1956,\n",
       " 2529,\n",
       " 2786,\n",
       " 2940,\n",
       " 2997,\n",
       " 3935}"
      ]
     },
     "execution_count": 328,
     "metadata": {},
     "output_type": "execute_result"
    }
   ],
   "source": [
    "sintomas_comunes2=trata_sintomas2 (SINTOMAS_EJEMPLO,df_train_generated)\n",
    "sintomas_comunes2"
   ]
  },
  {
   "cell_type": "code",
   "execution_count": 329,
   "id": "1531ed44",
   "metadata": {},
   "outputs": [
    {
     "name": "stdout",
     "output_type": "stream",
     "text": [
      "[1088    Enfermedad de Gaucher\n",
      "Name: Enfermedad, dtype: object, 2529    Síndrome de Alport ligado al cromosoma X-leiom...\n",
      "Name: Enfermedad, dtype: object, 2786    Síndrome de Lynch\n",
      "Name: Enfermedad, dtype: object, 1155    Enfermedad de Whipple\n",
      "Name: Enfermedad, dtype: object, 1156    Enfermedad de Wilson\n",
      "Name: Enfermedad, dtype: object, 645    Dermatomiositis juvenil\n",
      "Name: Enfermedad, dtype: object, 1956    Necrólisis epidérmica tóxica\n",
      "Name: Enfermedad, dtype: object, 1090    Enfermedad de Gaucher tipo 2\n",
      "Name: Enfermedad, dtype: object, 493    Cáncer colorrectal familiar tipo X\n",
      "Name: Enfermedad, dtype: object, 1422    Granulomatosis eosinofílica con poliangeítis\n",
      "Name: Enfermedad, dtype: object, 399    Carcinoma de esófago\n",
      "Name: Enfermedad, dtype: object, 2997    Síndrome de Williams\n",
      "Name: Enfermedad, dtype: object, 1369    Fiebre hemorrágica del virus Ébola\n",
      "Name: Enfermedad, dtype: object, 1306    Esclerosis sistémica cutánea difusa\n",
      "Name: Enfermedad, dtype: object, 2940    Síndrome de Stevens-Johnson\n",
      "Name: Enfermedad, dtype: object, 3935    Síndrome oculocerebrorrenal de Lowe\n",
      "Name: Enfermedad, dtype: object]\n"
     ]
    }
   ],
   "source": [
    "print(_saca_enfermedades (sintomas_comunes2,df_Enfermedades))"
   ]
  },
  {
   "cell_type": "code",
   "execution_count": null,
   "id": "3d789c95",
   "metadata": {},
   "outputs": [],
   "source": [
    "df_EnfeySinto_select[(df_EnfeySinto_select[\"Enfermedad\"]==\"Granulomatosis eosinofílica con poliangeítis\") &\n",
    "                     ((df_EnfeySinto_select[\"Sintoma\"]==\"Cough\") | (df_EnfeySinto_select[\"Sintoma\"]==\"Weight loss\") \n",
    "                     | (df_EnfeySinto_select[\"Sintoma\"]==\"Dysphagia\") | (df_EnfeySinto_select[\"Sintoma\"]==\"Gastroesophageal reflux\"))]"
   ]
  },
  {
   "cell_type": "code",
   "execution_count": null,
   "id": "3be1b91c",
   "metadata": {},
   "outputs": [],
   "source": []
  },
  {
   "cell_type": "code",
   "execution_count": null,
   "id": "9f2078a5",
   "metadata": {},
   "outputs": [],
   "source": []
  },
  {
   "cell_type": "code",
   "execution_count": null,
   "id": "09251fd3",
   "metadata": {},
   "outputs": [],
   "source": []
  },
  {
   "cell_type": "code",
   "execution_count": null,
   "id": "288b652c",
   "metadata": {},
   "outputs": [],
   "source": []
  },
  {
   "cell_type": "code",
   "execution_count": null,
   "id": "84ebaa6a",
   "metadata": {},
   "outputs": [],
   "source": []
  },
  {
   "cell_type": "code",
   "execution_count": null,
   "id": "016b4ef3",
   "metadata": {},
   "outputs": [],
   "source": [
    "def predict_KNearest (ratings,sintoma,elementos,k):\n",
    "    \n",
    "    id_sintoma = df_Sintomas[df_Sintomas['Sintoma'] == sintoma].index.values[0]\n",
    "    \n",
    "   # [i].T).sum(axis=0)]).T\n",
    "    neighbors = NearestNeighbors(n_neighbors=k, metric='cosine')\n",
    "    neighbors.fit(ratings)\n",
    "    top_k_distances, top_k_sintomas = neighbors.kneighbors(ratings, return_distance=True)\n",
    "    \n",
    "    #guardamos en BBDD para tener disponible todo no en memoria.\n",
    "    \n",
    "    matrix_ratings = np.zeros(ratings.shape)\n",
    "    for i in range(ratings.shape[0]):\n",
    "        matrix_ratings[i,:] = top_k_distances[i].T.dot(ratings[top_k_sintomas][i]) / np.array([np.abs(top_k_distances \n",
    "    \n",
    "\n",
    "    \n",
    "    rating_sintoma=matrix_ratings.argsort()[id_sintoma][-elementos:]\n",
    "    for id_enfermedad in rating_sintoma:\n",
    "        enfermedad = df_Enfermedades[df_Enfermedades['index'] == (id_enfermedad)]\n",
    "        print(enfermedad['Enfermedad'], 'scoring:', matrix_ratings[id_sintoma][id_enfermedad])\n",
    "                                                                                                   \n",
    "\n",
    "    return top_k_sintomas"
   ]
  },
  {
   "cell_type": "code",
   "execution_count": null,
   "id": "6d24bd68",
   "metadata": {},
   "outputs": [],
   "source": []
  },
  {
   "cell_type": "code",
   "execution_count": null,
   "id": "67966fc9",
   "metadata": {},
   "outputs": [],
   "source": []
  },
  {
   "cell_type": "code",
   "execution_count": null,
   "id": "9ddbd257",
   "metadata": {},
   "outputs": [],
   "source": []
  },
  {
   "cell_type": "code",
   "execution_count": null,
   "id": "44e9eae0",
   "metadata": {},
   "outputs": [],
   "source": [
    "\n"
   ]
  },
  {
   "cell_type": "code",
   "execution_count": null,
   "id": "ed9aefad",
   "metadata": {},
   "outputs": [],
   "source": [
    "\n"
   ]
  },
  {
   "cell_type": "code",
   "execution_count": null,
   "id": "8fb950fb",
   "metadata": {},
   "outputs": [],
   "source": []
  },
  {
   "cell_type": "code",
   "execution_count": null,
   "id": "4ca3d230",
   "metadata": {},
   "outputs": [],
   "source": []
  },
  {
   "cell_type": "code",
   "execution_count": null,
   "id": "a18dba97",
   "metadata": {},
   "outputs": [],
   "source": []
  },
  {
   "cell_type": "code",
   "execution_count": null,
   "id": "cd233117",
   "metadata": {},
   "outputs": [],
   "source": []
  },
  {
   "cell_type": "code",
   "execution_count": null,
   "id": "b6df72b3",
   "metadata": {},
   "outputs": [],
   "source": []
  },
  {
   "cell_type": "code",
   "execution_count": null,
   "id": "d20d5e2f",
   "metadata": {},
   "outputs": [],
   "source": []
  },
  {
   "cell_type": "code",
   "execution_count": null,
   "id": "b20d1c1b",
   "metadata": {},
   "outputs": [],
   "source": []
  },
  {
   "cell_type": "code",
   "execution_count": null,
   "id": "62ce9203",
   "metadata": {},
   "outputs": [],
   "source": []
  },
  {
   "cell_type": "code",
   "execution_count": null,
   "id": "9ce3af4b",
   "metadata": {},
   "outputs": [],
   "source": []
  },
  {
   "cell_type": "code",
   "execution_count": null,
   "id": "53400582",
   "metadata": {},
   "outputs": [],
   "source": []
  },
  {
   "cell_type": "code",
   "execution_count": null,
   "id": "029f66d0",
   "metadata": {},
   "outputs": [],
   "source": []
  },
  {
   "cell_type": "code",
   "execution_count": null,
   "id": "46ca4ff5",
   "metadata": {},
   "outputs": [],
   "source": []
  },
  {
   "cell_type": "code",
   "execution_count": null,
   "id": "7b37503f",
   "metadata": {},
   "outputs": [],
   "source": []
  },
  {
   "cell_type": "code",
   "execution_count": null,
   "id": "da462a72",
   "metadata": {},
   "outputs": [],
   "source": []
  },
  {
   "cell_type": "code",
   "execution_count": null,
   "id": "46f9b949",
   "metadata": {},
   "outputs": [],
   "source": []
  },
  {
   "cell_type": "code",
   "execution_count": null,
   "id": "cb6275b7",
   "metadata": {},
   "outputs": [],
   "source": []
  },
  {
   "cell_type": "code",
   "execution_count": null,
   "id": "5797ca25",
   "metadata": {},
   "outputs": [],
   "source": []
  },
  {
   "cell_type": "code",
   "execution_count": null,
   "id": "3c3864bb",
   "metadata": {},
   "outputs": [],
   "source": []
  },
  {
   "cell_type": "code",
   "execution_count": null,
   "id": "4f7c3fc2",
   "metadata": {},
   "outputs": [],
   "source": []
  },
  {
   "cell_type": "code",
   "execution_count": null,
   "id": "a66f72b0",
   "metadata": {},
   "outputs": [],
   "source": []
  },
  {
   "cell_type": "code",
   "execution_count": null,
   "id": "f3d15ea0",
   "metadata": {},
   "outputs": [],
   "source": []
  },
  {
   "cell_type": "code",
   "execution_count": null,
   "id": "d34f7afb",
   "metadata": {},
   "outputs": [],
   "source": []
  },
  {
   "cell_type": "code",
   "execution_count": null,
   "id": "adeee6d7",
   "metadata": {},
   "outputs": [],
   "source": []
  },
  {
   "cell_type": "code",
   "execution_count": null,
   "id": "e51f7ccf",
   "metadata": {},
   "outputs": [],
   "source": []
  },
  {
   "cell_type": "code",
   "execution_count": null,
   "id": "68411ae3",
   "metadata": {},
   "outputs": [],
   "source": []
  },
  {
   "cell_type": "code",
   "execution_count": null,
   "id": "4f2127e8",
   "metadata": {},
   "outputs": [],
   "source": []
  },
  {
   "cell_type": "code",
   "execution_count": null,
   "id": "33e99beb",
   "metadata": {},
   "outputs": [],
   "source": []
  },
  {
   "cell_type": "code",
   "execution_count": null,
   "id": "9ac0ea71",
   "metadata": {},
   "outputs": [],
   "source": []
  },
  {
   "cell_type": "code",
   "execution_count": null,
   "id": "5267bbbf",
   "metadata": {},
   "outputs": [],
   "source": [
    "\n"
   ]
  },
  {
   "cell_type": "code",
   "execution_count": null,
   "id": "928ae750",
   "metadata": {},
   "outputs": [],
   "source": []
  },
  {
   "cell_type": "code",
   "execution_count": null,
   "id": "ddef92f2",
   "metadata": {},
   "outputs": [],
   "source": [
    "\n"
   ]
  },
  {
   "cell_type": "code",
   "execution_count": null,
   "id": "46c3ac35",
   "metadata": {},
   "outputs": [],
   "source": []
  },
  {
   "cell_type": "code",
   "execution_count": null,
   "id": "42d84ab0",
   "metadata": {},
   "outputs": [],
   "source": []
  },
  {
   "cell_type": "code",
   "execution_count": null,
   "id": "1ee172f8",
   "metadata": {},
   "outputs": [],
   "source": []
  },
  {
   "cell_type": "code",
   "execution_count": null,
   "id": "c658437f",
   "metadata": {},
   "outputs": [],
   "source": []
  },
  {
   "cell_type": "code",
   "execution_count": null,
   "id": "a7c8e4c0",
   "metadata": {},
   "outputs": [],
   "source": []
  },
  {
   "cell_type": "code",
   "execution_count": null,
   "id": "0b54f2ba",
   "metadata": {},
   "outputs": [],
   "source": []
  },
  {
   "cell_type": "code",
   "execution_count": null,
   "id": "3c4fc697",
   "metadata": {},
   "outputs": [],
   "source": []
  },
  {
   "cell_type": "code",
   "execution_count": null,
   "id": "5b675cf0",
   "metadata": {},
   "outputs": [],
   "source": []
  },
  {
   "cell_type": "code",
   "execution_count": null,
   "id": "60aa5ce3",
   "metadata": {},
   "outputs": [],
   "source": [
    "\n"
   ]
  },
  {
   "cell_type": "code",
   "execution_count": null,
   "id": "4a208c53",
   "metadata": {},
   "outputs": [],
   "source": []
  },
  {
   "cell_type": "code",
   "execution_count": null,
   "id": "e12be658",
   "metadata": {},
   "outputs": [],
   "source": []
  },
  {
   "cell_type": "code",
   "execution_count": null,
   "id": "8a2ef273",
   "metadata": {},
   "outputs": [],
   "source": []
  },
  {
   "cell_type": "code",
   "execution_count": null,
   "id": "ad929f23",
   "metadata": {},
   "outputs": [],
   "source": []
  },
  {
   "cell_type": "code",
   "execution_count": null,
   "id": "c97ab859",
   "metadata": {},
   "outputs": [],
   "source": []
  },
  {
   "cell_type": "code",
   "execution_count": null,
   "id": "a211ddcd",
   "metadata": {},
   "outputs": [],
   "source": []
  },
  {
   "cell_type": "code",
   "execution_count": null,
   "id": "5da5a145",
   "metadata": {},
   "outputs": [],
   "source": []
  },
  {
   "cell_type": "code",
   "execution_count": null,
   "id": "139d66ce",
   "metadata": {},
   "outputs": [],
   "source": []
  },
  {
   "cell_type": "code",
   "execution_count": null,
   "id": "51637286",
   "metadata": {},
   "outputs": [],
   "source": []
  },
  {
   "cell_type": "code",
   "execution_count": null,
   "id": "c07bf443",
   "metadata": {},
   "outputs": [],
   "source": []
  },
  {
   "cell_type": "code",
   "execution_count": null,
   "id": "abf247ec",
   "metadata": {},
   "outputs": [],
   "source": []
  },
  {
   "cell_type": "code",
   "execution_count": null,
   "id": "7b695d24",
   "metadata": {},
   "outputs": [],
   "source": []
  },
  {
   "cell_type": "code",
   "execution_count": null,
   "id": "d75568c8",
   "metadata": {},
   "outputs": [],
   "source": []
  },
  {
   "cell_type": "code",
   "execution_count": null,
   "id": "7f6e994c",
   "metadata": {},
   "outputs": [],
   "source": []
  },
  {
   "cell_type": "code",
   "execution_count": null,
   "id": "32c223b2",
   "metadata": {},
   "outputs": [],
   "source": []
  },
  {
   "cell_type": "code",
   "execution_count": null,
   "id": "badc9933",
   "metadata": {},
   "outputs": [],
   "source": []
  },
  {
   "cell_type": "code",
   "execution_count": null,
   "id": "81acc940",
   "metadata": {},
   "outputs": [],
   "source": []
  },
  {
   "cell_type": "code",
   "execution_count": null,
   "id": "7d7ce6b3",
   "metadata": {},
   "outputs": [],
   "source": []
  },
  {
   "cell_type": "code",
   "execution_count": null,
   "id": "c115678e",
   "metadata": {},
   "outputs": [],
   "source": []
  },
  {
   "cell_type": "code",
   "execution_count": null,
   "id": "023ac10f",
   "metadata": {},
   "outputs": [],
   "source": []
  },
  {
   "cell_type": "code",
   "execution_count": null,
   "id": "141e3396",
   "metadata": {},
   "outputs": [],
   "source": []
  },
  {
   "cell_type": "code",
   "execution_count": null,
   "id": "cd28c23f",
   "metadata": {},
   "outputs": [],
   "source": []
  },
  {
   "cell_type": "code",
   "execution_count": null,
   "id": "150672f4",
   "metadata": {},
   "outputs": [],
   "source": []
  },
  {
   "cell_type": "code",
   "execution_count": null,
   "id": "5c3dcac2",
   "metadata": {},
   "outputs": [],
   "source": []
  },
  {
   "cell_type": "code",
   "execution_count": null,
   "id": "b7dc5588",
   "metadata": {},
   "outputs": [],
   "source": []
  },
  {
   "cell_type": "code",
   "execution_count": null,
   "id": "d3b27455",
   "metadata": {},
   "outputs": [],
   "source": []
  },
  {
   "cell_type": "code",
   "execution_count": null,
   "id": "d76c2fd4",
   "metadata": {},
   "outputs": [],
   "source": []
  },
  {
   "cell_type": "code",
   "execution_count": null,
   "id": "63df4629",
   "metadata": {},
   "outputs": [],
   "source": []
  },
  {
   "cell_type": "code",
   "execution_count": null,
   "id": "dfe18911",
   "metadata": {},
   "outputs": [],
   "source": []
  },
  {
   "cell_type": "code",
   "execution_count": null,
   "id": "5be7e8f1",
   "metadata": {},
   "outputs": [],
   "source": []
  },
  {
   "cell_type": "code",
   "execution_count": null,
   "id": "166bcac5",
   "metadata": {},
   "outputs": [],
   "source": []
  },
  {
   "cell_type": "code",
   "execution_count": null,
   "id": "66a695e6",
   "metadata": {},
   "outputs": [],
   "source": []
  },
  {
   "cell_type": "code",
   "execution_count": null,
   "id": "b3070876",
   "metadata": {},
   "outputs": [],
   "source": []
  },
  {
   "cell_type": "code",
   "execution_count": null,
   "id": "32f0bf39",
   "metadata": {},
   "outputs": [],
   "source": []
  },
  {
   "cell_type": "code",
   "execution_count": null,
   "id": "e1382dc1",
   "metadata": {},
   "outputs": [],
   "source": []
  },
  {
   "cell_type": "code",
   "execution_count": null,
   "id": "2328edb2",
   "metadata": {},
   "outputs": [],
   "source": []
  },
  {
   "cell_type": "code",
   "execution_count": null,
   "id": "2c194657",
   "metadata": {},
   "outputs": [],
   "source": []
  },
  {
   "cell_type": "code",
   "execution_count": null,
   "id": "7fcc5577",
   "metadata": {},
   "outputs": [],
   "source": []
  },
  {
   "cell_type": "code",
   "execution_count": null,
   "id": "fb53cd47",
   "metadata": {},
   "outputs": [],
   "source": []
  },
  {
   "cell_type": "code",
   "execution_count": null,
   "id": "f2e6ce4c",
   "metadata": {},
   "outputs": [],
   "source": []
  },
  {
   "cell_type": "code",
   "execution_count": null,
   "id": "34085c55",
   "metadata": {},
   "outputs": [],
   "source": []
  },
  {
   "cell_type": "code",
   "execution_count": null,
   "id": "9103e125",
   "metadata": {},
   "outputs": [],
   "source": []
  },
  {
   "cell_type": "code",
   "execution_count": null,
   "id": "6726269c",
   "metadata": {},
   "outputs": [],
   "source": [
    "\n",
    "     "
   ]
  },
  {
   "cell_type": "code",
   "execution_count": null,
   "id": "f9fd46a1",
   "metadata": {},
   "outputs": [],
   "source": []
  },
  {
   "cell_type": "code",
   "execution_count": null,
   "id": "b28e3d89",
   "metadata": {},
   "outputs": [],
   "source": [
    "\n",
    "\n",
    "     "
   ]
  },
  {
   "cell_type": "code",
   "execution_count": null,
   "id": "49b33127",
   "metadata": {},
   "outputs": [],
   "source": [
    "\n"
   ]
  },
  {
   "cell_type": "code",
   "execution_count": null,
   "id": "e8e6c272",
   "metadata": {},
   "outputs": [],
   "source": []
  },
  {
   "cell_type": "code",
   "execution_count": null,
   "id": "267267b8",
   "metadata": {},
   "outputs": [],
   "source": []
  },
  {
   "cell_type": "code",
   "execution_count": null,
   "id": "97538c37",
   "metadata": {},
   "outputs": [],
   "source": []
  },
  {
   "cell_type": "code",
   "execution_count": null,
   "id": "4cf8a555",
   "metadata": {},
   "outputs": [],
   "source": []
  },
  {
   "cell_type": "code",
   "execution_count": null,
   "id": "17044078",
   "metadata": {},
   "outputs": [],
   "source": []
  },
  {
   "cell_type": "code",
   "execution_count": null,
   "id": "19051641",
   "metadata": {},
   "outputs": [],
   "source": []
  },
  {
   "cell_type": "code",
   "execution_count": null,
   "id": "5455b83c",
   "metadata": {},
   "outputs": [],
   "source": []
  },
  {
   "cell_type": "code",
   "execution_count": null,
   "id": "c9d920a3",
   "metadata": {},
   "outputs": [],
   "source": []
  },
  {
   "cell_type": "code",
   "execution_count": null,
   "id": "1d85e81f",
   "metadata": {},
   "outputs": [],
   "source": []
  },
  {
   "cell_type": "code",
   "execution_count": null,
   "id": "ac4644d7",
   "metadata": {},
   "outputs": [],
   "source": []
  },
  {
   "cell_type": "code",
   "execution_count": null,
   "id": "783e0f31",
   "metadata": {},
   "outputs": [],
   "source": []
  },
  {
   "cell_type": "code",
   "execution_count": null,
   "id": "38ca5fcf",
   "metadata": {},
   "outputs": [],
   "source": []
  },
  {
   "cell_type": "code",
   "execution_count": null,
   "id": "8223ec58",
   "metadata": {},
   "outputs": [],
   "source": []
  },
  {
   "cell_type": "code",
   "execution_count": null,
   "id": "87f50714",
   "metadata": {},
   "outputs": [],
   "source": []
  },
  {
   "cell_type": "code",
   "execution_count": null,
   "id": "18881ee7",
   "metadata": {},
   "outputs": [],
   "source": []
  },
  {
   "cell_type": "code",
   "execution_count": null,
   "id": "b4c750ea",
   "metadata": {},
   "outputs": [],
   "source": []
  },
  {
   "cell_type": "code",
   "execution_count": null,
   "id": "936dff9e",
   "metadata": {},
   "outputs": [],
   "source": [
    "\n"
   ]
  },
  {
   "cell_type": "code",
   "execution_count": null,
   "id": "36781410",
   "metadata": {},
   "outputs": [],
   "source": []
  },
  {
   "cell_type": "code",
   "execution_count": null,
   "id": "9cfcbb3a",
   "metadata": {},
   "outputs": [],
   "source": []
  },
  {
   "cell_type": "code",
   "execution_count": null,
   "id": "173d8b49",
   "metadata": {},
   "outputs": [],
   "source": []
  },
  {
   "cell_type": "code",
   "execution_count": null,
   "id": "78706084",
   "metadata": {},
   "outputs": [],
   "source": []
  },
  {
   "cell_type": "code",
   "execution_count": null,
   "id": "37e837cb",
   "metadata": {},
   "outputs": [],
   "source": []
  },
  {
   "cell_type": "code",
   "execution_count": null,
   "id": "81ef523a",
   "metadata": {},
   "outputs": [],
   "source": []
  },
  {
   "cell_type": "code",
   "execution_count": null,
   "id": "2d9f8459",
   "metadata": {},
   "outputs": [],
   "source": []
  },
  {
   "cell_type": "code",
   "execution_count": null,
   "id": "c8e87516",
   "metadata": {},
   "outputs": [],
   "source": []
  },
  {
   "cell_type": "code",
   "execution_count": null,
   "id": "59255e39",
   "metadata": {},
   "outputs": [],
   "source": []
  },
  {
   "cell_type": "code",
   "execution_count": null,
   "id": "0536f159",
   "metadata": {},
   "outputs": [],
   "source": []
  },
  {
   "cell_type": "code",
   "execution_count": null,
   "id": "8f89ad6c",
   "metadata": {},
   "outputs": [],
   "source": []
  },
  {
   "cell_type": "code",
   "execution_count": null,
   "id": "18e823b9",
   "metadata": {},
   "outputs": [],
   "source": []
  },
  {
   "cell_type": "code",
   "execution_count": null,
   "id": "c1e0b1b0",
   "metadata": {},
   "outputs": [],
   "source": []
  },
  {
   "cell_type": "code",
   "execution_count": null,
   "id": "9008a601",
   "metadata": {},
   "outputs": [],
   "source": []
  },
  {
   "cell_type": "code",
   "execution_count": null,
   "id": "f0e68dad",
   "metadata": {},
   "outputs": [],
   "source": []
  },
  {
   "cell_type": "code",
   "execution_count": null,
   "id": "e0e1cfca",
   "metadata": {},
   "outputs": [],
   "source": []
  },
  {
   "cell_type": "code",
   "execution_count": null,
   "id": "2a80f503",
   "metadata": {},
   "outputs": [],
   "source": []
  },
  {
   "cell_type": "code",
   "execution_count": null,
   "id": "cd46081a",
   "metadata": {},
   "outputs": [],
   "source": []
  },
  {
   "cell_type": "code",
   "execution_count": null,
   "id": "200b0760",
   "metadata": {},
   "outputs": [],
   "source": []
  },
  {
   "cell_type": "code",
   "execution_count": null,
   "id": "16ce5f17",
   "metadata": {},
   "outputs": [],
   "source": []
  },
  {
   "cell_type": "code",
   "execution_count": null,
   "id": "1ba31649",
   "metadata": {},
   "outputs": [],
   "source": []
  },
  {
   "cell_type": "code",
   "execution_count": null,
   "id": "992ce360",
   "metadata": {},
   "outputs": [],
   "source": []
  },
  {
   "cell_type": "code",
   "execution_count": null,
   "id": "76afdc9f",
   "metadata": {},
   "outputs": [],
   "source": []
  },
  {
   "cell_type": "code",
   "execution_count": null,
   "id": "add60b60",
   "metadata": {},
   "outputs": [],
   "source": []
  },
  {
   "cell_type": "code",
   "execution_count": null,
   "id": "94864a68",
   "metadata": {},
   "outputs": [],
   "source": []
  },
  {
   "cell_type": "code",
   "execution_count": null,
   "id": "5df91d34",
   "metadata": {},
   "outputs": [],
   "source": []
  },
  {
   "cell_type": "code",
   "execution_count": null,
   "id": "6740870f",
   "metadata": {},
   "outputs": [],
   "source": []
  },
  {
   "cell_type": "code",
   "execution_count": null,
   "id": "2fee7f48",
   "metadata": {},
   "outputs": [],
   "source": []
  },
  {
   "cell_type": "code",
   "execution_count": null,
   "id": "4c6eb964",
   "metadata": {},
   "outputs": [],
   "source": [
    "import pickle\n",
    "\n",
    "#pickle.dump(model,open(\"modelo19m.pickle\",\"wb\"))\n",
    "model2=pickle.load(open(\"modelo19m.pickle\",\"rb\"))"
   ]
  },
  {
   "cell_type": "code",
   "execution_count": null,
   "id": "2f6bcccc",
   "metadata": {},
   "outputs": [],
   "source": [
    "df_train_generated.to_csv(\"df_train_final.csv\", index=False)"
   ]
  },
  {
   "cell_type": "code",
   "execution_count": null,
   "id": "76dca18d",
   "metadata": {},
   "outputs": [],
   "source": [
    "from joblib import dump\n",
    "dump(model, 'modelo19m.joblib') "
   ]
  },
  {
   "cell_type": "code",
   "execution_count": null,
   "id": "46e36a81",
   "metadata": {},
   "outputs": [],
   "source": [
    "from joblib import load\n",
    "new_model = load('modelo19m.joblib')"
   ]
  },
  {
   "cell_type": "code",
   "execution_count": null,
   "id": "63db9e65",
   "metadata": {},
   "outputs": [],
   "source": [
    "evaluate (new_model, X_test, y_test)"
   ]
  },
  {
   "cell_type": "code",
   "execution_count": null,
   "id": "303bd1e0",
   "metadata": {},
   "outputs": [],
   "source": [
    "param_grid = { \n",
    "    'n_estimators': [200, 500],\n",
    "    'max_features': ['auto', 'sqrt', 'log2'],\n",
    "    'max_depth' : [4,5,6,7,8],\n",
    "    'criterion' :['gini', 'entropy']\n",
    "}"
   ]
  },
  {
   "cell_type": "code",
   "execution_count": null,
   "id": "5dbf0d15",
   "metadata": {},
   "outputs": [],
   "source": [
    "CV_rfc = GridSearchCV(estimator=model, param_grid=param_grid, cv= 5)\n",
    "CV_rfc.fit(X_train, y_train)"
   ]
  },
  {
   "cell_type": "code",
   "execution_count": null,
   "id": "2bf86c23",
   "metadata": {},
   "outputs": [],
   "source": []
  },
  {
   "cell_type": "code",
   "execution_count": null,
   "id": "63c90cbc",
   "metadata": {},
   "outputs": [],
   "source": [
    "CV_rfc.best_params_"
   ]
  },
  {
   "cell_type": "code",
   "execution_count": null,
   "id": "fe0b01a2",
   "metadata": {},
   "outputs": [],
   "source": [
    "X_test"
   ]
  },
  {
   "cell_type": "code",
   "execution_count": null,
   "id": "108964c6",
   "metadata": {},
   "outputs": [],
   "source": [
    "X_test.iloc[[1]]"
   ]
  },
  {
   "cell_type": "code",
   "execution_count": null,
   "id": "8a0b6343",
   "metadata": {},
   "outputs": [],
   "source": [
    "model.predict(X_test.iloc[[2]])"
   ]
  },
  {
   "cell_type": "code",
   "execution_count": null,
   "id": "59098881",
   "metadata": {},
   "outputs": [],
   "source": [
    "y_test.iloc[[2]]"
   ]
  },
  {
   "cell_type": "code",
   "execution_count": null,
   "id": "32d17c3b",
   "metadata": {},
   "outputs": [],
   "source": [
    "predicciones = model.predict_proba(X_test.iloc[[2]])\n",
    "predicciones.shape\n"
   ]
  },
  {
   "cell_type": "code",
   "execution_count": null,
   "id": "3a370224",
   "metadata": {},
   "outputs": [],
   "source": [
    "X_test.iloc[[2]]\n"
   ]
  },
  {
   "cell_type": "code",
   "execution_count": null,
   "id": "0360cb56",
   "metadata": {},
   "outputs": [],
   "source": [
    "a=df_train_generated.columns\n"
   ]
  },
  {
   "cell_type": "code",
   "execution_count": null,
   "id": "c84529bb",
   "metadata": {},
   "outputs": [],
   "source": [
    "b=a.to_list()\n",
    "b.remove('id_Enfermedad')\n",
    "b"
   ]
  },
  {
   "cell_type": "code",
   "execution_count": null,
   "id": "6dcde3ae",
   "metadata": {},
   "outputs": [],
   "source": [
    "df_train_generated.columns\n",
    "df_predicciones = pd.DataFrame(data=predicciones)\n",
    "#df_predicciones['clasificacion_default_0.5'] = np.where(df_predicciones['0'] > df_predicciones['1'], 0, 1)\n",
    "df_predicciones"
   ]
  },
  {
   "cell_type": "code",
   "execution_count": null,
   "id": "b7564f87",
   "metadata": {},
   "outputs": [],
   "source": [
    "df_predicciones2=df_predicciones.transpose()\n",
    "df_predicciones2"
   ]
  },
  {
   "cell_type": "code",
   "execution_count": null,
   "id": "06475b4b",
   "metadata": {},
   "outputs": [],
   "source": [
    "list_to_rank=df_predicciones2[df_predicciones2[0]>0]"
   ]
  },
  {
   "cell_type": "code",
   "execution_count": null,
   "id": "50f8299e",
   "metadata": {},
   "outputs": [],
   "source": [
    "rank = list_to_rank.sort_values(0,ascending=False)\n",
    "rank"
   ]
  },
  {
   "cell_type": "code",
   "execution_count": null,
   "id": "e0e3ad4b",
   "metadata": {},
   "outputs": [],
   "source": [
    "rank2=rank.reset_index()"
   ]
  },
  {
   "cell_type": "code",
   "execution_count": null,
   "id": "b5df6a67",
   "metadata": {},
   "outputs": [],
   "source": []
  },
  {
   "cell_type": "code",
   "execution_count": null,
   "id": "51f42b4c",
   "metadata": {},
   "outputs": [],
   "source": [
    "rank2=rank2.head(5)\n",
    "rank2"
   ]
  },
  {
   "cell_type": "code",
   "execution_count": null,
   "id": "3f24b08b",
   "metadata": {},
   "outputs": [],
   "source": [
    "rank2.merge (data)"
   ]
  },
  {
   "cell_type": "code",
   "execution_count": null,
   "id": "7e3eb1c9",
   "metadata": {},
   "outputs": [],
   "source": [
    "rank2[\"Enfermedad\"]= rank2.apply(lambda row:\n",
    "                                 data[data['Id_Enfermedad']==row[\"index\"]].iloc[0][0]\n",
    "                                 if data['Id_Enfermedad']==row[\"index\"]\n",
    "                                 else 0,\n",
    "                                 axis=1\n",
    "                                )"
   ]
  },
  {
   "cell_type": "code",
   "execution_count": null,
   "id": "5d198c78",
   "metadata": {},
   "outputs": [],
   "source": []
  },
  {
   "cell_type": "code",
   "execution_count": null,
   "id": "4cc45ec7",
   "metadata": {},
   "outputs": [],
   "source": [
    "data.iloc[0][0]"
   ]
  },
  {
   "cell_type": "code",
   "execution_count": null,
   "id": "26fa3cf4",
   "metadata": {},
   "outputs": [],
   "source": [
    "for i in range(1):\n",
    "    \n",
    "    a=data[data['Id_Enfermedad']==rank2[\"index\"][i]].iloc[0][0]\n",
    "    a"
   ]
  },
  {
   "cell_type": "code",
   "execution_count": null,
   "id": "2e79ece6",
   "metadata": {},
   "outputs": [],
   "source": []
  },
  {
   "cell_type": "code",
   "execution_count": null,
   "id": "07495491",
   "metadata": {},
   "outputs": [],
   "source": [
    "a"
   ]
  },
  {
   "cell_type": "code",
   "execution_count": null,
   "id": "06031cba",
   "metadata": {},
   "outputs": [],
   "source": [
    "a.iloc[0][0]"
   ]
  },
  {
   "cell_type": "code",
   "execution_count": null,
   "id": "d0707716",
   "metadata": {},
   "outputs": [],
   "source": [
    "list_rank=rank.to_numpy().tolist()\n",
    "list_rank\n"
   ]
  },
  {
   "cell_type": "code",
   "execution_count": null,
   "id": "0fc56788",
   "metadata": {},
   "outputs": [],
   "source": [
    "for i in range(5):\n",
    "    print (i)\n",
    "    print (lis)\n",
    "        "
   ]
  },
  {
   "cell_type": "code",
   "execution_count": null,
   "id": "2945556d",
   "metadata": {},
   "outputs": [],
   "source": [
    "data[data['Id_Enfermedad']==2389]"
   ]
  },
  {
   "cell_type": "code",
   "execution_count": null,
   "id": "93e701de",
   "metadata": {},
   "outputs": [],
   "source": []
  },
  {
   "cell_type": "code",
   "execution_count": null,
   "id": "2745cca8",
   "metadata": {},
   "outputs": [],
   "source": []
  },
  {
   "cell_type": "code",
   "execution_count": null,
   "id": "26065340",
   "metadata": {},
   "outputs": [],
   "source": []
  },
  {
   "cell_type": "code",
   "execution_count": null,
   "id": "db9d340a",
   "metadata": {},
   "outputs": [],
   "source": []
  },
  {
   "cell_type": "code",
   "execution_count": null,
   "id": "300c7959",
   "metadata": {},
   "outputs": [],
   "source": []
  },
  {
   "cell_type": "code",
   "execution_count": null,
   "id": "3452282c",
   "metadata": {},
   "outputs": [],
   "source": []
  },
  {
   "cell_type": "code",
   "execution_count": null,
   "id": "52085cc2",
   "metadata": {},
   "outputs": [],
   "source": []
  },
  {
   "cell_type": "code",
   "execution_count": null,
   "id": "27d3771e",
   "metadata": {},
   "outputs": [],
   "source": []
  },
  {
   "cell_type": "code",
   "execution_count": null,
   "id": "5f0ba742",
   "metadata": {},
   "outputs": [],
   "source": []
  },
  {
   "cell_type": "code",
   "execution_count": null,
   "id": "f7f759cc",
   "metadata": {},
   "outputs": [],
   "source": []
  },
  {
   "cell_type": "code",
   "execution_count": null,
   "id": "58b53230",
   "metadata": {},
   "outputs": [],
   "source": []
  },
  {
   "cell_type": "code",
   "execution_count": null,
   "id": "14b3014c",
   "metadata": {},
   "outputs": [],
   "source": []
  },
  {
   "cell_type": "code",
   "execution_count": null,
   "id": "9e7d448a",
   "metadata": {},
   "outputs": [],
   "source": []
  },
  {
   "cell_type": "code",
   "execution_count": null,
   "id": "19531462",
   "metadata": {},
   "outputs": [],
   "source": []
  },
  {
   "cell_type": "code",
   "execution_count": null,
   "id": "015ac772",
   "metadata": {},
   "outputs": [],
   "source": []
  },
  {
   "cell_type": "code",
   "execution_count": null,
   "id": "e496a776",
   "metadata": {},
   "outputs": [],
   "source": []
  },
  {
   "cell_type": "code",
   "execution_count": null,
   "id": "049f0a0c",
   "metadata": {},
   "outputs": [],
   "source": []
  },
  {
   "cell_type": "code",
   "execution_count": null,
   "id": "f13fa43e",
   "metadata": {},
   "outputs": [],
   "source": []
  },
  {
   "cell_type": "code",
   "execution_count": null,
   "id": "596c53cb",
   "metadata": {},
   "outputs": [],
   "source": []
  },
  {
   "cell_type": "code",
   "execution_count": null,
   "id": "bc28f558",
   "metadata": {},
   "outputs": [],
   "source": []
  },
  {
   "cell_type": "code",
   "execution_count": null,
   "id": "84f191d8",
   "metadata": {},
   "outputs": [],
   "source": []
  },
  {
   "cell_type": "code",
   "execution_count": null,
   "id": "0dfee2f7",
   "metadata": {},
   "outputs": [],
   "source": []
  },
  {
   "cell_type": "code",
   "execution_count": null,
   "id": "2b528a4f",
   "metadata": {},
   "outputs": [],
   "source": [
    "\n"
   ]
  },
  {
   "cell_type": "code",
   "execution_count": null,
   "id": "78dbb816",
   "metadata": {},
   "outputs": [],
   "source": []
  },
  {
   "cell_type": "code",
   "execution_count": null,
   "id": "c7aa14a4",
   "metadata": {},
   "outputs": [],
   "source": []
  },
  {
   "cell_type": "code",
   "execution_count": null,
   "id": "8c3c7b8b",
   "metadata": {},
   "outputs": [],
   "source": []
  },
  {
   "cell_type": "code",
   "execution_count": null,
   "id": "cd8611d2",
   "metadata": {},
   "outputs": [],
   "source": []
  },
  {
   "cell_type": "code",
   "execution_count": null,
   "id": "9c561952",
   "metadata": {},
   "outputs": [],
   "source": []
  },
  {
   "cell_type": "code",
   "execution_count": null,
   "id": "51951b7b",
   "metadata": {},
   "outputs": [],
   "source": []
  },
  {
   "cell_type": "code",
   "execution_count": null,
   "id": "b40c4efd",
   "metadata": {},
   "outputs": [],
   "source": []
  },
  {
   "cell_type": "code",
   "execution_count": null,
   "id": "2a4fdd5f",
   "metadata": {},
   "outputs": [],
   "source": []
  },
  {
   "cell_type": "code",
   "execution_count": null,
   "id": "5e6ac7e8",
   "metadata": {},
   "outputs": [],
   "source": []
  },
  {
   "cell_type": "code",
   "execution_count": null,
   "id": "c679b556",
   "metadata": {},
   "outputs": [],
   "source": []
  },
  {
   "cell_type": "code",
   "execution_count": null,
   "id": "c44a719b",
   "metadata": {},
   "outputs": [],
   "source": []
  },
  {
   "cell_type": "code",
   "execution_count": null,
   "id": "87c2e2a8",
   "metadata": {},
   "outputs": [],
   "source": []
  },
  {
   "cell_type": "code",
   "execution_count": null,
   "id": "f40e9129",
   "metadata": {},
   "outputs": [],
   "source": []
  },
  {
   "cell_type": "code",
   "execution_count": null,
   "id": "994e8366",
   "metadata": {},
   "outputs": [],
   "source": []
  },
  {
   "cell_type": "code",
   "execution_count": null,
   "id": "75086651",
   "metadata": {},
   "outputs": [],
   "source": []
  },
  {
   "cell_type": "code",
   "execution_count": null,
   "id": "7e39e638",
   "metadata": {},
   "outputs": [],
   "source": []
  },
  {
   "cell_type": "code",
   "execution_count": null,
   "id": "4549cfd8",
   "metadata": {},
   "outputs": [],
   "source": []
  },
  {
   "cell_type": "code",
   "execution_count": null,
   "id": "88b810c4",
   "metadata": {},
   "outputs": [],
   "source": [
    "\n"
   ]
  },
  {
   "cell_type": "code",
   "execution_count": null,
   "id": "2327cc23",
   "metadata": {},
   "outputs": [],
   "source": []
  },
  {
   "cell_type": "code",
   "execution_count": null,
   "id": "ea7f0749",
   "metadata": {},
   "outputs": [],
   "source": []
  },
  {
   "cell_type": "code",
   "execution_count": null,
   "id": "7f535947",
   "metadata": {},
   "outputs": [],
   "source": []
  },
  {
   "cell_type": "code",
   "execution_count": null,
   "id": "621875a4",
   "metadata": {},
   "outputs": [],
   "source": []
  },
  {
   "cell_type": "code",
   "execution_count": null,
   "id": "24b1f889",
   "metadata": {},
   "outputs": [],
   "source": []
  },
  {
   "cell_type": "code",
   "execution_count": null,
   "id": "577ee4f4",
   "metadata": {},
   "outputs": [],
   "source": []
  },
  {
   "cell_type": "code",
   "execution_count": null,
   "id": "ded24e90",
   "metadata": {},
   "outputs": [],
   "source": []
  },
  {
   "cell_type": "code",
   "execution_count": null,
   "id": "ecd18e53",
   "metadata": {},
   "outputs": [],
   "source": []
  },
  {
   "cell_type": "code",
   "execution_count": null,
   "id": "a69f0ca1",
   "metadata": {},
   "outputs": [],
   "source": []
  },
  {
   "cell_type": "code",
   "execution_count": null,
   "id": "d7a4ac9f",
   "metadata": {},
   "outputs": [],
   "source": []
  },
  {
   "cell_type": "code",
   "execution_count": null,
   "id": "aa2c78b8",
   "metadata": {},
   "outputs": [],
   "source": []
  },
  {
   "cell_type": "code",
   "execution_count": null,
   "id": "dcb7d983",
   "metadata": {},
   "outputs": [],
   "source": []
  },
  {
   "cell_type": "code",
   "execution_count": null,
   "id": "6e450b7b",
   "metadata": {},
   "outputs": [],
   "source": []
  },
  {
   "cell_type": "code",
   "execution_count": null,
   "id": "c60685bf",
   "metadata": {},
   "outputs": [],
   "source": [
    "\n"
   ]
  },
  {
   "cell_type": "code",
   "execution_count": null,
   "id": "d01789d3",
   "metadata": {},
   "outputs": [],
   "source": []
  },
  {
   "cell_type": "code",
   "execution_count": null,
   "id": "5c345bdc",
   "metadata": {},
   "outputs": [],
   "source": []
  },
  {
   "cell_type": "code",
   "execution_count": null,
   "id": "589341a4",
   "metadata": {},
   "outputs": [],
   "source": [
    "\n"
   ]
  },
  {
   "cell_type": "code",
   "execution_count": null,
   "id": "af7b2430",
   "metadata": {},
   "outputs": [],
   "source": []
  },
  {
   "cell_type": "code",
   "execution_count": null,
   "id": "7cd4cae0",
   "metadata": {},
   "outputs": [],
   "source": []
  },
  {
   "cell_type": "code",
   "execution_count": null,
   "id": "20c0ed35",
   "metadata": {},
   "outputs": [],
   "source": []
  },
  {
   "cell_type": "code",
   "execution_count": null,
   "id": "4a7adcc5",
   "metadata": {},
   "outputs": [],
   "source": []
  },
  {
   "cell_type": "code",
   "execution_count": null,
   "id": "8851eeec",
   "metadata": {},
   "outputs": [],
   "source": [
    "\n"
   ]
  },
  {
   "cell_type": "code",
   "execution_count": null,
   "id": "dd5a8b36",
   "metadata": {},
   "outputs": [],
   "source": [
    "\n"
   ]
  },
  {
   "cell_type": "code",
   "execution_count": null,
   "id": "4ed33270",
   "metadata": {},
   "outputs": [],
   "source": [
    "\n"
   ]
  },
  {
   "cell_type": "code",
   "execution_count": null,
   "id": "9c371fa1",
   "metadata": {},
   "outputs": [],
   "source": [
    "\n",
    "\n"
   ]
  },
  {
   "cell_type": "code",
   "execution_count": null,
   "id": "3a1aa7ea",
   "metadata": {},
   "outputs": [],
   "source": []
  },
  {
   "cell_type": "code",
   "execution_count": null,
   "id": "1b23461d",
   "metadata": {},
   "outputs": [],
   "source": []
  },
  {
   "cell_type": "code",
   "execution_count": null,
   "id": "220d0c59",
   "metadata": {},
   "outputs": [],
   "source": []
  },
  {
   "cell_type": "code",
   "execution_count": null,
   "id": "9f8ce2d4",
   "metadata": {},
   "outputs": [],
   "source": []
  },
  {
   "cell_type": "code",
   "execution_count": null,
   "id": "df4d6d0b",
   "metadata": {},
   "outputs": [],
   "source": []
  },
  {
   "cell_type": "code",
   "execution_count": null,
   "id": "2d14440c",
   "metadata": {},
   "outputs": [],
   "source": []
  },
  {
   "cell_type": "code",
   "execution_count": null,
   "id": "81a8f72e",
   "metadata": {},
   "outputs": [],
   "source": []
  },
  {
   "cell_type": "code",
   "execution_count": null,
   "id": "c61233cb",
   "metadata": {},
   "outputs": [],
   "source": []
  },
  {
   "cell_type": "code",
   "execution_count": null,
   "id": "25da1db5",
   "metadata": {},
   "outputs": [],
   "source": []
  },
  {
   "cell_type": "code",
   "execution_count": null,
   "id": "3581334c",
   "metadata": {},
   "outputs": [],
   "source": [
    "\n"
   ]
  },
  {
   "cell_type": "code",
   "execution_count": null,
   "id": "57094c01",
   "metadata": {},
   "outputs": [],
   "source": []
  },
  {
   "cell_type": "code",
   "execution_count": null,
   "id": "da7ee8e3",
   "metadata": {},
   "outputs": [],
   "source": []
  },
  {
   "cell_type": "code",
   "execution_count": null,
   "id": "683f074b",
   "metadata": {},
   "outputs": [],
   "source": []
  },
  {
   "cell_type": "code",
   "execution_count": null,
   "id": "07a6ac8b",
   "metadata": {},
   "outputs": [],
   "source": []
  },
  {
   "cell_type": "code",
   "execution_count": null,
   "id": "a05977ec",
   "metadata": {},
   "outputs": [],
   "source": []
  },
  {
   "cell_type": "code",
   "execution_count": null,
   "id": "552e9419",
   "metadata": {},
   "outputs": [],
   "source": []
  },
  {
   "cell_type": "code",
   "execution_count": null,
   "id": "f6f635ef",
   "metadata": {},
   "outputs": [],
   "source": []
  },
  {
   "cell_type": "code",
   "execution_count": null,
   "id": "98485235",
   "metadata": {},
   "outputs": [],
   "source": []
  },
  {
   "cell_type": "markdown",
   "id": "65f1ae66",
   "metadata": {},
   "source": [
    "#### "
   ]
  },
  {
   "cell_type": "code",
   "execution_count": null,
   "id": "a879cb4c",
   "metadata": {},
   "outputs": [],
   "source": []
  },
  {
   "cell_type": "code",
   "execution_count": null,
   "id": "13ea6fb2",
   "metadata": {},
   "outputs": [],
   "source": []
  },
  {
   "cell_type": "code",
   "execution_count": null,
   "id": "a004332b",
   "metadata": {},
   "outputs": [],
   "source": []
  },
  {
   "cell_type": "code",
   "execution_count": null,
   "id": "e247e16e",
   "metadata": {},
   "outputs": [],
   "source": []
  },
  {
   "cell_type": "code",
   "execution_count": null,
   "id": "afa51577",
   "metadata": {},
   "outputs": [],
   "source": []
  },
  {
   "cell_type": "code",
   "execution_count": null,
   "id": "2a6eae33",
   "metadata": {},
   "outputs": [],
   "source": []
  },
  {
   "cell_type": "code",
   "execution_count": null,
   "id": "d56870dd",
   "metadata": {},
   "outputs": [],
   "source": []
  },
  {
   "cell_type": "code",
   "execution_count": null,
   "id": "099ff457",
   "metadata": {},
   "outputs": [],
   "source": []
  },
  {
   "cell_type": "code",
   "execution_count": null,
   "id": "1b973bcc",
   "metadata": {},
   "outputs": [],
   "source": []
  },
  {
   "cell_type": "code",
   "execution_count": null,
   "id": "757b309b",
   "metadata": {},
   "outputs": [],
   "source": [
    "\n"
   ]
  },
  {
   "cell_type": "code",
   "execution_count": null,
   "id": "d90c431c",
   "metadata": {},
   "outputs": [],
   "source": []
  },
  {
   "cell_type": "code",
   "execution_count": null,
   "id": "20b035f9",
   "metadata": {},
   "outputs": [],
   "source": []
  },
  {
   "cell_type": "code",
   "execution_count": null,
   "id": "6f89a9e2",
   "metadata": {},
   "outputs": [],
   "source": []
  },
  {
   "cell_type": "code",
   "execution_count": null,
   "id": "77f02d9e",
   "metadata": {},
   "outputs": [],
   "source": []
  }
 ],
 "metadata": {
  "kernelspec": {
   "display_name": "Python 3 (ipykernel)",
   "language": "python",
   "name": "python3"
  },
  "language_info": {
   "codemirror_mode": {
    "name": "ipython",
    "version": 3
   },
   "file_extension": ".py",
   "mimetype": "text/x-python",
   "name": "python",
   "nbconvert_exporter": "python",
   "pygments_lexer": "ipython3",
   "version": "3.9.13"
  },
  "vscode": {
   "interpreter": {
    "hash": "2beab4f37da7cd4415782296c8eb22a3553443b6202cb34c77e531d87231817b"
   }
  }
 },
 "nbformat": 4,
 "nbformat_minor": 5
}
