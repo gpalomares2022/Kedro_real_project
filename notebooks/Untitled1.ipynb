{
 "cells": [
  {
   "cell_type": "code",
   "execution_count": null,
   "id": "8a8e989a",
   "metadata": {},
   "outputs": [],
   "source": [
    "def init_collaborative_filtering_user_based (ratings_matrix):\n",
    "    #Recibimos la matriz \"ratings_matrix\" que está compuesta por el cruce entre todos los síntomas y todos las\n",
    "    #enfermedades; y que tiene los valores 0 (cuando no hay relación) y 1,2,3 y 4 en función de la frecuencia\n",
    "    #de releación entre el síntoma y la enfermedad. Por ejemplo, si la frecuencia es \"muy frecuente\", vendrá\n",
    "    #con un 4 en la celda de relación entre el síntoma y la enfermedad.\n",
    "    \n",
    "    \n",
    "    \n",
    "    #Ahora calculamos la matriz la similitud entre enfermedades, utilizando la función cosine_similarity (distancia\n",
    "    #del coseno (vectores))\n",
    "   \n",
    "    sim_matrix= sklearn.metrics.pairwise.cosine_similarity(ratings_matrix)\n",
    "    #Ya tenemos la matriz de similitudes. \n",
    "    \n",
    "    #Ahora ya podemos calcular las recomendaciones. Podemos predecir las enfermedades recomendadas a partir \n",
    "    #de una matriz calculada en donde hay relación entre cada enfermedad y síntoma (con un scoring)\n",
    "    #Es la matriz \"sintomas_k\"\n",
    "    #Por eso usamos \"ratings_matrix\" que tiene las \"puntuaciones\" entre síntoma y enfermedad\n",
    "    #Según apuntes... \n",
    "    #Cada rating se multiplica por el factor de similitud de enfermedad que dio el rating. \n",
    "    #La predicción final por enfermedad será igual a la suma del peso de los ratings dividido por la “suma ponderada”.\n",
    "    sintomas_k = sim_matrix.dot(ratings_matrix) / np.array([np.abs(sim_matrix).sum(axis=1)]).T\n",
    "    # Producto de Matriz de similitud (sim_matrix) con la matrix inicial (ratings_matrix)\n",
    "    #/ (sumatoria de cada fila de ratings) con Transpuesta\n",
    "    \n",
    "    print (\"matriz de similitudes entre enfermedades. Por eso es 4173x4173\")\n",
    "    print (sim_matrix)\n",
    "    print (sim_matrix.shape)\n",
    "    print (\"matriz de recomendaciones entre síntoma y enfermedades. Por eso es 4173x483\")\n",
    "    print (sintomas_k)\n",
    "    print (sintomas_k.shape)\n",
    "    #Preparamos BBDD\n",
    "    conn = sqlite3.connect('test_database')\n",
    "    c = conn.cursor()\n",
    "    #Hacemos transpose para guardar o dará error en \"demasiadas columnas\"\n",
    "    sintomas_k=sintomas_k.transpose()\n",
    "    df = pd.DataFrame(sintomas_k)\n",
    "    df=df.transpose()\n",
    "    df.to_sql('scorings_tfm', conn, if_exists='replace', index = False)\n",
    " \n",
    "   \n"
   ]
  },
  {
   "cell_type": "code",
   "execution_count": null,
   "id": "1623ad58",
   "metadata": {},
   "outputs": [],
   "source": [
    "init_collaborative_filtering_user_based (df_train_generated.values)\n"
   ]
  },
  {
   "cell_type": "raw",
   "id": "7656d1b3",
   "metadata": {},
   "source": [
    "# matriz de similitudes entre enfermedades. Por eso es 4173x4173\n",
    "[[1.         0.12298801 0.1300665  ... 0.         0.         0.        ]\n",
    " [0.12298801 1.         0.44790534 ... 0.         0.         0.        ]\n",
    " [0.1300665  0.44790534 1.         ... 0.         0.         0.        ]\n",
    " ...\n",
    " [0.         0.         0.         ... 1.         0.         0.        ]\n",
    " [0.         0.         0.         ... 0.         1.         0.        ]\n",
    " [0.         0.         0.         ... 0.         0.         1.        ]]\n",
    "(4173, 4173)\n",
    "matriz de recomendaciones entre síntoma y enfermedades. Por eso es 4173x483\n",
    "[[0.02360251 0.03479041 0.01245048 ... 0.23982055 0.26927281 0.07423764]\n",
    " [0.02152752 0.03810987 0.01778534 ... 0.08749554 0.20321282 0.05571307]\n",
    " [0.01972023 0.03300338 0.01436005 ... 0.09604621 0.20139168 0.05858235]\n",
    " ...\n",
    " [0.09534868 0.52409338 0.08264928 ... 0.00403089 0.01220106 0.006385  ]\n",
    " [0.0218554  0.03217453 0.01075806 ... 0.06125865 0.2222843  0.03845993]\n",
    " [0.         0.         0.0224811  ... 0.06356424 0.22467816 0.07525786]]\n",
    "(4173, 483)"
   ]
  },
  {
   "cell_type": "code",
   "execution_count": null,
   "id": "25ce85e8",
   "metadata": {},
   "outputs": [],
   "source": [
    "def predict_collaborative_filtering_user_based(sintoma, elementos):\n",
    " \n",
    "     #Nos viene el Síntoma en la variable \"sintoma\" (ejemplo \"Cough\") y el número de elementos enfermedades\n",
    "    #que queremos que nos recomiende con ese síntoma. Vamos a pensar que son 10 para el ejemplo.\n",
    "    \n",
    "    #Sacamos el Id del Sintoma (al tener el texto)\n",
    "    id_sintoma = df_Sintomas[df_Sintomas['Sintoma'] == sintoma].index.values[0]\n",
    "    \n",
    "    \n",
    "    \n",
    "    conn = sqlite3.connect('test_database')\n",
    "    c = conn.cursor()\n",
    "    c.execute('''  SELECT * FROM scorings_new\n",
    "          ''')\n",
    "    #Predicciones (las recomendaciones!)\n",
    "    #Obtenemos c.fetchall la matriz y montamos dataframe\n",
    "    sintomas_k = pd.DataFrame(c.fetchall())  \n",
    "    #transpose porque hemos tenido que hacer transpose para guardar\n",
    "    sintomas_k=sintomas_k.transpose()\n",
    "    #ahora la convertimos en array numpy para operar (hacer argsort)\n",
    "    sintomas_k=sintomas_k.to_numpy()\n",
    "       \n",
    "    \n",
    "    \n",
    "    #Predicciones (las recomendaciones!)\n",
    "    \n",
    "    #Con la matrix de recomendaciones (síntomas vs enfermedades) cogemos únicamente el vector de enfermedades\n",
    "    #relacionadas con el síntoma \"id_sintoma\"\n",
    "    #Pero ojo,    hemos cogido un vector de enfermedades ordenadas!!! \n",
    "    sintoma_scoring=sintomas_k.argsort()[id_sintoma]\n",
    "    #\n",
    "    vector_id_enfermedad_scoring=[]\n",
    "    #Inicializamos nuestro vector TOTAL que tendrá las parejas de \"enfermedad\" /scoring de recomendación\n",
    "    #(valor en la matriz recomendaciones)\n",
    "    for i, enfermedad_id in enumerate(sintoma_scoring[-elementos:]):  #Nos cogemos las 10 primeras enfermedades   \n",
    "        #\n",
    "        v=[]\n",
    "    #vamos cogiendo cada pareja de id enfermedad y el scoring de recomendación  (la pareja la montamos en un vector=)\n",
    "        v.append (enfermedad_id)\n",
    "        v.append (sintomas_k[id_sintoma][enfermedad_id])\n",
    "        print (\"ranking de peor a mejor\")\n",
    "        print (\"posición: \",i)\n",
    "        print (v)\n",
    "       \n",
    "        vector_id_enfermedad_scoring.append(v)  #metemos la pareja en el vector TOTAL\n",
    "      \n",
    "    vector_id_enfermedad_scoring=pd.DataFrame(vector_id_enfermedad_scoring)\n",
    "    #pasamos a data frame y luego montamos con la función interna \"aparece y como\" una visualización mejor.\n",
    "    vector_id_enfermedad_scoring = vector_id_enfermedad_scoring.rename(columns={1:id_sintoma, 0:\"index\"})\n",
    "    \n",
    "    listado_completo=_aparece_y_como (vector_id_enfermedad_scoring,id_sintoma, df_Enfermedades)\n",
    "  \n",
    "\n",
    "    return listado_completo,sintomas_k, vector_id_enfermedad_scoring"
   ]
  },
  {
   "cell_type": "code",
   "execution_count": null,
   "id": "42073dcd",
   "metadata": {},
   "outputs": [],
   "source": [
    "listado_completo,users_predictions,v=predict_collaborative_filtering_user_based(\"Cough\",10)"
   ]
  },
  {
   "cell_type": "code",
   "execution_count": null,
   "id": "dad1718a",
   "metadata": {},
   "outputs": [],
   "source": []
  },
  {
   "cell_type": "code",
   "execution_count": null,
   "id": "7cf911b4",
   "metadata": {},
   "outputs": [],
   "source": []
  },
  {
   "cell_type": "code",
   "execution_count": null,
   "id": "c9b8cee2",
   "metadata": {},
   "outputs": [],
   "source": []
  },
  {
   "cell_type": "code",
   "execution_count": null,
   "id": "a93c1891",
   "metadata": {},
   "outputs": [],
   "source": []
  },
  {
   "cell_type": "code",
   "execution_count": null,
   "id": "1b56b205",
   "metadata": {},
   "outputs": [],
   "source": []
  },
  {
   "cell_type": "code",
   "execution_count": null,
   "id": "d5ee7406",
   "metadata": {},
   "outputs": [],
   "source": []
  },
  {
   "cell_type": "code",
   "execution_count": null,
   "id": "588d638c",
   "metadata": {},
   "outputs": [],
   "source": []
  },
  {
   "cell_type": "code",
   "execution_count": null,
   "id": "d6c1a401",
   "metadata": {},
   "outputs": [],
   "source": []
  },
  {
   "cell_type": "code",
   "execution_count": null,
   "id": "a6e71765",
   "metadata": {},
   "outputs": [],
   "source": []
  },
  {
   "cell_type": "code",
   "execution_count": null,
   "id": "8bc1ff70",
   "metadata": {},
   "outputs": [],
   "source": []
  },
  {
   "cell_type": "code",
   "execution_count": null,
   "id": "c7b73111",
   "metadata": {},
   "outputs": [],
   "source": []
  },
  {
   "cell_type": "code",
   "execution_count": null,
   "id": "e1872a56",
   "metadata": {},
   "outputs": [],
   "source": []
  },
  {
   "cell_type": "code",
   "execution_count": null,
   "id": "25f3ebd3",
   "metadata": {},
   "outputs": [],
   "source": []
  },
  {
   "cell_type": "code",
   "execution_count": null,
   "id": "d95eb8e7",
   "metadata": {},
   "outputs": [],
   "source": []
  },
  {
   "cell_type": "code",
   "execution_count": null,
   "id": "18984051",
   "metadata": {},
   "outputs": [],
   "source": []
  },
  {
   "cell_type": "code",
   "execution_count": null,
   "id": "cc2cd5ce",
   "metadata": {},
   "outputs": [],
   "source": []
  },
  {
   "cell_type": "code",
   "execution_count": null,
   "id": "c36d539b",
   "metadata": {},
   "outputs": [],
   "source": []
  }
 ],
 "metadata": {
  "kernelspec": {
   "display_name": "Python 3 (ipykernel)",
   "language": "python",
   "name": "python3"
  },
  "language_info": {
   "codemirror_mode": {
    "name": "ipython",
    "version": 3
   },
   "file_extension": ".py",
   "mimetype": "text/x-python",
   "name": "python",
   "nbconvert_exporter": "python",
   "pygments_lexer": "ipython3",
   "version": "3.9.13"
  }
 },
 "nbformat": 4,
 "nbformat_minor": 5
}
