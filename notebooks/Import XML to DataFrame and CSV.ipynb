{
 "cells": [
  {
   "cell_type": "code",
   "execution_count": 1,
   "id": "b4c95a4d",
   "metadata": {},
   "outputs": [],
   "source": [
    "from typing import Dict, Tuple\n",
    "import pandas as pd\n",
    "import xmltodict"
   ]
  },
  {
   "cell_type": "code",
   "execution_count": 2,
   "id": "359d1b56",
   "metadata": {},
   "outputs": [],
   "source": [
    "def limpia_nombre (cadena):\n",
    "    \n",
    "    cadena_str= str(cadena)\n",
    "    cadena_str=cadena_str[26:]\n",
    "    cadena_str = cadena_str.replace('}', '',1)\n",
    "    cadena_str = cadena_str.replace('\\'','')\n",
    "    \n",
    "    return cadena_str"
   ]
  },
  {
   "cell_type": "code",
   "execution_count": 3,
   "id": "c7da7e8f",
   "metadata": {},
   "outputs": [],
   "source": [
    "def import_enfermedades_xml(path):\n",
    "\n",
    "    xml=open(path, encoding='ISO-8859-1')\n",
    "    xmldict = xmltodict.parse(xml.read())\n",
    "    df_enfermedades = pd.DataFrame()\n",
    "    lista_enfer_sinto_prob=[]\n",
    "    first_tree=xmldict[\"JDBOR\"][\"HPODisorderSetStatusList\"][\"HPODisorderSetStatus\"]\n",
    "\n",
    "    for nodo in xmldict[\"JDBOR\"][\"HPODisorderSetStatusList\"][\"HPODisorderSetStatus\"]:\n",
    "        \n",
    "        enfermedad=limpia_nombre(nodo[\"Disorder\"][\"Name\"])\n",
    "        sec_tree= nodo[\"Disorder\"][\"HPODisorderAssociationList\"]\n",
    "        if (len(sec_tree)==2):\n",
    "            tam_sintomas=len(sec_tree[\"HPODisorderAssociation\"])\n",
    "            i=0\n",
    "            registro_enfer_sinto_prob=[]\n",
    "            while (i<tam_sintomas):\n",
    "                registro_enfer_sinto_prob.append(enfermedad)\n",
    "                registro_enfer_sinto_prob.append(sec_tree[\"HPODisorderAssociation\"][i][\"HPO\"][\"HPOTerm\"])\n",
    "                frecuencia=limpia_nombre(sec_tree[\"HPODisorderAssociation\"][i][\"HPOFrequency\"][\"Name\"])\n",
    "                registro_enfer_sinto_prob.append(frecuencia)\n",
    "                lista_enfer_sinto_prob.append (registro_enfer_sinto_prob)\n",
    "                registro_enfer_sinto_prob=[]\n",
    "                i=i+1\n",
    "    df_enfermedades = pd.DataFrame(lista_enfer_sinto_prob)\n",
    "    df_enfermedades = df_enfermedades.rename(columns={0:'Enfermedad',1:'Sintoma', 2:\"Frecuencia\"})\n",
    "    return df_enfermedades"
   ]
  },
  {
   "cell_type": "code",
   "execution_count": 6,
   "id": "044762da",
   "metadata": {},
   "outputs": [],
   "source": [
    "data=import_enfermedades_xml('../data/01_raw/enfermedades.xml')"
   ]
  },
  {
   "cell_type": "code",
   "execution_count": 7,
   "id": "ae81e01c",
   "metadata": {},
   "outputs": [
    {
     "name": "stdout",
     "output_type": "stream",
     "text": [
      "<class 'pandas.core.frame.DataFrame'>\n",
      "RangeIndex: 112689 entries, 0 to 112688\n",
      "Data columns (total 3 columns):\n",
      " #   Column      Non-Null Count   Dtype \n",
      "---  ------      --------------   ----- \n",
      " 0   Enfermedad  112689 non-null  object\n",
      " 1   Sintoma     112689 non-null  object\n",
      " 2   Frecuencia  112689 non-null  object\n",
      "dtypes: object(3)\n",
      "memory usage: 2.6+ MB\n"
     ]
    }
   ],
   "source": [
    "data.info()"
   ]
  },
  {
   "cell_type": "code",
   "execution_count": 11,
   "id": "1797c04b",
   "metadata": {},
   "outputs": [],
   "source": [
    "data.to_csv(\"../data/01_raw/exportCSVfromXML.csv\", index=False)"
   ]
  },
  {
   "cell_type": "code",
   "execution_count": null,
   "id": "5dde98db",
   "metadata": {},
   "outputs": [],
   "source": []
  }
 ],
 "metadata": {
  "kernelspec": {
   "display_name": "Python 3 (ipykernel)",
   "language": "python",
   "name": "python3"
  },
  "language_info": {
   "codemirror_mode": {
    "name": "ipython",
    "version": 3
   },
   "file_extension": ".py",
   "mimetype": "text/x-python",
   "name": "python",
   "nbconvert_exporter": "python",
   "pygments_lexer": "ipython3",
   "version": "3.9.13"
  }
 },
 "nbformat": 4,
 "nbformat_minor": 5
}
