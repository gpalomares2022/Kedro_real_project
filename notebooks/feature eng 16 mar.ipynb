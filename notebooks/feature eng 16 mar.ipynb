{
 "cells": [
  {
   "cell_type": "code",
   "execution_count": 61,
   "id": "48b32e41",
   "metadata": {},
   "outputs": [],
   "source": [
    "import logging\n",
    "import sys\n",
    "from typing import Dict, Tuple\n",
    "import pandas as pd\n",
    "import numpy as np\n",
    "from sklearn.ensemble import RandomForestClassifier\n",
    "from sklearn.metrics import r2_score\n",
    "from sklearn.model_selection import train_test_split\n",
    "from lightgbm import LGBMRegressor\n",
    "import random\n",
    "from sklearn.metrics import f1_score, accuracy_score, roc_auc_score, roc_curve, precision_score\n",
    "from sklearn.model_selection import train_test_split"
   ]
  },
  {
   "cell_type": "code",
   "execution_count": 62,
   "id": "6b4063fd",
   "metadata": {},
   "outputs": [],
   "source": [
    "if not sys.warnoptions:\n",
    "    import warnings\n",
    "    warnings.simplefilter(\"ignore\")"
   ]
  },
  {
   "cell_type": "code",
   "execution_count": 63,
   "id": "83addcb2",
   "metadata": {},
   "outputs": [],
   "source": [
    "def evaluate(classifier, X_test, y_test):\n",
    "   \n",
    "\n",
    "\n",
    "    #X_train, X_test, y_train, y_test = train_test_split(data,target)\n",
    "    #classifier.fit(X_train,y_train)\n",
    "    y_pred=classifier.predict(X_test)\n",
    "    probs=classifier.predict_proba(X_test)[:, 1]\n",
    "    \n",
    "    acc = accuracy_score(y_test, y_pred)\n",
    "    pres= precision_score (y_test, y_pred, average='micro')\n",
    "    f1 = f1_score(y_test, y_pred, average='micro')\n",
    "    #auc = roc_auc_score(y_test, probs)\n",
    "    print (\"Accurancy: \", acc)\n",
    "    print (\"Precision: \", pres)\n",
    "    print (\"f1: \", f1_score)\n",
    "    #print (\"auc: \", auc)\n",
    "    \n",
    "   # fpr, tpr, threshols = roc_curve(y_test, probs)\n",
    "   # plt.plot(fpr,tpr)\n",
    "   # plt.xlabel('False positives rate')\n",
    "   # plt.ylabel('True positives rate')\n",
    "   # plt.gcf().set_size_inches(8,6)\n",
    "    return  f1, acc, pres"
   ]
  },
  {
   "cell_type": "code",
   "execution_count": 64,
   "id": "88d50d0d",
   "metadata": {},
   "outputs": [],
   "source": [
    "def saca_info ():\n",
    "    data=pd.read_csv(\"../Data/01_raw/Data.csv\")\n",
    "    print (\"Antes de limpia\")\n",
    "    print (\"Enfermedades: \", data[\"Enfermedad\"].nunique())\n",
    "    print (\"Sintomas: \", data[\"Sintoma\"].nunique())\n",
    "    print (\"Frecuencias: \", data[\"Frecuencia\"].nunique())\n",
    "    data=data.drop_duplicates()\n",
    "    data=data.dropna()\n",
    "   # df.drop(df[(df['precio_unitario'] >400) & (df['precio_unitario'] < 600)].index, inplace=True)\n",
    "    #sintomas_poca_ocurrencia=serie_sintomas[serie_sintomas < 10]\n",
    "    #data.drop(data[(data[\"Sintoma\"].value_counts()<10)].index, inplace=True)\n",
    "  #  vc = data[\"Sintoma\"].value_counts()\n",
    "    \n",
    "   # data=data.drop(data[\"Sintoma\"]==(vc[vc < 10].index))\n",
    "    print (\"Después de quitar registros duplicados y check nulos\")\n",
    "    print (\"Enfermedades: \", data[\"Enfermedad\"].nunique())\n",
    "    print (\"Sintomas: \", data[\"Sintoma\"].nunique())\n",
    "    print (\"Frecuencias: \", data[\"Frecuencia\"].nunique())\n",
    "    vc = data[\"Sintoma\"].value_counts()\n",
    "    vector=vc[vc < 2].index\n",
    "    for a in vector:\n",
    "         # Get names of indexes for which column Stock has value No\n",
    "        indexNames = data [ data[\"Sintoma\"] == a ].index\n",
    "        # Delete these row indexes from dataFrame\n",
    "        for b in indexNames:\n",
    "            data.drop(b , inplace=True, axis=0)\n",
    "    print (\"Después de borrado filas\")\n",
    "    print (\"Enfermedades: \", data[\"Enfermedad\"].nunique())\n",
    "    print (\"Sintomas: \", data[\"Sintoma\"].nunique())\n",
    "    print (\"Frecuencias: \", data[\"Frecuencia\"].nunique())  \n",
    "\n",
    "    return data    "
   ]
  },
  {
   "cell_type": "code",
   "execution_count": 65,
   "id": "4d666bfa",
   "metadata": {},
   "outputs": [],
   "source": [
    "def prepara_df_train(data, corte):\n",
    "    \n",
    "    data2=data[(data['Frecuencia']==\"Muy frecuente (99-80%)\") | (data['Frecuencia']==\"Frecuente (79-30%)\")]\n",
    "    if (corte!=0):\n",
    "        data2 = data2.iloc[:corte]\n",
    "    sintomas=data2.iloc[:,1]\n",
    "    sintomas_sin_repe=sintomas.drop_duplicates()\n",
    "    enfermedades=data2.iloc[:,0]\n",
    "    enfermedades_sin_repe=enfermedades.drop_duplicates()\n",
    "    df_train=pd.DataFrame(columns=sintomas_sin_repe)\n",
    "    df_train.insert(0, 'Enfermedad', 0)\n",
    "    df_train.insert(1, 'id_Enfermedad', 0)\n",
    "    return enfermedades_sin_repe,sintomas_sin_repe, df_train, data2"
   ]
  },
  {
   "cell_type": "code",
   "execution_count": 66,
   "id": "9bc40248",
   "metadata": {},
   "outputs": [],
   "source": [
    "def  datos_entreno(data,df_train, repeticiones,sintomas_sin_repe):\n",
    "    data_agrupado = (data.groupby(\"Enfermedad\")\n",
    "         .agg({\"Sintoma\": np.array, \"Frecuencia\": np.array})\n",
    "         .reset_index()\n",
    "         )\n",
    "    print (data_agrupado)\n",
    "    z=0\n",
    "    j=0\n",
    "    while (z<repeticiones):\n",
    "    \n",
    "  #  print (\"entra\")\n",
    "        i=0\n",
    "        for a in data_agrupado[\"Enfermedad\"]:\n",
    "           # print (\"Enfermedad: \", a)\n",
    "        #vector_enfermedad.append(a)\n",
    "        #lista=[]\n",
    "            lst = [0] * ((len(sintomas_sin_repe)+2))\n",
    "            df_train.loc[len(df_train)] = lst\n",
    "            df_train[\"Enfermedad\"][j]=a\n",
    "            #df_train[\"id_Enfermedad\"][j]=(i+1)\n",
    "            df_train.loc[:, ('id_Enfermedad', j)] = (i+1)\n",
    "            pos=0\n",
    "            for b in data_agrupado[\"Sintoma\"][i]:\n",
    "                valor_aleatorio = random.random()\n",
    "                frecuencia=data_agrupado[\"Frecuencia\"][i][pos]\n",
    "            #    print (\"frecuencia:\", frecuencia)\n",
    "                if (frecuencia==\"Muy frecuente (99-80%)\"):\n",
    "             #       print (b)\n",
    "              #      print (\"es muy frecuente\")\n",
    "                    if (valor_aleatorio>0.4):\n",
    "                        valor_entero=1\n",
    "                    else:\n",
    "                        valor_entero=0\n",
    "                elif (frecuencia==\"Frecuente (79-30%)\"):\n",
    "               #     print (b)\n",
    "                #    print (\"es frecuente\")\n",
    "                    if (valor_aleatorio>0.6):\n",
    "                        valor_entero=1\n",
    "                    else:\n",
    "                        valor_entero=0\n",
    "                df_train[b][j]=valor_entero\n",
    "                pos=pos+1\n",
    "            j=j+1\n",
    "            i=i+1\n",
    "        z=z+1\n",
    "        print (\"VUELTA: \", z)\n",
    "    return df_train        "
   ]
  },
  {
   "cell_type": "code",
   "execution_count": 67,
   "id": "07fbbe8e",
   "metadata": {},
   "outputs": [],
   "source": [
    "def entrenar (df_train):\n",
    "    target=df_train[\"id_Enfermedad\"]\n",
    "    df_train=df_train.drop (['Enfermedad'], axis=1)\n",
    "    #X_train, X_test, y_train, y_test = train_test_split(df_train,target)\n",
    "   # rf= RandomForestClassifier()\n",
    "    #rf.fit (X_train,y_train)\n",
    "    i\n",
    "    prediccion=rf.predict(X_test)\n",
    "    print (y_test, prediccion)\n",
    "    return df_train,rf,target,X_test,y_test"
   ]
  },
  {
   "cell_type": "code",
   "execution_count": 68,
   "id": "8f203e91",
   "metadata": {},
   "outputs": [
    {
     "name": "stdout",
     "output_type": "stream",
     "text": [
      "Antes de limpia\n",
      "Enfermedades:  4262\n",
      "Sintomas:  8303\n",
      "Frecuencias:  6\n",
      "Después de quitar registros duplicados y check nulos\n",
      "Enfermedades:  4262\n",
      "Sintomas:  8303\n",
      "Frecuencias:  6\n",
      "Después de borrado filas\n",
      "Enfermedades:  4262\n",
      "Sintomas:  6066\n",
      "Frecuencias:  6\n"
     ]
    }
   ],
   "source": [
    "data=saca_info()"
   ]
  },
  {
   "cell_type": "code",
   "execution_count": 69,
   "id": "1cb1b1a4",
   "metadata": {},
   "outputs": [],
   "source": [
    "enfermedades_sin_repe,sintomas_sin_repe, df_train,data_filtrado_frec=prepara_df_train(data,0)"
   ]
  },
  {
   "cell_type": "code",
   "execution_count": 70,
   "id": "f2e9d102",
   "metadata": {},
   "outputs": [
    {
     "data": {
      "text/html": [
       "<div>\n",
       "<style scoped>\n",
       "    .dataframe tbody tr th:only-of-type {\n",
       "        vertical-align: middle;\n",
       "    }\n",
       "\n",
       "    .dataframe tbody tr th {\n",
       "        vertical-align: top;\n",
       "    }\n",
       "\n",
       "    .dataframe thead th {\n",
       "        text-align: right;\n",
       "    }\n",
       "</style>\n",
       "<table border=\"1\" class=\"dataframe\">\n",
       "  <thead>\n",
       "    <tr style=\"text-align: right;\">\n",
       "      <th>Id_Enfermedad</th>\n",
       "      <th>Enfermedad</th>\n",
       "      <th>id_Enfermedad</th>\n",
       "      <th>0</th>\n",
       "      <th>1</th>\n",
       "      <th>2</th>\n",
       "      <th>3</th>\n",
       "      <th>4</th>\n",
       "      <th>5</th>\n",
       "      <th>6</th>\n",
       "      <th>7</th>\n",
       "      <th>...</th>\n",
       "      <th>4254</th>\n",
       "      <th>4255</th>\n",
       "      <th>4256</th>\n",
       "      <th>4257</th>\n",
       "      <th>4258</th>\n",
       "      <th>4259</th>\n",
       "      <th>4260</th>\n",
       "      <th>4261</th>\n",
       "      <th>4262</th>\n",
       "      <th>4263</th>\n",
       "    </tr>\n",
       "  </thead>\n",
       "  <tbody>\n",
       "  </tbody>\n",
       "</table>\n",
       "<p>0 rows × 4234 columns</p>\n",
       "</div>"
      ],
      "text/plain": [
       "Empty DataFrame\n",
       "Columns: [Enfermedad, id_Enfermedad, 0, 1, 2, 3, 4, 5, 6, 7, 8, 9, 10, 11, 12, 13, 14, 15, 16, 17, 18, 19, 20, 21, 22, 23, 24, 25, 26, 27, 28, 29, 30, 31, 32, 33, 34, 35, 36, 37, 38, 39, 40, 41, 42, 43, 44, 45, 46, 47, 48, 49, 50, 51, 53, 54, 55, 56, 57, 58, 59, 60, 61, 62, 63, 64, 65, 66, 67, 68, 69, 70, 71, 72, 73, 74, 75, 76, 77, 78, 79, 80, 81, 82, 83, 84, 85, 86, 87, 88, 89, 90, 91, 92, 93, 94, 95, 96, 97, 98, ...]\n",
       "Index: []\n",
       "\n",
       "[0 rows x 4234 columns]"
      ]
     },
     "execution_count": 70,
     "metadata": {},
     "output_type": "execute_result"
    }
   ],
   "source": [
    "df_train"
   ]
  },
  {
   "cell_type": "code",
   "execution_count": null,
   "id": "066dcada",
   "metadata": {},
   "outputs": [],
   "source": [
    "sintomas_sin_repe"
   ]
  },
  {
   "cell_type": "code",
   "execution_count": null,
   "id": "26da4b71",
   "metadata": {},
   "outputs": [],
   "source": [
    "enfermedades_sin_repe.info()\n",
    "#ojo que perdemos enfermedades por duplicates sintomas impia"
   ]
  },
  {
   "cell_type": "code",
   "execution_count": null,
   "id": "f900729f",
   "metadata": {},
   "outputs": [],
   "source": [
    "data_filtrado_frec"
   ]
  },
  {
   "cell_type": "code",
   "execution_count": null,
   "id": "6eb9234f",
   "metadata": {},
   "outputs": [],
   "source": [
    "df_train=datos_entreno(data_filtrado_frec, df_train, 10, sintomas_sin_repe);"
   ]
  },
  {
   "cell_type": "code",
   "execution_count": 8,
   "id": "0fed03d0",
   "metadata": {},
   "outputs": [
    {
     "ename": "NameError",
     "evalue": "name 'df_train' is not defined",
     "output_type": "error",
     "traceback": [
      "\u001b[0;31m---------------------------------------------------------------------------\u001b[0m",
      "\u001b[0;31mNameError\u001b[0m                                 Traceback (most recent call last)",
      "Cell \u001b[0;32mIn[8], line 1\u001b[0m\n\u001b[0;32m----> 1\u001b[0m \u001b[43mdf_train\u001b[49m\u001b[38;5;241m.\u001b[39mto_csv(\u001b[38;5;124m\"\u001b[39m\u001b[38;5;124mdf_train.csv\u001b[39m\u001b[38;5;124m\"\u001b[39m, index\u001b[38;5;241m=\u001b[39m\u001b[38;5;28;01mFalse\u001b[39;00m)\n",
      "\u001b[0;31mNameError\u001b[0m: name 'df_train' is not defined"
     ]
    }
   ],
   "source": [
    "df_train.to_csv(\"df_train.csv\", index=False)"
   ]
  },
  {
   "cell_type": "code",
   "execution_count": 9,
   "id": "f2a38f25",
   "metadata": {},
   "outputs": [],
   "source": [
    "df_train=pd.read_csv(\"df_train.csv\")"
   ]
  },
  {
   "cell_type": "code",
   "execution_count": 10,
   "id": "b1b072f1",
   "metadata": {},
   "outputs": [
    {
     "data": {
      "text/plain": [
       "(42320, 5502)"
      ]
     },
     "execution_count": 10,
     "metadata": {},
     "output_type": "execute_result"
    }
   ],
   "source": [
    "df_train.shape"
   ]
  },
  {
   "cell_type": "code",
   "execution_count": null,
   "id": "a3b660be",
   "metadata": {},
   "outputs": [],
   "source": [
    "df_train,rf,target,X_test,y_test=entrenar (df_train)"
   ]
  },
  {
   "cell_type": "code",
   "execution_count": null,
   "id": "3369b83e",
   "metadata": {},
   "outputs": [],
   "source": [
    "evaluate(rf,X_test,y_test)"
   ]
  },
  {
   "cell_type": "code",
   "execution_count": null,
   "id": "6e4ab584",
   "metadata": {},
   "outputs": [],
   "source": [
    "data_filtrado_frec"
   ]
  },
  {
   "cell_type": "code",
   "execution_count": null,
   "id": "60a2285a",
   "metadata": {},
   "outputs": [],
   "source": [
    "predicciones = rf.predict_proba(X_test)\n",
    "predicciones[:5, :]"
   ]
  },
  {
   "cell_type": "code",
   "execution_count": null,
   "id": "56a76ba7",
   "metadata": {},
   "outputs": [],
   "source": [
    "probs"
   ]
  },
  {
   "cell_type": "code",
   "execution_count": null,
   "id": "500ea739",
   "metadata": {},
   "outputs": [],
   "source": [
    "import numpy as np\n",
    "df_predicciones = pd.DataFrame(data=predicciones, columns=['0', '1','2','3','4', '5', '6', '7', '8'])\n",
    "df_predicciones['clasificacion_default_0.5'] = np.where(df_predicciones['0'] > df_predicciones['1'], 0, 1)\n",
    "df_predicciones"
   ]
  },
  {
   "cell_type": "code",
   "execution_count": null,
   "id": "1d15a37c",
   "metadata": {},
   "outputs": [],
   "source": []
  }
 ],
 "metadata": {
  "kernelspec": {
   "display_name": "Python 3 (ipykernel)",
   "language": "python",
   "name": "python3"
  },
  "language_info": {
   "codemirror_mode": {
    "name": "ipython",
    "version": 3
   },
   "file_extension": ".py",
   "mimetype": "text/x-python",
   "name": "python",
   "nbconvert_exporter": "python",
   "pygments_lexer": "ipython3",
   "version": "3.9.13"
  }
 },
 "nbformat": 4,
 "nbformat_minor": 5
}
